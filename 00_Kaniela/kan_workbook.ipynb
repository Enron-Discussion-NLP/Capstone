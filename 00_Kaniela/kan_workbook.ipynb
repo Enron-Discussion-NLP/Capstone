{
 "cells": [
  {
   "cell_type": "markdown",
   "id": "b811937d",
   "metadata": {},
   "source": [
    "## Capstone Project Working Copy\n",
    "\n",
    "# <p style=\"font-size:40px ; color:blue\" align=\"center\">Capstone: Enron Emails Analysis Using NLP and Time Series</p> <sub>By Stephanie, Paige, Rajaram, Kan - 14 March 2022</sub>"
   ]
  },
  {
   "cell_type": "markdown",
   "id": "c9f9454a",
   "metadata": {},
   "source": [
    "<hr style=\"border:2px solid blue\"> </hr>\n",
    "\n",
    "# <font color = 'blue'> Overview  </br>\n",
    "    \n",
    "## Project Description: What is the morale of your company?\n",
    "\n",
    "\n",
    "## Goal: \n",
    "\n",
    "\n",
    "## Support:"
   ]
  },
  {
   "cell_type": "code",
   "execution_count": 2,
   "id": "e53592e7",
   "metadata": {},
   "outputs": [],
   "source": [
    "# Import Needed Libararies\n",
    "import pandas as pd\n",
    "import numpy as np\n",
    "import matplotlib.pyplot as plt\n",
    "\n",
    "import warnings\n",
    "warnings.filterwarnings('ignore')"
   ]
  },
  {
   "cell_type": "markdown",
   "id": "16f34ab3",
   "metadata": {},
   "source": [
    "<hr style=\"border:2px solid blue\"> </hr>\n",
    "\n",
    "# <font color = 'blue'> Acquire  </br>\n",
    "- ???"
   ]
  },
  {
   "cell_type": "code",
   "execution_count": null,
   "id": "e230419d",
   "metadata": {},
   "outputs": [],
   "source": [
    "# read original df into pandas dataframe\n",
    "df = pd.read_csv('emails.csv', index_col=0)\n",
    "df.head()"
   ]
  },
  {
   "cell_type": "code",
   "execution_count": null,
   "id": "0bfc592d",
   "metadata": {},
   "outputs": [],
   "source": [
    "df.shape"
   ]
  },
  {
   "cell_type": "markdown",
   "id": "9e3a6a0d",
   "metadata": {},
   "source": [
    "<hr style=\"border:2px solid blue\"> </hr>\n",
    "\n",
    "# <font color = 'blue'> Prepare  </br>\n",
    "- ???"
   ]
  },
  {
   "cell_type": "markdown",
   "id": "47855072",
   "metadata": {},
   "source": [
    "## See Message Body"
   ]
  },
  {
   "cell_type": "code",
   "execution_count": null,
   "id": "eee01b3e",
   "metadata": {},
   "outputs": [],
   "source": [
    "df.message.values"
   ]
  },
  {
   "cell_type": "markdown",
   "id": "faa7ca36",
   "metadata": {},
   "source": [
    "## Parse Emails for Date, Content"
   ]
  },
  {
   "cell_type": "code",
   "execution_count": null,
   "id": "8ddb92d5",
   "metadata": {},
   "outputs": [],
   "source": [
    "from email.parser import Parser\n",
    "\n",
    "bodies = []\n",
    "dates = []\n",
    "senders = []\n",
    "subjects = []\n",
    "\n",
    "# loop through email messages\n",
    "for i in df.message:\n",
    "    # parse and set message to email data type\n",
    "    headers = Parser().parsestr(i)\n",
    "    # get the body text of the email\n",
    "    body = headers.get_payload()\n",
    "    # get the date from email\n",
    "    date = headers['Date']\n",
    "    # get sender of email\n",
    "    sender = headers['From']\n",
    "    # get email subject\n",
    "    subject = headers['Subject']\n",
    "    # append date, body, sender, subjectg text to lists\n",
    "    bodies.append(body)\n",
    "    dates.append(date)\n",
    "    senders.append(sender)\n",
    "    subjects.append(subject)"
   ]
  },
  {
   "cell_type": "code",
   "execution_count": null,
   "id": "7faad156",
   "metadata": {},
   "outputs": [],
   "source": [
    "# show list of email text\n",
    "bodies"
   ]
  },
  {
   "cell_type": "code",
   "execution_count": null,
   "id": "7014be80",
   "metadata": {},
   "outputs": [],
   "source": [
    "# show list of dates\n",
    "dates"
   ]
  },
  {
   "cell_type": "code",
   "execution_count": null,
   "id": "b6a630da",
   "metadata": {},
   "outputs": [],
   "source": [
    "asdfasdf"
   ]
  },
  {
   "cell_type": "code",
   "execution_count": null,
   "id": "69b3880b",
   "metadata": {},
   "outputs": [],
   "source": [
    "# Set lists to dataframes\n",
    "body_df = pd.DataFrame(bodies, columns = ['content'])\n",
    "dates_df = pd.DataFrame(dates, columns = ['date'])\n",
    "senders_df = pd.DataFrame(senders, columns = ['sender'])\n",
    "subjects_df = pd.DataFrame(subjects, columns = ['subject'])"
   ]
  },
  {
   "cell_type": "code",
   "execution_count": null,
   "id": "ed8d097b",
   "metadata": {},
   "outputs": [],
   "source": [
    "body_df.head()"
   ]
  },
  {
   "cell_type": "code",
   "execution_count": null,
   "id": "96d76ea0",
   "metadata": {},
   "outputs": [],
   "source": [
    "dates_df.head()"
   ]
  },
  {
   "cell_type": "code",
   "execution_count": null,
   "id": "79e4de8c",
   "metadata": {
    "scrolled": true
   },
   "outputs": [],
   "source": [
    "df['date'] = dates_df\n",
    "df.head()"
   ]
  },
  {
   "cell_type": "code",
   "execution_count": null,
   "id": "271cd119",
   "metadata": {},
   "outputs": [],
   "source": [
    "df['content'] = body_df\n",
    "df.head()"
   ]
  },
  {
   "cell_type": "code",
   "execution_count": null,
   "id": "79029231",
   "metadata": {},
   "outputs": [],
   "source": [
    "df['sender'] = senders_df\n",
    "df.head()"
   ]
  },
  {
   "cell_type": "code",
   "execution_count": null,
   "id": "1e813d3b",
   "metadata": {},
   "outputs": [],
   "source": [
    "df['subject'] = subjects_df\n",
    "df.head()"
   ]
  },
  {
   "cell_type": "code",
   "execution_count": null,
   "id": "f2a71d08",
   "metadata": {},
   "outputs": [],
   "source": [
    "# # Insert those data frames into our orignal dataframe\n",
    "# df.insert(1, \"content\", body_df)\n",
    "# df.insert(1, \"date\", dates_df)"
   ]
  },
  {
   "cell_type": "code",
   "execution_count": null,
   "id": "6ddd642c",
   "metadata": {},
   "outputs": [],
   "source": [
    "df.shape"
   ]
  },
  {
   "cell_type": "code",
   "execution_count": null,
   "id": "72502665",
   "metadata": {},
   "outputs": [],
   "source": [
    "# import os\n",
    "\n",
    "# def content():\n",
    "#     '''\n",
    "#     '''\n",
    "#     if os.path.isfile('content.csv'):\n",
    "#         df = pd.read_csv('content.csv')\n",
    "\n",
    "#     else:\n",
    "#         from email.parser import Parser\n",
    "\n",
    "#         bodies = []\n",
    "#         dates = []\n",
    "\n",
    "#         # loop through email messages\n",
    "#         for i in df.message:\n",
    "#             # parse and set message to email data type\n",
    "#             headers = Parser().parsestr(i)\n",
    "#             # get the body text of the email\n",
    "#             body = headers.get_payload()\n",
    "#             # get the date from email\n",
    "#             date = headers['Date']\n",
    "#             # append date and body text to lists\n",
    "#             bodies.append(body)\n",
    "#             dates.append(date)\n",
    "\n",
    "\n",
    "#         # Set lists to dataframes\n",
    "#         body_df = pd.DataFrame(bodies, columns = ['content'])\n",
    "#         dates_df = pd.DataFrame(dates, columns = ['date'])\n",
    "\n",
    "#         df['date'] = dates_df\n",
    "#         df['content'] = body_df\n",
    "\n",
    "#         df.to_csv('content')\n",
    "    \n",
    "#     return df"
   ]
  },
  {
   "cell_type": "code",
   "execution_count": null,
   "id": "f0bc994b",
   "metadata": {},
   "outputs": [],
   "source": [
    "import os\n",
    "if not os.path.isfile('content.csv'):\n",
    "    df.to_csv('content.csv')"
   ]
  },
  {
   "cell_type": "markdown",
   "id": "da7270df",
   "metadata": {},
   "source": [
    "## Clean, Tokenize, Stem, Lemmatize, StopWords, Split"
   ]
  },
  {
   "cell_type": "markdown",
   "id": "409509f6",
   "metadata": {},
   "source": [
    "### Clean"
   ]
  },
  {
   "cell_type": "code",
   "execution_count": null,
   "id": "b2e60ce9",
   "metadata": {},
   "outputs": [],
   "source": [
    "import unicodedata\n",
    "import re\n",
    "\n",
    "def basic_clean(string):\n",
    "    '''\n",
    "    This function takes in a string and\n",
    "    returns the string normalized.\n",
    "    '''\n",
    "    string = string.lower()\n",
    "    string = unicodedata.normalize('NFKD', string)\\\n",
    "            .encode('ascii', 'ignore')\\\n",
    "            .decode('utf-8', 'ignore')\n",
    "    string = re.sub(r\"[^a-z0-9'\\s]\", \"\", string)\n",
    "\n",
    "    return string"
   ]
  },
  {
   "cell_type": "code",
   "execution_count": null,
   "id": "db61520d",
   "metadata": {},
   "outputs": [],
   "source": [
    "df['clean'] = df.content.apply(basic_clean)\n",
    "df.head()"
   ]
  },
  {
   "cell_type": "code",
   "execution_count": null,
   "id": "07c72c11",
   "metadata": {},
   "outputs": [],
   "source": [
    "df.shape"
   ]
  },
  {
   "cell_type": "code",
   "execution_count": null,
   "id": "2d02cb06",
   "metadata": {},
   "outputs": [],
   "source": [
    "import os\n",
    "if not os.path.isfile('clean.csv'):\n",
    "    df.to_csv('clean.csv')"
   ]
  },
  {
   "cell_type": "markdown",
   "id": "c9c99caa",
   "metadata": {},
   "source": [
    "### Tolkenize"
   ]
  },
  {
   "cell_type": "markdown",
   "id": "31f0fb90",
   "metadata": {},
   "source": [
    "\n"
   ]
  },
  {
   "cell_type": "code",
   "execution_count": null,
   "id": "12527a0d",
   "metadata": {},
   "outputs": [],
   "source": [
    "import nltk\n",
    "from nltk.tokenize.toktok import ToktokTokenizer\n",
    "def tokenize(string):\n",
    "    '''\n",
    "    This function takes in a string and\n",
    "    returns a tokenized string.\n",
    "    '''\n",
    "    # Create tokenizer.\n",
    "    tokenizer = nltk.tokenize.ToktokTokenizer()\n",
    "    \n",
    "    # Use tokenizer\n",
    "    string = tokenizer.tokenize(string, return_str = True)\n",
    "    \n",
    "    return string"
   ]
  },
  {
   "cell_type": "code",
   "execution_count": null,
   "id": "1d2891d4",
   "metadata": {},
   "outputs": [],
   "source": [
    "df['tokenize'] = df.clean.apply(tokenize)\n",
    "df.head()"
   ]
  },
  {
   "cell_type": "code",
   "execution_count": null,
   "id": "bdd460e3",
   "metadata": {},
   "outputs": [],
   "source": [
    "df.shape"
   ]
  },
  {
   "cell_type": "code",
   "execution_count": null,
   "id": "6bfcf568",
   "metadata": {},
   "outputs": [],
   "source": [
    "import os\n",
    "if not os.path.isfile('tokenize.csv'):\n",
    "    df.to_csv('tokenize.csv')"
   ]
  },
  {
   "cell_type": "markdown",
   "id": "a499e5f2",
   "metadata": {},
   "source": [
    "### Stop Words"
   ]
  },
  {
   "cell_type": "code",
   "execution_count": null,
   "id": "e5a205fe",
   "metadata": {},
   "outputs": [],
   "source": [
    "from nltk.corpus import stopwords\n",
    "def remove_stopwords(string, extra_words=None, exclude_words=None):\n",
    "        \"\"\"remove_stopwords [summary]\n",
    "        Args:\n",
    "            string ([type]): [description]\n",
    "            extra_words ([type], optional): [description]. Defaults to None.\n",
    "            exclude_words ([type], optional): [description]. Defaults to None.\n",
    "        Returns:\n",
    "            [type]: [description]\n",
    "        \"\"\"\n",
    "\n",
    "        stopw = stopwords.words('english')\n",
    "\n",
    "        if extra_words:\n",
    "            stopw.append(word for word in extra_words)\n",
    "\n",
    "        elif exclude_words:\n",
    "            stopw.remove(word for word in exclude_words)\n",
    "\n",
    "        words = string.split()\n",
    "        filtered_words = [word for word in words if word not in stopw]\n",
    "\n",
    "        return ' '.join(filtered_words)"
   ]
  },
  {
   "cell_type": "code",
   "execution_count": null,
   "id": "42241b5b",
   "metadata": {},
   "outputs": [],
   "source": [
    "df['stop_words'] = df.tokenize.apply(remove_stopwords)\n",
    "df.head()"
   ]
  },
  {
   "cell_type": "code",
   "execution_count": null,
   "id": "fc5b2977",
   "metadata": {},
   "outputs": [],
   "source": [
    "import os\n",
    "if not os.path.isfile('stop_words.csv'):\n",
    "    df.to_csv('stop_words.csv')"
   ]
  },
  {
   "cell_type": "markdown",
   "id": "2a2b5cc6",
   "metadata": {},
   "source": [
    "### Stemm"
   ]
  },
  {
   "cell_type": "code",
   "execution_count": null,
   "id": "4521c981",
   "metadata": {},
   "outputs": [],
   "source": [
    "import nltk\n",
    "def stemm(string):\n",
    "    '''\n",
    "    This function takes in a string and\n",
    "    returns a string with words stemmed.\n",
    "    '''\n",
    "    # Create porter stemmer.\n",
    "    ps = nltk.porter.PorterStemmer()\n",
    "    \n",
    "    # Use the stemmer to stem each word in the list of words we created by using split.\n",
    "    stems = [ps.stem(word) for word in string.split()]\n",
    "    \n",
    "    # Join our lists of words into a string again and assign to a variable.\n",
    "    string = ' '.join(stems)\n",
    "    \n",
    "    return string"
   ]
  },
  {
   "cell_type": "code",
   "execution_count": null,
   "id": "4e328d5d",
   "metadata": {},
   "outputs": [],
   "source": [
    "df['stemm'] = df.tokenize.apply(stemm)\n",
    "df.head()"
   ]
  },
  {
   "cell_type": "code",
   "execution_count": null,
   "id": "22ae2f06",
   "metadata": {},
   "outputs": [],
   "source": [
    "import os\n",
    "if not os.path.isfile('stemm.csv'):\n",
    "    df.to_csv('stemm.csv')"
   ]
  },
  {
   "cell_type": "markdown",
   "id": "c98b4537",
   "metadata": {},
   "source": [
    "### Lemm"
   ]
  },
  {
   "cell_type": "code",
   "execution_count": null,
   "id": "2573498d",
   "metadata": {},
   "outputs": [],
   "source": [
    "from nltk.stem import WordNetLemmatizer\n",
    "def lemmatize(string):\n",
    "    \"\"\"lemmatize [summary]\n",
    "    Args:\n",
    "        string ([type]): [description]\n",
    "    Returns:\n",
    "        [type]: [description]\n",
    "    \"\"\"\n",
    "\n",
    "    wnl = WordNetLemmatizer()\n",
    "    lemmas = [wnl.lemmatize(word) for word in string.split()]\n",
    "    return  ' '.join(lemmas)"
   ]
  },
  {
   "cell_type": "code",
   "execution_count": null,
   "id": "0f9f5653",
   "metadata": {},
   "outputs": [],
   "source": [
    "df['lemmatize'] = df.tokenize.apply(lemmatize)\n",
    "df.head()"
   ]
  },
  {
   "cell_type": "code",
   "execution_count": null,
   "id": "8cc0d30b",
   "metadata": {},
   "outputs": [],
   "source": [
    "import os\n",
    "if not os.path.isfile('lemmatize.csv'):\n",
    "    df.to_csv('lemmatize.csv')"
   ]
  },
  {
   "cell_type": "markdown",
   "id": "c72f2809",
   "metadata": {},
   "source": [
    "### Combo Function"
   ]
  },
  {
   "cell_type": "code",
   "execution_count": null,
   "id": "b0a77ea5",
   "metadata": {},
   "outputs": [],
   "source": [
    "# def clean_emails(df, column = 'content'):\n",
    "#     '''\n",
    "#     [add docstring]\n",
    "#     '''\n",
    "    \n",
    "#     if os.path.isfile('emails.csv'):\n",
    "#         df = pd.read_csv('emails.csv')\n",
    "    \n",
    "#     else:\n",
    "#         df['clean'] = df[column].apply(basic_clean)\\\n",
    "#                         .apply(tokenize)\\\n",
    "#                         .apply(stem)\n",
    "#         df.to_csv('emails.csv')\n",
    "\n",
    "#     return df"
   ]
  },
  {
   "cell_type": "markdown",
   "id": "df5fcbd9",
   "metadata": {},
   "source": [
    "### Sentiment Analysis"
   ]
  },
  {
   "cell_type": "code",
   "execution_count": null,
   "id": "ed8c4e5b",
   "metadata": {},
   "outputs": [],
   "source": [
    "df.isna().sum()"
   ]
  },
  {
   "cell_type": "code",
   "execution_count": null,
   "id": "bdbf3d08",
   "metadata": {},
   "outputs": [],
   "source": [
    "df.shape"
   ]
  },
  {
   "cell_type": "code",
   "execution_count": null,
   "id": "8bbc3e20",
   "metadata": {},
   "outputs": [],
   "source": [
    "import nltk.sentiment\n",
    "sia = nltk.sentiment.SentimentIntensityAnalyzer()\n",
    "df['sentiment'] = df.lemmatize.apply(lambda doc: sia.polarity_scores(doc)['compound'])\n",
    "df.head()"
   ]
  },
  {
   "cell_type": "code",
   "execution_count": null,
   "id": "a8a79a07",
   "metadata": {},
   "outputs": [],
   "source": [
    "df.isna().sum()"
   ]
  },
  {
   "cell_type": "code",
   "execution_count": null,
   "id": "d9fa8fdc",
   "metadata": {},
   "outputs": [],
   "source": [
    "import os\n",
    "if not os.path.isfile('sentiment.csv'):\n",
    "    df.to_csv('sentiment.csv')"
   ]
  },
  {
   "cell_type": "code",
   "execution_count": null,
   "id": "f3df16aa",
   "metadata": {},
   "outputs": [],
   "source": [
    "## is the mean and median values of sentiment score different for ham vs spam?\n",
    "# df.groupby('label').sentiment.agg(['mean','median'])"
   ]
  },
  {
   "cell_type": "code",
   "execution_count": null,
   "id": "b53623e3",
   "metadata": {},
   "outputs": [],
   "source": [
    "## plot message_length vs sentiment and hue by label\n",
    "# sns.relplot(data = df, x = 'message_length', y = 'sentiment', hue = 'label')"
   ]
  },
  {
   "cell_type": "code",
   "execution_count": null,
   "id": "24119b9b",
   "metadata": {},
   "outputs": [],
   "source": [
    "## is the distribution for sentiment different for ham vs spam\n",
    "# sns.kdeplot(df[df.label == 'ham'].sentiment, label = 'ham')\n",
    "# sns.kdeplot(df[df.label == 'spam'].sentiment, label = 'spam')\n",
    "# plt.legend(['ham', 'spam'])"
   ]
  },
  {
   "cell_type": "code",
   "execution_count": null,
   "id": "e86840eb",
   "metadata": {},
   "outputs": [],
   "source": [
    "## Bivariate KDE plot for message_length vs sentiment score \n",
    "# sns.kdeplot(df[df.label == 'ham'].message_length,df[df.label == 'ham'].sentiment, levels = 30, shade = True )\n",
    "# sns.kdeplot(df[df.label == 'spam'].message_length,df[df.label == 'spam'].sentiment, levels = 30, shade = True, alpha = 0.5 )"
   ]
  },
  {
   "cell_type": "markdown",
   "id": "6593ed67",
   "metadata": {},
   "source": [
    "## Topic Modeling"
   ]
  },
  {
   "cell_type": "markdown",
   "id": "95135052",
   "metadata": {},
   "source": [
    "### Keep only columns needed for Topic Modeling"
   ]
  },
  {
   "cell_type": "code",
   "execution_count": null,
   "id": "0d1dca90",
   "metadata": {},
   "outputs": [],
   "source": [
    "# import gensim\n",
    "# from gensim.utils import simple_preprocess\n",
    "# from gensim.parsing.preprocessing\n",
    "\n",
    "# import nltk nltk.download('wordnet')\n"
   ]
  },
  {
   "cell_type": "markdown",
   "id": "2bc96bf4",
   "metadata": {},
   "source": [
    "## Time Series"
   ]
  },
  {
   "cell_type": "code",
   "execution_count": null,
   "id": "f0955d9f",
   "metadata": {},
   "outputs": [],
   "source": [
    "from datetime import timedelta, datetime"
   ]
  },
  {
   "cell_type": "code",
   "execution_count": 15,
   "id": "253e0999",
   "metadata": {},
   "outputs": [
    {
     "data": {
      "text/html": [
       "<div>\n",
       "<style scoped>\n",
       "    .dataframe tbody tr th:only-of-type {\n",
       "        vertical-align: middle;\n",
       "    }\n",
       "\n",
       "    .dataframe tbody tr th {\n",
       "        vertical-align: top;\n",
       "    }\n",
       "\n",
       "    .dataframe thead th {\n",
       "        text-align: right;\n",
       "    }\n",
       "</style>\n",
       "<table border=\"1\" class=\"dataframe\">\n",
       "  <thead>\n",
       "    <tr style=\"text-align: right;\">\n",
       "      <th></th>\n",
       "      <th>file</th>\n",
       "      <th>message</th>\n",
       "      <th>date</th>\n",
       "      <th>content</th>\n",
       "      <th>sender</th>\n",
       "      <th>subject</th>\n",
       "      <th>clean</th>\n",
       "      <th>tokenize</th>\n",
       "      <th>stop_words</th>\n",
       "      <th>stemm</th>\n",
       "      <th>lemmatize</th>\n",
       "      <th>sentiment</th>\n",
       "    </tr>\n",
       "  </thead>\n",
       "  <tbody>\n",
       "    <tr>\n",
       "      <th>0</th>\n",
       "      <td>allen-p/_sent_mail/1.</td>\n",
       "      <td>Message-ID: &lt;18782981.1075855378110.JavaMail.e...</td>\n",
       "      <td>Mon, 14 May 2001 16:39:00 -0700 (PDT)</td>\n",
       "      <td>Here is our forecast\\n\\n</td>\n",
       "      <td>phillip.allen@enron.com</td>\n",
       "      <td>NaN</td>\n",
       "      <td>here is our forecast\\n\\n</td>\n",
       "      <td>here is our forecast</td>\n",
       "      <td>forecast</td>\n",
       "      <td>here is our forecast</td>\n",
       "      <td>here is our forecast</td>\n",
       "      <td>0.0000</td>\n",
       "    </tr>\n",
       "    <tr>\n",
       "      <th>1</th>\n",
       "      <td>allen-p/_sent_mail/10.</td>\n",
       "      <td>Message-ID: &lt;15464986.1075855378456.JavaMail.e...</td>\n",
       "      <td>Fri, 4 May 2001 13:51:00 -0700 (PDT)</td>\n",
       "      <td>Traveling to have a business meeting takes the...</td>\n",
       "      <td>phillip.allen@enron.com</td>\n",
       "      <td>Re:</td>\n",
       "      <td>traveling to have a business meeting takes the...</td>\n",
       "      <td>traveling to have a business meeting takes the...</td>\n",
       "      <td>traveling business meeting takes fun trip espe...</td>\n",
       "      <td>travel to have a busi meet take the fun out of...</td>\n",
       "      <td>traveling to have a business meeting take the ...</td>\n",
       "      <td>0.9313</td>\n",
       "    </tr>\n",
       "    <tr>\n",
       "      <th>2</th>\n",
       "      <td>allen-p/_sent_mail/100.</td>\n",
       "      <td>Message-ID: &lt;24216240.1075855687451.JavaMail.e...</td>\n",
       "      <td>Wed, 18 Oct 2000 03:00:00 -0700 (PDT)</td>\n",
       "      <td>test successful.  way to go!!!</td>\n",
       "      <td>phillip.allen@enron.com</td>\n",
       "      <td>Re: test</td>\n",
       "      <td>test successful  way to go</td>\n",
       "      <td>test successful way to go</td>\n",
       "      <td>test successful way go</td>\n",
       "      <td>test success way to go</td>\n",
       "      <td>test successful way to go</td>\n",
       "      <td>0.5859</td>\n",
       "    </tr>\n",
       "    <tr>\n",
       "      <th>3</th>\n",
       "      <td>allen-p/_sent_mail/1000.</td>\n",
       "      <td>Message-ID: &lt;13505866.1075863688222.JavaMail.e...</td>\n",
       "      <td>Mon, 23 Oct 2000 06:13:00 -0700 (PDT)</td>\n",
       "      <td>Randy,\\n\\n Can you send me a schedule of the s...</td>\n",
       "      <td>phillip.allen@enron.com</td>\n",
       "      <td>NaN</td>\n",
       "      <td>randy\\n\\n can you send me a schedule of the sa...</td>\n",
       "      <td>randy\\n\\n can you send me a schedule of the sa...</td>\n",
       "      <td>randy send schedule salary level everyone sche...</td>\n",
       "      <td>randi can you send me a schedul of the salari ...</td>\n",
       "      <td>randy can you send me a schedule of the salary...</td>\n",
       "      <td>0.0000</td>\n",
       "    </tr>\n",
       "    <tr>\n",
       "      <th>4</th>\n",
       "      <td>allen-p/_sent_mail/1001.</td>\n",
       "      <td>Message-ID: &lt;30922949.1075863688243.JavaMail.e...</td>\n",
       "      <td>Thu, 31 Aug 2000 05:07:00 -0700 (PDT)</td>\n",
       "      <td>Let's shoot for Tuesday at 11:45.</td>\n",
       "      <td>phillip.allen@enron.com</td>\n",
       "      <td>Re: Hello</td>\n",
       "      <td>let's shoot for tuesday at 1145</td>\n",
       "      <td>let ' s shoot for tuesday at 1145</td>\n",
       "      <td>let ' shoot tuesday 1145</td>\n",
       "      <td>let ' s shoot for tuesday at 1145</td>\n",
       "      <td>let ' s shoot for tuesday at 1145</td>\n",
       "      <td>-0.3400</td>\n",
       "    </tr>\n",
       "  </tbody>\n",
       "</table>\n",
       "</div>"
      ],
      "text/plain": [
       "                       file  \\\n",
       "0     allen-p/_sent_mail/1.   \n",
       "1    allen-p/_sent_mail/10.   \n",
       "2   allen-p/_sent_mail/100.   \n",
       "3  allen-p/_sent_mail/1000.   \n",
       "4  allen-p/_sent_mail/1001.   \n",
       "\n",
       "                                             message  \\\n",
       "0  Message-ID: <18782981.1075855378110.JavaMail.e...   \n",
       "1  Message-ID: <15464986.1075855378456.JavaMail.e...   \n",
       "2  Message-ID: <24216240.1075855687451.JavaMail.e...   \n",
       "3  Message-ID: <13505866.1075863688222.JavaMail.e...   \n",
       "4  Message-ID: <30922949.1075863688243.JavaMail.e...   \n",
       "\n",
       "                                    date  \\\n",
       "0  Mon, 14 May 2001 16:39:00 -0700 (PDT)   \n",
       "1   Fri, 4 May 2001 13:51:00 -0700 (PDT)   \n",
       "2  Wed, 18 Oct 2000 03:00:00 -0700 (PDT)   \n",
       "3  Mon, 23 Oct 2000 06:13:00 -0700 (PDT)   \n",
       "4  Thu, 31 Aug 2000 05:07:00 -0700 (PDT)   \n",
       "\n",
       "                                             content                   sender  \\\n",
       "0                          Here is our forecast\\n\\n   phillip.allen@enron.com   \n",
       "1  Traveling to have a business meeting takes the...  phillip.allen@enron.com   \n",
       "2                     test successful.  way to go!!!  phillip.allen@enron.com   \n",
       "3  Randy,\\n\\n Can you send me a schedule of the s...  phillip.allen@enron.com   \n",
       "4                Let's shoot for Tuesday at 11:45.    phillip.allen@enron.com   \n",
       "\n",
       "     subject                                              clean  \\\n",
       "0        NaN                          here is our forecast\\n\\n    \n",
       "1        Re:  traveling to have a business meeting takes the...   \n",
       "2   Re: test                         test successful  way to go   \n",
       "3        NaN  randy\\n\\n can you send me a schedule of the sa...   \n",
       "4  Re: Hello                  let's shoot for tuesday at 1145     \n",
       "\n",
       "                                            tokenize  \\\n",
       "0                               here is our forecast   \n",
       "1  traveling to have a business meeting takes the...   \n",
       "2                          test successful way to go   \n",
       "3  randy\\n\\n can you send me a schedule of the sa...   \n",
       "4                  let ' s shoot for tuesday at 1145   \n",
       "\n",
       "                                          stop_words  \\\n",
       "0                                           forecast   \n",
       "1  traveling business meeting takes fun trip espe...   \n",
       "2                             test successful way go   \n",
       "3  randy send schedule salary level everyone sche...   \n",
       "4                           let ' shoot tuesday 1145   \n",
       "\n",
       "                                               stemm  \\\n",
       "0                               here is our forecast   \n",
       "1  travel to have a busi meet take the fun out of...   \n",
       "2                             test success way to go   \n",
       "3  randi can you send me a schedul of the salari ...   \n",
       "4                  let ' s shoot for tuesday at 1145   \n",
       "\n",
       "                                           lemmatize  sentiment  \n",
       "0                               here is our forecast     0.0000  \n",
       "1  traveling to have a business meeting take the ...     0.9313  \n",
       "2                          test successful way to go     0.5859  \n",
       "3  randy can you send me a schedule of the salary...     0.0000  \n",
       "4                  let ' s shoot for tuesday at 1145    -0.3400  "
      ]
     },
     "execution_count": 15,
     "metadata": {},
     "output_type": "execute_result"
    }
   ],
   "source": [
    "df = pd.read_csv('sentiment.csv', index_col=0)\n",
    "df.head()"
   ]
  },
  {
   "cell_type": "code",
   "execution_count": null,
   "id": "7dfb575b",
   "metadata": {},
   "outputs": [],
   "source": [
    "# # create time series dataframe\n",
    "# ts = df[['date', 'sentiment']]\n",
    "# ts.head()"
   ]
  },
  {
   "cell_type": "code",
   "execution_count": null,
   "id": "5d1343d8",
   "metadata": {},
   "outputs": [],
   "source": [
    "# check for nulls\n",
    "ts.isna().sum()"
   ]
  },
  {
   "cell_type": "code",
   "execution_count": null,
   "id": "5d88b291",
   "metadata": {},
   "outputs": [],
   "source": [
    "ts.sentiment.plot.hist()"
   ]
  },
  {
   "cell_type": "code",
   "execution_count": 10,
   "id": "ba6fdcfe",
   "metadata": {},
   "outputs": [
    {
     "data": {
      "text/html": [
       "<div>\n",
       "<style scoped>\n",
       "    .dataframe tbody tr th:only-of-type {\n",
       "        vertical-align: middle;\n",
       "    }\n",
       "\n",
       "    .dataframe tbody tr th {\n",
       "        vertical-align: top;\n",
       "    }\n",
       "\n",
       "    .dataframe thead th {\n",
       "        text-align: right;\n",
       "    }\n",
       "</style>\n",
       "<table border=\"1\" class=\"dataframe\">\n",
       "  <thead>\n",
       "    <tr style=\"text-align: right;\">\n",
       "      <th></th>\n",
       "      <th>date</th>\n",
       "      <th>sentiment</th>\n",
       "    </tr>\n",
       "  </thead>\n",
       "  <tbody>\n",
       "    <tr>\n",
       "      <th>0</th>\n",
       "      <td>Mon, 14 May 2001 16:39:00 -0700 (PDT)</td>\n",
       "      <td>0.0000</td>\n",
       "    </tr>\n",
       "    <tr>\n",
       "      <th>1</th>\n",
       "      <td>Fri, 4 May 2001 13:51:00 -0700 (PDT)</td>\n",
       "      <td>0.9313</td>\n",
       "    </tr>\n",
       "    <tr>\n",
       "      <th>2</th>\n",
       "      <td>Wed, 18 Oct 2000 03:00:00 -0700 (PDT)</td>\n",
       "      <td>0.5859</td>\n",
       "    </tr>\n",
       "    <tr>\n",
       "      <th>3</th>\n",
       "      <td>Mon, 23 Oct 2000 06:13:00 -0700 (PDT)</td>\n",
       "      <td>0.0000</td>\n",
       "    </tr>\n",
       "    <tr>\n",
       "      <th>4</th>\n",
       "      <td>Thu, 31 Aug 2000 05:07:00 -0700 (PDT)</td>\n",
       "      <td>-0.3400</td>\n",
       "    </tr>\n",
       "  </tbody>\n",
       "</table>\n",
       "</div>"
      ],
      "text/plain": [
       "                                    date  sentiment\n",
       "0  Mon, 14 May 2001 16:39:00 -0700 (PDT)     0.0000\n",
       "1   Fri, 4 May 2001 13:51:00 -0700 (PDT)     0.9313\n",
       "2  Wed, 18 Oct 2000 03:00:00 -0700 (PDT)     0.5859\n",
       "3  Mon, 23 Oct 2000 06:13:00 -0700 (PDT)     0.0000\n",
       "4  Thu, 31 Aug 2000 05:07:00 -0700 (PDT)    -0.3400"
      ]
     },
     "execution_count": 10,
     "metadata": {},
     "output_type": "execute_result"
    }
   ],
   "source": [
    "ts = pd.read_csv('time_series.csv', index_col=0)\n",
    "ts.head()"
   ]
  },
  {
   "cell_type": "code",
   "execution_count": 11,
   "id": "60d70170",
   "metadata": {},
   "outputs": [
    {
     "name": "stdout",
     "output_type": "stream",
     "text": [
      "<class 'pandas.core.frame.DataFrame'>\n",
      "Int64Index: 517401 entries, 0 to 517400\n",
      "Data columns (total 2 columns):\n",
      " #   Column     Non-Null Count   Dtype              \n",
      "---  ------     --------------   -----              \n",
      " 0   date       517401 non-null  datetime64[ns, UTC]\n",
      " 1   sentiment  517401 non-null  float64            \n",
      "dtypes: datetime64[ns, UTC](1), float64(1)\n",
      "memory usage: 11.8 MB\n"
     ]
    }
   ],
   "source": [
    "# change date column to datetime format\n",
    "ts.date = pd.to_datetime(ts.date, utc=True)\n",
    "ts.info()"
   ]
  },
  {
   "cell_type": "code",
   "execution_count": null,
   "id": "957eac3c",
   "metadata": {},
   "outputs": [],
   "source": [
    "# change date column to datetime format\n",
    "df.date = pd.to_datetime(df.date, utc=True)\n",
    "df.info()"
   ]
  },
  {
   "cell_type": "code",
   "execution_count": 12,
   "id": "842d00bd",
   "metadata": {},
   "outputs": [
    {
     "data": {
      "text/html": [
       "<div>\n",
       "<style scoped>\n",
       "    .dataframe tbody tr th:only-of-type {\n",
       "        vertical-align: middle;\n",
       "    }\n",
       "\n",
       "    .dataframe tbody tr th {\n",
       "        vertical-align: top;\n",
       "    }\n",
       "\n",
       "    .dataframe thead th {\n",
       "        text-align: right;\n",
       "    }\n",
       "</style>\n",
       "<table border=\"1\" class=\"dataframe\">\n",
       "  <thead>\n",
       "    <tr style=\"text-align: right;\">\n",
       "      <th></th>\n",
       "      <th>sentiment</th>\n",
       "    </tr>\n",
       "    <tr>\n",
       "      <th>date</th>\n",
       "      <th></th>\n",
       "    </tr>\n",
       "  </thead>\n",
       "  <tbody>\n",
       "    <tr>\n",
       "      <th>1980-01-01 00:00:00+00:00</th>\n",
       "      <td>0.6124</td>\n",
       "    </tr>\n",
       "    <tr>\n",
       "      <th>1980-01-01 00:00:00+00:00</th>\n",
       "      <td>0.0000</td>\n",
       "    </tr>\n",
       "    <tr>\n",
       "      <th>1980-01-01 00:00:00+00:00</th>\n",
       "      <td>0.9979</td>\n",
       "    </tr>\n",
       "    <tr>\n",
       "      <th>1980-01-01 00:00:00+00:00</th>\n",
       "      <td>0.7964</td>\n",
       "    </tr>\n",
       "    <tr>\n",
       "      <th>1980-01-01 00:00:00+00:00</th>\n",
       "      <td>0.8126</td>\n",
       "    </tr>\n",
       "  </tbody>\n",
       "</table>\n",
       "</div>"
      ],
      "text/plain": [
       "                           sentiment\n",
       "date                                \n",
       "1980-01-01 00:00:00+00:00     0.6124\n",
       "1980-01-01 00:00:00+00:00     0.0000\n",
       "1980-01-01 00:00:00+00:00     0.9979\n",
       "1980-01-01 00:00:00+00:00     0.7964\n",
       "1980-01-01 00:00:00+00:00     0.8126"
      ]
     },
     "execution_count": 12,
     "metadata": {},
     "output_type": "execute_result"
    }
   ],
   "source": [
    "# Set index at date columnad and sort index\n",
    "ts = ts.set_index(\"date\").sort_index()\n",
    "ts.head()"
   ]
  },
  {
   "cell_type": "code",
   "execution_count": null,
   "id": "55151912",
   "metadata": {},
   "outputs": [],
   "source": [
    "# Set Index as date column and sort index\n",
    "df = df.set_index(\"date\").sort_index()\n",
    "df.head()"
   ]
  },
  {
   "cell_type": "code",
   "execution_count": null,
   "id": "a74a27c7",
   "metadata": {},
   "outputs": [],
   "source": [
    "ts.index.dtype, df.index.dtype"
   ]
  },
  {
   "cell_type": "code",
   "execution_count": null,
   "id": "053d0614",
   "metadata": {},
   "outputs": [],
   "source": [
    "df['year'] = df.index.year\n",
    "df['month'] = df.index.month\n",
    "df['day'] = df.index.day\n",
    "df.head()"
   ]
  },
  {
   "cell_type": "code",
   "execution_count": null,
   "id": "e3bade73",
   "metadata": {},
   "outputs": [],
   "source": [
    "ts.index.min(), ts.index.max()"
   ]
  },
  {
   "cell_type": "code",
   "execution_count": null,
   "id": "40eef353",
   "metadata": {},
   "outputs": [],
   "source": [
    "# check for time gaps\n",
    "print('Number of rows:', df.index.nunique())\n",
    "n_days = df.index.max() - df.index.min() + pd.Timedelta('1d')\n",
    "print(f\"Number of days between first and last day:\", n_days)"
   ]
  },
  {
   "cell_type": "code",
   "execution_count": null,
   "id": "6bfe1900",
   "metadata": {},
   "outputs": [],
   "source": [
    "# plot sentiment over time\n",
    "ts.plot(figsize=(20,10))"
   ]
  },
  {
   "cell_type": "code",
   "execution_count": null,
   "id": "cfad9424",
   "metadata": {},
   "outputs": [],
   "source": [
    "import os\n",
    "if not os.path.isfile('timedate.csv'):\n",
    "    df.to_csv('timedate.csv')"
   ]
  },
  {
   "cell_type": "code",
   "execution_count": null,
   "id": "5bd53b56",
   "metadata": {},
   "outputs": [],
   "source": [
    "import os\n",
    "if not os.path.isfile('time_series.csv'):\n",
    "    df.to_csv('time_series.csv')"
   ]
  },
  {
   "cell_type": "markdown",
   "id": "df49ce66",
   "metadata": {},
   "source": [
    "## Note:\n",
    "- most emails occured by between 1998 and 2003\n",
    "- Should remove emails outside of those dates"
   ]
  },
  {
   "cell_type": "markdown",
   "id": "072a5c7a",
   "metadata": {},
   "source": [
    "## Remove Emails Before 1998 and After 2003"
   ]
  },
  {
   "cell_type": "code",
   "execution_count": 13,
   "id": "398a7679",
   "metadata": {},
   "outputs": [
    {
     "data": {
      "text/html": [
       "<div>\n",
       "<style scoped>\n",
       "    .dataframe tbody tr th:only-of-type {\n",
       "        vertical-align: middle;\n",
       "    }\n",
       "\n",
       "    .dataframe tbody tr th {\n",
       "        vertical-align: top;\n",
       "    }\n",
       "\n",
       "    .dataframe thead th {\n",
       "        text-align: right;\n",
       "    }\n",
       "</style>\n",
       "<table border=\"1\" class=\"dataframe\">\n",
       "  <thead>\n",
       "    <tr style=\"text-align: right;\">\n",
       "      <th></th>\n",
       "      <th>sentiment</th>\n",
       "    </tr>\n",
       "    <tr>\n",
       "      <th>date</th>\n",
       "      <th></th>\n",
       "    </tr>\n",
       "  </thead>\n",
       "  <tbody>\n",
       "    <tr>\n",
       "      <th>1998-01-04 17:46:00+00:00</th>\n",
       "      <td>0.9118</td>\n",
       "    </tr>\n",
       "    <tr>\n",
       "      <th>1998-01-06 01:32:00+00:00</th>\n",
       "      <td>0.9442</td>\n",
       "    </tr>\n",
       "    <tr>\n",
       "      <th>1998-01-06 01:32:00+00:00</th>\n",
       "      <td>0.9442</td>\n",
       "    </tr>\n",
       "    <tr>\n",
       "      <th>1998-01-06 01:32:00+00:00</th>\n",
       "      <td>0.9442</td>\n",
       "    </tr>\n",
       "    <tr>\n",
       "      <th>1998-05-27 15:31:00+00:00</th>\n",
       "      <td>0.8750</td>\n",
       "    </tr>\n",
       "  </tbody>\n",
       "</table>\n",
       "</div>"
      ],
      "text/plain": [
       "                           sentiment\n",
       "date                                \n",
       "1998-01-04 17:46:00+00:00     0.9118\n",
       "1998-01-06 01:32:00+00:00     0.9442\n",
       "1998-01-06 01:32:00+00:00     0.9442\n",
       "1998-01-06 01:32:00+00:00     0.9442\n",
       "1998-05-27 15:31:00+00:00     0.8750"
      ]
     },
     "execution_count": 13,
     "metadata": {},
     "output_type": "execute_result"
    }
   ],
   "source": [
    "# Filter out rows that are below 1995 and above 2005\n",
    "ts = ts[(ts.index > '1998') & (ts.index < '2003')]\n",
    "ts.head()"
   ]
  },
  {
   "cell_type": "code",
   "execution_count": 8,
   "id": "693d3575",
   "metadata": {},
   "outputs": [
    {
     "data": {
      "text/plain": [
       "<AxesSubplot:>"
      ]
     },
     "execution_count": 8,
     "metadata": {},
     "output_type": "execute_result"
    },
    {
     "data": {
      "image/png": "[encoded data removed]",
      "text/plain": [
       "<Figure size 1440x720 with 1 Axes>"
      ]
     },
     "metadata": {
      "needs_background": "light"
     },
     "output_type": "display_data"
    }
   ],
   "source": [
    "# Plot sentiment of email between 1998 and 2003\n",
    "ts.plot(figsize=(20,10))"
   ]
  },
  {
   "cell_type": "markdown",
   "id": "f4b3f7f3",
   "metadata": {},
   "source": [
    "## Simple Moving Average with Nulls Imputed to Zero (Resample)"
   ]
  },
  {
   "cell_type": "code",
   "execution_count": null,
   "id": "27069750",
   "metadata": {},
   "outputs": [],
   "source": [
    "# Resample for Yearly\n",
    "ts_1y = ts.resample('Y').mean().fillna(0)\n",
    "ts_1y.plot(figsize=(20,10))\n",
    "ts_1y.head()"
   ]
  },
  {
   "cell_type": "code",
   "execution_count": null,
   "id": "95af5c06",
   "metadata": {},
   "outputs": [],
   "source": [
    "# Resample for Quarterly\n",
    "ts_3m = ts.resample('3M').mean().fillna(0)\n",
    "ts_3m.plot(figsize=(20,10))\n",
    "ts_3m.head()"
   ]
  },
  {
   "cell_type": "code",
   "execution_count": null,
   "id": "fbe392e6",
   "metadata": {},
   "outputs": [],
   "source": [
    "# Resample for Monthly\n",
    "ts_1m = ts.resample('M').mean().fillna(0)\n",
    "ts_1m.plot(figsize=(20,10))\n",
    "ts_1m.head()"
   ]
  },
  {
   "cell_type": "code",
   "execution_count": null,
   "id": "27b8abc4",
   "metadata": {},
   "outputs": [],
   "source": [
    "# Resample for Weekly\n",
    "ts_7d = ts.resample('W').mean().fillna(0)\n",
    "ts_7d.plot(figsize=(20,10))\n",
    "ts_7d.head()"
   ]
  },
  {
   "cell_type": "code",
   "execution_count": null,
   "id": "7fce5323",
   "metadata": {},
   "outputs": [],
   "source": [
    "# Resample for Weekly\n",
    "ts_7d = ts.resample('W').mean().fillna(0)\n",
    "ts_7d.plot(figsize=(20,10))\n",
    "ts_7d.head()"
   ]
  },
  {
   "cell_type": "code",
   "execution_count": null,
   "id": "de7a6702",
   "metadata": {
    "scrolled": false
   },
   "outputs": [],
   "source": [
    "# Resample for Daily with forwad fill\n",
    "ts_1d = ts.resample('D').mean().fillna(0)\n",
    "ts_1d.plot(figsize=(20,10))\n",
    "ts_1d.head()"
   ]
  },
  {
   "cell_type": "markdown",
   "id": "2f07763d",
   "metadata": {},
   "source": [
    "## Time_Series Combined"
   ]
  },
  {
   "cell_type": "markdown",
   "id": "cc1c08ab",
   "metadata": {},
   "source": [
    "## Rolling Average with Null Imputed to Zero"
   ]
  },
  {
   "cell_type": "code",
   "execution_count": null,
   "id": "d55cc91c",
   "metadata": {},
   "outputs": [],
   "source": [
    "# Rolling Averages\n",
    "rolling_ts = ts.resample('W').mean().fillna(0).assign(\n",
    "    rolling_1w=lambda ts: ts.sentiment.rolling(1).mean().fillna(0),\n",
    "    rolling_4w=lambda ts: ts.sentiment.rolling(4).mean().fillna(0),\n",
    "    rolling_12w=lambda ts: ts.sentiment.rolling(12).mean().fillna(0),\n",
    ")\n",
    "rolling_ts.plot(figsize=(20,10))\n",
    "rolling_ts.head()"
   ]
  },
  {
   "cell_type": "code",
   "execution_count": null,
   "id": "ff553be3",
   "metadata": {},
   "outputs": [],
   "source": [
    "ts.index.max()"
   ]
  },
  {
   "cell_type": "code",
   "execution_count": null,
   "id": "cb499a9e",
   "metadata": {},
   "outputs": [],
   "source": [
    "# add rolling columns to df\n",
    "df"
   ]
  },
  {
   "cell_type": "markdown",
   "id": "d338b8f9",
   "metadata": {},
   "source": [
    "## Split: By Year\n",
    "- Timeline: https://www.theguardian.com/business/2006/jan/30/corporatefraud.enron\n",
    "    - 1998: Enron buys Britain's Weessex Water\n",
    "    - Nov 1999: Enron Online (first global commidty trading platform) launches\n",
    "    - Aug 2000: Enron shares hit all time high\n",
    "    - 5 Feb 2001: Arthur Andersen considers not serving Enron due to special partnerships to disguise debt\n",
    "    - 14 Aug 2001: Jeff Skilling (CEO from 12 Feb 2001) resigns for personal reasons\n",
    "    - 15 Aug 2001: Sheron Watkins (VP) warns Kenneth Lay (CEO) of question accounting practices\n",
    "    - 24 Oct 2001: Andrew Fastow (CFO) is fired\n",
    "    - 8 Nov 2001: Enron announced it overstated profits by 60M going back to 1997\n",
    "    - 2 Dec 2001: Enron files for bankruptsy\n",
    "    - 3 Dec 2001: Eron lays off 4K employees \n",
    "    - 9 Jan 2002: Justice Department investigates Enron\n",
    "    - 24 Jan 2002: Kenneth Lay (CEO) resigns\n",
    "    - 14 Mar 2002: Arthur Andersen indicted \n",
    "    - 31 Oct 2002: Fastow indicted"
   ]
  },
  {
   "cell_type": "code",
   "execution_count": 17,
   "id": "4208aff0",
   "metadata": {},
   "outputs": [
    {
     "data": {
      "text/html": [
       "<div>\n",
       "<style scoped>\n",
       "    .dataframe tbody tr th:only-of-type {\n",
       "        vertical-align: middle;\n",
       "    }\n",
       "\n",
       "    .dataframe tbody tr th {\n",
       "        vertical-align: top;\n",
       "    }\n",
       "\n",
       "    .dataframe thead th {\n",
       "        text-align: right;\n",
       "    }\n",
       "</style>\n",
       "<table border=\"1\" class=\"dataframe\">\n",
       "  <thead>\n",
       "    <tr style=\"text-align: right;\">\n",
       "      <th></th>\n",
       "      <th>file</th>\n",
       "      <th>message</th>\n",
       "      <th>date</th>\n",
       "      <th>content</th>\n",
       "      <th>sender</th>\n",
       "      <th>subject</th>\n",
       "      <th>clean</th>\n",
       "      <th>tokenize</th>\n",
       "      <th>stop_words</th>\n",
       "      <th>stemm</th>\n",
       "      <th>lemmatize</th>\n",
       "      <th>sentiment</th>\n",
       "    </tr>\n",
       "  </thead>\n",
       "  <tbody>\n",
       "    <tr>\n",
       "      <th>0</th>\n",
       "      <td>allen-p/_sent_mail/1.</td>\n",
       "      <td>Message-ID: &lt;18782981.1075855378110.JavaMail.e...</td>\n",
       "      <td>Mon, 14 May 2001 16:39:00 -0700 (PDT)</td>\n",
       "      <td>Here is our forecast\\n\\n</td>\n",
       "      <td>phillip.allen@enron.com</td>\n",
       "      <td>NaN</td>\n",
       "      <td>here is our forecast\\n\\n</td>\n",
       "      <td>here is our forecast</td>\n",
       "      <td>forecast</td>\n",
       "      <td>here is our forecast</td>\n",
       "      <td>here is our forecast</td>\n",
       "      <td>0.0000</td>\n",
       "    </tr>\n",
       "    <tr>\n",
       "      <th>1</th>\n",
       "      <td>allen-p/_sent_mail/10.</td>\n",
       "      <td>Message-ID: &lt;15464986.1075855378456.JavaMail.e...</td>\n",
       "      <td>Fri, 4 May 2001 13:51:00 -0700 (PDT)</td>\n",
       "      <td>Traveling to have a business meeting takes the...</td>\n",
       "      <td>phillip.allen@enron.com</td>\n",
       "      <td>Re:</td>\n",
       "      <td>traveling to have a business meeting takes the...</td>\n",
       "      <td>traveling to have a business meeting takes the...</td>\n",
       "      <td>traveling business meeting takes fun trip espe...</td>\n",
       "      <td>travel to have a busi meet take the fun out of...</td>\n",
       "      <td>traveling to have a business meeting take the ...</td>\n",
       "      <td>0.9313</td>\n",
       "    </tr>\n",
       "    <tr>\n",
       "      <th>2</th>\n",
       "      <td>allen-p/_sent_mail/100.</td>\n",
       "      <td>Message-ID: &lt;24216240.1075855687451.JavaMail.e...</td>\n",
       "      <td>Wed, 18 Oct 2000 03:00:00 -0700 (PDT)</td>\n",
       "      <td>test successful.  way to go!!!</td>\n",
       "      <td>phillip.allen@enron.com</td>\n",
       "      <td>Re: test</td>\n",
       "      <td>test successful  way to go</td>\n",
       "      <td>test successful way to go</td>\n",
       "      <td>test successful way go</td>\n",
       "      <td>test success way to go</td>\n",
       "      <td>test successful way to go</td>\n",
       "      <td>0.5859</td>\n",
       "    </tr>\n",
       "    <tr>\n",
       "      <th>3</th>\n",
       "      <td>allen-p/_sent_mail/1000.</td>\n",
       "      <td>Message-ID: &lt;13505866.1075863688222.JavaMail.e...</td>\n",
       "      <td>Mon, 23 Oct 2000 06:13:00 -0700 (PDT)</td>\n",
       "      <td>Randy,\\n\\n Can you send me a schedule of the s...</td>\n",
       "      <td>phillip.allen@enron.com</td>\n",
       "      <td>NaN</td>\n",
       "      <td>randy\\n\\n can you send me a schedule of the sa...</td>\n",
       "      <td>randy\\n\\n can you send me a schedule of the sa...</td>\n",
       "      <td>randy send schedule salary level everyone sche...</td>\n",
       "      <td>randi can you send me a schedul of the salari ...</td>\n",
       "      <td>randy can you send me a schedule of the salary...</td>\n",
       "      <td>0.0000</td>\n",
       "    </tr>\n",
       "    <tr>\n",
       "      <th>4</th>\n",
       "      <td>allen-p/_sent_mail/1001.</td>\n",
       "      <td>Message-ID: &lt;30922949.1075863688243.JavaMail.e...</td>\n",
       "      <td>Thu, 31 Aug 2000 05:07:00 -0700 (PDT)</td>\n",
       "      <td>Let's shoot for Tuesday at 11:45.</td>\n",
       "      <td>phillip.allen@enron.com</td>\n",
       "      <td>Re: Hello</td>\n",
       "      <td>let's shoot for tuesday at 1145</td>\n",
       "      <td>let ' s shoot for tuesday at 1145</td>\n",
       "      <td>let ' shoot tuesday 1145</td>\n",
       "      <td>let ' s shoot for tuesday at 1145</td>\n",
       "      <td>let ' s shoot for tuesday at 1145</td>\n",
       "      <td>-0.3400</td>\n",
       "    </tr>\n",
       "  </tbody>\n",
       "</table>\n",
       "</div>"
      ],
      "text/plain": [
       "                       file  \\\n",
       "0     allen-p/_sent_mail/1.   \n",
       "1    allen-p/_sent_mail/10.   \n",
       "2   allen-p/_sent_mail/100.   \n",
       "3  allen-p/_sent_mail/1000.   \n",
       "4  allen-p/_sent_mail/1001.   \n",
       "\n",
       "                                             message  \\\n",
       "0  Message-ID: <18782981.1075855378110.JavaMail.e...   \n",
       "1  Message-ID: <15464986.1075855378456.JavaMail.e...   \n",
       "2  Message-ID: <24216240.1075855687451.JavaMail.e...   \n",
       "3  Message-ID: <13505866.1075863688222.JavaMail.e...   \n",
       "4  Message-ID: <30922949.1075863688243.JavaMail.e...   \n",
       "\n",
       "                                    date  \\\n",
       "0  Mon, 14 May 2001 16:39:00 -0700 (PDT)   \n",
       "1   Fri, 4 May 2001 13:51:00 -0700 (PDT)   \n",
       "2  Wed, 18 Oct 2000 03:00:00 -0700 (PDT)   \n",
       "3  Mon, 23 Oct 2000 06:13:00 -0700 (PDT)   \n",
       "4  Thu, 31 Aug 2000 05:07:00 -0700 (PDT)   \n",
       "\n",
       "                                             content                   sender  \\\n",
       "0                          Here is our forecast\\n\\n   phillip.allen@enron.com   \n",
       "1  Traveling to have a business meeting takes the...  phillip.allen@enron.com   \n",
       "2                     test successful.  way to go!!!  phillip.allen@enron.com   \n",
       "3  Randy,\\n\\n Can you send me a schedule of the s...  phillip.allen@enron.com   \n",
       "4                Let's shoot for Tuesday at 11:45.    phillip.allen@enron.com   \n",
       "\n",
       "     subject                                              clean  \\\n",
       "0        NaN                          here is our forecast\\n\\n    \n",
       "1        Re:  traveling to have a business meeting takes the...   \n",
       "2   Re: test                         test successful  way to go   \n",
       "3        NaN  randy\\n\\n can you send me a schedule of the sa...   \n",
       "4  Re: Hello                  let's shoot for tuesday at 1145     \n",
       "\n",
       "                                            tokenize  \\\n",
       "0                               here is our forecast   \n",
       "1  traveling to have a business meeting takes the...   \n",
       "2                          test successful way to go   \n",
       "3  randy\\n\\n can you send me a schedule of the sa...   \n",
       "4                  let ' s shoot for tuesday at 1145   \n",
       "\n",
       "                                          stop_words  \\\n",
       "0                                           forecast   \n",
       "1  traveling business meeting takes fun trip espe...   \n",
       "2                             test successful way go   \n",
       "3  randy send schedule salary level everyone sche...   \n",
       "4                           let ' shoot tuesday 1145   \n",
       "\n",
       "                                               stemm  \\\n",
       "0                               here is our forecast   \n",
       "1  travel to have a busi meet take the fun out of...   \n",
       "2                             test success way to go   \n",
       "3  randi can you send me a schedul of the salari ...   \n",
       "4                  let ' s shoot for tuesday at 1145   \n",
       "\n",
       "                                           lemmatize  sentiment  \n",
       "0                               here is our forecast     0.0000  \n",
       "1  traveling to have a business meeting take the ...     0.9313  \n",
       "2                          test successful way to go     0.5859  \n",
       "3  randy can you send me a schedule of the salary...     0.0000  \n",
       "4                  let ' s shoot for tuesday at 1145    -0.3400  "
      ]
     },
     "execution_count": 17,
     "metadata": {},
     "output_type": "execute_result"
    }
   ],
   "source": [
    "df.head()"
   ]
  },
  {
   "cell_type": "code",
   "execution_count": 18,
   "id": "00d7eda8",
   "metadata": {
    "scrolled": true
   },
   "outputs": [
    {
     "ename": "TypeError",
     "evalue": "cannot do slice indexing on Int64Index with these indexers [2001-08-13] of type str",
     "output_type": "error",
     "traceback": [
      "\u001b[0;31m---------------------------------------------------------------------------\u001b[0m",
      "\u001b[0;31mTypeError\u001b[0m                                 Traceback (most recent call last)",
      "\u001b[0;32m<ipython-input-18-e2fef4e85373>\u001b[0m in \u001b[0;36m<module>\u001b[0;34m\u001b[0m\n\u001b[1;32m      1\u001b[0m \u001b[0;31m# set train data up to 13Aug2001, day before Jeff Skilling resigns for personal reasons\u001b[0m\u001b[0;34m\u001b[0m\u001b[0;34m\u001b[0m\u001b[0;34m\u001b[0m\u001b[0m\n\u001b[0;32m----> 2\u001b[0;31m \u001b[0mtrain\u001b[0m \u001b[0;34m=\u001b[0m \u001b[0mdf\u001b[0m\u001b[0;34m[\u001b[0m\u001b[0;34m:\u001b[0m\u001b[0;34m'2001-08-13'\u001b[0m\u001b[0;34m]\u001b[0m \u001b[0;31m# includes 2016\u001b[0m\u001b[0;34m\u001b[0m\u001b[0;34m\u001b[0m\u001b[0m\n\u001b[0m\u001b[1;32m      3\u001b[0m \u001b[0mtest\u001b[0m \u001b[0;34m=\u001b[0m \u001b[0mdf\u001b[0m\u001b[0;34m[\u001b[0m\u001b[0;34m'2001-08-14'\u001b[0m\u001b[0;34m]\u001b[0m\u001b[0;34m\u001b[0m\u001b[0;34m\u001b[0m\u001b[0m\n\u001b[1;32m      4\u001b[0m \u001b[0;34m\u001b[0m\u001b[0m\n\u001b[1;32m      5\u001b[0m \u001b[0mplt\u001b[0m\u001b[0;34m.\u001b[0m\u001b[0mfigure\u001b[0m\u001b[0;34m(\u001b[0m\u001b[0mfigsize\u001b[0m\u001b[0;34m=\u001b[0m\u001b[0;34m(\u001b[0m\u001b[0;36m20\u001b[0m\u001b[0;34m,\u001b[0m\u001b[0;36m10\u001b[0m\u001b[0;34m)\u001b[0m\u001b[0;34m)\u001b[0m\u001b[0;34m\u001b[0m\u001b[0;34m\u001b[0m\u001b[0m\n",
      "\u001b[0;32m/usr/local/anaconda3/lib/python3.8/site-packages/pandas/core/frame.py\u001b[0m in \u001b[0;36m__getitem__\u001b[0;34m(self, key)\u001b[0m\n\u001b[1;32m   2997\u001b[0m \u001b[0;34m\u001b[0m\u001b[0m\n\u001b[1;32m   2998\u001b[0m         \u001b[0;31m# Do we have a slicer (on rows)?\u001b[0m\u001b[0;34m\u001b[0m\u001b[0;34m\u001b[0m\u001b[0;34m\u001b[0m\u001b[0m\n\u001b[0;32m-> 2999\u001b[0;31m         \u001b[0mindexer\u001b[0m \u001b[0;34m=\u001b[0m \u001b[0mconvert_to_index_sliceable\u001b[0m\u001b[0;34m(\u001b[0m\u001b[0mself\u001b[0m\u001b[0;34m,\u001b[0m \u001b[0mkey\u001b[0m\u001b[0;34m)\u001b[0m\u001b[0;34m\u001b[0m\u001b[0;34m\u001b[0m\u001b[0m\n\u001b[0m\u001b[1;32m   3000\u001b[0m         \u001b[0;32mif\u001b[0m \u001b[0mindexer\u001b[0m \u001b[0;32mis\u001b[0m \u001b[0;32mnot\u001b[0m \u001b[0;32mNone\u001b[0m\u001b[0;34m:\u001b[0m\u001b[0;34m\u001b[0m\u001b[0;34m\u001b[0m\u001b[0m\n\u001b[1;32m   3001\u001b[0m             \u001b[0;32mif\u001b[0m \u001b[0misinstance\u001b[0m\u001b[0;34m(\u001b[0m\u001b[0mindexer\u001b[0m\u001b[0;34m,\u001b[0m \u001b[0mnp\u001b[0m\u001b[0;34m.\u001b[0m\u001b[0mndarray\u001b[0m\u001b[0;34m)\u001b[0m\u001b[0;34m:\u001b[0m\u001b[0;34m\u001b[0m\u001b[0;34m\u001b[0m\u001b[0m\n",
      "\u001b[0;32m/usr/local/anaconda3/lib/python3.8/site-packages/pandas/core/indexing.py\u001b[0m in \u001b[0;36mconvert_to_index_sliceable\u001b[0;34m(obj, key)\u001b[0m\n\u001b[1;32m   2208\u001b[0m     \u001b[0midx\u001b[0m \u001b[0;34m=\u001b[0m \u001b[0mobj\u001b[0m\u001b[0;34m.\u001b[0m\u001b[0mindex\u001b[0m\u001b[0;34m\u001b[0m\u001b[0;34m\u001b[0m\u001b[0m\n\u001b[1;32m   2209\u001b[0m     \u001b[0;32mif\u001b[0m \u001b[0misinstance\u001b[0m\u001b[0;34m(\u001b[0m\u001b[0mkey\u001b[0m\u001b[0;34m,\u001b[0m \u001b[0mslice\u001b[0m\u001b[0;34m)\u001b[0m\u001b[0;34m:\u001b[0m\u001b[0;34m\u001b[0m\u001b[0;34m\u001b[0m\u001b[0m\n\u001b[0;32m-> 2210\u001b[0;31m         \u001b[0;32mreturn\u001b[0m \u001b[0midx\u001b[0m\u001b[0;34m.\u001b[0m\u001b[0m_convert_slice_indexer\u001b[0m\u001b[0;34m(\u001b[0m\u001b[0mkey\u001b[0m\u001b[0;34m,\u001b[0m \u001b[0mkind\u001b[0m\u001b[0;34m=\u001b[0m\u001b[0;34m\"getitem\"\u001b[0m\u001b[0;34m)\u001b[0m\u001b[0;34m\u001b[0m\u001b[0;34m\u001b[0m\u001b[0m\n\u001b[0m\u001b[1;32m   2211\u001b[0m \u001b[0;34m\u001b[0m\u001b[0m\n\u001b[1;32m   2212\u001b[0m     \u001b[0;32melif\u001b[0m \u001b[0misinstance\u001b[0m\u001b[0;34m(\u001b[0m\u001b[0mkey\u001b[0m\u001b[0;34m,\u001b[0m \u001b[0mstr\u001b[0m\u001b[0;34m)\u001b[0m\u001b[0;34m:\u001b[0m\u001b[0;34m\u001b[0m\u001b[0;34m\u001b[0m\u001b[0m\n",
      "\u001b[0;32m/usr/local/anaconda3/lib/python3.8/site-packages/pandas/core/indexes/base.py\u001b[0m in \u001b[0;36m_convert_slice_indexer\u001b[0;34m(self, key, kind)\u001b[0m\n\u001b[1;32m   3355\u001b[0m             \u001b[0;32mif\u001b[0m \u001b[0mself\u001b[0m\u001b[0;34m.\u001b[0m\u001b[0mis_integer\u001b[0m\u001b[0;34m(\u001b[0m\u001b[0;34m)\u001b[0m \u001b[0;32mor\u001b[0m \u001b[0mis_index_slice\u001b[0m\u001b[0;34m:\u001b[0m\u001b[0;34m\u001b[0m\u001b[0;34m\u001b[0m\u001b[0m\n\u001b[1;32m   3356\u001b[0m                 \u001b[0mself\u001b[0m\u001b[0;34m.\u001b[0m\u001b[0m_validate_indexer\u001b[0m\u001b[0;34m(\u001b[0m\u001b[0;34m\"slice\"\u001b[0m\u001b[0;34m,\u001b[0m \u001b[0mkey\u001b[0m\u001b[0;34m.\u001b[0m\u001b[0mstart\u001b[0m\u001b[0;34m,\u001b[0m \u001b[0;34m\"getitem\"\u001b[0m\u001b[0;34m)\u001b[0m\u001b[0;34m\u001b[0m\u001b[0;34m\u001b[0m\u001b[0m\n\u001b[0;32m-> 3357\u001b[0;31m                 \u001b[0mself\u001b[0m\u001b[0;34m.\u001b[0m\u001b[0m_validate_indexer\u001b[0m\u001b[0;34m(\u001b[0m\u001b[0;34m\"slice\"\u001b[0m\u001b[0;34m,\u001b[0m \u001b[0mkey\u001b[0m\u001b[0;34m.\u001b[0m\u001b[0mstop\u001b[0m\u001b[0;34m,\u001b[0m \u001b[0;34m\"getitem\"\u001b[0m\u001b[0;34m)\u001b[0m\u001b[0;34m\u001b[0m\u001b[0;34m\u001b[0m\u001b[0m\n\u001b[0m\u001b[1;32m   3358\u001b[0m                 \u001b[0mself\u001b[0m\u001b[0;34m.\u001b[0m\u001b[0m_validate_indexer\u001b[0m\u001b[0;34m(\u001b[0m\u001b[0;34m\"slice\"\u001b[0m\u001b[0;34m,\u001b[0m \u001b[0mkey\u001b[0m\u001b[0;34m.\u001b[0m\u001b[0mstep\u001b[0m\u001b[0;34m,\u001b[0m \u001b[0;34m\"getitem\"\u001b[0m\u001b[0;34m)\u001b[0m\u001b[0;34m\u001b[0m\u001b[0;34m\u001b[0m\u001b[0m\n\u001b[1;32m   3359\u001b[0m                 \u001b[0;32mreturn\u001b[0m \u001b[0mkey\u001b[0m\u001b[0;34m\u001b[0m\u001b[0;34m\u001b[0m\u001b[0m\n",
      "\u001b[0;32m/usr/local/anaconda3/lib/python3.8/site-packages/pandas/core/indexes/base.py\u001b[0m in \u001b[0;36m_validate_indexer\u001b[0;34m(self, form, key, kind)\u001b[0m\n\u001b[1;32m   5307\u001b[0m             \u001b[0;32mpass\u001b[0m\u001b[0;34m\u001b[0m\u001b[0;34m\u001b[0m\u001b[0m\n\u001b[1;32m   5308\u001b[0m         \u001b[0;32melse\u001b[0m\u001b[0;34m:\u001b[0m\u001b[0;34m\u001b[0m\u001b[0;34m\u001b[0m\u001b[0m\n\u001b[0;32m-> 5309\u001b[0;31m             \u001b[0;32mraise\u001b[0m \u001b[0mself\u001b[0m\u001b[0;34m.\u001b[0m\u001b[0m_invalid_indexer\u001b[0m\u001b[0;34m(\u001b[0m\u001b[0mform\u001b[0m\u001b[0;34m,\u001b[0m \u001b[0mkey\u001b[0m\u001b[0;34m)\u001b[0m\u001b[0;34m\u001b[0m\u001b[0;34m\u001b[0m\u001b[0m\n\u001b[0m\u001b[1;32m   5310\u001b[0m \u001b[0;34m\u001b[0m\u001b[0m\n\u001b[1;32m   5311\u001b[0m     \u001b[0;32mdef\u001b[0m \u001b[0m_maybe_cast_slice_bound\u001b[0m\u001b[0;34m(\u001b[0m\u001b[0mself\u001b[0m\u001b[0;34m,\u001b[0m \u001b[0mlabel\u001b[0m\u001b[0;34m,\u001b[0m \u001b[0mside\u001b[0m\u001b[0;34m:\u001b[0m \u001b[0mstr_t\u001b[0m\u001b[0;34m,\u001b[0m \u001b[0mkind\u001b[0m\u001b[0;34m)\u001b[0m\u001b[0;34m:\u001b[0m\u001b[0;34m\u001b[0m\u001b[0;34m\u001b[0m\u001b[0m\n",
      "\u001b[0;31mTypeError\u001b[0m: cannot do slice indexing on Int64Index with these indexers [2001-08-13] of type str"
     ]
    }
   ],
   "source": [
    "# set train data up to 13Aug2001, day before Jeff Skilling resigns for personal reasons\n",
    "train = df[:'2001-08-13'] # includes 2016\n",
    "test = df['2001-08-14']\n",
    "\n",
    "plt.figure(figsize=(20,10))\n",
    "plt.plot(train.date, train.sentiment)\n",
    "plt.plot(test.date, test.sentiment)"
   ]
  },
  {
   "cell_type": "code",
   "execution_count": null,
   "id": "464f38e6",
   "metadata": {},
   "outputs": [],
   "source": [
    "train.index.min(), train.index.max()"
   ]
  },
  {
   "cell_type": "code",
   "execution_count": null,
   "id": "f2e5fc01",
   "metadata": {},
   "outputs": [],
   "source": [
    "train.shape"
   ]
  },
  {
   "cell_type": "code",
   "execution_count": null,
   "id": "4fbff78c",
   "metadata": {},
   "outputs": [],
   "source": [
    "train.head()"
   ]
  },
  {
   "cell_type": "code",
   "execution_count": null,
   "id": "22c811c3",
   "metadata": {},
   "outputs": [],
   "source": [
    "# train data for time series\n",
    "train_ts = train[['sentiment','sender','subject']]\n",
    "train_ts"
   ]
  },
  {
   "cell_type": "markdown",
   "id": "8a6eaee8",
   "metadata": {},
   "source": [
    "<hr style=\"border:2px solid blue\"> </hr>\n",
    "\n",
    "# <font color = 'blue'> Explore\n",
    "- ???"
   ]
  },
  {
   "cell_type": "markdown",
   "id": "e9990fcd",
   "metadata": {},
   "source": [
    "## Questions to Explore:\n",
    "\n",
    "- Question 1: How many messages were forwarded?\n",
    "- Question 2: Did certain individuals forward more messages than others?\n",
    "- Question 3: What messages were forwarded the most?\n",
    "- Question 4: Were there any trends in messages with blind carbon copy recipients?/with certain blind carbon copy recipients?\n",
    "- Question 5: Who were the top 5 / low 5 sentiment scores?\n",
    "- Question 6: What department had the lowest average sentiment score?"
   ]
  },
  {
   "cell_type": "code",
   "execution_count": null,
   "id": "c0106726",
   "metadata": {},
   "outputs": [],
   "source": []
  },
  {
   "cell_type": "code",
   "execution_count": null,
   "id": "85d7f1e7",
   "metadata": {},
   "outputs": [],
   "source": [
    "# Rolling Averages\n",
    "rolling_ts = ts.resample('W').mean().fillna(0).assign(\n",
    "    rolling_1w=lambda ts: ts.sentiment.rolling(1).mean().fillna(0),\n",
    "    rolling_4w=lambda ts: ts.sentiment.rolling(4).mean().fillna(0),\n",
    "    rolling_12w=lambda ts: ts.sentiment.rolling(12).mean().fillna(0),\n",
    ")\n",
    "rolling_ts.plot(figsize=(20,10))\n",
    "rolling_ts.head()"
   ]
  },
  {
   "cell_type": "code",
   "execution_count": null,
   "id": "6571fc1b",
   "metadata": {},
   "outputs": [],
   "source": [
    "# see distribution of target variable\n",
    "df.sentiment.plot.hist()"
   ]
  },
  {
   "cell_type": "code",
   "execution_count": null,
   "id": "6a504b09",
   "metadata": {},
   "outputs": [],
   "source": [
    "# see target variable over time\n",
    "df.sentiment.plot()"
   ]
  },
  {
   "cell_type": "code",
   "execution_count": null,
   "id": "80170665",
   "metadata": {},
   "outputs": [],
   "source": [
    "ax = y.groupby(y.index.month).mean().plot.bar(width=.9, ec='black')\n",
    "plt.xticks(rotation=0)\n",
    "ax.set(title='Average Temperature by Month', xlabel='Month', ylabel='Temp (F)')"
   ]
  },
  {
   "cell_type": "code",
   "execution_count": null,
   "id": "8b935d1c",
   "metadata": {},
   "outputs": [],
   "source": [
    "(\n",
    "    y.reset_index()\n",
    "    .assign(weekday=lambda df: df.datetime.dt.day_name())\n",
    "    .pipe((sns.boxplot, 'data'), y='temp', x='weekday')\n",
    ")\n"
   ]
  },
  {
   "cell_type": "code",
   "execution_count": null,
   "id": "7a6a4c80",
   "metadata": {},
   "outputs": [],
   "source": [
    "# Plot multiple resamples\n",
    "y.plot(alpha=.2, label='Hourly')\n",
    "y.resample('D').mean().plot(alpha=.5, label='Daily')\n",
    "y.resample('W').mean().plot(alpha=.8, label='Weekly')\n",
    "y.resample('M').mean().plot(label='Monthly')\n",
    "y.resample('Y').mean().plot(label='Yearly')\n",
    "plt.legend()"
   ]
  },
  {
   "cell_type": "code",
   "execution_count": null,
   "id": "97b58271",
   "metadata": {},
   "outputs": [],
   "source": [
    "<matplotlib.legend.Legend at 0x407de86280>"
   ]
  },
  {
   "cell_type": "code",
   "execution_count": null,
   "id": "79bf324b",
   "metadata": {},
   "outputs": [],
   "source": [
    "# Plot rolling averages\n",
    "y.plot(alpha=.2, label='Hourly')\n",
    "y.resample('D').mean().rolling(3).mean().plot(alpha=.5, label='3 day')\n",
    "y.resample('D').mean().rolling(7).mean().plot(alpha=.8, label='1 week')\n",
    "plt.legend()"
   ]
  },
  {
   "cell_type": "code",
   "execution_count": null,
   "id": "34eebcd8",
   "metadata": {},
   "outputs": [],
   "source": [
    "<matplotlib.legend.Legend at 0x407e8ae100>"
   ]
  },
  {
   "cell_type": "code",
   "execution_count": null,
   "id": "e3c82a8c",
   "metadata": {},
   "outputs": [],
   "source": [
    "# Plot Change over time\n",
    "y.resample('W').mean().diff().plot(title='Average week-to-week change in temperature')"
   ]
  },
  {
   "cell_type": "code",
   "execution_count": null,
   "id": "21b940b7",
   "metadata": {},
   "outputs": [],
   "source": [
    "<AxesSubplot:title={'center':'Average week-to-week change in temperature'}, xlabel='datetime'>"
   ]
  },
  {
   "cell_type": "code",
   "execution_count": null,
   "id": "a5e708a8",
   "metadata": {},
   "outputs": [],
   "source": [
    "# Plot seasonality. unstack turns an index level into columns\n",
    "y.groupby([y.index.year, y.index.month]).mean().unstack(0).plot(title='Seasonal Plot')"
   ]
  },
  {
   "cell_type": "code",
   "execution_count": null,
   "id": "dacc3a3b",
   "metadata": {},
   "outputs": [],
   "source": [
    "<AxesSubplot:title={'center':'Seasonal Plot'}, xlabel='datetime'>"
   ]
  },
  {
   "cell_type": "code",
   "execution_count": null,
   "id": "66ca1bc1",
   "metadata": {},
   "outputs": [],
   "source": [
    "# Seasonal Decomposition\n",
    "y = train.temp.resample('W').mean()\n",
    "\n",
    "result = sm.tsa.seasonal_decompose(y)\n",
    "decomposition = pd.DataFrame({\n",
    "    'y': result.observed,\n",
    "    'trend': result.trend,\n",
    "    'seasonal': result.seasonal,\n",
    "    'resid': result.resid,\n",
    "})\n",
    "decomposition.head()\n"
   ]
  },
  {
   "cell_type": "code",
   "execution_count": null,
   "id": "34f3d1ea",
   "metadata": {},
   "outputs": [],
   "source": [
    "decomposition.iloc[:, 1:].plot()\n"
   ]
  },
  {
   "cell_type": "code",
   "execution_count": null,
   "id": "6749aa97",
   "metadata": {},
   "outputs": [],
   "source": [
    "<AxesSubplot:xlabel='datetime'>\n"
   ]
  },
  {
   "cell_type": "code",
   "execution_count": null,
   "id": "c9d94c96",
   "metadata": {},
   "outputs": [],
   "source": [
    "# the value returned from seasonal_decompose can itself be plotted:\n",
    "result.plot()\n",
    "None\n"
   ]
  },
  {
   "cell_type": "code",
   "execution_count": null,
   "id": "d1f13b3d",
   "metadata": {},
   "outputs": [],
   "source": [
    "# Plot categories over time\n",
    "train = train.resample('D').mean()\n",
    "# create a categorical feature\n",
    "train['temp_bin'] = pd.qcut(train.temp, 4, labels=['cold', 'cool', 'warm', 'hot'])\n",
    "train.groupby('temp_bin').mean()\n"
   ]
  },
  {
   "cell_type": "code",
   "execution_count": null,
   "id": "a620b739",
   "metadata": {},
   "outputs": [],
   "source": [
    "# Work Around for order by Months\n",
    "ax = y.groupby(y.index.strftime('%m-%b')).mean().plot.bar()\n",
    "ax.set_xticklabels([t.get_text()[3:] for t in ax.get_xticklabels()], rotation=0)\n",
    "None\n"
   ]
  },
  {
   "cell_type": "markdown",
   "id": "ebb940f1",
   "metadata": {},
   "source": [
    "## Visualizations and Statistical Testing\n",
    "- For the statistical testing done on questions 3 and 4 the significance level equals 0.05."
   ]
  },
  {
   "cell_type": "markdown",
   "id": "fd116dcd",
   "metadata": {},
   "source": [
    "## Exploration Summary:\n",
    "- ???"
   ]
  },
  {
   "cell_type": "markdown",
   "id": "2c072036",
   "metadata": {},
   "source": [
    "<hr style=\"border:2px solid blue\"> </hr>\n",
    "\n",
    "# <font color = 'blue'> Model\n",
    "\n",
    "- ???"
   ]
  },
  {
   "cell_type": "markdown",
   "id": "54c3c5f0",
   "metadata": {},
   "source": [
    "## Pre-Process"
   ]
  },
  {
   "cell_type": "markdown",
   "id": "e3b6ffe9",
   "metadata": {},
   "source": [
    "### TD_IDF"
   ]
  },
  {
   "cell_type": "code",
   "execution_count": null,
   "id": "cbc9d0fc",
   "metadata": {},
   "outputs": [],
   "source": [
    "# from sklearn.feature_extraction.text import TfidfVectorizer\n",
    "\n",
    "# tfidf = TfidfVectorizer()\n",
    "# tfidfs = tfidf.fit_transform(df.values())\n",
    "# tfidfs"
   ]
  },
  {
   "cell_type": "code",
   "execution_count": null,
   "id": "bb330467",
   "metadata": {},
   "outputs": [],
   "source": [
    "# pd.DataFrame(tfidfs.todense(), columns=tfidf.get_feature_names())"
   ]
  },
  {
   "cell_type": "markdown",
   "id": "ef40be64",
   "metadata": {},
   "source": [
    "## Model"
   ]
  },
  {
   "cell_type": "code",
   "execution_count": null,
   "id": "28437c29",
   "metadata": {},
   "outputs": [],
   "source": []
  },
  {
   "cell_type": "markdown",
   "id": "51dc0381",
   "metadata": {},
   "source": [
    "### Prep for Prophet"
   ]
  },
  {
   "cell_type": "code",
   "execution_count": null,
   "id": "cfce91c8",
   "metadata": {},
   "outputs": [],
   "source": [
    "# see train_ts\n",
    "train_ts.head()"
   ]
  },
  {
   "cell_type": "code",
   "execution_count": null,
   "id": "1649c2fc",
   "metadata": {},
   "outputs": [],
   "source": [
    "# filter train_ts to include only sentiment for modeling\n",
    "train_tss = train_ts[['sentiment']]\n",
    "train_tss.head()"
   ]
  },
  {
   "cell_type": "code",
   "execution_count": null,
   "id": "29f67e9a",
   "metadata": {},
   "outputs": [],
   "source": [
    "# train_tss_4wr\n",
    "train_tssr1d = train_tss.resample('D').mean().fillna(0)\n",
    "train_tssr1d.head()"
   ]
  },
  {
   "cell_type": "code",
   "execution_count": null,
   "id": "60b4dc74",
   "metadata": {},
   "outputs": [],
   "source": [
    "train_tssr1d.index.dtype"
   ]
  },
  {
   "cell_type": "code",
   "execution_count": null,
   "id": "f312238f",
   "metadata": {},
   "outputs": [],
   "source": [
    "# remove timezone for ds column\n",
    "train_tssr1d = train_tssr1d.tz_convert(None)\n",
    "train_tssr1d.index.dtype"
   ]
  },
  {
   "cell_type": "code",
   "execution_count": null,
   "id": "7e900cf5",
   "metadata": {},
   "outputs": [],
   "source": [
    "train_tssr1d.head()"
   ]
  },
  {
   "cell_type": "code",
   "execution_count": null,
   "id": "7f9c8f7d",
   "metadata": {},
   "outputs": [],
   "source": [
    "train_tssrr1d = train_tssr1d.rolling(30).mean().fillna(0).reset_index().rename(columns={'date':'ds','sentiment':'y'})\n",
    "train_tssrr1d.head()"
   ]
  },
  {
   "cell_type": "code",
   "execution_count": null,
   "id": "5a77bc00",
   "metadata": {},
   "outputs": [],
   "source": [
    "train_tssrr1d.info()"
   ]
  },
  {
   "cell_type": "markdown",
   "id": "08054064",
   "metadata": {},
   "source": [
    "### Facebook Prophet"
   ]
  },
  {
   "cell_type": "code",
   "execution_count": null,
   "id": "cb874ee1",
   "metadata": {},
   "outputs": [],
   "source": [
    "from prophet import Prophet\n",
    "\n",
    "# create prophet object\n",
    "m = Prophet()\n",
    "\n",
    "# fit prophet object to df with datetime and continuous value\n",
    "m.fit(train_tssrr1d)"
   ]
  },
  {
   "cell_type": "code",
   "execution_count": null,
   "id": "430fea17",
   "metadata": {},
   "outputs": [],
   "source": [
    "# create a fit dataframe that include 365 days into the future. this will be used to make a prediction\n",
    "future = m.make_future_dataframe(periods=365)\n",
    "future.tail()"
   ]
  },
  {
   "cell_type": "code",
   "execution_count": null,
   "id": "8843b914",
   "metadata": {},
   "outputs": [],
   "source": [
    "fcst = m.predict(future)\n",
    "fcst[['ds','yhat','yhat_lower','yhat_upper']].tail()"
   ]
  },
  {
   "cell_type": "code",
   "execution_count": null,
   "id": "d539072d",
   "metadata": {},
   "outputs": [],
   "source": [
    "fcst.head()"
   ]
  },
  {
   "cell_type": "code",
   "execution_count": null,
   "id": "b3cb3c86",
   "metadata": {},
   "outputs": [],
   "source": [
    "viz_1 = Prophet.plot(m, fcst)\n",
    "viz_1"
   ]
  },
  {
   "cell_type": "code",
   "execution_count": null,
   "id": "f8385ee0",
   "metadata": {},
   "outputs": [],
   "source": [
    "# Plot forecast components like trend, yearly seasonality, and weekly seasonality of the time series\n",
    "viz_2 = m.plot_components(fcst)"
   ]
  },
  {
   "cell_type": "code",
   "execution_count": null,
   "id": "804cec58",
   "metadata": {},
   "outputs": [],
   "source": [
    "from prophet.plot import plot_plotly, plot_components_plotly\n",
    "\n",
    "import plotly.graph_objs as go\n",
    "from plotly.subplots import make_subplots\n",
    "\n",
    "import plotly.offline as py\n",
    "py.init_notebook_mode()"
   ]
  },
  {
   "cell_type": "code",
   "execution_count": null,
   "id": "cca56695",
   "metadata": {},
   "outputs": [],
   "source": [
    "plot_components_plotly(m, fcst)"
   ]
  },
  {
   "cell_type": "markdown",
   "id": "385f7d69",
   "metadata": {},
   "source": [
    "## Baseline"
   ]
  },
  {
   "cell_type": "markdown",
   "id": "a83c4cff",
   "metadata": {},
   "source": [
    "## Model 1: "
   ]
  },
  {
   "cell_type": "markdown",
   "id": "dd969147",
   "metadata": {},
   "source": [
    "## Model 2: "
   ]
  },
  {
   "cell_type": "markdown",
   "id": "810bd02f",
   "metadata": {},
   "source": [
    "## Model 3: "
   ]
  },
  {
   "cell_type": "markdown",
   "id": "39d6833e",
   "metadata": {},
   "source": [
    "## Evaluation"
   ]
  },
  {
   "cell_type": "markdown",
   "id": "4dca5b2e",
   "metadata": {},
   "source": [
    "<hr style=\"border:2px solid blue\"> </hr>\n",
    "\n",
    "# <font color = 'blue'> Conclusion </br>\n",
    "## Summary:\n",
    "- ???\n",
    "\n",
    "## Recommendation:\n",
    "- ???\n",
    "\n",
    "## Next Steps:\n",
    "- ???"
   ]
  },
  {
   "cell_type": "markdown",
   "id": "d256c9f6",
   "metadata": {},
   "source": [
    "## Load Pickle"
   ]
  },
  {
   "cell_type": "code",
   "execution_count": null,
   "id": "28fb063f",
   "metadata": {},
   "outputs": [],
   "source": []
  },
  {
   "cell_type": "code",
   "execution_count": null,
   "id": "1a595d03",
   "metadata": {},
   "outputs": [],
   "source": [
    "import pickle\n",
    "pickle_file = open(\"eron_data\", \"rb\")\n",
    "objects = []\n",
    "while True:\n",
    "    try:\n",
    "        objects.append(pickle.load(pickle_file))\n",
    "    except EOFError:\n",
    "        break\n",
    "pickle_file.close()\n",
    "\n",
    "print(objects)"
   ]
  },
  {
   "cell_type": "code",
   "execution_count": null,
   "id": "c18211e3",
   "metadata": {},
   "outputs": [],
   "source": []
  },
  {
   "cell_type": "code",
   "execution_count": null,
   "id": "69e291f9",
   "metadata": {},
   "outputs": [],
   "source": []
  },
  {
   "cell_type": "code",
   "execution_count": null,
   "id": "0108c637",
   "metadata": {},
   "outputs": [],
   "source": []
  }
 ],
 "metadata": {
  "kernelspec": {
   "display_name": "Python 3",
   "language": "python",
   "name": "python3"
  },
  "language_info": {
   "codemirror_mode": {
    "name": "ipython",
    "version": 3
   },
   "file_extension": ".py",
   "mimetype": "text/x-python",
   "name": "python",
   "nbconvert_exporter": "python",
   "pygments_lexer": "ipython3",
   "version": "3.8.8"
  }
 },
 "nbformat": 4,
 "nbformat_minor": 5
}
