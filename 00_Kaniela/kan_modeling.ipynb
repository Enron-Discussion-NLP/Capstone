{
 "cells": [
  {
   "cell_type": "markdown",
   "id": "d924a982",
   "metadata": {},
   "source": [
    "# Modeling"
   ]
  },
  {
   "cell_type": "markdown",
   "id": "50e22b29",
   "metadata": {},
   "source": [
    "source: https://maartengr.github.io/BERTopic/faq.html"
   ]
  },
  {
   "cell_type": "code",
   "execution_count": null,
   "id": "2c018cd9",
   "metadata": {},
   "outputs": [],
   "source": [
    "from copy import deepcopy\n",
    "from bertopic import BERTopic\n",
    "\n",
    "\n"
   ]
  },
  {
   "cell_type": "code",
   "execution_count": null,
   "id": "1b7f87c1",
   "metadata": {},
   "outputs": [],
   "source": []
  },
  {
   "cell_type": "code",
   "execution_count": null,
   "id": "add31e7e",
   "metadata": {},
   "outputs": [],
   "source": [
    "model = BERTopic(language = 'english')"
   ]
  },
  {
   "cell_type": "code",
   "execution_count": null,
   "id": "6d1eb6f7",
   "metadata": {},
   "outputs": [],
   "source": [
    "def get_poi_emails(df, f_name, l_name):\n",
    "    '''\n",
    "    This function takes in a df, alond with string for first and last names and returns \n",
    "    a list of each email from the sender col that contains both the first and last name\n",
    "    string. Names with common nicknames should be abbrev (ex: Kenneth --> Ken, Daniel --> Dan)\n",
    "    '''\n",
    "    \n",
    "    email_list = df[(df.sender.str.contains(f_name)) & (df.sender.str.contains(l_name))]\\\n",
    "            .sender.value_counts()\\\n",
    "            .index\\\n",
    "            .to_list() \n",
    "    \n",
    "    return email_list"
   ]
  }
 ],
 "metadata": {
  "kernelspec": {
   "display_name": "Python 3",
   "language": "python",
   "name": "python3"
  },
  "language_info": {
   "codemirror_mode": {
    "name": "ipython",
    "version": 3
   },
   "file_extension": ".py",
   "mimetype": "text/x-python",
   "name": "python",
   "nbconvert_exporter": "python",
   "pygments_lexer": "ipython3",
   "version": "3.8.8"
  }
 },
 "nbformat": 4,
 "nbformat_minor": 5
}
