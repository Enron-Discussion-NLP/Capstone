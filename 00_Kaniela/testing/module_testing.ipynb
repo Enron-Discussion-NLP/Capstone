{
 "cells": [
  {
   "cell_type": "markdown",
   "id": "07722155",
   "metadata": {},
   "source": [
    "# Module Testing"
   ]
  },
  {
   "cell_type": "code",
   "execution_count": 3,
   "id": "d0e91f62",
   "metadata": {},
   "outputs": [],
   "source": [
    "import pandas as pd\n",
    "import numpy as np\n",
    "import wrangle_pj\n",
    "import explore_def\n",
    "import explore_def"
   ]
  },
  {
   "cell_type": "code",
   "execution_count": 4,
   "id": "f2da3d3e",
   "metadata": {},
   "outputs": [
    {
     "data": {
      "text/html": [
       "<div>\n",
       "<style scoped>\n",
       "    .dataframe tbody tr th:only-of-type {\n",
       "        vertical-align: middle;\n",
       "    }\n",
       "\n",
       "    .dataframe tbody tr th {\n",
       "        vertical-align: top;\n",
       "    }\n",
       "\n",
       "    .dataframe thead th {\n",
       "        text-align: right;\n",
       "    }\n",
       "</style>\n",
       "<table border=\"1\" class=\"dataframe\">\n",
       "  <thead>\n",
       "    <tr style=\"text-align: right;\">\n",
       "      <th></th>\n",
       "      <th>file</th>\n",
       "      <th>subject</th>\n",
       "      <th>sender</th>\n",
       "      <th>date</th>\n",
       "      <th>content</th>\n",
       "    </tr>\n",
       "  </thead>\n",
       "  <tbody>\n",
       "    <tr>\n",
       "      <th>0</th>\n",
       "      <td>allen-p/_sent_mail/1.</td>\n",
       "      <td></td>\n",
       "      <td>phillip.allen@enron.com</td>\n",
       "      <td>Mon, 14 May 2001 16:39:00 -0700 (PDT)</td>\n",
       "      <td>Here is our forecast\\n\\n</td>\n",
       "    </tr>\n",
       "  </tbody>\n",
       "</table>\n",
       "</div>"
      ],
      "text/plain": [
       "                    file subject                   sender  \\\n",
       "0  allen-p/_sent_mail/1.          phillip.allen@enron.com   \n",
       "\n",
       "                                    date                    content  \n",
       "0  Mon, 14 May 2001 16:39:00 -0700 (PDT)  Here is our forecast\\n\\n   "
      ]
     },
     "execution_count": 4,
     "metadata": {},
     "output_type": "execute_result"
    }
   ],
   "source": [
    "df = wrangle_pj.acquire_emails()\n",
    "df.head(1)"
   ]
  },
  {
   "cell_type": "code",
   "execution_count": null,
   "id": "c86d849f",
   "metadata": {},
   "outputs": [],
   "source": [
    "df = wrangle_pj.clean_emails(df, column='content')\n",
    "df.head(1)"
   ]
  },
  {
   "cell_type": "code",
   "execution_count": null,
   "id": "ee30c605",
   "metadata": {},
   "outputs": [],
   "source": [
    "polarity, subjectivity = wrangle_pj.sentiment_scores(string)"
   ]
  }
 ],
 "metadata": {
  "kernelspec": {
   "display_name": "Python 3",
   "language": "python",
   "name": "python3"
  },
  "language_info": {
   "codemirror_mode": {
    "name": "ipython",
    "version": 3
   },
   "file_extension": ".py",
   "mimetype": "text/x-python",
   "name": "python",
   "nbconvert_exporter": "python",
   "pygments_lexer": "ipython3",
   "version": "3.8.8"
  }
 },
 "nbformat": 4,
 "nbformat_minor": 5
}
