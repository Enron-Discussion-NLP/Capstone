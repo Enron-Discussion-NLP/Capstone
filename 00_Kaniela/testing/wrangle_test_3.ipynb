{
 "cells": [
  {
   "cell_type": "markdown",
   "id": "8335bfda",
   "metadata": {},
   "source": [
    "# Wrangle Test 3\n",
    "- run create_dataframe_wrangle complete"
   ]
  },
  {
   "cell_type": "code",
   "execution_count": 1,
   "id": "ffb92162",
   "metadata": {},
   "outputs": [],
   "source": [
    "import pandas as pd\n",
    "import numpy as np\n",
    "import wrangle_pj"
   ]
  },
  {
   "cell_type": "code",
   "execution_count": null,
   "id": "483fd1b8",
   "metadata": {},
   "outputs": [],
   "source": [
    "df = pd.read_csv('df_clean_emails.csv')\n",
    "df.head(1)"
   ]
  },
  {
   "cell_type": "code",
   "execution_count": null,
   "id": "cf497cd6",
   "metadata": {},
   "outputs": [],
   "source": [
    "df.isna().sum()"
   ]
  },
  {
   "cell_type": "code",
   "execution_count": null,
   "id": "bbf9d2b7",
   "metadata": {},
   "outputs": [],
   "source": [
    "df = df.fillna('')"
   ]
  },
  {
   "cell_type": "code",
   "execution_count": null,
   "id": "dc24609c",
   "metadata": {},
   "outputs": [],
   "source": [
    "df.isna().sum()"
   ]
  },
  {
   "cell_type": "code",
   "execution_count": null,
   "id": "648f1314",
   "metadata": {},
   "outputs": [],
   "source": [
    "df = wrangle_pj.create_scores(df)\n",
    "df.head(1)"
   ]
  },
  {
   "cell_type": "markdown",
   "id": "dcf05ae9",
   "metadata": {},
   "source": [
    "### create_scores ran clean\n",
    "\n",
    "## Test dataframe_wrangle"
   ]
  },
  {
   "cell_type": "code",
   "execution_count": 2,
   "id": "cfd30361",
   "metadata": {},
   "outputs": [
    {
     "name": "stdout",
     "output_type": "stream",
     "text": [
      "acquire_emails done\n",
      "clean_emails done\n",
      "create_scores done\n",
      "created poi column\n",
      "created internal column\n",
      "create_topic is done\n",
      "create_time_series_df is done\n",
      "time_series_df_final is done\n"
     ]
    },
    {
     "data": {
      "text/html": [
       "<div>\n",
       "<style scoped>\n",
       "    .dataframe tbody tr th:only-of-type {\n",
       "        vertical-align: middle;\n",
       "    }\n",
       "\n",
       "    .dataframe tbody tr th {\n",
       "        vertical-align: top;\n",
       "    }\n",
       "\n",
       "    .dataframe thead th {\n",
       "        text-align: right;\n",
       "    }\n",
       "</style>\n",
       "<table border=\"1\" class=\"dataframe\">\n",
       "  <thead>\n",
       "    <tr style=\"text-align: right;\">\n",
       "      <th></th>\n",
       "      <th>lemmatize</th>\n",
       "      <th>intensity</th>\n",
       "      <th>polarity</th>\n",
       "      <th>subjectivity</th>\n",
       "      <th>is_poi</th>\n",
       "      <th>is_internal</th>\n",
       "      <th>year</th>\n",
       "      <th>month</th>\n",
       "    </tr>\n",
       "    <tr>\n",
       "      <th>date</th>\n",
       "      <th></th>\n",
       "      <th></th>\n",
       "      <th></th>\n",
       "      <th></th>\n",
       "      <th></th>\n",
       "      <th></th>\n",
       "      <th></th>\n",
       "      <th></th>\n",
       "    </tr>\n",
       "  </thead>\n",
       "  <tbody>\n",
       "    <tr>\n",
       "      <th>1999-01-04 10:21:00+00:00</th>\n",
       "      <td>strike price election notice letter drafted or...</td>\n",
       "      <td>0.2023</td>\n",
       "      <td>0.0</td>\n",
       "      <td>0.0</td>\n",
       "      <td>False</td>\n",
       "      <td>True</td>\n",
       "      <td>1999</td>\n",
       "      <td>1</td>\n",
       "    </tr>\n",
       "  </tbody>\n",
       "</table>\n",
       "</div>"
      ],
      "text/plain": [
       "                                                                   lemmatize  \\\n",
       "date                                                                           \n",
       "1999-01-04 10:21:00+00:00  strike price election notice letter drafted or...   \n",
       "\n",
       "                           intensity  polarity  subjectivity  is_poi  \\\n",
       "date                                                                   \n",
       "1999-01-04 10:21:00+00:00     0.2023       0.0           0.0   False   \n",
       "\n",
       "                           is_internal  year  month  \n",
       "date                                                 \n",
       "1999-01-04 10:21:00+00:00         True  1999      1  "
      ]
     },
     "execution_count": 2,
     "metadata": {},
     "output_type": "execute_result"
    }
   ],
   "source": [
    "df, time_series_df = wrangle_pj.create_dataframes_wrangle()\n",
    "time_series_df.head(1)"
   ]
  },
  {
   "cell_type": "code",
   "execution_count": 3,
   "id": "9108d475",
   "metadata": {},
   "outputs": [],
   "source": [
    "df = time_series_df"
   ]
  },
  {
   "cell_type": "code",
   "execution_count": null,
   "id": "c22acd4d",
   "metadata": {},
   "outputs": [],
   "source": [
    "topics, probs, topic_model, topics_df, docs_df, topics_scores, emails_lemm = wrangle_pj.create_topic_scores(df)"
   ]
  },
  {
   "cell_type": "code",
   "execution_count": null,
   "id": "cedeaf83",
   "metadata": {},
   "outputs": [],
   "source": [
    "pd.Timestamp.now()"
   ]
  },
  {
   "cell_type": "markdown",
   "id": "bdf8a665",
   "metadata": {},
   "source": [
    "# Notes:\n",
    "- Testing Function create_topic_df to include acquire_emails and clean_emails\n",
    "    - uncomment acquire emails\n",
    "    - uncommented clean_emails\n",
    "    - removed column arguement fromm create_scores. \n",
    "- Create_scores:\n",
    "    - column arguement was made for lemmatize error. Removed it and changed column to lemmatize\n",
    "    - changed add_scores arguement of columnt to 'lemmatize'\n",
    "- read in clean_emails df to test functions\n",
    "- Set print statment in fucntions: create_dataframe_wrangle, create_topic, \n",
    "- timer_series_df: \n",
    "    - removed lemmatize from drop_column so I can use it for topic modeling\n",
    "- dataframe_wrangle function timeline\n",
    "    - acquire_emails: done at 19 mins\n",
    "    - clean_emails: done at 26 mins\n",
    "    - create_scores: done at 44 mins\n",
    "    - create_poi_column: done at 44 mins\n",
    "    - create_internal_column: 46\n",
    "    - create_topic: 46\n",
    "    - create_time_series_df: 46\n",
    "    - create_time_series_final: 47\n",
    "    - time left apt: 0632\n",
    "    - create_topic_scores: \n",
    "\n",
    "    "
   ]
  }
 ],
 "metadata": {
  "kernelspec": {
   "display_name": "Python 3",
   "language": "python",
   "name": "python3"
  },
  "language_info": {
   "codemirror_mode": {
    "name": "ipython",
    "version": 3
   },
   "file_extension": ".py",
   "mimetype": "text/x-python",
   "name": "python",
   "nbconvert_exporter": "python",
   "pygments_lexer": "ipython3",
   "version": "3.8.8"
  }
 },
 "nbformat": 4,
 "nbformat_minor": 5
}
