{
 "cells": [
  {
   "cell_type": "markdown",
   "id": "28773fc6",
   "metadata": {},
   "source": [
    "# Wrangle Test 2"
   ]
  },
  {
   "cell_type": "code",
   "execution_count": 1,
   "id": "416ff1d3",
   "metadata": {},
   "outputs": [],
   "source": [
    "import pandas as pd\n",
    "import numpy as np\n",
    "import wrangle_pj"
   ]
  },
  {
   "cell_type": "markdown",
   "id": "6ca67d9d",
   "metadata": {},
   "source": [
    "## Acquire Emails"
   ]
  },
  {
   "cell_type": "code",
   "execution_count": null,
   "id": "5c3d6133",
   "metadata": {},
   "outputs": [],
   "source": [
    "df = wrangle_pj.acquire_emails()\n",
    "df.head(1)"
   ]
  },
  {
   "cell_type": "markdown",
   "id": "d7a16246",
   "metadata": {},
   "source": [
    "## Clean Emails"
   ]
  },
  {
   "cell_type": "code",
   "execution_count": null,
   "id": "f32306f5",
   "metadata": {},
   "outputs": [],
   "source": [
    "df = wrangle_pj.clean_emails(df, column='content')\n",
    "df.head(1)"
   ]
  },
  {
   "cell_type": "markdown",
   "id": "25e67b76",
   "metadata": {},
   "source": [
    "## Create Topic"
   ]
  },
  {
   "cell_type": "code",
   "execution_count": null,
   "id": "2142be9e",
   "metadata": {},
   "outputs": [],
   "source": [
    "df = wrangle_pj.create_topic_df(df, column='lemmatize')\n",
    "df.head(1)"
   ]
  },
  {
   "cell_type": "markdown",
   "id": "42339a86",
   "metadata": {},
   "source": [
    "## Create Dataframe Wrangle"
   ]
  },
  {
   "cell_type": "code",
   "execution_count": null,
   "id": "57e64240",
   "metadata": {},
   "outputs": [],
   "source": [
    "df, time_series_df = wrangle_pj.create_dataframes_wrangle(df)\n",
    "time_series_df.head(1)"
   ]
  },
  {
   "cell_type": "markdown",
   "id": "c838aab3",
   "metadata": {},
   "source": [
    "## Make Time_Series_DF to DF"
   ]
  },
  {
   "cell_type": "code",
   "execution_count": null,
   "id": "82481196",
   "metadata": {},
   "outputs": [],
   "source": [
    "# change back to df for further processing\n",
    "df = time_series_df\n",
    "df.head(1)"
   ]
  },
  {
   "cell_type": "markdown",
   "id": "a9cfaa98",
   "metadata": {},
   "source": [
    "## Create Subgroups poi_2000 and poi_2001"
   ]
  },
  {
   "cell_type": "code",
   "execution_count": null,
   "id": "65d6e266",
   "metadata": {},
   "outputs": [],
   "source": [
    "poi_2000 = df[(df.index.year==2000) & (df.is_poi==True) & (df.is_internal==True)]\n",
    "poi_2001 = df[(df.index.year==2001)& (df.is_poi==True) & (df.is_internal==True)]"
   ]
  },
  {
   "cell_type": "code",
   "execution_count": null,
   "id": "4f443e96",
   "metadata": {},
   "outputs": [],
   "source": [
    "poi_2000.head(1)"
   ]
  },
  {
   "cell_type": "code",
   "execution_count": null,
   "id": "1a652223",
   "metadata": {},
   "outputs": [],
   "source": [
    "poi_2001.head(1)"
   ]
  },
  {
   "cell_type": "markdown",
   "id": "25275d68",
   "metadata": {},
   "source": [
    "## Create Topic Scores for poi_2000"
   ]
  },
  {
   "cell_type": "code",
   "execution_count": null,
   "id": "c97bda1f",
   "metadata": {},
   "outputs": [],
   "source": [
    "topics, probs, topic_model, topics_df, docs_df, topics_scores, emails_lemm = wrangle_pj.create_topic_scores(df = poi_2000)\n",
    "topics_scores"
   ]
  },
  {
   "cell_type": "code",
   "execution_count": null,
   "id": "8baaf212",
   "metadata": {},
   "outputs": [],
   "source": [
    "topic_model.visualize_hierarchy()\n",
    "topic_model.visualize_barchart()"
   ]
  },
  {
   "cell_type": "markdown",
   "id": "2eace050",
   "metadata": {},
   "source": [
    "## Reduced Topic Scores for poi_2000"
   ]
  },
  {
   "cell_type": "code",
   "execution_count": null,
   "id": "fcd41383",
   "metadata": {},
   "outputs": [],
   "source": [
    "topic_model, topics_df, docs_df, topics_scores = wrangle_pj.create_topic_scores_reduced(emails_lemm, topics, topic_model, i=18)"
   ]
  },
  {
   "cell_type": "code",
   "execution_count": null,
   "id": "d4c5d6ad",
   "metadata": {},
   "outputs": [],
   "source": [
    "topic_model.visualize_hierarchy()\n",
    "topic_model.visualize_barchart()"
   ]
  },
  {
   "cell_type": "markdown",
   "id": "926e16ca",
   "metadata": {},
   "source": [
    "## Create Topic Scores for poi_2001"
   ]
  },
  {
   "cell_type": "code",
   "execution_count": null,
   "id": "7cd2ea24",
   "metadata": {},
   "outputs": [],
   "source": [
    "topics, probs, topic_model, topics_df, docs_df, topics_scores, emails_lemm = wrangle_pj.create_topic_scores(df = poi_2001)\n",
    "topics_scores"
   ]
  },
  {
   "cell_type": "code",
   "execution_count": null,
   "id": "fcb8da5e",
   "metadata": {},
   "outputs": [],
   "source": [
    "topic_model.visualize_hierarchy()\n",
    "topic_model.visualize_barchart()"
   ]
  },
  {
   "cell_type": "markdown",
   "id": "c73d28a5",
   "metadata": {},
   "source": [
    "## Reduced Topic Scores for poi_2001"
   ]
  },
  {
   "cell_type": "code",
   "execution_count": null,
   "id": "3fca4996",
   "metadata": {},
   "outputs": [],
   "source": [
    "topic_model, topics_df, docs_df, topics_scores = wrangle_pj.create_topic_scores_reduced(emails_lemm, topics, topic_model, i=8)"
   ]
  },
  {
   "cell_type": "code",
   "execution_count": null,
   "id": "42bd471b",
   "metadata": {},
   "outputs": [],
   "source": [
    "topic_model.visualize_hierarchy()\n",
    "topic_model.visualize_barchart()"
   ]
  }
 ],
 "metadata": {
  "kernelspec": {
   "display_name": "Python 3",
   "language": "python",
   "name": "python3"
  },
  "language_info": {
   "codemirror_mode": {
    "name": "ipython",
    "version": 3
   },
   "file_extension": ".py",
   "mimetype": "text/x-python",
   "name": "python",
   "nbconvert_exporter": "python",
   "pygments_lexer": "ipython3",
   "version": "3.8.8"
  }
 },
 "nbformat": 4,
 "nbformat_minor": 5
}
