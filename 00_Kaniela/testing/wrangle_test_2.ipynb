{
 "cells": [
  {
   "cell_type": "markdown",
   "id": "eabf86b9",
   "metadata": {},
   "source": [
    "# Wrangle Test 2"
   ]
  },
  {
   "cell_type": "code",
   "execution_count": null,
   "id": "7aab305a",
   "metadata": {},
   "outputs": [],
   "source": [
    "import pandas as pd\n",
    "import numpy as np\n",
    "import wrangle_pj"
   ]
  },
  {
   "cell_type": "markdown",
   "id": "c58247dd",
   "metadata": {},
   "source": [
    "## Acquire Emails"
   ]
  },
  {
   "cell_type": "code",
   "execution_count": null,
   "id": "25d801a4",
   "metadata": {},
   "outputs": [],
   "source": [
    "df = wrangle_pj.acquire_emails()\n",
    "df.head(1)"
   ]
  },
  {
   "cell_type": "markdown",
   "id": "f690ff25",
   "metadata": {},
   "source": [
    "## Clean Emails"
   ]
  },
  {
   "cell_type": "code",
   "execution_count": null,
   "id": "19330355",
   "metadata": {},
   "outputs": [],
   "source": [
    "df = wrangle_pj.clean_emails(df, column='content')\n",
    "df.head(1)"
   ]
  },
  {
   "cell_type": "markdown",
   "id": "136fb2fd",
   "metadata": {},
   "source": [
    "## Create Topic"
   ]
  },
  {
   "cell_type": "code",
   "execution_count": null,
   "id": "fa9af6d7",
   "metadata": {},
   "outputs": [],
   "source": [
    "df = wrangle_pj.create_topic_df(df)\n",
    "df.head(1)"
   ]
  },
  {
   "cell_type": "markdown",
   "id": "43ff84f1",
   "metadata": {},
   "source": [
    "## Create Dataframe Wrangle"
   ]
  },
  {
   "cell_type": "code",
   "execution_count": null,
   "id": "568440ca",
   "metadata": {},
   "outputs": [],
   "source": [
    "df, time_series_df = wrangle_pj.create_dataframes_wrangle(df)\n",
    "time_series_df.head(1)"
   ]
  },
  {
   "cell_type": "markdown",
   "id": "39cb2b0a",
   "metadata": {},
   "source": [
    "## Make Time_Series_DF to DF"
   ]
  },
  {
   "cell_type": "code",
   "execution_count": null,
   "id": "7c66a7a6",
   "metadata": {},
   "outputs": [],
   "source": [
    "# change back to df for further processing\n",
    "df = time_series_df\n",
    "df.head(1)"
   ]
  },
  {
   "cell_type": "markdown",
   "id": "2eefbc26",
   "metadata": {},
   "source": [
    "## Create Subgroups poi_2000 and poi_2001"
   ]
  },
  {
   "cell_type": "code",
   "execution_count": null,
   "id": "1d34cb94",
   "metadata": {},
   "outputs": [],
   "source": [
    "poi_2000 = df[(df.index.year==2000) & (df.is_poi==True) & (df.is_internal==True)]\n",
    "poi_2001 = df[(df.index.year==2001)& (df.is_poi==True) & (df.is_internal==True)]"
   ]
  },
  {
   "cell_type": "code",
   "execution_count": null,
   "id": "336e21ac",
   "metadata": {},
   "outputs": [],
   "source": [
    "poi_2000.head(1)"
   ]
  },
  {
   "cell_type": "code",
   "execution_count": null,
   "id": "eff5c287",
   "metadata": {},
   "outputs": [],
   "source": [
    "poi_2001.head(1)"
   ]
  },
  {
   "cell_type": "markdown",
   "id": "e537be6f",
   "metadata": {},
   "source": [
    "## Create Topic Scores for poi_2000"
   ]
  },
  {
   "cell_type": "code",
   "execution_count": null,
   "id": "3e88b149",
   "metadata": {},
   "outputs": [],
   "source": [
    "topics, probs, topic_model, topics_df, docs_df, topics_scores, emails_lemm = wrangle_pj.create_topic_scores(df = poi_2000)\n",
    "topics_scores"
   ]
  },
  {
   "cell_type": "markdown",
   "id": "1bef6f51",
   "metadata": {},
   "source": [
    "topic_model.visualize_hierarchy()\n",
    "topic_model.visualize_barchart()"
   ]
  },
  {
   "cell_type": "markdown",
   "id": "f1b93e70",
   "metadata": {},
   "source": [
    "## Reduced Topic Scores for poi_2000"
   ]
  },
  {
   "cell_type": "code",
   "execution_count": null,
   "id": "d81cfa4d",
   "metadata": {},
   "outputs": [],
   "source": [
    "topic_model, topics_df, docs_df, topics_scores = wrangle_pj.create_topic_scores_reduced(emails_lemm, topics, topic_model, i=18)"
   ]
  },
  {
   "cell_type": "code",
   "execution_count": null,
   "id": "bb028d71",
   "metadata": {},
   "outputs": [],
   "source": [
    "topic_model.visualize_hierarchy()\n",
    "topic_model.visualize_barchart()"
   ]
  },
  {
   "cell_type": "markdown",
   "id": "5e42f15b",
   "metadata": {},
   "source": [
    "## Create Topic Scores for poi_2001"
   ]
  },
  {
   "cell_type": "code",
   "execution_count": null,
   "id": "7ccf28cf",
   "metadata": {},
   "outputs": [],
   "source": [
    "topics, probs, topic_model, topics_df, docs_df, topics_scores, emails_lemm = wrangle_pj.create_topic_scores(df = poi_2001)\n",
    "topics_scores"
   ]
  },
  {
   "cell_type": "code",
   "execution_count": null,
   "id": "a3a28df8",
   "metadata": {},
   "outputs": [],
   "source": [
    "topic_model.visualize_hierarchy()\n",
    "topic_model.visualize_barchart()"
   ]
  },
  {
   "cell_type": "markdown",
   "id": "bb63444c",
   "metadata": {},
   "source": [
    "## Reduced Topic Scores for poi_2001"
   ]
  },
  {
   "cell_type": "code",
   "execution_count": null,
   "id": "6514124a",
   "metadata": {},
   "outputs": [],
   "source": [
    "topic_model, topics_df, docs_df, topics_scores = wrangle_pj.create_topic_scores_reduced(emails_lemm, topics, topic_model, i=8)"
   ]
  },
  {
   "cell_type": "code",
   "execution_count": null,
   "id": "475e2265",
   "metadata": {},
   "outputs": [],
   "source": [
    "topic_model.visualize_hierarchy()\n",
    "topic_model.visualize_barchart()"
   ]
  }
 ],
 "metadata": {
  "kernelspec": {
   "display_name": "Python 3",
   "language": "python",
   "name": "python3"
  },
  "language_info": {
   "codemirror_mode": {
    "name": "ipython",
    "version": 3
   },
   "file_extension": ".py",
   "mimetype": "text/x-python",
   "name": "python",
   "nbconvert_exporter": "python",
   "pygments_lexer": "ipython3",
   "version": "3.8.8"
  }
 },
 "nbformat": 4,
 "nbformat_minor": 5
}
