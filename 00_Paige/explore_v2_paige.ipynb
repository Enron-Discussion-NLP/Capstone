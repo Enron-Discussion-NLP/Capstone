{
 "cells": [
  {
   "cell_type": "code",
   "execution_count": 3,
   "id": "7e6fb1c2",
   "metadata": {},
   "outputs": [],
   "source": [
    "# Import Needed Libararies\n",
    "import pandas as pd\n",
    "import numpy as np\n",
    "import matplotlib.pyplot as plt\n",
    "\n",
    "import warnings\n",
    "warnings.filterwarnings('ignore')\n",
    "\n",
    "import seaborn as sns"
   ]
  },
  {
   "cell_type": "code",
   "execution_count": 4,
   "id": "151deb2e",
   "metadata": {},
   "outputs": [
    {
     "data": {
      "text/html": [
       "<div>\n",
       "<style scoped>\n",
       "    .dataframe tbody tr th:only-of-type {\n",
       "        vertical-align: middle;\n",
       "    }\n",
       "\n",
       "    .dataframe tbody tr th {\n",
       "        vertical-align: top;\n",
       "    }\n",
       "\n",
       "    .dataframe thead th {\n",
       "        text-align: right;\n",
       "    }\n",
       "</style>\n",
       "<table border=\"1\" class=\"dataframe\">\n",
       "  <thead>\n",
       "    <tr style=\"text-align: right;\">\n",
       "      <th></th>\n",
       "      <th>sentiment</th>\n",
       "      <th>polarity</th>\n",
       "      <th>subjectivity</th>\n",
       "      <th>year</th>\n",
       "      <th>month</th>\n",
       "    </tr>\n",
       "    <tr>\n",
       "      <th>date</th>\n",
       "      <th></th>\n",
       "      <th></th>\n",
       "      <th></th>\n",
       "      <th></th>\n",
       "      <th></th>\n",
       "    </tr>\n",
       "  </thead>\n",
       "  <tbody>\n",
       "    <tr>\n",
       "      <th>1999-01-04 10:21:00+00:00</th>\n",
       "      <td>0.2023</td>\n",
       "      <td>0.000000</td>\n",
       "      <td>0.000000</td>\n",
       "      <td>1999</td>\n",
       "      <td>1</td>\n",
       "    </tr>\n",
       "    <tr>\n",
       "      <th>1999-01-04 10:21:00+00:00</th>\n",
       "      <td>0.2023</td>\n",
       "      <td>0.000000</td>\n",
       "      <td>0.000000</td>\n",
       "      <td>1999</td>\n",
       "      <td>1</td>\n",
       "    </tr>\n",
       "    <tr>\n",
       "      <th>1999-01-04 12:11:00+00:00</th>\n",
       "      <td>0.3182</td>\n",
       "      <td>0.016667</td>\n",
       "      <td>0.266667</td>\n",
       "      <td>1999</td>\n",
       "      <td>1</td>\n",
       "    </tr>\n",
       "    <tr>\n",
       "      <th>1999-01-04 12:11:00+00:00</th>\n",
       "      <td>0.3182</td>\n",
       "      <td>0.016667</td>\n",
       "      <td>0.266667</td>\n",
       "      <td>1999</td>\n",
       "      <td>1</td>\n",
       "    </tr>\n",
       "    <tr>\n",
       "      <th>1999-01-05 06:36:00+00:00</th>\n",
       "      <td>0.9895</td>\n",
       "      <td>0.076871</td>\n",
       "      <td>0.329783</td>\n",
       "      <td>1999</td>\n",
       "      <td>1</td>\n",
       "    </tr>\n",
       "  </tbody>\n",
       "</table>\n",
       "</div>"
      ],
      "text/plain": [
       "                           sentiment  polarity  subjectivity  year  month\n",
       "date                                                                     \n",
       "1999-01-04 10:21:00+00:00     0.2023  0.000000      0.000000  1999      1\n",
       "1999-01-04 10:21:00+00:00     0.2023  0.000000      0.000000  1999      1\n",
       "1999-01-04 12:11:00+00:00     0.3182  0.016667      0.266667  1999      1\n",
       "1999-01-04 12:11:00+00:00     0.3182  0.016667      0.266667  1999      1\n",
       "1999-01-05 06:36:00+00:00     0.9895  0.076871      0.329783  1999      1"
      ]
     },
     "execution_count": 4,
     "metadata": {},
     "output_type": "execute_result"
    }
   ],
   "source": [
    "df4 = pd.read_csv('date.csv', index_col=0)\n",
    "df4.head()"
   ]
  },
  {
   "cell_type": "code",
   "execution_count": 57,
   "id": "50754183",
   "metadata": {},
   "outputs": [
    {
     "data": {
      "text/plain": [
       "(516796, 12)"
      ]
     },
     "execution_count": 57,
     "metadata": {},
     "output_type": "execute_result"
    }
   ],
   "source": [
    "df5.shape"
   ]
  },
  {
   "cell_type": "code",
   "execution_count": 2,
   "id": "84c3661c",
   "metadata": {},
   "outputs": [
    {
     "data": {
      "text/html": [
       "<div>\n",
       "<style scoped>\n",
       "    .dataframe tbody tr th:only-of-type {\n",
       "        vertical-align: middle;\n",
       "    }\n",
       "\n",
       "    .dataframe tbody tr th {\n",
       "        vertical-align: top;\n",
       "    }\n",
       "\n",
       "    .dataframe thead th {\n",
       "        text-align: right;\n",
       "    }\n",
       "</style>\n",
       "<table border=\"1\" class=\"dataframe\">\n",
       "  <thead>\n",
       "    <tr style=\"text-align: right;\">\n",
       "      <th></th>\n",
       "      <th>date</th>\n",
       "      <th>sentiment</th>\n",
       "    </tr>\n",
       "  </thead>\n",
       "  <tbody>\n",
       "    <tr>\n",
       "      <th>0</th>\n",
       "      <td>Mon, 14 May 2001 16:39:00 -0700 (PDT)</td>\n",
       "      <td>0.0000</td>\n",
       "    </tr>\n",
       "    <tr>\n",
       "      <th>1</th>\n",
       "      <td>Fri, 4 May 2001 13:51:00 -0700 (PDT)</td>\n",
       "      <td>0.9313</td>\n",
       "    </tr>\n",
       "    <tr>\n",
       "      <th>2</th>\n",
       "      <td>Wed, 18 Oct 2000 03:00:00 -0700 (PDT)</td>\n",
       "      <td>0.5859</td>\n",
       "    </tr>\n",
       "    <tr>\n",
       "      <th>3</th>\n",
       "      <td>Mon, 23 Oct 2000 06:13:00 -0700 (PDT)</td>\n",
       "      <td>0.0000</td>\n",
       "    </tr>\n",
       "    <tr>\n",
       "      <th>4</th>\n",
       "      <td>Thu, 31 Aug 2000 05:07:00 -0700 (PDT)</td>\n",
       "      <td>-0.3400</td>\n",
       "    </tr>\n",
       "  </tbody>\n",
       "</table>\n",
       "</div>"
      ],
      "text/plain": [
       "                                    date  sentiment\n",
       "0  Mon, 14 May 2001 16:39:00 -0700 (PDT)     0.0000\n",
       "1   Fri, 4 May 2001 13:51:00 -0700 (PDT)     0.9313\n",
       "2  Wed, 18 Oct 2000 03:00:00 -0700 (PDT)     0.5859\n",
       "3  Mon, 23 Oct 2000 06:13:00 -0700 (PDT)     0.0000\n",
       "4  Thu, 31 Aug 2000 05:07:00 -0700 (PDT)    -0.3400"
      ]
     },
     "execution_count": 2,
     "metadata": {},
     "output_type": "execute_result"
    }
   ],
   "source": [
    "df = pd.read_csv('time_series.csv', index_col=0)\n",
    "df.head()"
   ]
  },
  {
   "cell_type": "code",
   "execution_count": 3,
   "id": "bf062b47",
   "metadata": {},
   "outputs": [
    {
     "data": {
      "text/html": [
       "<div>\n",
       "<style scoped>\n",
       "    .dataframe tbody tr th:only-of-type {\n",
       "        vertical-align: middle;\n",
       "    }\n",
       "\n",
       "    .dataframe tbody tr th {\n",
       "        vertical-align: top;\n",
       "    }\n",
       "\n",
       "    .dataframe thead th {\n",
       "        text-align: right;\n",
       "    }\n",
       "</style>\n",
       "<table border=\"1\" class=\"dataframe\">\n",
       "  <thead>\n",
       "    <tr style=\"text-align: right;\">\n",
       "      <th></th>\n",
       "      <th>date</th>\n",
       "      <th>file</th>\n",
       "      <th>sender</th>\n",
       "      <th>subject</th>\n",
       "      <th>content</th>\n",
       "      <th>lemmatize</th>\n",
       "      <th>sentiment</th>\n",
       "      <th>polarity</th>\n",
       "      <th>subjectivity</th>\n",
       "      <th>poi</th>\n",
       "      <th>is_internal</th>\n",
       "      <th>year</th>\n",
       "      <th>month</th>\n",
       "      <th>qtr</th>\n",
       "      <th>day</th>\n",
       "      <th>time</th>\n",
       "      <th>date2</th>\n",
       "    </tr>\n",
       "  </thead>\n",
       "  <tbody>\n",
       "    <tr>\n",
       "      <th>0</th>\n",
       "      <td>Monday</td>\n",
       "      <td>allen-p/_sent_mail/1.</td>\n",
       "      <td>phillip.allen@enron.com</td>\n",
       "      <td>NaN</td>\n",
       "      <td>Here is our forecast\\n\\n</td>\n",
       "      <td>forecast</td>\n",
       "      <td>0.0000</td>\n",
       "      <td>0.00</td>\n",
       "      <td>0.000000</td>\n",
       "      <td>False</td>\n",
       "      <td>True</td>\n",
       "      <td>2001</td>\n",
       "      <td>5</td>\n",
       "      <td>2</td>\n",
       "      <td>Monday</td>\n",
       "      <td>23:39:00</td>\n",
       "      <td>2001-05-14</td>\n",
       "    </tr>\n",
       "    <tr>\n",
       "      <th>1</th>\n",
       "      <td>Friday</td>\n",
       "      <td>allen-p/_sent_mail/10.</td>\n",
       "      <td>phillip.allen@enron.com</td>\n",
       "      <td>Re:</td>\n",
       "      <td>Traveling to have a business meeting takes the...</td>\n",
       "      <td>traveling business meeting take fun trip espec...</td>\n",
       "      <td>0.9313</td>\n",
       "      <td>0.15</td>\n",
       "      <td>0.613333</td>\n",
       "      <td>False</td>\n",
       "      <td>True</td>\n",
       "      <td>2001</td>\n",
       "      <td>5</td>\n",
       "      <td>2</td>\n",
       "      <td>Friday</td>\n",
       "      <td>20:51:00</td>\n",
       "      <td>2001-05-04</td>\n",
       "    </tr>\n",
       "    <tr>\n",
       "      <th>2</th>\n",
       "      <td>Wednesday</td>\n",
       "      <td>allen-p/_sent_mail/100.</td>\n",
       "      <td>phillip.allen@enron.com</td>\n",
       "      <td>Re: test</td>\n",
       "      <td>test successful.  way to go!!!</td>\n",
       "      <td>test successful way go</td>\n",
       "      <td>0.5859</td>\n",
       "      <td>0.75</td>\n",
       "      <td>0.950000</td>\n",
       "      <td>False</td>\n",
       "      <td>True</td>\n",
       "      <td>2000</td>\n",
       "      <td>10</td>\n",
       "      <td>4</td>\n",
       "      <td>Wednesday</td>\n",
       "      <td>10:00:00</td>\n",
       "      <td>2000-10-18</td>\n",
       "    </tr>\n",
       "    <tr>\n",
       "      <th>3</th>\n",
       "      <td>Monday</td>\n",
       "      <td>allen-p/_sent_mail/1000.</td>\n",
       "      <td>phillip.allen@enron.com</td>\n",
       "      <td>NaN</td>\n",
       "      <td>Randy,\\n\\n Can you send me a schedule of the s...</td>\n",
       "      <td>randy send schedule salary level everyone sche...</td>\n",
       "      <td>0.0000</td>\n",
       "      <td>0.00</td>\n",
       "      <td>0.000000</td>\n",
       "      <td>False</td>\n",
       "      <td>True</td>\n",
       "      <td>2000</td>\n",
       "      <td>10</td>\n",
       "      <td>4</td>\n",
       "      <td>Monday</td>\n",
       "      <td>13:13:00</td>\n",
       "      <td>2000-10-23</td>\n",
       "    </tr>\n",
       "    <tr>\n",
       "      <th>4</th>\n",
       "      <td>Thursday</td>\n",
       "      <td>allen-p/_sent_mail/1001.</td>\n",
       "      <td>phillip.allen@enron.com</td>\n",
       "      <td>Re: Hello</td>\n",
       "      <td>Let's shoot for Tuesday at 11:45.</td>\n",
       "      <td>let ' shoot tuesday 1145</td>\n",
       "      <td>-0.3400</td>\n",
       "      <td>0.00</td>\n",
       "      <td>0.000000</td>\n",
       "      <td>False</td>\n",
       "      <td>True</td>\n",
       "      <td>2000</td>\n",
       "      <td>8</td>\n",
       "      <td>3</td>\n",
       "      <td>Thursday</td>\n",
       "      <td>12:07:00</td>\n",
       "      <td>2000-08-31</td>\n",
       "    </tr>\n",
       "  </tbody>\n",
       "</table>\n",
       "</div>"
      ],
      "text/plain": [
       "        date                      file                   sender    subject  \\\n",
       "0     Monday     allen-p/_sent_mail/1.  phillip.allen@enron.com        NaN   \n",
       "1     Friday    allen-p/_sent_mail/10.  phillip.allen@enron.com        Re:   \n",
       "2  Wednesday   allen-p/_sent_mail/100.  phillip.allen@enron.com   Re: test   \n",
       "3     Monday  allen-p/_sent_mail/1000.  phillip.allen@enron.com        NaN   \n",
       "4   Thursday  allen-p/_sent_mail/1001.  phillip.allen@enron.com  Re: Hello   \n",
       "\n",
       "                                             content  \\\n",
       "0                          Here is our forecast\\n\\n    \n",
       "1  Traveling to have a business meeting takes the...   \n",
       "2                     test successful.  way to go!!!   \n",
       "3  Randy,\\n\\n Can you send me a schedule of the s...   \n",
       "4                Let's shoot for Tuesday at 11:45.     \n",
       "\n",
       "                                           lemmatize  sentiment  polarity  \\\n",
       "0                                           forecast     0.0000      0.00   \n",
       "1  traveling business meeting take fun trip espec...     0.9313      0.15   \n",
       "2                             test successful way go     0.5859      0.75   \n",
       "3  randy send schedule salary level everyone sche...     0.0000      0.00   \n",
       "4                           let ' shoot tuesday 1145    -0.3400      0.00   \n",
       "\n",
       "   subjectivity    poi  is_internal  year  month  qtr        day      time  \\\n",
       "0      0.000000  False         True  2001      5    2     Monday  23:39:00   \n",
       "1      0.613333  False         True  2001      5    2     Friday  20:51:00   \n",
       "2      0.950000  False         True  2000     10    4  Wednesday  10:00:00   \n",
       "3      0.000000  False         True  2000     10    4     Monday  13:13:00   \n",
       "4      0.000000  False         True  2000      8    3   Thursday  12:07:00   \n",
       "\n",
       "        date2  \n",
       "0  2001-05-14  \n",
       "1  2001-05-04  \n",
       "2  2000-10-18  \n",
       "3  2000-10-23  \n",
       "4  2000-08-31  "
      ]
     },
     "execution_count": 3,
     "metadata": {},
     "output_type": "execute_result"
    }
   ],
   "source": [
    "df2 = pd.read_csv('sentiment3.csv', index_col=0)\n",
    "df2.head()"
   ]
  },
  {
   "cell_type": "code",
   "execution_count": 4,
   "id": "f1541541",
   "metadata": {},
   "outputs": [
    {
     "data": {
      "text/plain": [
       "(517401, 2)"
      ]
     },
     "execution_count": 4,
     "metadata": {},
     "output_type": "execute_result"
    }
   ],
   "source": [
    "df.shape"
   ]
  },
  {
   "cell_type": "code",
   "execution_count": 5,
   "id": "d275d5e5",
   "metadata": {},
   "outputs": [
    {
     "data": {
      "text/plain": [
       "(516796, 17)"
      ]
     },
     "execution_count": 5,
     "metadata": {},
     "output_type": "execute_result"
    }
   ],
   "source": [
    "df2.shape"
   ]
  },
  {
   "cell_type": "code",
   "execution_count": 6,
   "id": "2e37c900",
   "metadata": {},
   "outputs": [
    {
     "data": {
      "text/html": [
       "<div>\n",
       "<style scoped>\n",
       "    .dataframe tbody tr th:only-of-type {\n",
       "        vertical-align: middle;\n",
       "    }\n",
       "\n",
       "    .dataframe tbody tr th {\n",
       "        vertical-align: top;\n",
       "    }\n",
       "\n",
       "    .dataframe thead th {\n",
       "        text-align: right;\n",
       "    }\n",
       "</style>\n",
       "<table border=\"1\" class=\"dataframe\">\n",
       "  <thead>\n",
       "    <tr style=\"text-align: right;\">\n",
       "      <th></th>\n",
       "      <th>file</th>\n",
       "      <th>message</th>\n",
       "      <th>date</th>\n",
       "      <th>sender</th>\n",
       "      <th>subject</th>\n",
       "      <th>content</th>\n",
       "      <th>clean</th>\n",
       "      <th>tokenize</th>\n",
       "      <th>stop_words</th>\n",
       "      <th>lemmatize</th>\n",
       "      <th>sentiment</th>\n",
       "    </tr>\n",
       "  </thead>\n",
       "  <tbody>\n",
       "    <tr>\n",
       "      <th>0</th>\n",
       "      <td>allen-p/_sent_mail/1.</td>\n",
       "      <td>Message-ID: &lt;18782981.1075855378110.JavaMail.e...</td>\n",
       "      <td>Mon, 14 May 2001 16:39:00 -0700 (PDT)</td>\n",
       "      <td>phillip.allen@enron.com</td>\n",
       "      <td>NaN</td>\n",
       "      <td>Here is our forecast\\n\\n</td>\n",
       "      <td>here is our forecast\\n\\n</td>\n",
       "      <td>here is our forecast</td>\n",
       "      <td>forecast</td>\n",
       "      <td>forecast</td>\n",
       "      <td>0.0000</td>\n",
       "    </tr>\n",
       "    <tr>\n",
       "      <th>1</th>\n",
       "      <td>allen-p/_sent_mail/10.</td>\n",
       "      <td>Message-ID: &lt;15464986.1075855378456.JavaMail.e...</td>\n",
       "      <td>Fri, 4 May 2001 13:51:00 -0700 (PDT)</td>\n",
       "      <td>phillip.allen@enron.com</td>\n",
       "      <td>Re:</td>\n",
       "      <td>Traveling to have a business meeting takes the...</td>\n",
       "      <td>traveling to have a business meeting takes the...</td>\n",
       "      <td>traveling to have a business meeting takes the...</td>\n",
       "      <td>traveling business meeting takes fun trip espe...</td>\n",
       "      <td>traveling business meeting take fun trip espec...</td>\n",
       "      <td>0.9313</td>\n",
       "    </tr>\n",
       "    <tr>\n",
       "      <th>2</th>\n",
       "      <td>allen-p/_sent_mail/100.</td>\n",
       "      <td>Message-ID: &lt;24216240.1075855687451.JavaMail.e...</td>\n",
       "      <td>Wed, 18 Oct 2000 03:00:00 -0700 (PDT)</td>\n",
       "      <td>phillip.allen@enron.com</td>\n",
       "      <td>Re: test</td>\n",
       "      <td>test successful.  way to go!!!</td>\n",
       "      <td>test successful  way to go</td>\n",
       "      <td>test successful way to go</td>\n",
       "      <td>test successful way go</td>\n",
       "      <td>test successful way go</td>\n",
       "      <td>0.5859</td>\n",
       "    </tr>\n",
       "    <tr>\n",
       "      <th>3</th>\n",
       "      <td>allen-p/_sent_mail/1000.</td>\n",
       "      <td>Message-ID: &lt;13505866.1075863688222.JavaMail.e...</td>\n",
       "      <td>Mon, 23 Oct 2000 06:13:00 -0700 (PDT)</td>\n",
       "      <td>phillip.allen@enron.com</td>\n",
       "      <td>NaN</td>\n",
       "      <td>Randy,\\n\\n Can you send me a schedule of the s...</td>\n",
       "      <td>randy\\n\\n can you send me a schedule of the sa...</td>\n",
       "      <td>randy\\n\\n can you send me a schedule of the sa...</td>\n",
       "      <td>randy send schedule salary level everyone sche...</td>\n",
       "      <td>randy send schedule salary level everyone sche...</td>\n",
       "      <td>0.0000</td>\n",
       "    </tr>\n",
       "    <tr>\n",
       "      <th>4</th>\n",
       "      <td>allen-p/_sent_mail/1001.</td>\n",
       "      <td>Message-ID: &lt;30922949.1075863688243.JavaMail.e...</td>\n",
       "      <td>Thu, 31 Aug 2000 05:07:00 -0700 (PDT)</td>\n",
       "      <td>phillip.allen@enron.com</td>\n",
       "      <td>Re: Hello</td>\n",
       "      <td>Let's shoot for Tuesday at 11:45.</td>\n",
       "      <td>let's shoot for tuesday at 1145</td>\n",
       "      <td>let ' s shoot for tuesday at 1145</td>\n",
       "      <td>let ' shoot tuesday 1145</td>\n",
       "      <td>let ' shoot tuesday 1145</td>\n",
       "      <td>-0.3400</td>\n",
       "    </tr>\n",
       "  </tbody>\n",
       "</table>\n",
       "</div>"
      ],
      "text/plain": [
       "                       file  \\\n",
       "0     allen-p/_sent_mail/1.   \n",
       "1    allen-p/_sent_mail/10.   \n",
       "2   allen-p/_sent_mail/100.   \n",
       "3  allen-p/_sent_mail/1000.   \n",
       "4  allen-p/_sent_mail/1001.   \n",
       "\n",
       "                                             message  \\\n",
       "0  Message-ID: <18782981.1075855378110.JavaMail.e...   \n",
       "1  Message-ID: <15464986.1075855378456.JavaMail.e...   \n",
       "2  Message-ID: <24216240.1075855687451.JavaMail.e...   \n",
       "3  Message-ID: <13505866.1075863688222.JavaMail.e...   \n",
       "4  Message-ID: <30922949.1075863688243.JavaMail.e...   \n",
       "\n",
       "                                    date                   sender    subject  \\\n",
       "0  Mon, 14 May 2001 16:39:00 -0700 (PDT)  phillip.allen@enron.com        NaN   \n",
       "1   Fri, 4 May 2001 13:51:00 -0700 (PDT)  phillip.allen@enron.com        Re:   \n",
       "2  Wed, 18 Oct 2000 03:00:00 -0700 (PDT)  phillip.allen@enron.com   Re: test   \n",
       "3  Mon, 23 Oct 2000 06:13:00 -0700 (PDT)  phillip.allen@enron.com        NaN   \n",
       "4  Thu, 31 Aug 2000 05:07:00 -0700 (PDT)  phillip.allen@enron.com  Re: Hello   \n",
       "\n",
       "                                             content  \\\n",
       "0                          Here is our forecast\\n\\n    \n",
       "1  Traveling to have a business meeting takes the...   \n",
       "2                     test successful.  way to go!!!   \n",
       "3  Randy,\\n\\n Can you send me a schedule of the s...   \n",
       "4                Let's shoot for Tuesday at 11:45.     \n",
       "\n",
       "                                               clean  \\\n",
       "0                          here is our forecast\\n\\n    \n",
       "1  traveling to have a business meeting takes the...   \n",
       "2                         test successful  way to go   \n",
       "3  randy\\n\\n can you send me a schedule of the sa...   \n",
       "4                  let's shoot for tuesday at 1145     \n",
       "\n",
       "                                            tokenize  \\\n",
       "0                               here is our forecast   \n",
       "1  traveling to have a business meeting takes the...   \n",
       "2                          test successful way to go   \n",
       "3  randy\\n\\n can you send me a schedule of the sa...   \n",
       "4                  let ' s shoot for tuesday at 1145   \n",
       "\n",
       "                                          stop_words  \\\n",
       "0                                           forecast   \n",
       "1  traveling business meeting takes fun trip espe...   \n",
       "2                             test successful way go   \n",
       "3  randy send schedule salary level everyone sche...   \n",
       "4                           let ' shoot tuesday 1145   \n",
       "\n",
       "                                           lemmatize  sentiment  \n",
       "0                                           forecast     0.0000  \n",
       "1  traveling business meeting take fun trip espec...     0.9313  \n",
       "2                             test successful way go     0.5859  \n",
       "3  randy send schedule salary level everyone sche...     0.0000  \n",
       "4                           let ' shoot tuesday 1145    -0.3400  "
      ]
     },
     "execution_count": 6,
     "metadata": {},
     "output_type": "execute_result"
    }
   ],
   "source": [
    "df3 = pd.read_csv('sentiment.csv', index_col=0)\n",
    "df3.head()"
   ]
  },
  {
   "cell_type": "code",
   "execution_count": 7,
   "id": "738619f1",
   "metadata": {},
   "outputs": [
    {
     "data": {
      "text/plain": [
       "(517401, 11)"
      ]
     },
     "execution_count": 7,
     "metadata": {},
     "output_type": "execute_result"
    }
   ],
   "source": [
    "df3.shape"
   ]
  },
  {
   "cell_type": "code",
   "execution_count": 8,
   "id": "f93a9f20",
   "metadata": {},
   "outputs": [],
   "source": [
    "# adding my sentiment scores to data\n",
    "\n",
    "# installing textblob library for sentiment analysis scoring\n",
    "from textblob import TextBlob\n",
    "\n",
    "# sentiment scoring function\n",
    "def sentiment_scores(string):\n",
    "    '''\n",
    "    This function takes in a string of text and applies the textblob function, returning \n",
    "    a score for polarity and subjectivity.\n",
    "    \n",
    "        - Polarity (float; -1, 1) negative, nuetral, positive sentiment\n",
    "        - Subjectivity (float; 0, 1) 0, most objective // 1, most subjective\n",
    "    '''\n",
    "    \n",
    "    polarity, subjectivity = TextBlob(str(string)).sentiment\n",
    "    \n",
    "    return polarity, subjectivity\n",
    "\n",
    "# function to add textblob sentiment scores to df\n",
    "def add_scores(df, clean_msg_col):\n",
    "    '''\n",
    "    This function takes in a df and column of strings to apply the sentiment_scores\n",
    "    textblob function to. It returns a df with the polarity and subjectivity scores added.\n",
    "    '''\n",
    "    \n",
    "    df['polarity, subjectivity'] = df[clean_msg_col].apply(sentiment_scores)\n",
    "    \n",
    "    pol = []\n",
    "    subj = []\n",
    "    for tuple_ in df['polarity, subjectivity']:\n",
    "        pol.append(list(tuple_)[0])\n",
    "        subj.append(list(tuple_)[1])\n",
    "    \n",
    "    print('polarity and subjectivity algo complete')\n",
    "    # df = df.drop(columns = ['polarity, sentiment'])\n",
    "    df['polarity'] = pol\n",
    "    df['subjectivity'] = subj\n",
    "          \n",
    "    print('added sub and pol to df')\n",
    "    \n",
    "    # dropping polarity, subjectivity col\n",
    "    df.drop(columns = ['polarity, subjectivity'], inplace = True)\n",
    "    \n",
    "    return df"
   ]
  },
  {
   "cell_type": "code",
   "execution_count": 14,
   "id": "44ab8d12",
   "metadata": {},
   "outputs": [
    {
     "name": "stdout",
     "output_type": "stream",
     "text": [
      "polarity and subjectivity algo complete\n",
      "added sub and pol to df\n"
     ]
    },
    {
     "data": {
      "text/html": [
       "<div>\n",
       "<style scoped>\n",
       "    .dataframe tbody tr th:only-of-type {\n",
       "        vertical-align: middle;\n",
       "    }\n",
       "\n",
       "    .dataframe tbody tr th {\n",
       "        vertical-align: top;\n",
       "    }\n",
       "\n",
       "    .dataframe thead th {\n",
       "        text-align: right;\n",
       "    }\n",
       "</style>\n",
       "<table border=\"1\" class=\"dataframe\">\n",
       "  <thead>\n",
       "    <tr style=\"text-align: right;\">\n",
       "      <th></th>\n",
       "      <th>file</th>\n",
       "      <th>message</th>\n",
       "      <th>date</th>\n",
       "      <th>sender</th>\n",
       "      <th>subject</th>\n",
       "      <th>content</th>\n",
       "      <th>clean</th>\n",
       "      <th>tokenize</th>\n",
       "      <th>stop_words</th>\n",
       "      <th>lemmatize</th>\n",
       "      <th>sentiment</th>\n",
       "      <th>polarity</th>\n",
       "      <th>subjectivity</th>\n",
       "    </tr>\n",
       "  </thead>\n",
       "  <tbody>\n",
       "    <tr>\n",
       "      <th>0</th>\n",
       "      <td>allen-p/_sent_mail/1.</td>\n",
       "      <td>Message-ID: &lt;18782981.1075855378110.JavaMail.e...</td>\n",
       "      <td>Mon, 14 May 2001 16:39:00 -0700 (PDT)</td>\n",
       "      <td>phillip.allen@enron.com</td>\n",
       "      <td>NaN</td>\n",
       "      <td>Here is our forecast\\n\\n</td>\n",
       "      <td>here is our forecast\\n\\n</td>\n",
       "      <td>here is our forecast</td>\n",
       "      <td>forecast</td>\n",
       "      <td>forecast</td>\n",
       "      <td>0.0000</td>\n",
       "      <td>0.00</td>\n",
       "      <td>0.000000</td>\n",
       "    </tr>\n",
       "    <tr>\n",
       "      <th>1</th>\n",
       "      <td>allen-p/_sent_mail/10.</td>\n",
       "      <td>Message-ID: &lt;15464986.1075855378456.JavaMail.e...</td>\n",
       "      <td>Fri, 4 May 2001 13:51:00 -0700 (PDT)</td>\n",
       "      <td>phillip.allen@enron.com</td>\n",
       "      <td>Re:</td>\n",
       "      <td>Traveling to have a business meeting takes the...</td>\n",
       "      <td>traveling to have a business meeting takes the...</td>\n",
       "      <td>traveling to have a business meeting takes the...</td>\n",
       "      <td>traveling business meeting takes fun trip espe...</td>\n",
       "      <td>traveling business meeting take fun trip espec...</td>\n",
       "      <td>0.9313</td>\n",
       "      <td>0.15</td>\n",
       "      <td>0.613333</td>\n",
       "    </tr>\n",
       "    <tr>\n",
       "      <th>2</th>\n",
       "      <td>allen-p/_sent_mail/100.</td>\n",
       "      <td>Message-ID: &lt;24216240.1075855687451.JavaMail.e...</td>\n",
       "      <td>Wed, 18 Oct 2000 03:00:00 -0700 (PDT)</td>\n",
       "      <td>phillip.allen@enron.com</td>\n",
       "      <td>Re: test</td>\n",
       "      <td>test successful.  way to go!!!</td>\n",
       "      <td>test successful  way to go</td>\n",
       "      <td>test successful way to go</td>\n",
       "      <td>test successful way go</td>\n",
       "      <td>test successful way go</td>\n",
       "      <td>0.5859</td>\n",
       "      <td>0.75</td>\n",
       "      <td>0.950000</td>\n",
       "    </tr>\n",
       "    <tr>\n",
       "      <th>3</th>\n",
       "      <td>allen-p/_sent_mail/1000.</td>\n",
       "      <td>Message-ID: &lt;13505866.1075863688222.JavaMail.e...</td>\n",
       "      <td>Mon, 23 Oct 2000 06:13:00 -0700 (PDT)</td>\n",
       "      <td>phillip.allen@enron.com</td>\n",
       "      <td>NaN</td>\n",
       "      <td>Randy,\\n\\n Can you send me a schedule of the s...</td>\n",
       "      <td>randy\\n\\n can you send me a schedule of the sa...</td>\n",
       "      <td>randy\\n\\n can you send me a schedule of the sa...</td>\n",
       "      <td>randy send schedule salary level everyone sche...</td>\n",
       "      <td>randy send schedule salary level everyone sche...</td>\n",
       "      <td>0.0000</td>\n",
       "      <td>0.00</td>\n",
       "      <td>0.000000</td>\n",
       "    </tr>\n",
       "    <tr>\n",
       "      <th>4</th>\n",
       "      <td>allen-p/_sent_mail/1001.</td>\n",
       "      <td>Message-ID: &lt;30922949.1075863688243.JavaMail.e...</td>\n",
       "      <td>Thu, 31 Aug 2000 05:07:00 -0700 (PDT)</td>\n",
       "      <td>phillip.allen@enron.com</td>\n",
       "      <td>Re: Hello</td>\n",
       "      <td>Let's shoot for Tuesday at 11:45.</td>\n",
       "      <td>let's shoot for tuesday at 1145</td>\n",
       "      <td>let ' s shoot for tuesday at 1145</td>\n",
       "      <td>let ' shoot tuesday 1145</td>\n",
       "      <td>let ' shoot tuesday 1145</td>\n",
       "      <td>-0.3400</td>\n",
       "      <td>0.00</td>\n",
       "      <td>0.000000</td>\n",
       "    </tr>\n",
       "  </tbody>\n",
       "</table>\n",
       "</div>"
      ],
      "text/plain": [
       "                       file  \\\n",
       "0     allen-p/_sent_mail/1.   \n",
       "1    allen-p/_sent_mail/10.   \n",
       "2   allen-p/_sent_mail/100.   \n",
       "3  allen-p/_sent_mail/1000.   \n",
       "4  allen-p/_sent_mail/1001.   \n",
       "\n",
       "                                             message  \\\n",
       "0  Message-ID: <18782981.1075855378110.JavaMail.e...   \n",
       "1  Message-ID: <15464986.1075855378456.JavaMail.e...   \n",
       "2  Message-ID: <24216240.1075855687451.JavaMail.e...   \n",
       "3  Message-ID: <13505866.1075863688222.JavaMail.e...   \n",
       "4  Message-ID: <30922949.1075863688243.JavaMail.e...   \n",
       "\n",
       "                                    date                   sender    subject  \\\n",
       "0  Mon, 14 May 2001 16:39:00 -0700 (PDT)  phillip.allen@enron.com        NaN   \n",
       "1   Fri, 4 May 2001 13:51:00 -0700 (PDT)  phillip.allen@enron.com        Re:   \n",
       "2  Wed, 18 Oct 2000 03:00:00 -0700 (PDT)  phillip.allen@enron.com   Re: test   \n",
       "3  Mon, 23 Oct 2000 06:13:00 -0700 (PDT)  phillip.allen@enron.com        NaN   \n",
       "4  Thu, 31 Aug 2000 05:07:00 -0700 (PDT)  phillip.allen@enron.com  Re: Hello   \n",
       "\n",
       "                                             content  \\\n",
       "0                          Here is our forecast\\n\\n    \n",
       "1  Traveling to have a business meeting takes the...   \n",
       "2                     test successful.  way to go!!!   \n",
       "3  Randy,\\n\\n Can you send me a schedule of the s...   \n",
       "4                Let's shoot for Tuesday at 11:45.     \n",
       "\n",
       "                                               clean  \\\n",
       "0                          here is our forecast\\n\\n    \n",
       "1  traveling to have a business meeting takes the...   \n",
       "2                         test successful  way to go   \n",
       "3  randy\\n\\n can you send me a schedule of the sa...   \n",
       "4                  let's shoot for tuesday at 1145     \n",
       "\n",
       "                                            tokenize  \\\n",
       "0                               here is our forecast   \n",
       "1  traveling to have a business meeting takes the...   \n",
       "2                          test successful way to go   \n",
       "3  randy\\n\\n can you send me a schedule of the sa...   \n",
       "4                  let ' s shoot for tuesday at 1145   \n",
       "\n",
       "                                          stop_words  \\\n",
       "0                                           forecast   \n",
       "1  traveling business meeting takes fun trip espe...   \n",
       "2                             test successful way go   \n",
       "3  randy send schedule salary level everyone sche...   \n",
       "4                           let ' shoot tuesday 1145   \n",
       "\n",
       "                                           lemmatize  sentiment  polarity  \\\n",
       "0                                           forecast     0.0000      0.00   \n",
       "1  traveling business meeting take fun trip espec...     0.9313      0.15   \n",
       "2                             test successful way go     0.5859      0.75   \n",
       "3  randy send schedule salary level everyone sche...     0.0000      0.00   \n",
       "4                           let ' shoot tuesday 1145    -0.3400      0.00   \n",
       "\n",
       "   subjectivity  \n",
       "0      0.000000  \n",
       "1      0.613333  \n",
       "2      0.950000  \n",
       "3      0.000000  \n",
       "4      0.000000  "
      ]
     },
     "execution_count": 14,
     "metadata": {},
     "output_type": "execute_result"
    }
   ],
   "source": [
    "df4 = add_scores(df3, 'lemmatize')\n",
    "df4.head()"
   ]
  },
  {
   "cell_type": "code",
   "execution_count": 15,
   "id": "6b43d603",
   "metadata": {},
   "outputs": [
    {
     "data": {
      "text/html": [
       "<div>\n",
       "<style scoped>\n",
       "    .dataframe tbody tr th:only-of-type {\n",
       "        vertical-align: middle;\n",
       "    }\n",
       "\n",
       "    .dataframe tbody tr th {\n",
       "        vertical-align: top;\n",
       "    }\n",
       "\n",
       "    .dataframe thead th {\n",
       "        text-align: right;\n",
       "    }\n",
       "</style>\n",
       "<table border=\"1\" class=\"dataframe\">\n",
       "  <thead>\n",
       "    <tr style=\"text-align: right;\">\n",
       "      <th></th>\n",
       "      <th>date</th>\n",
       "      <th>sentiment</th>\n",
       "      <th>polarity</th>\n",
       "      <th>subjectivity</th>\n",
       "    </tr>\n",
       "  </thead>\n",
       "  <tbody>\n",
       "    <tr>\n",
       "      <th>0</th>\n",
       "      <td>Mon, 14 May 2001 16:39:00 -0700 (PDT)</td>\n",
       "      <td>0.0000</td>\n",
       "      <td>0.00</td>\n",
       "      <td>0.000000</td>\n",
       "    </tr>\n",
       "    <tr>\n",
       "      <th>1</th>\n",
       "      <td>Fri, 4 May 2001 13:51:00 -0700 (PDT)</td>\n",
       "      <td>0.9313</td>\n",
       "      <td>0.15</td>\n",
       "      <td>0.613333</td>\n",
       "    </tr>\n",
       "    <tr>\n",
       "      <th>2</th>\n",
       "      <td>Wed, 18 Oct 2000 03:00:00 -0700 (PDT)</td>\n",
       "      <td>0.5859</td>\n",
       "      <td>0.75</td>\n",
       "      <td>0.950000</td>\n",
       "    </tr>\n",
       "    <tr>\n",
       "      <th>3</th>\n",
       "      <td>Mon, 23 Oct 2000 06:13:00 -0700 (PDT)</td>\n",
       "      <td>0.0000</td>\n",
       "      <td>0.00</td>\n",
       "      <td>0.000000</td>\n",
       "    </tr>\n",
       "    <tr>\n",
       "      <th>4</th>\n",
       "      <td>Thu, 31 Aug 2000 05:07:00 -0700 (PDT)</td>\n",
       "      <td>-0.3400</td>\n",
       "      <td>0.00</td>\n",
       "      <td>0.000000</td>\n",
       "    </tr>\n",
       "  </tbody>\n",
       "</table>\n",
       "</div>"
      ],
      "text/plain": [
       "                                    date  sentiment  polarity  subjectivity\n",
       "0  Mon, 14 May 2001 16:39:00 -0700 (PDT)     0.0000      0.00      0.000000\n",
       "1   Fri, 4 May 2001 13:51:00 -0700 (PDT)     0.9313      0.15      0.613333\n",
       "2  Wed, 18 Oct 2000 03:00:00 -0700 (PDT)     0.5859      0.75      0.950000\n",
       "3  Mon, 23 Oct 2000 06:13:00 -0700 (PDT)     0.0000      0.00      0.000000\n",
       "4  Thu, 31 Aug 2000 05:07:00 -0700 (PDT)    -0.3400      0.00      0.000000"
      ]
     },
     "execution_count": 15,
     "metadata": {},
     "output_type": "execute_result"
    }
   ],
   "source": [
    "# Creating a dataframe that has date and just the 3 scores\n",
    "df4 = df4.drop(columns = ['file', 'message', 'sender', 'subject', 'content', 'clean', 'tokenize', 'stop_words', 'lemmatize'])\n",
    "df4.head()"
   ]
  },
  {
   "cell_type": "code",
   "execution_count": 59,
   "id": "75dff96e",
   "metadata": {},
   "outputs": [
    {
     "data": {
      "text/html": [
       "<div>\n",
       "<style scoped>\n",
       "    .dataframe tbody tr th:only-of-type {\n",
       "        vertical-align: middle;\n",
       "    }\n",
       "\n",
       "    .dataframe tbody tr th {\n",
       "        vertical-align: top;\n",
       "    }\n",
       "\n",
       "    .dataframe thead th {\n",
       "        text-align: right;\n",
       "    }\n",
       "</style>\n",
       "<table border=\"1\" class=\"dataframe\">\n",
       "  <thead>\n",
       "    <tr style=\"text-align: right;\">\n",
       "      <th></th>\n",
       "      <th>sentiment</th>\n",
       "      <th>polarity</th>\n",
       "      <th>subjectivity</th>\n",
       "      <th>year</th>\n",
       "      <th>month</th>\n",
       "    </tr>\n",
       "    <tr>\n",
       "      <th>date</th>\n",
       "      <th></th>\n",
       "      <th></th>\n",
       "      <th></th>\n",
       "      <th></th>\n",
       "      <th></th>\n",
       "    </tr>\n",
       "  </thead>\n",
       "  <tbody>\n",
       "    <tr>\n",
       "      <th>1999-01-04 10:21:00+00:00</th>\n",
       "      <td>0.2023</td>\n",
       "      <td>0.000000</td>\n",
       "      <td>0.000000</td>\n",
       "      <td>1999</td>\n",
       "      <td>1</td>\n",
       "    </tr>\n",
       "    <tr>\n",
       "      <th>1999-01-04 10:21:00+00:00</th>\n",
       "      <td>0.2023</td>\n",
       "      <td>0.000000</td>\n",
       "      <td>0.000000</td>\n",
       "      <td>1999</td>\n",
       "      <td>1</td>\n",
       "    </tr>\n",
       "    <tr>\n",
       "      <th>1999-01-04 12:11:00+00:00</th>\n",
       "      <td>0.3182</td>\n",
       "      <td>0.016667</td>\n",
       "      <td>0.266667</td>\n",
       "      <td>1999</td>\n",
       "      <td>1</td>\n",
       "    </tr>\n",
       "    <tr>\n",
       "      <th>1999-01-04 12:11:00+00:00</th>\n",
       "      <td>0.3182</td>\n",
       "      <td>0.016667</td>\n",
       "      <td>0.266667</td>\n",
       "      <td>1999</td>\n",
       "      <td>1</td>\n",
       "    </tr>\n",
       "    <tr>\n",
       "      <th>1999-01-05 06:36:00+00:00</th>\n",
       "      <td>0.9895</td>\n",
       "      <td>0.076871</td>\n",
       "      <td>0.329783</td>\n",
       "      <td>1999</td>\n",
       "      <td>1</td>\n",
       "    </tr>\n",
       "  </tbody>\n",
       "</table>\n",
       "</div>"
      ],
      "text/plain": [
       "                           sentiment  polarity  subjectivity  year  month\n",
       "date                                                                     \n",
       "1999-01-04 10:21:00+00:00     0.2023  0.000000      0.000000  1999      1\n",
       "1999-01-04 10:21:00+00:00     0.2023  0.000000      0.000000  1999      1\n",
       "1999-01-04 12:11:00+00:00     0.3182  0.016667      0.266667  1999      1\n",
       "1999-01-04 12:11:00+00:00     0.3182  0.016667      0.266667  1999      1\n",
       "1999-01-05 06:36:00+00:00     0.9895  0.076871      0.329783  1999      1"
      ]
     },
     "execution_count": 59,
     "metadata": {},
     "output_type": "execute_result"
    }
   ],
   "source": [
    "df4 = df4.drop(columns=['day'])\n",
    "df4.head()"
   ]
  },
  {
   "cell_type": "code",
   "execution_count": 60,
   "id": "57cccc15",
   "metadata": {},
   "outputs": [],
   "source": [
    "df4.to_csv('date.csv') "
   ]
  },
  {
   "cell_type": "code",
   "execution_count": 16,
   "id": "08f19e0a",
   "metadata": {},
   "outputs": [
    {
     "name": "stdout",
     "output_type": "stream",
     "text": [
      "<class 'pandas.core.frame.DataFrame'>\n",
      "Int64Index: 517401 entries, 0 to 517400\n",
      "Data columns (total 4 columns):\n",
      " #   Column        Non-Null Count   Dtype              \n",
      "---  ------        --------------   -----              \n",
      " 0   date          517401 non-null  datetime64[ns, UTC]\n",
      " 1   sentiment     517401 non-null  float64            \n",
      " 2   polarity      517401 non-null  float64            \n",
      " 3   subjectivity  517401 non-null  float64            \n",
      "dtypes: datetime64[ns, UTC](1), float64(3)\n",
      "memory usage: 19.7 MB\n"
     ]
    }
   ],
   "source": [
    "# change date column to datetime format\n",
    "df4.date = pd.to_datetime(df4.date, utc=True)\n",
    "df4.info()"
   ]
  },
  {
   "cell_type": "code",
   "execution_count": 17,
   "id": "df07d03d",
   "metadata": {},
   "outputs": [
    {
     "data": {
      "text/html": [
       "<div>\n",
       "<style scoped>\n",
       "    .dataframe tbody tr th:only-of-type {\n",
       "        vertical-align: middle;\n",
       "    }\n",
       "\n",
       "    .dataframe tbody tr th {\n",
       "        vertical-align: top;\n",
       "    }\n",
       "\n",
       "    .dataframe thead th {\n",
       "        text-align: right;\n",
       "    }\n",
       "</style>\n",
       "<table border=\"1\" class=\"dataframe\">\n",
       "  <thead>\n",
       "    <tr style=\"text-align: right;\">\n",
       "      <th></th>\n",
       "      <th>sentiment</th>\n",
       "      <th>polarity</th>\n",
       "      <th>subjectivity</th>\n",
       "    </tr>\n",
       "    <tr>\n",
       "      <th>date</th>\n",
       "      <th></th>\n",
       "      <th></th>\n",
       "      <th></th>\n",
       "    </tr>\n",
       "  </thead>\n",
       "  <tbody>\n",
       "    <tr>\n",
       "      <th>1980-01-01 00:00:00+00:00</th>\n",
       "      <td>0.6124</td>\n",
       "      <td>-0.104861</td>\n",
       "      <td>0.431250</td>\n",
       "    </tr>\n",
       "    <tr>\n",
       "      <th>1980-01-01 00:00:00+00:00</th>\n",
       "      <td>0.0000</td>\n",
       "      <td>0.000000</td>\n",
       "      <td>0.000000</td>\n",
       "    </tr>\n",
       "    <tr>\n",
       "      <th>1980-01-01 00:00:00+00:00</th>\n",
       "      <td>0.9943</td>\n",
       "      <td>0.278879</td>\n",
       "      <td>0.575575</td>\n",
       "    </tr>\n",
       "    <tr>\n",
       "      <th>1980-01-01 00:00:00+00:00</th>\n",
       "      <td>0.6908</td>\n",
       "      <td>0.008333</td>\n",
       "      <td>0.633333</td>\n",
       "    </tr>\n",
       "    <tr>\n",
       "      <th>1980-01-01 00:00:00+00:00</th>\n",
       "      <td>0.7184</td>\n",
       "      <td>0.043810</td>\n",
       "      <td>0.373810</td>\n",
       "    </tr>\n",
       "  </tbody>\n",
       "</table>\n",
       "</div>"
      ],
      "text/plain": [
       "                           sentiment  polarity  subjectivity\n",
       "date                                                        \n",
       "1980-01-01 00:00:00+00:00     0.6124 -0.104861      0.431250\n",
       "1980-01-01 00:00:00+00:00     0.0000  0.000000      0.000000\n",
       "1980-01-01 00:00:00+00:00     0.9943  0.278879      0.575575\n",
       "1980-01-01 00:00:00+00:00     0.6908  0.008333      0.633333\n",
       "1980-01-01 00:00:00+00:00     0.7184  0.043810      0.373810"
      ]
     },
     "execution_count": 17,
     "metadata": {},
     "output_type": "execute_result"
    }
   ],
   "source": [
    "# Set index at date columnad and sort index\n",
    "df4 = df4.set_index(\"date\").sort_index()\n",
    "df4.head()"
   ]
  },
  {
   "cell_type": "code",
   "execution_count": 19,
   "id": "8bfa7a71",
   "metadata": {},
   "outputs": [],
   "source": [
    "df4['year'] = df4.index.year\n",
    "df4['month'] = df4.index.month\n",
    "df4['day'] = df4.index.day"
   ]
  },
  {
   "cell_type": "code",
   "execution_count": 36,
   "id": "64594da5",
   "metadata": {},
   "outputs": [],
   "source": [
    "df4 = df4[df4.year < 2003]\n",
    "df4 = df4[df4.year > 1998]"
   ]
  },
  {
   "cell_type": "code",
   "execution_count": 37,
   "id": "f35a6fc1",
   "metadata": {},
   "outputs": [],
   "source": [
    "train = df4[df4.year == 1999]\n",
    "highlight1 = df4[df4.year == 2000]\n",
    "highlight2 = df4[df4.year == 2001]\n",
    "test = df4[df4.year == 2002]"
   ]
  },
  {
   "cell_type": "markdown",
   "id": "05874551",
   "metadata": {},
   "source": [
    "# Graph with sentiment"
   ]
  },
  {
   "cell_type": "code",
   "execution_count": 38,
   "id": "83156821",
   "metadata": {},
   "outputs": [
    {
     "data": {
      "image/png": "[encoded data removed]",
      "text/plain": [
       "<Figure size 1152x720 with 1 Axes>"
      ]
     },
     "metadata": {
      "needs_background": "light"
     },
     "output_type": "display_data"
    }
   ],
   "source": [
    "# Recreate model from preivous explore to show just those highlighted years with sentiment\n",
    "\n",
    "train_by_date = train.groupby(['date']).sentiment.sum().reset_index()\n",
    "#train_by_date.plot(x = 'date', y = 'sentiment')\n",
    "\n",
    "highlight1_by_date = highlight1.groupby(['date']).sentiment.sum().reset_index()\n",
    "#test_by_date.plot(x = 'date', y = 'sentiment')\n",
    "\n",
    "highlight2_by_date = highlight2.groupby(['date']).sentiment.sum().reset_index()\n",
    "#test_by_date.plot(x = 'date', y = 'sentiment')\n",
    "\n",
    "test_by_date = test.groupby(['date']).sentiment.sum().reset_index()\n",
    "#test_by_date.plot(x = 'date', y = 'sentiment')\n",
    "\n",
    "plt.figure(figsize = (16, 10))\n",
    "plt.plot(train_by_date.date, train_by_date.sentiment)\n",
    "plt.plot(highlight1_by_date.date, highlight1_by_date.sentiment)\n",
    "plt.plot(highlight2_by_date.date, highlight2_by_date.sentiment)\n",
    "plt.plot(test_by_date.date, test_by_date.sentiment)\n",
    "plt.show()"
   ]
  },
  {
   "cell_type": "markdown",
   "id": "c34885cc",
   "metadata": {},
   "source": [
    "# Graph with subjectivity"
   ]
  },
  {
   "cell_type": "code",
   "execution_count": 39,
   "id": "6c768848",
   "metadata": {},
   "outputs": [
    {
     "data": {
      "image/png": "[encoded data removed]",
      "text/plain": [
       "<Figure size 1152x720 with 1 Axes>"
      ]
     },
     "metadata": {
      "needs_background": "light"
     },
     "output_type": "display_data"
    }
   ],
   "source": [
    "# Recreate model from preivous explore to show just those highlighted years with sentiment\n",
    "\n",
    "train_by_date = train.groupby(['date']).subjectivity.sum().reset_index()\n",
    "#train_by_date.plot(x = 'date', y = 'sentiment')\n",
    "\n",
    "highlight1_by_date = highlight1.groupby(['date']).subjectivity.sum().reset_index()\n",
    "#test_by_date.plot(x = 'date', y = 'sentiment')\n",
    "\n",
    "highlight2_by_date = highlight2.groupby(['date']).subjectivity.sum().reset_index()\n",
    "#test_by_date.plot(x = 'date', y = 'sentiment')\n",
    "\n",
    "test_by_date = test.groupby(['date']).subjectivity.sum().reset_index()\n",
    "#test_by_date.plot(x = 'date', y = 'sentiment')\n",
    "\n",
    "plt.figure(figsize = (16, 10))\n",
    "plt.plot(train_by_date.date, train_by_date.subjectivity)\n",
    "plt.plot(highlight1_by_date.date, highlight1_by_date.subjectivity)\n",
    "plt.plot(highlight2_by_date.date, highlight2_by_date.subjectivity)\n",
    "plt.plot(test_by_date.date, test_by_date.subjectivity)\n",
    "plt.show()"
   ]
  },
  {
   "cell_type": "markdown",
   "id": "4002156f",
   "metadata": {},
   "source": [
    "# Graph with polarity"
   ]
  },
  {
   "cell_type": "code",
   "execution_count": 40,
   "id": "1a38b2eb",
   "metadata": {},
   "outputs": [
    {
     "data": {
      "image/png": "[encoded data removed]",
      "text/plain": [
       "<Figure size 1152x720 with 1 Axes>"
      ]
     },
     "metadata": {
      "needs_background": "light"
     },
     "output_type": "display_data"
    }
   ],
   "source": [
    "# Recreate model from preivous explore to show just those highlighted years with sentiment\n",
    "\n",
    "train_by_date = train.groupby(['date']).polarity.sum().reset_index()\n",
    "#train_by_date.plot(x = 'date', y = 'sentiment')\n",
    "\n",
    "highlight1_by_date = highlight1.groupby(['date']).polarity.sum().reset_index()\n",
    "#test_by_date.plot(x = 'date', y = 'sentiment')\n",
    "\n",
    "highlight2_by_date = highlight2.groupby(['date']).polarity.sum().reset_index()\n",
    "#test_by_date.plot(x = 'date', y = 'sentiment')\n",
    "\n",
    "test_by_date = test.groupby(['date']).polarity.sum().reset_index()\n",
    "#test_by_date.plot(x = 'date', y = 'sentiment')\n",
    "\n",
    "plt.figure(figsize = (16, 10))\n",
    "plt.plot(train_by_date.date, train_by_date.polarity)\n",
    "plt.plot(highlight1_by_date.date, highlight1_by_date.polarity)\n",
    "plt.plot(highlight2_by_date.date, highlight2_by_date.polarity)\n",
    "plt.plot(test_by_date.date, test_by_date.polarity)\n",
    "plt.show()"
   ]
  },
  {
   "cell_type": "markdown",
   "id": "5ca5dc62",
   "metadata": {},
   "source": [
    "# Create seasonailty trends for both those groups"
   ]
  },
  {
   "cell_type": "code",
   "execution_count": 41,
   "id": "a1ca02e2",
   "metadata": {},
   "outputs": [],
   "source": [
    "y = df4.sentiment\n",
    "y2 = df4.subjectivity\n",
    "y3 = df4.polarity"
   ]
  },
  {
   "cell_type": "code",
   "execution_count": 42,
   "id": "2cecc81a",
   "metadata": {},
   "outputs": [
    {
     "data": {
      "text/html": [
       "<div>\n",
       "<style scoped>\n",
       "    .dataframe tbody tr th:only-of-type {\n",
       "        vertical-align: middle;\n",
       "    }\n",
       "\n",
       "    .dataframe tbody tr th {\n",
       "        vertical-align: top;\n",
       "    }\n",
       "\n",
       "    .dataframe thead th {\n",
       "        text-align: right;\n",
       "    }\n",
       "</style>\n",
       "<table border=\"1\" class=\"dataframe\">\n",
       "  <thead>\n",
       "    <tr style=\"text-align: right;\">\n",
       "      <th>date</th>\n",
       "      <th>1</th>\n",
       "      <th>2</th>\n",
       "      <th>3</th>\n",
       "      <th>4</th>\n",
       "      <th>5</th>\n",
       "      <th>6</th>\n",
       "      <th>7</th>\n",
       "      <th>8</th>\n",
       "      <th>9</th>\n",
       "      <th>10</th>\n",
       "      <th>11</th>\n",
       "      <th>12</th>\n",
       "    </tr>\n",
       "    <tr>\n",
       "      <th>date</th>\n",
       "      <th></th>\n",
       "      <th></th>\n",
       "      <th></th>\n",
       "      <th></th>\n",
       "      <th></th>\n",
       "      <th></th>\n",
       "      <th></th>\n",
       "      <th></th>\n",
       "      <th></th>\n",
       "      <th></th>\n",
       "      <th></th>\n",
       "      <th></th>\n",
       "    </tr>\n",
       "  </thead>\n",
       "  <tbody>\n",
       "    <tr>\n",
       "      <th>1999</th>\n",
       "      <td>0.794315</td>\n",
       "      <td>0.706930</td>\n",
       "      <td>0.674002</td>\n",
       "      <td>0.548211</td>\n",
       "      <td>0.574102</td>\n",
       "      <td>0.551710</td>\n",
       "      <td>0.567978</td>\n",
       "      <td>0.571055</td>\n",
       "      <td>0.604361</td>\n",
       "      <td>0.590513</td>\n",
       "      <td>0.608944</td>\n",
       "      <td>0.608433</td>\n",
       "    </tr>\n",
       "    <tr>\n",
       "      <th>2000</th>\n",
       "      <td>0.606937</td>\n",
       "      <td>0.631134</td>\n",
       "      <td>0.600195</td>\n",
       "      <td>0.612846</td>\n",
       "      <td>0.623999</td>\n",
       "      <td>0.614350</td>\n",
       "      <td>0.603115</td>\n",
       "      <td>0.599697</td>\n",
       "      <td>0.598724</td>\n",
       "      <td>0.622865</td>\n",
       "      <td>0.628109</td>\n",
       "      <td>0.630977</td>\n",
       "    </tr>\n",
       "    <tr>\n",
       "      <th>2001</th>\n",
       "      <td>0.603565</td>\n",
       "      <td>0.587143</td>\n",
       "      <td>0.613894</td>\n",
       "      <td>0.596788</td>\n",
       "      <td>0.648954</td>\n",
       "      <td>0.583512</td>\n",
       "      <td>0.633510</td>\n",
       "      <td>0.652056</td>\n",
       "      <td>0.652640</td>\n",
       "      <td>0.656924</td>\n",
       "      <td>0.676067</td>\n",
       "      <td>0.659911</td>\n",
       "    </tr>\n",
       "    <tr>\n",
       "      <th>2002</th>\n",
       "      <td>0.575792</td>\n",
       "      <td>0.646176</td>\n",
       "      <td>0.637265</td>\n",
       "      <td>0.610282</td>\n",
       "      <td>0.660961</td>\n",
       "      <td>0.630649</td>\n",
       "      <td>0.396391</td>\n",
       "      <td>NaN</td>\n",
       "      <td>0.303483</td>\n",
       "      <td>0.273200</td>\n",
       "      <td>NaN</td>\n",
       "      <td>0.915300</td>\n",
       "    </tr>\n",
       "  </tbody>\n",
       "</table>\n",
       "</div>"
      ],
      "text/plain": [
       "date        1         2         3         4         5         6         7   \\\n",
       "date                                                                         \n",
       "1999  0.794315  0.706930  0.674002  0.548211  0.574102  0.551710  0.567978   \n",
       "2000  0.606937  0.631134  0.600195  0.612846  0.623999  0.614350  0.603115   \n",
       "2001  0.603565  0.587143  0.613894  0.596788  0.648954  0.583512  0.633510   \n",
       "2002  0.575792  0.646176  0.637265  0.610282  0.660961  0.630649  0.396391   \n",
       "\n",
       "date        8         9         10        11        12  \n",
       "date                                                    \n",
       "1999  0.571055  0.604361  0.590513  0.608944  0.608433  \n",
       "2000  0.599697  0.598724  0.622865  0.628109  0.630977  \n",
       "2001  0.652056  0.652640  0.656924  0.676067  0.659911  \n",
       "2002       NaN  0.303483  0.273200       NaN  0.915300  "
      ]
     },
     "execution_count": 42,
     "metadata": {},
     "output_type": "execute_result"
    }
   ],
   "source": [
    "#A seasonal subseries plot shows the change year-over-year within each month.\n",
    "table = y.groupby([y.index.year, y.index.month]).mean().unstack()\n",
    "#table\n",
    "\n",
    "#A seasonal subseries plot shows the change year-over-year within each month.\n",
    "table2 = y2.groupby([y2.index.year, y2.index.month]).mean().unstack()\n",
    "#table2\n",
    "\n",
    "#A seasonal subseries plot shows the change year-over-year within each month.\n",
    "table3 = y3.groupby([y3.index.year, y3.index.month]).mean().unstack()\n",
    "#table3\n",
    "table"
   ]
  },
  {
   "cell_type": "markdown",
   "id": "79f00458",
   "metadata": {},
   "source": [
    "### Seasonality with just Sentiment"
   ]
  },
  {
   "cell_type": "code",
   "execution_count": null,
   "id": "fd3d108c",
   "metadata": {},
   "outputs": [],
   "source": [
    "#plt.figure(figsize=(16,10))\n",
    "fig, axs = plt.subplots(1, 12, sharey=True, sharex=True, figsize=(16,10), cycler('color',['#1f77b4', '#ff7f0e', '#2ca02c', '#d62728', \n",
    "                                                                                          '#9467bd', '#8c564b', '#e377c2', '#7f7f7f', \n",
    "                                                                                          '#bcbd22', '#17becf']))\n",
    "for ax, (month, subset) in zip(axs, table.iteritems()):\n",
    "    subset.plot(ax=ax, title=month)\n",
    "    x_left, x_right = ax.get_xlim()\n",
    "    ax.hlines(subset.mean(), x_left, x_right, ls='--')\n",
    "    ax.set(xlabel='')\n",
    "    \n",
    "fig.suptitle('Seasonal Subseries Plot') # super-title for the overall figure\n",
    "fig.subplots_adjust(wspace=0)"
   ]
  },
  {
   "cell_type": "markdown",
   "id": "30b57981",
   "metadata": {},
   "source": [
    "## Seasonality with just Subjectivity"
   ]
  },
  {
   "cell_type": "code",
   "execution_count": 45,
   "id": "753f2b86",
   "metadata": {},
   "outputs": [
    {
     "data": {
      "image/png": "[encoded data removed]",
      "text/plain": [
       "<Figure size 1152x720 with 12 Axes>"
      ]
     },
     "metadata": {
      "needs_background": "light"
     },
     "output_type": "display_data"
    }
   ],
   "source": [
    "#plt.figure(figsize=(16,10))\n",
    "fig, axs = plt.subplots(1, 12, sharey=True, sharex=True, figsize=(16,10))\n",
    "for ax, (month, subset) in zip(axs, table2.iteritems()):\n",
    "    subset.plot(ax=ax, title=month)\n",
    "    x_left, x_right = ax.get_xlim()\n",
    "    ax.hlines(subset.mean(), x_left, x_right, ls='--')\n",
    "    ax.set(xlabel='')\n",
    "    \n",
    "fig.suptitle('Seasonal Subseries Plot') # super-title for the overall figure\n",
    "fig.subplots_adjust(wspace=0)"
   ]
  },
  {
   "cell_type": "markdown",
   "id": "5fb7a0b5",
   "metadata": {},
   "source": [
    "## Seasonality with just Polarity"
   ]
  },
  {
   "cell_type": "code",
   "execution_count": 47,
   "id": "4a92063f",
   "metadata": {},
   "outputs": [
    {
     "data": {
      "image/png": "[encoded data removed]",
      "text/plain": [
       "<Figure size 1152x720 with 12 Axes>"
      ]
     },
     "metadata": {
      "needs_background": "light"
     },
     "output_type": "display_data"
    }
   ],
   "source": [
    "#plt.figure(figsize=(16,10))\n",
    "fig, axs = plt.subplots(1, 12, sharey=True, sharex=True, figsize=(16,10))\n",
    "for ax, (month, subset) in zip(axs, table3.iteritems()):\n",
    "    subset.plot(ax=ax, title=month)\n",
    "    x_left, x_right = ax.get_xlim()\n",
    "    ax.hlines(subset.mean(), x_left, x_right, ls='--')\n",
    "    ax.set(xlabel='')\n",
    "    \n",
    "fig.suptitle('Seasonal Subseries Plot') # super-title for the overall figure\n",
    "fig.subplots_adjust(wspace=0)"
   ]
  },
  {
   "cell_type": "code",
   "execution_count": 54,
   "id": "067d3665",
   "metadata": {},
   "outputs": [
    {
     "data": {
      "text/plain": [
       "173"
      ]
     },
     "execution_count": 54,
     "metadata": {},
     "output_type": "execute_result"
    }
   ],
   "source": [
    "len('The credit belongs to the man who is actually in the arena, whose face is marred by dust and sweat and blood; ... because there is no effort without error and shortcoming...')"
   ]
  },
  {
   "cell_type": "markdown",
   "id": "73c30019",
   "metadata": {},
   "source": [
    "# Testing functions"
   ]
  },
  {
   "cell_type": "code",
   "execution_count": 1,
   "id": "6524e54d",
   "metadata": {},
   "outputs": [],
   "source": [
    "import explore_def"
   ]
  },
  {
   "cell_type": "code",
   "execution_count": 2,
   "id": "095b8446",
   "metadata": {},
   "outputs": [
    {
     "ename": "NameError",
     "evalue": "name 'df4' is not defined",
     "output_type": "error",
     "traceback": [
      "\u001b[1;31m---------------------------------------------------------------------------\u001b[0m",
      "\u001b[1;31mNameError\u001b[0m                                 Traceback (most recent call last)",
      "Input \u001b[1;32mIn [2]\u001b[0m, in \u001b[0;36m<module>\u001b[1;34m\u001b[0m\n\u001b[1;32m----> 1\u001b[0m \u001b[43mdf4\u001b[49m\u001b[38;5;241m.\u001b[39mhead()\n",
      "\u001b[1;31mNameError\u001b[0m: name 'df4' is not defined"
     ]
    }
   ],
   "source": [
    "df4.head()"
   ]
  },
  {
   "cell_type": "code",
   "execution_count": 12,
   "id": "2111b174",
   "metadata": {},
   "outputs": [
    {
     "data": {
      "text/plain": [
       "Index(['sentiment', 'polarity', 'subjectivity', 'year', 'month'], dtype='object')"
      ]
     },
     "execution_count": 12,
     "metadata": {},
     "output_type": "execute_result"
    }
   ],
   "source": [
    "df4.columns"
   ]
  },
  {
   "cell_type": "code",
   "execution_count": 42,
   "id": "6ab2e045",
   "metadata": {},
   "outputs": [
    {
     "name": "stdout",
     "output_type": "stream",
     "text": [
      "polarity\n",
      "subjectivity\n",
      "year\n",
      "month\n"
     ]
    }
   ],
   "source": [
    "x = 'sentiment'\n",
    "for col in df4.columns:\n",
    "    if col != x:\n",
    "        print(col)"
   ]
  },
  {
   "cell_type": "code",
   "execution_count": 23,
   "id": "5316b415",
   "metadata": {},
   "outputs": [
    {
     "data": {
      "text/plain": [
       "date\n",
       "1999-01-04 10:21:00+00:00    0.2023\n",
       "1999-01-04 10:21:00+00:00    0.2023\n",
       "1999-01-04 12:11:00+00:00    0.3182\n",
       "1999-01-04 12:11:00+00:00    0.3182\n",
       "1999-01-05 06:36:00+00:00    0.9895\n",
       "                              ...  \n",
       "2002-09-20 22:04:12+00:00    0.2960\n",
       "2002-09-22 16:42:25+00:00    0.0000\n",
       "2002-09-23 04:01:33+00:00    0.6369\n",
       "2002-10-09 21:20:21+00:00    0.2732\n",
       "2002-12-21 08:24:45+00:00    0.9153\n",
       "Name: sentiment, Length: 516182, dtype: float64"
      ]
     },
     "execution_count": 23,
     "metadata": {},
     "output_type": "execute_result"
    }
   ],
   "source": [
    "df4.sentiment"
   ]
  },
  {
   "cell_type": "code",
   "execution_count": 34,
   "id": "b982405b",
   "metadata": {},
   "outputs": [
    {
     "data": {
      "text/html": [
       "<div>\n",
       "<style scoped>\n",
       "    .dataframe tbody tr th:only-of-type {\n",
       "        vertical-align: middle;\n",
       "    }\n",
       "\n",
       "    .dataframe tbody tr th {\n",
       "        vertical-align: top;\n",
       "    }\n",
       "\n",
       "    .dataframe thead th {\n",
       "        text-align: right;\n",
       "    }\n",
       "</style>\n",
       "<table border=\"1\" class=\"dataframe\">\n",
       "  <thead>\n",
       "    <tr style=\"text-align: right;\">\n",
       "      <th></th>\n",
       "      <th>sentiment</th>\n",
       "      <th>polarity</th>\n",
       "      <th>subjectivity</th>\n",
       "      <th>year</th>\n",
       "      <th>month</th>\n",
       "    </tr>\n",
       "    <tr>\n",
       "      <th>date</th>\n",
       "      <th></th>\n",
       "      <th></th>\n",
       "      <th></th>\n",
       "      <th></th>\n",
       "      <th></th>\n",
       "    </tr>\n",
       "  </thead>\n",
       "  <tbody>\n",
       "    <tr>\n",
       "      <th>1999-01-04 10:21:00+00:00</th>\n",
       "      <td>0.2023</td>\n",
       "      <td>0.000000</td>\n",
       "      <td>0.000000</td>\n",
       "      <td>1999</td>\n",
       "      <td>1</td>\n",
       "    </tr>\n",
       "    <tr>\n",
       "      <th>1999-01-04 10:21:00+00:00</th>\n",
       "      <td>0.2023</td>\n",
       "      <td>0.000000</td>\n",
       "      <td>0.000000</td>\n",
       "      <td>1999</td>\n",
       "      <td>1</td>\n",
       "    </tr>\n",
       "    <tr>\n",
       "      <th>1999-01-04 12:11:00+00:00</th>\n",
       "      <td>0.3182</td>\n",
       "      <td>0.016667</td>\n",
       "      <td>0.266667</td>\n",
       "      <td>1999</td>\n",
       "      <td>1</td>\n",
       "    </tr>\n",
       "    <tr>\n",
       "      <th>1999-01-04 12:11:00+00:00</th>\n",
       "      <td>0.3182</td>\n",
       "      <td>0.016667</td>\n",
       "      <td>0.266667</td>\n",
       "      <td>1999</td>\n",
       "      <td>1</td>\n",
       "    </tr>\n",
       "    <tr>\n",
       "      <th>1999-01-05 06:36:00+00:00</th>\n",
       "      <td>0.9895</td>\n",
       "      <td>0.076871</td>\n",
       "      <td>0.329783</td>\n",
       "      <td>1999</td>\n",
       "      <td>1</td>\n",
       "    </tr>\n",
       "  </tbody>\n",
       "</table>\n",
       "</div>"
      ],
      "text/plain": [
       "                           sentiment  polarity  subjectivity  year  month\n",
       "date                                                                     \n",
       "1999-01-04 10:21:00+00:00     0.2023  0.000000      0.000000  1999      1\n",
       "1999-01-04 10:21:00+00:00     0.2023  0.000000      0.000000  1999      1\n",
       "1999-01-04 12:11:00+00:00     0.3182  0.016667      0.266667  1999      1\n",
       "1999-01-04 12:11:00+00:00     0.3182  0.016667      0.266667  1999      1\n",
       "1999-01-05 06:36:00+00:00     0.9895  0.076871      0.329783  1999      1"
      ]
     },
     "execution_count": 34,
     "metadata": {},
     "output_type": "execute_result"
    }
   ],
   "source": [
    "df4.head()"
   ]
  },
  {
   "cell_type": "code",
   "execution_count": 35,
   "id": "a800f550",
   "metadata": {},
   "outputs": [
    {
     "data": {
      "text/plain": [
       "Index(['sentiment', 'polarity', 'subjectivity', 'year', 'month'], dtype='object')"
      ]
     },
     "execution_count": 35,
     "metadata": {},
     "output_type": "execute_result"
    }
   ],
   "source": [
    "df4.columns"
   ]
  },
  {
   "cell_type": "code",
   "execution_count": 51,
   "id": "a3ea89ab",
   "metadata": {},
   "outputs": [],
   "source": [
    "df7 = df4"
   ]
  },
  {
   "cell_type": "code",
   "execution_count": 59,
   "id": "4c2c874c",
   "metadata": {},
   "outputs": [
    {
     "data": {
      "text/html": [
       "<div>\n",
       "<style scoped>\n",
       "    .dataframe tbody tr th:only-of-type {\n",
       "        vertical-align: middle;\n",
       "    }\n",
       "\n",
       "    .dataframe tbody tr th {\n",
       "        vertical-align: top;\n",
       "    }\n",
       "\n",
       "    .dataframe thead th {\n",
       "        text-align: right;\n",
       "    }\n",
       "</style>\n",
       "<table border=\"1\" class=\"dataframe\">\n",
       "  <thead>\n",
       "    <tr style=\"text-align: right;\">\n",
       "      <th></th>\n",
       "      <th>sentiment</th>\n",
       "      <th>year</th>\n",
       "    </tr>\n",
       "    <tr>\n",
       "      <th>date</th>\n",
       "      <th></th>\n",
       "      <th></th>\n",
       "    </tr>\n",
       "  </thead>\n",
       "  <tbody>\n",
       "    <tr>\n",
       "      <th>1999-01-04 10:21:00+00:00</th>\n",
       "      <td>0.2023</td>\n",
       "      <td>1999</td>\n",
       "    </tr>\n",
       "    <tr>\n",
       "      <th>1999-01-04 10:21:00+00:00</th>\n",
       "      <td>0.2023</td>\n",
       "      <td>1999</td>\n",
       "    </tr>\n",
       "    <tr>\n",
       "      <th>1999-01-04 12:11:00+00:00</th>\n",
       "      <td>0.3182</td>\n",
       "      <td>1999</td>\n",
       "    </tr>\n",
       "    <tr>\n",
       "      <th>1999-01-04 12:11:00+00:00</th>\n",
       "      <td>0.3182</td>\n",
       "      <td>1999</td>\n",
       "    </tr>\n",
       "    <tr>\n",
       "      <th>1999-01-05 06:36:00+00:00</th>\n",
       "      <td>0.9895</td>\n",
       "      <td>1999</td>\n",
       "    </tr>\n",
       "  </tbody>\n",
       "</table>\n",
       "</div>"
      ],
      "text/plain": [
       "                           sentiment  year\n",
       "date                                      \n",
       "1999-01-04 10:21:00+00:00     0.2023  1999\n",
       "1999-01-04 10:21:00+00:00     0.2023  1999\n",
       "1999-01-04 12:11:00+00:00     0.3182  1999\n",
       "1999-01-04 12:11:00+00:00     0.3182  1999\n",
       "1999-01-05 06:36:00+00:00     0.9895  1999"
      ]
     },
     "execution_count": 59,
     "metadata": {},
     "output_type": "execute_result"
    }
   ],
   "source": [
    "df7.head()"
   ]
  },
  {
   "cell_type": "code",
   "execution_count": 54,
   "id": "94027f6a",
   "metadata": {},
   "outputs": [],
   "source": [
    "def test_function(df, x):\n",
    "    for col in df4.columns:\n",
    "        if col != x:\n",
    "            if col != 'year':\n",
    "                df = df.drop(columns = [col])\n",
    "    return df"
   ]
  },
  {
   "cell_type": "code",
   "execution_count": 55,
   "id": "9a120a5c",
   "metadata": {},
   "outputs": [
    {
     "data": {
      "text/plain": [
       "date\n",
       "1999-01-04 10:21:00+00:00    0.2023\n",
       "1999-01-04 10:21:00+00:00    0.2023\n",
       "1999-01-04 12:11:00+00:00    0.3182\n",
       "1999-01-04 12:11:00+00:00    0.3182\n",
       "1999-01-05 06:36:00+00:00    0.9895\n",
       "                              ...  \n",
       "2002-09-20 22:04:12+00:00    0.2960\n",
       "2002-09-22 16:42:25+00:00    0.0000\n",
       "2002-09-23 04:01:33+00:00    0.6369\n",
       "2002-10-09 21:20:21+00:00    0.2732\n",
       "2002-12-21 08:24:45+00:00    0.9153\n",
       "Name: sentiment, Length: 516182, dtype: float64"
      ]
     },
     "execution_count": 55,
     "metadata": {},
     "output_type": "execute_result"
    }
   ],
   "source": [
    "df7 = test_function(df7, 'sentiment')\n",
    "df7.sentiment"
   ]
  },
  {
   "cell_type": "code",
   "execution_count": 83,
   "id": "5b35f3ca",
   "metadata": {},
   "outputs": [],
   "source": [
    "def time_series_graph_sentiment(df):\n",
    "    train = df[df.year == 1999]\n",
    "    highlight1 = df[df.year == 2000]\n",
    "    highlight2 = df[df.year == 2001]\n",
    "    test = df[df.year == 2002]\n",
    "\n",
    "    # show  highlighted years with sentiment\n",
    "    train_by_date = train.groupby(['date']).sentiment.sum().reset_index()\n",
    "\n",
    "    highlight1_by_date = highlight1.groupby(['date']).sentiment.sum().reset_index()\n",
    "\n",
    "    highlight2_by_date = highlight2.groupby(['date']).sentiment.sum().reset_index()\n",
    "\n",
    "    test_by_date = test.groupby(['date']).sentiment.sum().reset_index()\n",
    "\n",
    "    # Graph dates\n",
    "    time_graph = plt.figure(figsize = (16, 10))\n",
    "    plt.title(\"Sentiment Line Graph\")\n",
    "    plt.xlabel('Date', fontsize=20)\n",
    "    plt.ylabel('Summation of Sentiment Score by date', fontsize=20)\n",
    "    plt.plot(train_by_date.date, train_by_date.sentiment)\n",
    "    plt.plot(highlight1_by_date.date, highlight1_by_date.sentiment)\n",
    "    plt.plot(highlight2_by_date.date, highlight2_by_date.sentiment)\n",
    "    plt.plot(test_by_date.date, test_by_date.sentiment)\n",
    "    plt.show()"
   ]
  },
  {
   "cell_type": "code",
   "execution_count": 84,
   "id": "e28f4bbc",
   "metadata": {
    "scrolled": false
   },
   "outputs": [
    {
     "data": {
      "image/png": "[encoded data removed]",
      "text/plain": [
       "<Figure size 1152x720 with 1 Axes>"
      ]
     },
     "metadata": {
      "needs_background": "light"
     },
     "output_type": "display_data"
    }
   ],
   "source": [
    "time_series_graph_sentiment(df7)"
   ]
  },
  {
   "cell_type": "code",
   "execution_count": 81,
   "id": "a9725e94",
   "metadata": {},
   "outputs": [],
   "source": [
    "def time_series_graph_subjectivity(df):\n",
    "    train = df[df.year == 1999]\n",
    "    highlight1 = df[df.year == 2000]\n",
    "    highlight2 = df[df.year == 2001]\n",
    "    test = df[df.year == 2002]\n",
    "\n",
    "    # show  highlighted years with sentiment\n",
    "    train_by_date = train.groupby(['date']).subjectivity.sum().reset_index()\n",
    "\n",
    "    highlight1_by_date = highlight1.groupby(['date']).subjectivity.sum().reset_index()\n",
    "\n",
    "    highlight2_by_date = highlight2.groupby(['date']).subjectivity.sum().reset_index()\n",
    "\n",
    "    test_by_date = test.groupby(['date']).subjectivity.sum().reset_index()\n",
    "\n",
    "    # Graph dates\n",
    "    time_graph = plt.figure(figsize = (16, 10))\n",
    "    plt.title(\"Subjectivity Line Graph\")\n",
    "    plt.xlabel('Date', fontsize=20)\n",
    "    plt.ylabel('Summation of Subjectivity Score by date', fontsize=20)\n",
    "    plt.plot(train_by_date.date, train_by_date.subjectivity)\n",
    "    plt.plot(highlight1_by_date.date, highlight1_by_date.subjectivity)\n",
    "    plt.plot(highlight2_by_date.date, highlight2_by_date.subjectivity)\n",
    "    plt.plot(test_by_date.date, test_by_date.subjectivity)\n",
    "    plt.show()"
   ]
  },
  {
   "cell_type": "code",
   "execution_count": 82,
   "id": "eb61f672",
   "metadata": {},
   "outputs": [],
   "source": [
    "def time_series_graph_polarity(df):\n",
    "    train = df[df.year == 1999]\n",
    "    highlight1 = df[df.year == 2000]\n",
    "    highlight2 = df[df.year == 2001]\n",
    "    test = df[df.year == 2002]\n",
    "\n",
    "    # show  highlighted years with sentiment\n",
    "    train_by_date = train.groupby(['date']).polarity.sum().reset_index()\n",
    "\n",
    "    highlight1_by_date = highlight1.groupby(['date']).polarity.sum().reset_index()\n",
    "\n",
    "    highlight2_by_date = highlight2.groupby(['date']).polarity.sum().reset_index()\n",
    "\n",
    "    test_by_date = test.groupby(['date']).polarity.sum().reset_index()\n",
    "\n",
    "    # Graph dates\n",
    "    time_graph = plt.figure(figsize = (16, 10))\n",
    "    plt.title(\"Polarity Line Graph\")\n",
    "    plt.xlabel('Date', fontsize=20)\n",
    "    plt.ylabel('Summation of Polarity Score by date', fontsize=20)\n",
    "    plt.plot(train_by_date.date, train_by_date.polarity)\n",
    "    plt.plot(highlight1_by_date.date, highlight1_by_date.polarity)\n",
    "    plt.plot(highlight2_by_date.date, highlight2_by_date.polarity)\n",
    "    plt.plot(test_by_date.date, test_by_date.polarity)\n",
    "    plt.show()"
   ]
  },
  {
   "cell_type": "code",
   "execution_count": 78,
   "id": "8aefc349",
   "metadata": {},
   "outputs": [
    {
     "data": {
      "image/png": "[encoded data removed]",
      "text/plain": [
       "<Figure size 1152x720 with 1 Axes>"
      ]
     },
     "metadata": {
      "needs_background": "light"
     },
     "output_type": "display_data"
    }
   ],
   "source": [
    "time_series_graph_subjectivity(df4)"
   ]
  },
  {
   "cell_type": "code",
   "execution_count": 79,
   "id": "171e770d",
   "metadata": {},
   "outputs": [
    {
     "data": {
      "image/png": "[encoded data removed]",
      "text/plain": [
       "<Figure size 1152x720 with 1 Axes>"
      ]
     },
     "metadata": {
      "needs_background": "light"
     },
     "output_type": "display_data"
    }
   ],
   "source": [
    "time_series_graph_polarity(df4)"
   ]
  },
  {
   "cell_type": "code",
   "execution_count": 6,
   "id": "2204ee0f",
   "metadata": {
    "scrolled": false
   },
   "outputs": [
    {
     "data": {
      "image/png": "[encoded data removed]",
      "text/plain": [
       "<Figure size 1152x720 with 1 Axes>"
      ]
     },
     "metadata": {
      "needs_background": "light"
     },
     "output_type": "display_data"
    },
    {
     "data": {
      "image/png": "[encoded data removed]",
      "text/plain": [
       "<Figure size 1152x720 with 1 Axes>"
      ]
     },
     "metadata": {
      "needs_background": "light"
     },
     "output_type": "display_data"
    },
    {
     "data": {
      "image/png": "[encoded data removed]",
      "text/plain": [
       "<Figure size 1152x720 with 1 Axes>"
      ]
     },
     "metadata": {
      "needs_background": "light"
     },
     "output_type": "display_data"
    },
    {
     "data": {
      "text/plain": [
       "(None, None, None)"
      ]
     },
     "execution_count": 6,
     "metadata": {},
     "output_type": "execute_result"
    }
   ],
   "source": [
    "explore_def.chart_time_graphs(df4)"
   ]
  },
  {
   "cell_type": "code",
   "execution_count": null,
   "id": "240b0e4d",
   "metadata": {},
   "outputs": [],
   "source": [
    "explore_def.chart_seasonal_graphs(df4)"
   ]
  }
 ],
 "metadata": {
  "kernelspec": {
   "display_name": "Python 3 (ipykernel)",
   "language": "python",
   "name": "python3"
  },
  "language_info": {
   "codemirror_mode": {
    "name": "ipython",
    "version": 3
   },
   "file_extension": ".py",
   "mimetype": "text/x-python",
   "name": "python",
   "nbconvert_exporter": "python",
   "pygments_lexer": "ipython3",
   "version": "3.10.2"
  }
 },
 "nbformat": 4,
 "nbformat_minor": 5
}
