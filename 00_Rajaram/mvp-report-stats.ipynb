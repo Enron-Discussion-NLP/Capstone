{
 "cells": [
  {
   "cell_type": "markdown",
   "id": "6b895c77",
   "metadata": {},
   "source": [
    "# Getting Ahead of the Headline \n",
    "Analyzing employee emails using Natural Language Processing, Sentiment Analysis, and Time Series Analysis<br>\n",
    ">Paige Guajardo<br>\n",
    "Rajaram Gautam<br>\n",
    "Stephanie Jones<br>\n",
    "Kaniela Denis<br><br>"
   ]
  },
  {
   "cell_type": "markdown",
   "id": "f2aa3eb7",
   "metadata": {},
   "source": [
    "# Executive Summary\n",
    "## Background\n",
    "Enron Corporation was a major American energy, commodities, and services company that declared bankruptcy in December 2001 after over a decade of fraudulent accounting practices. During an error of more lenient financial regulations and high market speculation, Enron hid its financial losses in special purposes entities, making it appear much more profitable on paper than it actually was.<br><br>\n",
    "\n",
    "Enron has become synonymous with willful corporate fraud and corruption. The scandal also brought into question the accounting practices and activities of many corporations in the United States and was a factor in the enactment of the Sarbanes-Oxley Act of 2002. The scandal also affected the greater business world by causing the dissolution of the Arthur Andersen accounting firm, which had been Enron's main auditor for years.\n",
    "## About the Project\n",
    "In this unsupervised machine learning project we are exploring and analyzing Enron employee emails. We are using topic modeling, sentiment analysis, and time series analysis to identify trends in communication themes over time.\n",
    "\n",
    "## Project Goal\n",
    "For our MVP we are looking at a corpus of 5,575 emails sent by people of interest, as identified by the official congressional report on the role of Enron's board of directors (https://bit.ly/3Hjz5rI) on the collapse of the company.\n",
    "#### Data Dictionary\n",
    "variable | dtype | description\n",
    ":-- | :-- | :--\n",
    "`date` | datetime | date email was sent\n",
    "`file` | object | email file path (storage)\n",
    "`sender` | object | email sender email address\n",
    "`subject` | object | text of email subject\n",
    "`content` | object | raw email content\n",
    "`lemmatize` | object | cleaned and lemmatized email content\n",
    "`sentiment` | float | sentiment score\n",
    "`polarity` | float | measure of email sentiment, -1 (neg) to 1 (pos)\n",
    "`subjectivity` | float | measure of email subjectivity, 0 (obj), 1 (sub)\n",
    "`poi` | bool | True == Person of Interest, someone connected to investigation (more on this below)\n",
    "`is_internal` | bool | True == email was sent from Enron address\n",
    "\n",
    "## Initial Hypothesis\n",
    "Our initial hypothesis is that there will be distinct trends in email topics and sentiment over time. "
   ]
  },
  {
   "cell_type": "markdown",
   "id": "bceb1113",
   "metadata": {},
   "source": [
    "# Data Science Pipeline"
   ]
  },
  {
   "cell_type": "markdown",
   "id": "119111d8",
   "metadata": {},
   "source": [
    "## 00_planning\n",
    "We used a [Trello Board](https://trello.com/b/osnQZqjJ/enronnlp-project) for planning."
   ]
  },
  {
   "cell_type": "markdown",
   "id": "daa2736e",
   "metadata": {},
   "source": [
    "## 01_wrangle\n",
    "1. Acquire<br>\n",
    "Data source: [Kaggle](https://www.kaggle.com/wcukierski/enron-email-dataset), Will Cukierski | 2016\n",
    ">To acquire the raw data used for this project, download the csv file from the link above to your local drive and used the `pandas` library to read to a DataFrame. For instructions on downloading `pandas` see [README.md](https://github.com/Enron-Discussion-NLP/Capstone/blob/014d19cd2bfe023333f67e7bf5c30a1f13858e11/README.md), Steps to Recreate, Step 4. \n",
    "\n",
    "2. Clean\n",
    "Steps for Data Cleaning\n",
    ">- Import `email.parser` library for text parsing (see [README.md](https://github.com/Enron-Discussion-NLP/Capstone/blob/014d19cd2bfe023333f67e7bf5c30a1f13858e11/README.md), Steps to Recreate, Step 4) and parse email contents\n",
    ">- apply .lower(), .strip(), regex, normalize(), and encode() function to email body contents \n",
    ">- tokenize email body contents\n",
    ">- remove stop words\n",
    ">- stem and lemmatize\n",
    ">- changed date column dtype to datetime\n",
    ">- dropped nulls\n",
    "\n",
    "3. Engineered Features\n",
    "The following sentiment score algorithms were applied to cleaned email body contents see [README.md](https://github.com/Enron-Discussion-NLP/Capstone/blob/014d19cd2bfe023333f67e7bf5c30a1f13858e11/README.md), Steps to Recreate, Step 4\n",
    ">- Vader Sentiment Intensity Analyzer \n",
    ">- Textblob Polarity and Subjectivity\n",
    ">- `is_internal` (`True` if email has @enron in address)\n",
    ">- `poi` see [README.md](https://github.com/Enron-Discussion-NLP/Capstone/blob/014d19cd2bfe023333f67e7bf5c30a1f13858e11/README.md) for additional information on Persons of Interest"
   ]
  },
  {
   "cell_type": "code",
   "execution_count": 4,
   "id": "81f82cad",
   "metadata": {},
   "outputs": [
    {
     "name": "stdout",
     "output_type": "stream",
     "text": [
      "This file contains 516796 rows of data and 12 columns.\n",
      "There are 283 null values in cleaned text column.\n"
     ]
    }
   ],
   "source": [
    "import pandas as pd\n",
    "import datetime\n",
    "\n",
    "# reading in csv file of wrangled data\n",
    "df = pd.read_csv('clean.csv').drop(columns = ['Unnamed: 0'])\n",
    "\n",
    "# correcting date dtype to datetime\n",
    "df.date = pd.to_datetime(df.date)\n",
    "\n",
    "# dropping nulls in lemm column\n",
    "df.lemmatize.dropna(inplace = True)\n",
    "\n",
    "print(f'This file contains {df.shape[0]} rows of data and {df.shape[1]} columns.')\n",
    "print(f'There are {df.lemmatize.isna().sum()} null values in cleaned text column.')"
   ]
  },
  {
   "cell_type": "markdown",
   "id": "2e5b28af",
   "metadata": {},
   "source": [
    "## 02_explore"
   ]
  },
  {
   "cell_type": "code",
   "execution_count": 5,
   "id": "cd9ad7c7",
   "metadata": {},
   "outputs": [
    {
     "name": "stdout",
     "output_type": "stream",
     "text": [
      "<class 'pandas.core.frame.DataFrame'>\n",
      "RangeIndex: 516796 entries, 0 to 516795\n",
      "Data columns (total 12 columns):\n",
      " #   Column        Non-Null Count   Dtype         \n",
      "---  ------        --------------   -----         \n",
      " 0   date          516796 non-null  datetime64[ns]\n",
      " 1   file          516796 non-null  object        \n",
      " 2   sender        516796 non-null  object        \n",
      " 3   subject       497681 non-null  object        \n",
      " 4   content       516796 non-null  object        \n",
      " 5   lemmatize     516513 non-null  object        \n",
      " 6   sentiment     516796 non-null  float64       \n",
      " 7   polarity      516796 non-null  float64       \n",
      " 8   subjectivity  516796 non-null  float64       \n",
      " 9   poi           516796 non-null  bool          \n",
      " 10  is_internal   516796 non-null  bool          \n",
      " 11  year          516796 non-null  int64         \n",
      "dtypes: bool(2), datetime64[ns](1), float64(3), int64(1), object(5)\n",
      "memory usage: 40.4+ MB\n"
     ]
    }
   ],
   "source": [
    "df.info()"
   ]
  },
  {
   "cell_type": "markdown",
   "id": "343ba232",
   "metadata": {},
   "source": [
    "### Univariate Exploration\n",
    "What are the distributions of each variable?"
   ]
  },
  {
   "cell_type": "code",
   "execution_count": 6,
   "id": "58d1d6ec",
   "metadata": {},
   "outputs": [],
   "source": [
    "import matplotlib.pyplot as plt\n",
    "import seaborn as sns\n",
    "\n",
    "cont_vars = ['sentiment', 'polarity', 'subjectivity', 'year']\n",
    "bool_vars = ['poi', 'is_internal']"
   ]
  },
  {
   "cell_type": "code",
   "execution_count": 7,
   "id": "a8fba378",
   "metadata": {},
   "outputs": [
    {
     "data": {
      "image/png": "[encoded data removed]",
      "text/plain": [
       "<Figure size 720x288 with 1 Axes>"
      ]
     },
     "metadata": {
      "needs_background": "light"
     },
     "output_type": "display_data"
    },
    {
     "data": {
      "image/png": "[encoded data removed]",
      "text/plain": [
       "<Figure size 720x288 with 1 Axes>"
      ]
     },
     "metadata": {
      "needs_background": "light"
     },
     "output_type": "display_data"
    },
    {
     "data": {
      "image/png": "[encoded data removed]",
      "text/plain": [
       "<Figure size 720x288 with 1 Axes>"
      ]
     },
     "metadata": {
      "needs_background": "light"
     },
     "output_type": "display_data"
    },
    {
     "data": {
      "image/png": "[encoded data removed]",
      "text/plain": [
       "<Figure size 720x288 with 1 Axes>"
      ]
     },
     "metadata": {
      "needs_background": "light"
     },
     "output_type": "display_data"
    }
   ],
   "source": [
    "# distributions of continuous variables\n",
    "for var in cont_vars:\n",
    "    plt.figure(figsize = (10, 4))\n",
    "    sns.histplot(data = df, x = var, kde = True)\n",
    "    plt.title(var)\n",
    "    plt.show()"
   ]
  },
  {
   "cell_type": "markdown",
   "id": "f08f44e5",
   "metadata": {},
   "source": [
    "- sentiment mostly left skewed, polarity and subjectivity normal*ishly* distributed\n",
    "- most emails in 2000 and 2001"
   ]
  },
  {
   "cell_type": "code",
   "execution_count": 8,
   "id": "c8a68885",
   "metadata": {},
   "outputs": [
    {
     "data": {
      "image/png": "[encoded data removed]",
      "text/plain": [
       "<Figure size 432x288 with 1 Axes>"
      ]
     },
     "metadata": {
      "needs_background": "light"
     },
     "output_type": "display_data"
    }
   ],
   "source": [
    "# distributions of bools variables\n",
    "plt.figure(figsize = (6, 4))\n",
    "sns.countplot(data = df, x = 'is_internal', palette = ['grey', '#912a15'])\n",
    "plt.title(f'{round(df.is_internal.mean()*100)}% of Emails Sent Internally')\n",
    "plt.show()"
   ]
  },
  {
   "cell_type": "code",
   "execution_count": 9,
   "id": "c4bab589",
   "metadata": {},
   "outputs": [
    {
     "data": {
      "image/png": "[encoded data removed]",
      "text/plain": [
       "<Figure size 432x720 with 1 Axes>"
      ]
     },
     "metadata": {
      "needs_background": "light"
     },
     "output_type": "display_data"
    }
   ],
   "source": [
    "plt.figure(figsize = (6, 10))\n",
    "sns.countplot(data = df, x = 'poi', palette = ['#912a15', 'grey'])\n",
    "plt.title(f'{round(df.poi.mean()*100, 2)}% of Emails Sent from Person of Interest')\n",
    "plt.show()"
   ]
  },
  {
   "cell_type": "markdown",
   "id": "766cdedd",
   "metadata": {},
   "source": [
    "- most emails were sent from within Enron\n",
    "- most emails were *not* sent from a person of interest"
   ]
  },
  {
   "cell_type": "markdown",
   "id": "c777b200",
   "metadata": {},
   "source": [
    "#### Takeaways from Univariate Exploration\n",
    "This is a very large corpus of employee emails. For the mvp we will focus only on the persons of interest from the years 1999 - 2002 for further exploratory analysis."
   ]
  },
  {
   "cell_type": "code",
   "execution_count": 10,
   "id": "8efcbec9",
   "metadata": {},
   "outputs": [],
   "source": [
    "# filtering df for poi and years and dropping poi column\n",
    "df = df[(df.poi == True) & (df.year >= 1999) & (df.year <= 2002)].drop(columns = ['poi'])"
   ]
  },
  {
   "cell_type": "markdown",
   "id": "321fc958",
   "metadata": {},
   "source": [
    "### Bivariate Exploration"
   ]
  },
  {
   "cell_type": "code",
   "execution_count": 11,
   "id": "2bd03d06",
   "metadata": {},
   "outputs": [
    {
     "data": {
      "image/png": "[encoded data removed]",
      "text/plain": [
       "<Figure size 720x432 with 1 Axes>"
      ]
     },
     "metadata": {
      "needs_background": "light"
     },
     "output_type": "display_data"
    }
   ],
   "source": [
    "# how do the sentiment scores change over time?\n",
    "plt.figure(figsize = (10, 6))\n",
    "sns.boxenplot(data = df, x = 'year', y = 'sentiment', palette = ['grey', '#c8958a', '#b26a5b', '#912a15'])\n",
    "plt.title('Sentiment Scores Appear Similar Across Year, IQR Variance Increases Over Time')\n",
    "plt.show()"
   ]
  },
  {
   "cell_type": "code",
   "execution_count": 12,
   "id": "c506d09c",
   "metadata": {},
   "outputs": [],
   "source": [
    "from scipy.stats import ttest_ind_from_stats"
   ]
  },
  {
   "cell_type": "code",
   "execution_count": 13,
   "id": "a124d788",
   "metadata": {},
   "outputs": [
    {
     "data": {
      "text/html": [
       "<div>\n",
       "<style scoped>\n",
       "    .dataframe tbody tr th:only-of-type {\n",
       "        vertical-align: middle;\n",
       "    }\n",
       "\n",
       "    .dataframe tbody tr th {\n",
       "        vertical-align: top;\n",
       "    }\n",
       "\n",
       "    .dataframe thead th {\n",
       "        text-align: right;\n",
       "    }\n",
       "</style>\n",
       "<table border=\"1\" class=\"dataframe\">\n",
       "  <thead>\n",
       "    <tr style=\"text-align: right;\">\n",
       "      <th></th>\n",
       "      <th>date</th>\n",
       "      <th>file</th>\n",
       "      <th>sender</th>\n",
       "      <th>subject</th>\n",
       "      <th>content</th>\n",
       "      <th>lemmatize</th>\n",
       "      <th>sentiment</th>\n",
       "      <th>polarity</th>\n",
       "      <th>subjectivity</th>\n",
       "      <th>is_internal</th>\n",
       "      <th>year</th>\n",
       "    </tr>\n",
       "  </thead>\n",
       "  <tbody>\n",
       "    <tr>\n",
       "      <th>1037</th>\n",
       "      <td>2000-12-05</td>\n",
       "      <td>allen-p/all_documents/50.</td>\n",
       "      <td>tim.belden@enron.com</td>\n",
       "      <td>New Generation, Nov 30th</td>\n",
       "      <td>---------------------- Forwarded by Tim Belden...</td>\n",
       "      <td>forwarded tim beldenhouect 12052000 0544 krist...</td>\n",
       "      <td>0.0000</td>\n",
       "      <td>-0.015152</td>\n",
       "      <td>0.393939</td>\n",
       "      <td>True</td>\n",
       "      <td>2000</td>\n",
       "    </tr>\n",
       "    <tr>\n",
       "      <th>1277</th>\n",
       "      <td>2001-10-23</td>\n",
       "      <td>allen-p/deleted_items/149.</td>\n",
       "      <td>jeff.richter@enron.com</td>\n",
       "      <td>Check this out -</td>\n",
       "      <td>Phillip,\\n\\nWhich one should I do, the 8x12 is...</td>\n",
       "      <td>phillip one 8x12 half price jeff original mess...</td>\n",
       "      <td>0.9831</td>\n",
       "      <td>0.065981</td>\n",
       "      <td>0.428776</td>\n",
       "      <td>True</td>\n",
       "      <td>2001</td>\n",
       "    </tr>\n",
       "    <tr>\n",
       "      <th>1687</th>\n",
       "      <td>2000-12-05</td>\n",
       "      <td>allen-p/discussion_threads/190.</td>\n",
       "      <td>tim.belden@enron.com</td>\n",
       "      <td>New Generation, Nov 30th</td>\n",
       "      <td>---------------------- Forwarded by Tim Belden...</td>\n",
       "      <td>forwarded tim beldenhouect 12052000 0544 krist...</td>\n",
       "      <td>0.0000</td>\n",
       "      <td>-0.015152</td>\n",
       "      <td>0.393939</td>\n",
       "      <td>True</td>\n",
       "      <td>2000</td>\n",
       "    </tr>\n",
       "    <tr>\n",
       "      <th>2093</th>\n",
       "      <td>2000-12-05</td>\n",
       "      <td>allen-p/notes_inbox/40.</td>\n",
       "      <td>tim.belden@enron.com</td>\n",
       "      <td>New Generation, Nov 30th</td>\n",
       "      <td>---------------------- Forwarded by Tim Belden...</td>\n",
       "      <td>forwarded tim beldenhouect 12052000 0544 krist...</td>\n",
       "      <td>0.0000</td>\n",
       "      <td>-0.015152</td>\n",
       "      <td>0.393939</td>\n",
       "      <td>True</td>\n",
       "      <td>2000</td>\n",
       "    </tr>\n",
       "    <tr>\n",
       "      <th>8621</th>\n",
       "      <td>2000-08-20</td>\n",
       "      <td>badeer-r/all_documents/101.</td>\n",
       "      <td>tim.belden@enron.com</td>\n",
       "      <td>RE: Path 26 OTC increase -- IMPORTANT</td>\n",
       "      <td>check this out and let everyone know what's up...</td>\n",
       "      <td>check let everyone know ' forwarded tim belden...</td>\n",
       "      <td>0.9756</td>\n",
       "      <td>0.013605</td>\n",
       "      <td>0.358503</td>\n",
       "      <td>True</td>\n",
       "      <td>2000</td>\n",
       "    </tr>\n",
       "  </tbody>\n",
       "</table>\n",
       "</div>"
      ],
      "text/plain": [
       "           date                             file                  sender  \\\n",
       "1037 2000-12-05        allen-p/all_documents/50.    tim.belden@enron.com   \n",
       "1277 2001-10-23       allen-p/deleted_items/149.  jeff.richter@enron.com   \n",
       "1687 2000-12-05  allen-p/discussion_threads/190.    tim.belden@enron.com   \n",
       "2093 2000-12-05          allen-p/notes_inbox/40.    tim.belden@enron.com   \n",
       "8621 2000-08-20      badeer-r/all_documents/101.    tim.belden@enron.com   \n",
       "\n",
       "                                    subject  \\\n",
       "1037               New Generation, Nov 30th   \n",
       "1277                       Check this out -   \n",
       "1687               New Generation, Nov 30th   \n",
       "2093               New Generation, Nov 30th   \n",
       "8621  RE: Path 26 OTC increase -- IMPORTANT   \n",
       "\n",
       "                                                content  \\\n",
       "1037  ---------------------- Forwarded by Tim Belden...   \n",
       "1277  Phillip,\\n\\nWhich one should I do, the 8x12 is...   \n",
       "1687  ---------------------- Forwarded by Tim Belden...   \n",
       "2093  ---------------------- Forwarded by Tim Belden...   \n",
       "8621  check this out and let everyone know what's up...   \n",
       "\n",
       "                                              lemmatize  sentiment  polarity  \\\n",
       "1037  forwarded tim beldenhouect 12052000 0544 krist...     0.0000 -0.015152   \n",
       "1277  phillip one 8x12 half price jeff original mess...     0.9831  0.065981   \n",
       "1687  forwarded tim beldenhouect 12052000 0544 krist...     0.0000 -0.015152   \n",
       "2093  forwarded tim beldenhouect 12052000 0544 krist...     0.0000 -0.015152   \n",
       "8621  check let everyone know ' forwarded tim belden...     0.9756  0.013605   \n",
       "\n",
       "      subjectivity  is_internal  year  \n",
       "1037      0.393939         True  2000  \n",
       "1277      0.428776         True  2001  \n",
       "1687      0.393939         True  2000  \n",
       "2093      0.393939         True  2000  \n",
       "8621      0.358503         True  2000  "
      ]
     },
     "execution_count": 13,
     "metadata": {},
     "output_type": "execute_result"
    }
   ],
   "source": [
    "df.head()"
   ]
  },
  {
   "cell_type": "code",
   "execution_count": 15,
   "id": "acc97995",
   "metadata": {},
   "outputs": [],
   "source": [
    "import numpy as np"
   ]
  },
  {
   "cell_type": "code",
   "execution_count": 16,
   "id": "5af2d2f8",
   "metadata": {},
   "outputs": [
    {
     "data": {
      "text/html": [
       "<div>\n",
       "<style scoped>\n",
       "    .dataframe tbody tr th:only-of-type {\n",
       "        vertical-align: middle;\n",
       "    }\n",
       "\n",
       "    .dataframe tbody tr th {\n",
       "        vertical-align: top;\n",
       "    }\n",
       "\n",
       "    .dataframe thead th {\n",
       "        text-align: right;\n",
       "    }\n",
       "</style>\n",
       "<table border=\"1\" class=\"dataframe\">\n",
       "  <thead>\n",
       "    <tr style=\"text-align: right;\">\n",
       "      <th></th>\n",
       "      <th>date</th>\n",
       "      <th>file</th>\n",
       "      <th>sender</th>\n",
       "      <th>subject</th>\n",
       "      <th>content</th>\n",
       "      <th>lemmatize</th>\n",
       "      <th>sentiment</th>\n",
       "      <th>polarity</th>\n",
       "      <th>subjectivity</th>\n",
       "      <th>is_internal</th>\n",
       "      <th>year</th>\n",
       "      <th>year_2000</th>\n",
       "    </tr>\n",
       "  </thead>\n",
       "  <tbody>\n",
       "    <tr>\n",
       "      <th>1037</th>\n",
       "      <td>2000-12-05</td>\n",
       "      <td>allen-p/all_documents/50.</td>\n",
       "      <td>tim.belden@enron.com</td>\n",
       "      <td>New Generation, Nov 30th</td>\n",
       "      <td>---------------------- Forwarded by Tim Belden...</td>\n",
       "      <td>forwarded tim beldenhouect 12052000 0544 krist...</td>\n",
       "      <td>0.0000</td>\n",
       "      <td>-0.015152</td>\n",
       "      <td>0.393939</td>\n",
       "      <td>True</td>\n",
       "      <td>2000</td>\n",
       "      <td>True</td>\n",
       "    </tr>\n",
       "    <tr>\n",
       "      <th>1277</th>\n",
       "      <td>2001-10-23</td>\n",
       "      <td>allen-p/deleted_items/149.</td>\n",
       "      <td>jeff.richter@enron.com</td>\n",
       "      <td>Check this out -</td>\n",
       "      <td>Phillip,\\n\\nWhich one should I do, the 8x12 is...</td>\n",
       "      <td>phillip one 8x12 half price jeff original mess...</td>\n",
       "      <td>0.9831</td>\n",
       "      <td>0.065981</td>\n",
       "      <td>0.428776</td>\n",
       "      <td>True</td>\n",
       "      <td>2001</td>\n",
       "      <td>False</td>\n",
       "    </tr>\n",
       "    <tr>\n",
       "      <th>1687</th>\n",
       "      <td>2000-12-05</td>\n",
       "      <td>allen-p/discussion_threads/190.</td>\n",
       "      <td>tim.belden@enron.com</td>\n",
       "      <td>New Generation, Nov 30th</td>\n",
       "      <td>---------------------- Forwarded by Tim Belden...</td>\n",
       "      <td>forwarded tim beldenhouect 12052000 0544 krist...</td>\n",
       "      <td>0.0000</td>\n",
       "      <td>-0.015152</td>\n",
       "      <td>0.393939</td>\n",
       "      <td>True</td>\n",
       "      <td>2000</td>\n",
       "      <td>True</td>\n",
       "    </tr>\n",
       "    <tr>\n",
       "      <th>2093</th>\n",
       "      <td>2000-12-05</td>\n",
       "      <td>allen-p/notes_inbox/40.</td>\n",
       "      <td>tim.belden@enron.com</td>\n",
       "      <td>New Generation, Nov 30th</td>\n",
       "      <td>---------------------- Forwarded by Tim Belden...</td>\n",
       "      <td>forwarded tim beldenhouect 12052000 0544 krist...</td>\n",
       "      <td>0.0000</td>\n",
       "      <td>-0.015152</td>\n",
       "      <td>0.393939</td>\n",
       "      <td>True</td>\n",
       "      <td>2000</td>\n",
       "      <td>True</td>\n",
       "    </tr>\n",
       "    <tr>\n",
       "      <th>8621</th>\n",
       "      <td>2000-08-20</td>\n",
       "      <td>badeer-r/all_documents/101.</td>\n",
       "      <td>tim.belden@enron.com</td>\n",
       "      <td>RE: Path 26 OTC increase -- IMPORTANT</td>\n",
       "      <td>check this out and let everyone know what's up...</td>\n",
       "      <td>check let everyone know ' forwarded tim belden...</td>\n",
       "      <td>0.9756</td>\n",
       "      <td>0.013605</td>\n",
       "      <td>0.358503</td>\n",
       "      <td>True</td>\n",
       "      <td>2000</td>\n",
       "      <td>True</td>\n",
       "    </tr>\n",
       "  </tbody>\n",
       "</table>\n",
       "</div>"
      ],
      "text/plain": [
       "           date                             file                  sender  \\\n",
       "1037 2000-12-05        allen-p/all_documents/50.    tim.belden@enron.com   \n",
       "1277 2001-10-23       allen-p/deleted_items/149.  jeff.richter@enron.com   \n",
       "1687 2000-12-05  allen-p/discussion_threads/190.    tim.belden@enron.com   \n",
       "2093 2000-12-05          allen-p/notes_inbox/40.    tim.belden@enron.com   \n",
       "8621 2000-08-20      badeer-r/all_documents/101.    tim.belden@enron.com   \n",
       "\n",
       "                                    subject  \\\n",
       "1037               New Generation, Nov 30th   \n",
       "1277                       Check this out -   \n",
       "1687               New Generation, Nov 30th   \n",
       "2093               New Generation, Nov 30th   \n",
       "8621  RE: Path 26 OTC increase -- IMPORTANT   \n",
       "\n",
       "                                                content  \\\n",
       "1037  ---------------------- Forwarded by Tim Belden...   \n",
       "1277  Phillip,\\n\\nWhich one should I do, the 8x12 is...   \n",
       "1687  ---------------------- Forwarded by Tim Belden...   \n",
       "2093  ---------------------- Forwarded by Tim Belden...   \n",
       "8621  check this out and let everyone know what's up...   \n",
       "\n",
       "                                              lemmatize  sentiment  polarity  \\\n",
       "1037  forwarded tim beldenhouect 12052000 0544 krist...     0.0000 -0.015152   \n",
       "1277  phillip one 8x12 half price jeff original mess...     0.9831  0.065981   \n",
       "1687  forwarded tim beldenhouect 12052000 0544 krist...     0.0000 -0.015152   \n",
       "2093  forwarded tim beldenhouect 12052000 0544 krist...     0.0000 -0.015152   \n",
       "8621  check let everyone know ' forwarded tim belden...     0.9756  0.013605   \n",
       "\n",
       "      subjectivity  is_internal  year  year_2000  \n",
       "1037      0.393939         True  2000       True  \n",
       "1277      0.428776         True  2001      False  \n",
       "1687      0.393939         True  2000       True  \n",
       "2093      0.393939         True  2000       True  \n",
       "8621      0.358503         True  2000       True  "
      ]
     },
     "execution_count": 16,
     "metadata": {},
     "output_type": "execute_result"
    }
   ],
   "source": [
    "# Making a new column\n",
    "df['year_2000'] = np.where(df['year'] == 2000, True, False)\n",
    "df.head()"
   ]
  },
  {
   "cell_type": "code",
   "execution_count": null,
   "id": "f4096353",
   "metadata": {},
   "outputs": [],
   "source": [
    "# df['year_2000'] = np.where(df['year'] == 2000, True, False)"
   ]
  },
  {
   "cell_type": "code",
   "execution_count": null,
   "id": "08fb43d4",
   "metadata": {},
   "outputs": [],
   "source": [
    "# df['year_2001'] = np.where(df['year'] == 2001, True, False)"
   ]
  },
  {
   "cell_type": "code",
   "execution_count": null,
   "id": "d94b197a",
   "metadata": {},
   "outputs": [],
   "source": [
    "# df.head()"
   ]
  },
  {
   "cell_type": "code",
   "execution_count": 17,
   "id": "87bfe723",
   "metadata": {},
   "outputs": [],
   "source": [
    "# creating series for sentiments for 2000 and 2001\n",
    "sentiment_2000 = df[df.year_2000 == True].sentiment\n",
    "sentiment_2001 = df[df.year_2000 == False].sentiment"
   ]
  },
  {
   "cell_type": "code",
   "execution_count": 21,
   "id": "fb0cf5e0",
   "metadata": {},
   "outputs": [
    {
     "data": {
      "text/plain": [
       "1277      0.9831\n",
       "17989     0.5859\n",
       "18835     0.5859\n",
       "19028     0.9824\n",
       "19783     0.5859\n",
       "           ...  \n",
       "515596    0.5423\n",
       "515629   -0.9274\n",
       "515700    0.9118\n",
       "515762    0.9371\n",
       "515763    0.9712\n",
       "Name: sentiment, Length: 1584, dtype: float64"
      ]
     },
     "execution_count": 21,
     "metadata": {},
     "output_type": "execute_result"
    }
   ],
   "source": [
    "sentiment_2001"
   ]
  },
  {
   "cell_type": "code",
   "execution_count": null,
   "id": "e7d38702",
   "metadata": {},
   "outputs": [],
   "source": [
    "# plot distibution of sentiment for 2000\n",
    "sentiment_2000.hist()"
   ]
  },
  {
   "cell_type": "code",
   "execution_count": null,
   "id": "8bb6e9eb",
   "metadata": {},
   "outputs": [],
   "source": [
    "# plot distibution of sentiment for 2001\n",
    "sentiment_2001.hist()"
   ]
  },
  {
   "cell_type": "code",
   "execution_count": 18,
   "id": "1d027e50",
   "metadata": {},
   "outputs": [
    {
     "data": {
      "text/html": [
       "<div>\n",
       "<style scoped>\n",
       "    .dataframe tbody tr th:only-of-type {\n",
       "        vertical-align: middle;\n",
       "    }\n",
       "\n",
       "    .dataframe tbody tr th {\n",
       "        vertical-align: top;\n",
       "    }\n",
       "\n",
       "    .dataframe thead th {\n",
       "        text-align: right;\n",
       "    }\n",
       "</style>\n",
       "<table border=\"1\" class=\"dataframe\">\n",
       "  <thead>\n",
       "    <tr style=\"text-align: right;\">\n",
       "      <th></th>\n",
       "      <th>date</th>\n",
       "      <th>file</th>\n",
       "      <th>sender</th>\n",
       "      <th>subject</th>\n",
       "      <th>content</th>\n",
       "      <th>lemmatize</th>\n",
       "      <th>sentiment</th>\n",
       "      <th>polarity</th>\n",
       "      <th>subjectivity</th>\n",
       "      <th>is_internal</th>\n",
       "      <th>year</th>\n",
       "      <th>year_2000</th>\n",
       "    </tr>\n",
       "  </thead>\n",
       "  <tbody>\n",
       "    <tr>\n",
       "      <th>1037</th>\n",
       "      <td>2000-12-05</td>\n",
       "      <td>allen-p/all_documents/50.</td>\n",
       "      <td>tim.belden@enron.com</td>\n",
       "      <td>New Generation, Nov 30th</td>\n",
       "      <td>---------------------- Forwarded by Tim Belden...</td>\n",
       "      <td>forwarded tim beldenhouect 12052000 0544 krist...</td>\n",
       "      <td>0.0000</td>\n",
       "      <td>-0.015152</td>\n",
       "      <td>0.393939</td>\n",
       "      <td>True</td>\n",
       "      <td>2000</td>\n",
       "      <td>True</td>\n",
       "    </tr>\n",
       "    <tr>\n",
       "      <th>1277</th>\n",
       "      <td>2001-10-23</td>\n",
       "      <td>allen-p/deleted_items/149.</td>\n",
       "      <td>jeff.richter@enron.com</td>\n",
       "      <td>Check this out -</td>\n",
       "      <td>Phillip,\\n\\nWhich one should I do, the 8x12 is...</td>\n",
       "      <td>phillip one 8x12 half price jeff original mess...</td>\n",
       "      <td>0.9831</td>\n",
       "      <td>0.065981</td>\n",
       "      <td>0.428776</td>\n",
       "      <td>True</td>\n",
       "      <td>2001</td>\n",
       "      <td>False</td>\n",
       "    </tr>\n",
       "    <tr>\n",
       "      <th>1687</th>\n",
       "      <td>2000-12-05</td>\n",
       "      <td>allen-p/discussion_threads/190.</td>\n",
       "      <td>tim.belden@enron.com</td>\n",
       "      <td>New Generation, Nov 30th</td>\n",
       "      <td>---------------------- Forwarded by Tim Belden...</td>\n",
       "      <td>forwarded tim beldenhouect 12052000 0544 krist...</td>\n",
       "      <td>0.0000</td>\n",
       "      <td>-0.015152</td>\n",
       "      <td>0.393939</td>\n",
       "      <td>True</td>\n",
       "      <td>2000</td>\n",
       "      <td>True</td>\n",
       "    </tr>\n",
       "    <tr>\n",
       "      <th>2093</th>\n",
       "      <td>2000-12-05</td>\n",
       "      <td>allen-p/notes_inbox/40.</td>\n",
       "      <td>tim.belden@enron.com</td>\n",
       "      <td>New Generation, Nov 30th</td>\n",
       "      <td>---------------------- Forwarded by Tim Belden...</td>\n",
       "      <td>forwarded tim beldenhouect 12052000 0544 krist...</td>\n",
       "      <td>0.0000</td>\n",
       "      <td>-0.015152</td>\n",
       "      <td>0.393939</td>\n",
       "      <td>True</td>\n",
       "      <td>2000</td>\n",
       "      <td>True</td>\n",
       "    </tr>\n",
       "    <tr>\n",
       "      <th>8621</th>\n",
       "      <td>2000-08-20</td>\n",
       "      <td>badeer-r/all_documents/101.</td>\n",
       "      <td>tim.belden@enron.com</td>\n",
       "      <td>RE: Path 26 OTC increase -- IMPORTANT</td>\n",
       "      <td>check this out and let everyone know what's up...</td>\n",
       "      <td>check let everyone know ' forwarded tim belden...</td>\n",
       "      <td>0.9756</td>\n",
       "      <td>0.013605</td>\n",
       "      <td>0.358503</td>\n",
       "      <td>True</td>\n",
       "      <td>2000</td>\n",
       "      <td>True</td>\n",
       "    </tr>\n",
       "  </tbody>\n",
       "</table>\n",
       "</div>"
      ],
      "text/plain": [
       "           date                             file                  sender  \\\n",
       "1037 2000-12-05        allen-p/all_documents/50.    tim.belden@enron.com   \n",
       "1277 2001-10-23       allen-p/deleted_items/149.  jeff.richter@enron.com   \n",
       "1687 2000-12-05  allen-p/discussion_threads/190.    tim.belden@enron.com   \n",
       "2093 2000-12-05          allen-p/notes_inbox/40.    tim.belden@enron.com   \n",
       "8621 2000-08-20      badeer-r/all_documents/101.    tim.belden@enron.com   \n",
       "\n",
       "                                    subject  \\\n",
       "1037               New Generation, Nov 30th   \n",
       "1277                       Check this out -   \n",
       "1687               New Generation, Nov 30th   \n",
       "2093               New Generation, Nov 30th   \n",
       "8621  RE: Path 26 OTC increase -- IMPORTANT   \n",
       "\n",
       "                                                content  \\\n",
       "1037  ---------------------- Forwarded by Tim Belden...   \n",
       "1277  Phillip,\\n\\nWhich one should I do, the 8x12 is...   \n",
       "1687  ---------------------- Forwarded by Tim Belden...   \n",
       "2093  ---------------------- Forwarded by Tim Belden...   \n",
       "8621  check this out and let everyone know what's up...   \n",
       "\n",
       "                                              lemmatize  sentiment  polarity  \\\n",
       "1037  forwarded tim beldenhouect 12052000 0544 krist...     0.0000 -0.015152   \n",
       "1277  phillip one 8x12 half price jeff original mess...     0.9831  0.065981   \n",
       "1687  forwarded tim beldenhouect 12052000 0544 krist...     0.0000 -0.015152   \n",
       "2093  forwarded tim beldenhouect 12052000 0544 krist...     0.0000 -0.015152   \n",
       "8621  check let everyone know ' forwarded tim belden...     0.9756  0.013605   \n",
       "\n",
       "      subjectivity  is_internal  year  year_2000  \n",
       "1037      0.393939         True  2000       True  \n",
       "1277      0.428776         True  2001      False  \n",
       "1687      0.393939         True  2000       True  \n",
       "2093      0.393939         True  2000       True  \n",
       "8621      0.358503         True  2000       True  "
      ]
     },
     "execution_count": 18,
     "metadata": {},
     "output_type": "execute_result"
    }
   ],
   "source": [
    "df.head()"
   ]
  },
  {
   "cell_type": "markdown",
   "id": "95694120",
   "metadata": {},
   "source": [
    "### Stat Work Start"
   ]
  },
  {
   "cell_type": "code",
   "execution_count": null,
   "id": "952553cf",
   "metadata": {},
   "outputs": [],
   "source": [
    "# H(a): 2000 intensity score > 2001 intensity score // 1 tailed, 2 sample t test"
   ]
  },
  {
   "cell_type": "code",
   "execution_count": null,
   "id": "8d97940d",
   "metadata": {},
   "outputs": [],
   "source": [
    "from scipy.stats import ttest_ind_from_stats"
   ]
  },
  {
   "cell_type": "code",
   "execution_count": null,
   "id": "7314bda3",
   "metadata": {},
   "outputs": [],
   "source": [
    "α = 0.05"
   ]
  },
  {
   "cell_type": "markdown",
   "id": "53878478",
   "metadata": {},
   "source": [
    "\n",
    "- HO: Sentiment Score of Year 2000 is equal to Sentiment Year of 2001\n",
    "- H(a): Sentiment Score of Year 2000 > Sentiment Score of Year 2001"
   ]
  },
  {
   "cell_type": "code",
   "execution_count": null,
   "id": "f227cc03",
   "metadata": {},
   "outputs": [],
   "source": [
    "sentiment_2000.var(), sentiment_2001.var()"
   ]
  },
  {
   "cell_type": "code",
   "execution_count": null,
   "id": "c078717b",
   "metadata": {},
   "outputs": [],
   "source": [
    "from scipy import stats"
   ]
  },
  {
   "cell_type": "code",
   "execution_count": null,
   "id": "8f0de71f",
   "metadata": {},
   "outputs": [],
   "source": [
    "t, p = stats.ttest_ind(sentiment_2000, sentiment_2001, equal_var= False)\n",
    "\n",
    "t, p/2, α"
   ]
  },
  {
   "cell_type": "code",
   "execution_count": null,
   "id": "a6f89529",
   "metadata": {},
   "outputs": [],
   "source": [
    "if (p/2 < α) & (t > 0):\n",
    "    print('We reject the null hypothesis')\n",
    "else:\n",
    "    print('We fail to reject the null hypothesis')"
   ]
  },
  {
   "cell_type": "code",
   "execution_count": 48,
   "id": "c90d4050",
   "metadata": {},
   "outputs": [],
   "source": [
    "# Function for 1 tailed 2 sample t test\n",
    "from scipy import stats\n",
    "from scipy.stats import ttest_ind_from_stats\n",
    "import numpy as np\n",
    "α = 0.05\n",
    "\n",
    "def stats_t_test_1tail_2sample_senti():\n",
    "    # creating series for sentiments for 2000 and 2001\n",
    "    year_2000 = df[df.year_2000 == True].sentiment\n",
    "    year_2001 = df[df.year_2000 == False].sentiment\n",
    "    t, p = stats.ttest_ind(sentiment_2000, sentiment_2001, equal_var= False)\n",
    "\n",
    "    t, p/2, α\n",
    "    \n",
    "    if (p/2 < α) & (t > 0):\n",
    "        print('We reject the null hypothesis')\n",
    "    else:\n",
    "        print('We fail to reject the null hypothesis')\n",
    "    "
   ]
  },
  {
   "cell_type": "code",
   "execution_count": 49,
   "id": "02d0f7af",
   "metadata": {},
   "outputs": [
    {
     "name": "stdout",
     "output_type": "stream",
     "text": [
      "We fail to reject the null hypothesis\n"
     ]
    }
   ],
   "source": [
    "stats_t_test_1tail_2sample_senti()"
   ]
  },
  {
   "cell_type": "code",
   "execution_count": 52,
   "id": "c1cace18",
   "metadata": {},
   "outputs": [],
   "source": [
    "def stats_t_test_1tail_2sample_senti_pola():\n",
    "    # creating series for polaritys for 2000 and 2001\n",
    "    year_2000 = df[df.year_2000 == True].polarity\n",
    "    year_2001 = df[df.year_2000 == False].polarity\n",
    "    t, p = stats.ttest_ind(year_2000, year_2001, equal_var= False)\n",
    "\n",
    "    t, p/2, α\n",
    "    \n",
    "    if (p/2 < α) & (t > 0):\n",
    "        print('We reject the null hypothesis')\n",
    "    else:\n",
    "        print('We fail to reject the null hypothesis')"
   ]
  },
  {
   "cell_type": "code",
   "execution_count": 53,
   "id": "2b38822e",
   "metadata": {},
   "outputs": [
    {
     "name": "stdout",
     "output_type": "stream",
     "text": [
      "We fail to reject the null hypothesis\n"
     ]
    }
   ],
   "source": [
    "stats_t_test_1tail_2sample_senti_pola()"
   ]
  },
  {
   "cell_type": "code",
   "execution_count": 54,
   "id": "0791cd00",
   "metadata": {},
   "outputs": [],
   "source": [
    "def stats_t_test_1tail_2sample_senti_sub():\n",
    "    # creating series for subjectivitys for 2000 and 2001\n",
    "    year_2000 = df[df.year_2000 == True].subjectivity\n",
    "    year_2001 = df[df.year_2000 == False].subjectivity\n",
    "    t, p = stats.ttest_ind(year_2000, year_2001, equal_var= False)\n",
    "\n",
    "    t, p/2, α\n",
    "    \n",
    "    if (p/2 < α) & (t > 0):\n",
    "        print('We reject the null hypothesis')\n",
    "    else:\n",
    "        print('We fail to reject the null hypothesis')"
   ]
  },
  {
   "cell_type": "code",
   "execution_count": 55,
   "id": "7988dc8e",
   "metadata": {},
   "outputs": [
    {
     "name": "stdout",
     "output_type": "stream",
     "text": [
      "We reject the null hypothesis\n"
     ]
    }
   ],
   "source": [
    "stats_t_test_1tail_2sample_senti_sub()"
   ]
  },
  {
   "cell_type": "markdown",
   "id": "0519fa3e",
   "metadata": {},
   "source": [
    "### Stat Work End"
   ]
  },
  {
   "cell_type": "code",
   "execution_count": null,
   "id": "2405c839",
   "metadata": {},
   "outputs": [],
   "source": [
    "plt.figure(figsize = (10, 6))\n",
    "sns.boxenplot(data = df, x = 'year', y = 'polarity', palette = ['#912a15', '#b26a5b', '#b26a5b', 'grey'])\n",
    "plt.title('Polarity Scores Appear Similar Across Year, IQR Variance Decreases Over Time')\n",
    "plt.show()"
   ]
  },
  {
   "cell_type": "code",
   "execution_count": null,
   "id": "56375e04",
   "metadata": {},
   "outputs": [],
   "source": [
    "plt.figure(figsize = (10, 6))\n",
    "sns.boxenplot(data = df, x = 'year', y = 'subjectivity', palette = ['#912a15', '#b26a5b', '#b26a5b', 'grey'])\n",
    "plt.title('Subjectivity Appears to Descrease Over Time')\n",
    "plt.show()"
   ]
  },
  {
   "cell_type": "code",
   "execution_count": null,
   "id": "0afc5efa",
   "metadata": {},
   "outputs": [],
   "source": [
    "# do internal emails have higher or lower sentiment scores than external emails?\n",
    "sns.boxenplot(data = df, x = 'is_internal', y = 'sentiment', palette = ['grey', '#912a15'])\n",
    "plt.title('Internal and External Sentiment about the Same, Internal Emails have Greater Variance')\n",
    "plt.show()"
   ]
  },
  {
   "cell_type": "code",
   "execution_count": null,
   "id": "0cf4b6a9",
   "metadata": {},
   "outputs": [],
   "source": [
    "sns.boxenplot(data = df, x = 'is_internal', y = 'polarity', palette = ['#912a15', 'grey'])\n",
    "plt.title('Polarity Higher for External Emails')\n",
    "plt.show()"
   ]
  },
  {
   "cell_type": "code",
   "execution_count": null,
   "id": "610f5c58",
   "metadata": {},
   "outputs": [],
   "source": [
    "sns.boxenplot(data = df, x = 'is_internal', y = 'subjectivity', palette = ['#912a15', 'grey'])\n",
    "plt.title('Higher Subjectivity for External Emails')\n",
    "plt.show()"
   ]
  },
  {
   "cell_type": "markdown",
   "id": "0aee687e",
   "metadata": {},
   "source": [
    "#### Takeaways from Bivariate Exploration"
   ]
  },
  {
   "cell_type": "markdown",
   "id": "23b228b6",
   "metadata": {},
   "source": [
    "### Multivariate Analysis"
   ]
  },
  {
   "cell_type": "code",
   "execution_count": null,
   "id": "b11ba09d",
   "metadata": {},
   "outputs": [],
   "source": []
  },
  {
   "cell_type": "markdown",
   "id": "cc8dab0d",
   "metadata": {},
   "source": [
    "#### Takeaways from Multivariate Analysis"
   ]
  },
  {
   "cell_type": "markdown",
   "id": "56f5d4f1",
   "metadata": {},
   "source": [
    "### Time Series Analysis"
   ]
  },
  {
   "cell_type": "code",
   "execution_count": null,
   "id": "b75c9cd9",
   "metadata": {},
   "outputs": [],
   "source": []
  },
  {
   "cell_type": "markdown",
   "id": "33f0f5b2",
   "metadata": {},
   "source": [
    "#### Takeaways from Time Series Analysis"
   ]
  },
  {
   "cell_type": "code",
   "execution_count": null,
   "id": "4463c411",
   "metadata": {},
   "outputs": [],
   "source": []
  },
  {
   "cell_type": "markdown",
   "id": "0559ac5b",
   "metadata": {},
   "source": [
    "## 03_model\n",
    "We used the `BERTopic` topic modeling algorithms to test our hypothesis, that we could identify unique themes in the email corpus by year. The functions used for this model can be found in the `model.py` module."
   ]
  },
  {
   "cell_type": "code",
   "execution_count": null,
   "id": "f1c8a279",
   "metadata": {},
   "outputs": [],
   "source": [
    "import model as m\n",
    "\n",
    "# topics for 2000\n",
    "m.get_topics(df[df.year == 2000])"
   ]
  },
  {
   "cell_type": "code",
   "execution_count": null,
   "id": "67ab6e75",
   "metadata": {},
   "outputs": [],
   "source": []
  },
  {
   "cell_type": "code",
   "execution_count": null,
   "id": "eb09946a",
   "metadata": {},
   "outputs": [],
   "source": []
  },
  {
   "cell_type": "code",
   "execution_count": null,
   "id": "d9ac31c1",
   "metadata": {
    "scrolled": false
   },
   "outputs": [],
   "source": [
    "# topics for 2001\n",
    "\n",
    "# # dropping x6 nulls from lemm text col for model to run without error\n",
    "# df = df[df.lemmatize.isnull()==False]\n",
    "\n",
    "m.get_topics(df[df.year == 2001])"
   ]
  },
  {
   "cell_type": "code",
   "execution_count": null,
   "id": "aa552890",
   "metadata": {},
   "outputs": [],
   "source": []
  },
  {
   "cell_type": "code",
   "execution_count": null,
   "id": "d44309ef",
   "metadata": {},
   "outputs": [],
   "source": [
    "# topics for 2002\n",
    "m.get_topics(df[df.year == 2002])"
   ]
  },
  {
   "cell_type": "code",
   "execution_count": null,
   "id": "7bca1ae4",
   "metadata": {},
   "outputs": [],
   "source": []
  },
  {
   "cell_type": "markdown",
   "id": "4fb3f92a",
   "metadata": {},
   "source": [
    "### Kenneth Lay, Robert A. Belfer, Norman P. Blake, Jr., Ronnie C. Chan, John H. Duncan, Dr. Wendy L. Gramm, Dr. Robert K. Jaedicke, Dr. Charles A. LeMaistre, Dr. John Mendelsohn, Paulo Ferraz Pereira, Frank Savage, Lord John Wakeham, Charls Walker, and Herbert S. Winokur, Jr."
   ]
  },
  {
   "cell_type": "code",
   "execution_count": null,
   "id": "46c08206",
   "metadata": {},
   "outputs": [],
   "source": []
  }
 ],
 "metadata": {
  "kernelspec": {
   "display_name": "Python 3 (ipykernel)",
   "language": "python",
   "name": "python3"
  },
  "language_info": {
   "codemirror_mode": {
    "name": "ipython",
    "version": 3
   },
   "file_extension": ".py",
   "mimetype": "text/x-python",
   "name": "python",
   "nbconvert_exporter": "python",
   "pygments_lexer": "ipython3",
   "version": "3.8.8"
  }
 },
 "nbformat": 4,
 "nbformat_minor": 5
}
