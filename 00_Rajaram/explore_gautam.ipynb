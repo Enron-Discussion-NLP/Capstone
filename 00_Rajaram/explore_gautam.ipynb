{
 "cells": [
  {
   "cell_type": "code",
   "execution_count": 106,
   "id": "fe3400cf",
   "metadata": {},
   "outputs": [],
   "source": [
    "# import\n",
    "import statsmodels.api as sm\n",
    "import re\n",
    "import pandas as pd\n",
    "import numpy as np\n",
    "\n",
    "import email\n",
    "from email.parser import Parser\n",
    "\n",
    "import matplotlib.pyplot as plt\n",
    "\n",
    "import unicodedata\n",
    "\n",
    "import nltk\n",
    "from nltk.tokenize.toktok import ToktokTokenizer\n",
    "from nltk.corpus import stopwords\n",
    "from sklearn.model_selection import train_test_split\n",
    "from sklearn.feature_extraction.text import TfidfVectorizer\n",
    "\n",
    "import acquire\n",
    "from prepare import basic_clean, tokenize, stem, lemmatize, remove_stopwords\n",
    "\n",
    "import warnings\n",
    "warnings.filterwarnings('ignore')"
   ]
  },
  {
   "cell_type": "markdown",
   "id": "5983b1d5",
   "metadata": {},
   "source": [
    "# Explore"
   ]
  },
  {
   "cell_type": "code",
   "execution_count": 2,
   "id": "b9a0219c",
   "metadata": {},
   "outputs": [],
   "source": [
    "df_new = pd.read_csv('all')"
   ]
  },
  {
   "cell_type": "code",
   "execution_count": 3,
   "id": "3708b6fa",
   "metadata": {},
   "outputs": [
    {
     "data": {
      "text/html": [
       "<div>\n",
       "<style scoped>\n",
       "    .dataframe tbody tr th:only-of-type {\n",
       "        vertical-align: middle;\n",
       "    }\n",
       "\n",
       "    .dataframe tbody tr th {\n",
       "        vertical-align: top;\n",
       "    }\n",
       "\n",
       "    .dataframe thead th {\n",
       "        text-align: right;\n",
       "    }\n",
       "</style>\n",
       "<table border=\"1\" class=\"dataframe\">\n",
       "  <thead>\n",
       "    <tr style=\"text-align: right;\">\n",
       "      <th></th>\n",
       "      <th>Unnamed: 0</th>\n",
       "      <th>date</th>\n",
       "      <th>content</th>\n",
       "      <th>clean</th>\n",
       "      <th>stemmed</th>\n",
       "      <th>lemmatized</th>\n",
       "    </tr>\n",
       "  </thead>\n",
       "  <tbody>\n",
       "    <tr>\n",
       "      <th>0</th>\n",
       "      <td>0</td>\n",
       "      <td>Mon, 14 May 2001 16:39:00 -0700 (PDT)</td>\n",
       "      <td>Here is our forecast\\n\\n</td>\n",
       "      <td>forecast</td>\n",
       "      <td>forecast</td>\n",
       "      <td>forecast</td>\n",
       "    </tr>\n",
       "    <tr>\n",
       "      <th>1</th>\n",
       "      <td>1</td>\n",
       "      <td>Fri, 4 May 2001 13:51:00 -0700 (PDT)</td>\n",
       "      <td>Traveling to have a business meeting takes the...</td>\n",
       "      <td>traveling business meeting takes fun trip espe...</td>\n",
       "      <td>travel busi meet take fun trip especi prepar p...</td>\n",
       "      <td>traveling business meeting take fun trip espec...</td>\n",
       "    </tr>\n",
       "    <tr>\n",
       "      <th>2</th>\n",
       "      <td>2</td>\n",
       "      <td>Wed, 18 Oct 2000 03:00:00 -0700 (PDT)</td>\n",
       "      <td>test successful.  way to go!!!</td>\n",
       "      <td>test successful way go</td>\n",
       "      <td>test success way go</td>\n",
       "      <td>test successful way go</td>\n",
       "    </tr>\n",
       "    <tr>\n",
       "      <th>3</th>\n",
       "      <td>3</td>\n",
       "      <td>Mon, 23 Oct 2000 06:13:00 -0700 (PDT)</td>\n",
       "      <td>Randy,\\n\\n Can you send me a schedule of the s...</td>\n",
       "      <td>randy send schedule salary level everyone sche...</td>\n",
       "      <td>randi send schedul salari level everyon schedu...</td>\n",
       "      <td>randy send schedule salary level everyone sche...</td>\n",
       "    </tr>\n",
       "    <tr>\n",
       "      <th>4</th>\n",
       "      <td>4</td>\n",
       "      <td>Thu, 31 Aug 2000 05:07:00 -0700 (PDT)</td>\n",
       "      <td>Let's shoot for Tuesday at 11:45.</td>\n",
       "      <td>let ' shoot tuesday 1145</td>\n",
       "      <td>let ' shoot tuesday 1145</td>\n",
       "      <td>let ' shoot tuesday 1145</td>\n",
       "    </tr>\n",
       "  </tbody>\n",
       "</table>\n",
       "</div>"
      ],
      "text/plain": [
       "   Unnamed: 0                                   date  \\\n",
       "0           0  Mon, 14 May 2001 16:39:00 -0700 (PDT)   \n",
       "1           1   Fri, 4 May 2001 13:51:00 -0700 (PDT)   \n",
       "2           2  Wed, 18 Oct 2000 03:00:00 -0700 (PDT)   \n",
       "3           3  Mon, 23 Oct 2000 06:13:00 -0700 (PDT)   \n",
       "4           4  Thu, 31 Aug 2000 05:07:00 -0700 (PDT)   \n",
       "\n",
       "                                             content  \\\n",
       "0                          Here is our forecast\\n\\n    \n",
       "1  Traveling to have a business meeting takes the...   \n",
       "2                     test successful.  way to go!!!   \n",
       "3  Randy,\\n\\n Can you send me a schedule of the s...   \n",
       "4                Let's shoot for Tuesday at 11:45.     \n",
       "\n",
       "                                               clean  \\\n",
       "0                                           forecast   \n",
       "1  traveling business meeting takes fun trip espe...   \n",
       "2                             test successful way go   \n",
       "3  randy send schedule salary level everyone sche...   \n",
       "4                           let ' shoot tuesday 1145   \n",
       "\n",
       "                                             stemmed  \\\n",
       "0                                           forecast   \n",
       "1  travel busi meet take fun trip especi prepar p...   \n",
       "2                                test success way go   \n",
       "3  randi send schedul salari level everyon schedu...   \n",
       "4                           let ' shoot tuesday 1145   \n",
       "\n",
       "                                          lemmatized  \n",
       "0                                           forecast  \n",
       "1  traveling business meeting take fun trip espec...  \n",
       "2                             test successful way go  \n",
       "3  randy send schedule salary level everyone sche...  \n",
       "4                           let ' shoot tuesday 1145  "
      ]
     },
     "execution_count": 3,
     "metadata": {},
     "output_type": "execute_result"
    }
   ],
   "source": [
    "df_new.head()"
   ]
  },
  {
   "cell_type": "code",
   "execution_count": 4,
   "id": "b8408b98",
   "metadata": {},
   "outputs": [],
   "source": [
    "# dropping Unnamed: 0\n",
    "\n",
    "df_new = df_new.drop(columns = 'Unnamed: 0')"
   ]
  },
  {
   "cell_type": "code",
   "execution_count": 5,
   "id": "cf61b2c3",
   "metadata": {},
   "outputs": [
    {
     "data": {
      "text/html": [
       "<div>\n",
       "<style scoped>\n",
       "    .dataframe tbody tr th:only-of-type {\n",
       "        vertical-align: middle;\n",
       "    }\n",
       "\n",
       "    .dataframe tbody tr th {\n",
       "        vertical-align: top;\n",
       "    }\n",
       "\n",
       "    .dataframe thead th {\n",
       "        text-align: right;\n",
       "    }\n",
       "</style>\n",
       "<table border=\"1\" class=\"dataframe\">\n",
       "  <thead>\n",
       "    <tr style=\"text-align: right;\">\n",
       "      <th></th>\n",
       "      <th>date</th>\n",
       "      <th>content</th>\n",
       "      <th>clean</th>\n",
       "      <th>stemmed</th>\n",
       "      <th>lemmatized</th>\n",
       "    </tr>\n",
       "  </thead>\n",
       "  <tbody>\n",
       "    <tr>\n",
       "      <th>0</th>\n",
       "      <td>Mon, 14 May 2001 16:39:00 -0700 (PDT)</td>\n",
       "      <td>Here is our forecast\\n\\n</td>\n",
       "      <td>forecast</td>\n",
       "      <td>forecast</td>\n",
       "      <td>forecast</td>\n",
       "    </tr>\n",
       "    <tr>\n",
       "      <th>1</th>\n",
       "      <td>Fri, 4 May 2001 13:51:00 -0700 (PDT)</td>\n",
       "      <td>Traveling to have a business meeting takes the...</td>\n",
       "      <td>traveling business meeting takes fun trip espe...</td>\n",
       "      <td>travel busi meet take fun trip especi prepar p...</td>\n",
       "      <td>traveling business meeting take fun trip espec...</td>\n",
       "    </tr>\n",
       "    <tr>\n",
       "      <th>2</th>\n",
       "      <td>Wed, 18 Oct 2000 03:00:00 -0700 (PDT)</td>\n",
       "      <td>test successful.  way to go!!!</td>\n",
       "      <td>test successful way go</td>\n",
       "      <td>test success way go</td>\n",
       "      <td>test successful way go</td>\n",
       "    </tr>\n",
       "    <tr>\n",
       "      <th>3</th>\n",
       "      <td>Mon, 23 Oct 2000 06:13:00 -0700 (PDT)</td>\n",
       "      <td>Randy,\\n\\n Can you send me a schedule of the s...</td>\n",
       "      <td>randy send schedule salary level everyone sche...</td>\n",
       "      <td>randi send schedul salari level everyon schedu...</td>\n",
       "      <td>randy send schedule salary level everyone sche...</td>\n",
       "    </tr>\n",
       "    <tr>\n",
       "      <th>4</th>\n",
       "      <td>Thu, 31 Aug 2000 05:07:00 -0700 (PDT)</td>\n",
       "      <td>Let's shoot for Tuesday at 11:45.</td>\n",
       "      <td>let ' shoot tuesday 1145</td>\n",
       "      <td>let ' shoot tuesday 1145</td>\n",
       "      <td>let ' shoot tuesday 1145</td>\n",
       "    </tr>\n",
       "  </tbody>\n",
       "</table>\n",
       "</div>"
      ],
      "text/plain": [
       "                                    date  \\\n",
       "0  Mon, 14 May 2001 16:39:00 -0700 (PDT)   \n",
       "1   Fri, 4 May 2001 13:51:00 -0700 (PDT)   \n",
       "2  Wed, 18 Oct 2000 03:00:00 -0700 (PDT)   \n",
       "3  Mon, 23 Oct 2000 06:13:00 -0700 (PDT)   \n",
       "4  Thu, 31 Aug 2000 05:07:00 -0700 (PDT)   \n",
       "\n",
       "                                             content  \\\n",
       "0                          Here is our forecast\\n\\n    \n",
       "1  Traveling to have a business meeting takes the...   \n",
       "2                     test successful.  way to go!!!   \n",
       "3  Randy,\\n\\n Can you send me a schedule of the s...   \n",
       "4                Let's shoot for Tuesday at 11:45.     \n",
       "\n",
       "                                               clean  \\\n",
       "0                                           forecast   \n",
       "1  traveling business meeting takes fun trip espe...   \n",
       "2                             test successful way go   \n",
       "3  randy send schedule salary level everyone sche...   \n",
       "4                           let ' shoot tuesday 1145   \n",
       "\n",
       "                                             stemmed  \\\n",
       "0                                           forecast   \n",
       "1  travel busi meet take fun trip especi prepar p...   \n",
       "2                                test success way go   \n",
       "3  randi send schedul salari level everyon schedu...   \n",
       "4                           let ' shoot tuesday 1145   \n",
       "\n",
       "                                          lemmatized  \n",
       "0                                           forecast  \n",
       "1  traveling business meeting take fun trip espec...  \n",
       "2                             test successful way go  \n",
       "3  randy send schedule salary level everyone sche...  \n",
       "4                           let ' shoot tuesday 1145  "
      ]
     },
     "execution_count": 5,
     "metadata": {},
     "output_type": "execute_result"
    }
   ],
   "source": [
    "df_new.head()"
   ]
  },
  {
   "cell_type": "code",
   "execution_count": 6,
   "id": "8291c97a",
   "metadata": {},
   "outputs": [
    {
     "data": {
      "text/plain": [
       "date            0\n",
       "content         0\n",
       "clean         287\n",
       "stemmed       277\n",
       "lemmatized    293\n",
       "dtype: int64"
      ]
     },
     "execution_count": 6,
     "metadata": {},
     "output_type": "execute_result"
    }
   ],
   "source": [
    "# Checking for NAN\n",
    "df_new.isna().sum()"
   ]
  },
  {
   "cell_type": "code",
   "execution_count": 7,
   "id": "5676c0cc",
   "metadata": {},
   "outputs": [],
   "source": [
    "# droping NAN for lemmatized\n",
    "df_new = df_new.dropna()"
   ]
  },
  {
   "cell_type": "code",
   "execution_count": 8,
   "id": "d4440263",
   "metadata": {},
   "outputs": [
    {
     "data": {
      "text/plain": [
       "date          0\n",
       "content       0\n",
       "clean         0\n",
       "stemmed       0\n",
       "lemmatized    0\n",
       "dtype: int64"
      ]
     },
     "execution_count": 8,
     "metadata": {},
     "output_type": "execute_result"
    }
   ],
   "source": [
    "# rechecking if the above code works\n",
    "df_new.isna().sum()"
   ]
  },
  {
   "cell_type": "code",
   "execution_count": 9,
   "id": "203b0c12",
   "metadata": {},
   "outputs": [
    {
     "data": {
      "text/html": [
       "<div>\n",
       "<style scoped>\n",
       "    .dataframe tbody tr th:only-of-type {\n",
       "        vertical-align: middle;\n",
       "    }\n",
       "\n",
       "    .dataframe tbody tr th {\n",
       "        vertical-align: top;\n",
       "    }\n",
       "\n",
       "    .dataframe thead th {\n",
       "        text-align: right;\n",
       "    }\n",
       "</style>\n",
       "<table border=\"1\" class=\"dataframe\">\n",
       "  <thead>\n",
       "    <tr style=\"text-align: right;\">\n",
       "      <th></th>\n",
       "      <th>date</th>\n",
       "      <th>content</th>\n",
       "      <th>clean</th>\n",
       "      <th>stemmed</th>\n",
       "      <th>lemmatized</th>\n",
       "    </tr>\n",
       "  </thead>\n",
       "  <tbody>\n",
       "    <tr>\n",
       "      <th>0</th>\n",
       "      <td>Mon, 14 May 2001 16:39:00 -0700 (PDT)</td>\n",
       "      <td>Here is our forecast\\n\\n</td>\n",
       "      <td>forecast</td>\n",
       "      <td>forecast</td>\n",
       "      <td>forecast</td>\n",
       "    </tr>\n",
       "    <tr>\n",
       "      <th>1</th>\n",
       "      <td>Fri, 4 May 2001 13:51:00 -0700 (PDT)</td>\n",
       "      <td>Traveling to have a business meeting takes the...</td>\n",
       "      <td>traveling business meeting takes fun trip espe...</td>\n",
       "      <td>travel busi meet take fun trip especi prepar p...</td>\n",
       "      <td>traveling business meeting take fun trip espec...</td>\n",
       "    </tr>\n",
       "    <tr>\n",
       "      <th>2</th>\n",
       "      <td>Wed, 18 Oct 2000 03:00:00 -0700 (PDT)</td>\n",
       "      <td>test successful.  way to go!!!</td>\n",
       "      <td>test successful way go</td>\n",
       "      <td>test success way go</td>\n",
       "      <td>test successful way go</td>\n",
       "    </tr>\n",
       "    <tr>\n",
       "      <th>3</th>\n",
       "      <td>Mon, 23 Oct 2000 06:13:00 -0700 (PDT)</td>\n",
       "      <td>Randy,\\n\\n Can you send me a schedule of the s...</td>\n",
       "      <td>randy send schedule salary level everyone sche...</td>\n",
       "      <td>randi send schedul salari level everyon schedu...</td>\n",
       "      <td>randy send schedule salary level everyone sche...</td>\n",
       "    </tr>\n",
       "    <tr>\n",
       "      <th>4</th>\n",
       "      <td>Thu, 31 Aug 2000 05:07:00 -0700 (PDT)</td>\n",
       "      <td>Let's shoot for Tuesday at 11:45.</td>\n",
       "      <td>let ' shoot tuesday 1145</td>\n",
       "      <td>let ' shoot tuesday 1145</td>\n",
       "      <td>let ' shoot tuesday 1145</td>\n",
       "    </tr>\n",
       "  </tbody>\n",
       "</table>\n",
       "</div>"
      ],
      "text/plain": [
       "                                    date  \\\n",
       "0  Mon, 14 May 2001 16:39:00 -0700 (PDT)   \n",
       "1   Fri, 4 May 2001 13:51:00 -0700 (PDT)   \n",
       "2  Wed, 18 Oct 2000 03:00:00 -0700 (PDT)   \n",
       "3  Mon, 23 Oct 2000 06:13:00 -0700 (PDT)   \n",
       "4  Thu, 31 Aug 2000 05:07:00 -0700 (PDT)   \n",
       "\n",
       "                                             content  \\\n",
       "0                          Here is our forecast\\n\\n    \n",
       "1  Traveling to have a business meeting takes the...   \n",
       "2                     test successful.  way to go!!!   \n",
       "3  Randy,\\n\\n Can you send me a schedule of the s...   \n",
       "4                Let's shoot for Tuesday at 11:45.     \n",
       "\n",
       "                                               clean  \\\n",
       "0                                           forecast   \n",
       "1  traveling business meeting takes fun trip espe...   \n",
       "2                             test successful way go   \n",
       "3  randy send schedule salary level everyone sche...   \n",
       "4                           let ' shoot tuesday 1145   \n",
       "\n",
       "                                             stemmed  \\\n",
       "0                                           forecast   \n",
       "1  travel busi meet take fun trip especi prepar p...   \n",
       "2                                test success way go   \n",
       "3  randi send schedul salari level everyon schedu...   \n",
       "4                           let ' shoot tuesday 1145   \n",
       "\n",
       "                                          lemmatized  \n",
       "0                                           forecast  \n",
       "1  traveling business meeting take fun trip espec...  \n",
       "2                             test successful way go  \n",
       "3  randy send schedule salary level everyone sche...  \n",
       "4                           let ' shoot tuesday 1145  "
      ]
     },
     "execution_count": 9,
     "metadata": {},
     "output_type": "execute_result"
    }
   ],
   "source": [
    "df_new.head()"
   ]
  },
  {
   "cell_type": "code",
   "execution_count": 10,
   "id": "c8dd26f0",
   "metadata": {},
   "outputs": [
    {
     "data": {
      "text/html": [
       "<div>\n",
       "<style scoped>\n",
       "    .dataframe tbody tr th:only-of-type {\n",
       "        vertical-align: middle;\n",
       "    }\n",
       "\n",
       "    .dataframe tbody tr th {\n",
       "        vertical-align: top;\n",
       "    }\n",
       "\n",
       "    .dataframe thead th {\n",
       "        text-align: right;\n",
       "    }\n",
       "</style>\n",
       "<table border=\"1\" class=\"dataframe\">\n",
       "  <thead>\n",
       "    <tr style=\"text-align: right;\">\n",
       "      <th></th>\n",
       "      <th>date</th>\n",
       "      <th>content</th>\n",
       "      <th>clean</th>\n",
       "      <th>stemmed</th>\n",
       "      <th>lemmatized</th>\n",
       "      <th>sentiment</th>\n",
       "    </tr>\n",
       "  </thead>\n",
       "  <tbody>\n",
       "    <tr>\n",
       "      <th>0</th>\n",
       "      <td>Mon, 14 May 2001 16:39:00 -0700 (PDT)</td>\n",
       "      <td>Here is our forecast\\n\\n</td>\n",
       "      <td>forecast</td>\n",
       "      <td>forecast</td>\n",
       "      <td>forecast</td>\n",
       "      <td>0.0000</td>\n",
       "    </tr>\n",
       "    <tr>\n",
       "      <th>1</th>\n",
       "      <td>Fri, 4 May 2001 13:51:00 -0700 (PDT)</td>\n",
       "      <td>Traveling to have a business meeting takes the...</td>\n",
       "      <td>traveling business meeting takes fun trip espe...</td>\n",
       "      <td>travel busi meet take fun trip especi prepar p...</td>\n",
       "      <td>traveling business meeting take fun trip espec...</td>\n",
       "      <td>0.9313</td>\n",
       "    </tr>\n",
       "    <tr>\n",
       "      <th>2</th>\n",
       "      <td>Wed, 18 Oct 2000 03:00:00 -0700 (PDT)</td>\n",
       "      <td>test successful.  way to go!!!</td>\n",
       "      <td>test successful way go</td>\n",
       "      <td>test success way go</td>\n",
       "      <td>test successful way go</td>\n",
       "      <td>0.5859</td>\n",
       "    </tr>\n",
       "    <tr>\n",
       "      <th>3</th>\n",
       "      <td>Mon, 23 Oct 2000 06:13:00 -0700 (PDT)</td>\n",
       "      <td>Randy,\\n\\n Can you send me a schedule of the s...</td>\n",
       "      <td>randy send schedule salary level everyone sche...</td>\n",
       "      <td>randi send schedul salari level everyon schedu...</td>\n",
       "      <td>randy send schedule salary level everyone sche...</td>\n",
       "      <td>0.0000</td>\n",
       "    </tr>\n",
       "    <tr>\n",
       "      <th>4</th>\n",
       "      <td>Thu, 31 Aug 2000 05:07:00 -0700 (PDT)</td>\n",
       "      <td>Let's shoot for Tuesday at 11:45.</td>\n",
       "      <td>let ' shoot tuesday 1145</td>\n",
       "      <td>let ' shoot tuesday 1145</td>\n",
       "      <td>let ' shoot tuesday 1145</td>\n",
       "      <td>-0.3400</td>\n",
       "    </tr>\n",
       "  </tbody>\n",
       "</table>\n",
       "</div>"
      ],
      "text/plain": [
       "                                    date  \\\n",
       "0  Mon, 14 May 2001 16:39:00 -0700 (PDT)   \n",
       "1   Fri, 4 May 2001 13:51:00 -0700 (PDT)   \n",
       "2  Wed, 18 Oct 2000 03:00:00 -0700 (PDT)   \n",
       "3  Mon, 23 Oct 2000 06:13:00 -0700 (PDT)   \n",
       "4  Thu, 31 Aug 2000 05:07:00 -0700 (PDT)   \n",
       "\n",
       "                                             content  \\\n",
       "0                          Here is our forecast\\n\\n    \n",
       "1  Traveling to have a business meeting takes the...   \n",
       "2                     test successful.  way to go!!!   \n",
       "3  Randy,\\n\\n Can you send me a schedule of the s...   \n",
       "4                Let's shoot for Tuesday at 11:45.     \n",
       "\n",
       "                                               clean  \\\n",
       "0                                           forecast   \n",
       "1  traveling business meeting takes fun trip espe...   \n",
       "2                             test successful way go   \n",
       "3  randy send schedule salary level everyone sche...   \n",
       "4                           let ' shoot tuesday 1145   \n",
       "\n",
       "                                             stemmed  \\\n",
       "0                                           forecast   \n",
       "1  travel busi meet take fun trip especi prepar p...   \n",
       "2                                test success way go   \n",
       "3  randi send schedul salari level everyon schedu...   \n",
       "4                           let ' shoot tuesday 1145   \n",
       "\n",
       "                                          lemmatized  sentiment  \n",
       "0                                           forecast     0.0000  \n",
       "1  traveling business meeting take fun trip espec...     0.9313  \n",
       "2                             test successful way go     0.5859  \n",
       "3  randy send schedule salary level everyone sche...     0.0000  \n",
       "4                           let ' shoot tuesday 1145    -0.3400  "
      ]
     },
     "execution_count": 10,
     "metadata": {},
     "output_type": "execute_result"
    }
   ],
   "source": [
    "import nltk.sentiment\n",
    "sia = nltk.sentiment.SentimentIntensityAnalyzer()\n",
    "df_new['sentiment'] = df_new.lemmatized.apply(lambda doc: sia.polarity_scores(doc)['compound'])\n",
    "df_new.head()"
   ]
  },
  {
   "cell_type": "code",
   "execution_count": 11,
   "id": "80288cb7",
   "metadata": {},
   "outputs": [],
   "source": [
    "df_new.to_csv('all_sentiment.csv')"
   ]
  },
  {
   "cell_type": "code",
   "execution_count": null,
   "id": "623fdee3",
   "metadata": {},
   "outputs": [],
   "source": [
    "# Keeping date and sentiment in DataFrame"
   ]
  },
  {
   "cell_type": "code",
   "execution_count": 16,
   "id": "77de4218",
   "metadata": {},
   "outputs": [],
   "source": [
    "df_date = df_new[\"date\"]"
   ]
  },
  {
   "cell_type": "code",
   "execution_count": 17,
   "id": "fb584468",
   "metadata": {},
   "outputs": [],
   "source": [
    "df_sent = df_new[\"sentiment\"]"
   ]
  },
  {
   "cell_type": "code",
   "execution_count": 19,
   "id": "5d275921",
   "metadata": {},
   "outputs": [],
   "source": [
    "df_date_sent = [df_date, df_sent]"
   ]
  },
  {
   "cell_type": "code",
   "execution_count": 21,
   "id": "1e905c93",
   "metadata": {},
   "outputs": [],
   "source": [
    "headers = ['date', 'sentiment']"
   ]
  },
  {
   "cell_type": "code",
   "execution_count": 24,
   "id": "fb9cabef",
   "metadata": {},
   "outputs": [],
   "source": [
    "df_combined = pd.concat(df_date_sent, axis =1, keys = headers)"
   ]
  },
  {
   "cell_type": "code",
   "execution_count": 25,
   "id": "46c04093",
   "metadata": {},
   "outputs": [
    {
     "data": {
      "text/html": [
       "<div>\n",
       "<style scoped>\n",
       "    .dataframe tbody tr th:only-of-type {\n",
       "        vertical-align: middle;\n",
       "    }\n",
       "\n",
       "    .dataframe tbody tr th {\n",
       "        vertical-align: top;\n",
       "    }\n",
       "\n",
       "    .dataframe thead th {\n",
       "        text-align: right;\n",
       "    }\n",
       "</style>\n",
       "<table border=\"1\" class=\"dataframe\">\n",
       "  <thead>\n",
       "    <tr style=\"text-align: right;\">\n",
       "      <th></th>\n",
       "      <th>date</th>\n",
       "      <th>sentiment</th>\n",
       "    </tr>\n",
       "  </thead>\n",
       "  <tbody>\n",
       "    <tr>\n",
       "      <th>0</th>\n",
       "      <td>Mon, 14 May 2001 16:39:00 -0700 (PDT)</td>\n",
       "      <td>0.0000</td>\n",
       "    </tr>\n",
       "    <tr>\n",
       "      <th>1</th>\n",
       "      <td>Fri, 4 May 2001 13:51:00 -0700 (PDT)</td>\n",
       "      <td>0.9313</td>\n",
       "    </tr>\n",
       "    <tr>\n",
       "      <th>2</th>\n",
       "      <td>Wed, 18 Oct 2000 03:00:00 -0700 (PDT)</td>\n",
       "      <td>0.5859</td>\n",
       "    </tr>\n",
       "    <tr>\n",
       "      <th>3</th>\n",
       "      <td>Mon, 23 Oct 2000 06:13:00 -0700 (PDT)</td>\n",
       "      <td>0.0000</td>\n",
       "    </tr>\n",
       "    <tr>\n",
       "      <th>4</th>\n",
       "      <td>Thu, 31 Aug 2000 05:07:00 -0700 (PDT)</td>\n",
       "      <td>-0.3400</td>\n",
       "    </tr>\n",
       "  </tbody>\n",
       "</table>\n",
       "</div>"
      ],
      "text/plain": [
       "                                    date  sentiment\n",
       "0  Mon, 14 May 2001 16:39:00 -0700 (PDT)     0.0000\n",
       "1   Fri, 4 May 2001 13:51:00 -0700 (PDT)     0.9313\n",
       "2  Wed, 18 Oct 2000 03:00:00 -0700 (PDT)     0.5859\n",
       "3  Mon, 23 Oct 2000 06:13:00 -0700 (PDT)     0.0000\n",
       "4  Thu, 31 Aug 2000 05:07:00 -0700 (PDT)    -0.3400"
      ]
     },
     "execution_count": 25,
     "metadata": {},
     "output_type": "execute_result"
    }
   ],
   "source": [
    "df_combined.head()"
   ]
  },
  {
   "cell_type": "code",
   "execution_count": 26,
   "id": "4fc3da3c",
   "metadata": {},
   "outputs": [
    {
     "name": "stdout",
     "output_type": "stream",
     "text": [
      "<class 'pandas.core.frame.DataFrame'>\n",
      "Int64Index: 517108 entries, 0 to 517400\n",
      "Data columns (total 2 columns):\n",
      " #   Column     Non-Null Count   Dtype              \n",
      "---  ------     --------------   -----              \n",
      " 0   date       517108 non-null  datetime64[ns, UTC]\n",
      " 1   sentiment  517108 non-null  float64            \n",
      "dtypes: datetime64[ns, UTC](1), float64(1)\n",
      "memory usage: 11.8 MB\n"
     ]
    }
   ],
   "source": [
    "# change date column to datetime format\n",
    "df_combined.date = pd.to_datetime(df_combined.date, utc=True)\n",
    "df_combined.info()"
   ]
  },
  {
   "cell_type": "code",
   "execution_count": 28,
   "id": "38d1a24a",
   "metadata": {},
   "outputs": [
    {
     "name": "stdout",
     "output_type": "stream",
     "text": [
      "<class 'pandas.core.frame.DataFrame'>\n",
      "Int64Index: 517108 entries, 0 to 517400\n",
      "Data columns (total 2 columns):\n",
      " #   Column     Non-Null Count   Dtype              \n",
      "---  ------     --------------   -----              \n",
      " 0   date       517108 non-null  datetime64[ns, UTC]\n",
      " 1   sentiment  517108 non-null  float64            \n",
      "dtypes: datetime64[ns, UTC](1), float64(1)\n",
      "memory usage: 11.8 MB\n"
     ]
    }
   ],
   "source": [
    "df_combined.info()"
   ]
  },
  {
   "cell_type": "code",
   "execution_count": 32,
   "id": "83265fc3",
   "metadata": {},
   "outputs": [
    {
     "data": {
      "text/html": [
       "<div>\n",
       "<style scoped>\n",
       "    .dataframe tbody tr th:only-of-type {\n",
       "        vertical-align: middle;\n",
       "    }\n",
       "\n",
       "    .dataframe tbody tr th {\n",
       "        vertical-align: top;\n",
       "    }\n",
       "\n",
       "    .dataframe thead th {\n",
       "        text-align: right;\n",
       "    }\n",
       "</style>\n",
       "<table border=\"1\" class=\"dataframe\">\n",
       "  <thead>\n",
       "    <tr style=\"text-align: right;\">\n",
       "      <th></th>\n",
       "      <th>sentiment</th>\n",
       "    </tr>\n",
       "    <tr>\n",
       "      <th>date</th>\n",
       "      <th></th>\n",
       "    </tr>\n",
       "  </thead>\n",
       "  <tbody>\n",
       "    <tr>\n",
       "      <th>1980-01-01 00:00:00+00:00</th>\n",
       "      <td>0.9972</td>\n",
       "    </tr>\n",
       "    <tr>\n",
       "      <th>1980-01-01 00:00:00+00:00</th>\n",
       "      <td>0.9584</td>\n",
       "    </tr>\n",
       "    <tr>\n",
       "      <th>1980-01-01 00:00:00+00:00</th>\n",
       "      <td>0.9735</td>\n",
       "    </tr>\n",
       "    <tr>\n",
       "      <th>1980-01-01 00:00:00+00:00</th>\n",
       "      <td>0.8662</td>\n",
       "    </tr>\n",
       "    <tr>\n",
       "      <th>1980-01-01 00:00:00+00:00</th>\n",
       "      <td>0.8662</td>\n",
       "    </tr>\n",
       "    <tr>\n",
       "      <th>...</th>\n",
       "      <td>...</td>\n",
       "    </tr>\n",
       "    <tr>\n",
       "      <th>2024-05-26 10:49:57+00:00</th>\n",
       "      <td>0.9313</td>\n",
       "    </tr>\n",
       "    <tr>\n",
       "      <th>2043-12-28 19:34:12+00:00</th>\n",
       "      <td>0.5719</td>\n",
       "    </tr>\n",
       "    <tr>\n",
       "      <th>2044-01-02 23:46:00+00:00</th>\n",
       "      <td>0.3182</td>\n",
       "    </tr>\n",
       "    <tr>\n",
       "      <th>2044-01-04 16:59:46+00:00</th>\n",
       "      <td>0.0000</td>\n",
       "    </tr>\n",
       "    <tr>\n",
       "      <th>2044-01-04 22:48:58+00:00</th>\n",
       "      <td>0.4404</td>\n",
       "    </tr>\n",
       "  </tbody>\n",
       "</table>\n",
       "<p>517108 rows × 1 columns</p>\n",
       "</div>"
      ],
      "text/plain": [
       "                           sentiment\n",
       "date                                \n",
       "1980-01-01 00:00:00+00:00     0.9972\n",
       "1980-01-01 00:00:00+00:00     0.9584\n",
       "1980-01-01 00:00:00+00:00     0.9735\n",
       "1980-01-01 00:00:00+00:00     0.8662\n",
       "1980-01-01 00:00:00+00:00     0.8662\n",
       "...                              ...\n",
       "2024-05-26 10:49:57+00:00     0.9313\n",
       "2043-12-28 19:34:12+00:00     0.5719\n",
       "2044-01-02 23:46:00+00:00     0.3182\n",
       "2044-01-04 16:59:46+00:00     0.0000\n",
       "2044-01-04 22:48:58+00:00     0.4404\n",
       "\n",
       "[517108 rows x 1 columns]"
      ]
     },
     "execution_count": 32,
     "metadata": {},
     "output_type": "execute_result"
    }
   ],
   "source": [
    "# setting and sorting date\n",
    "df_combined = df_combined.set_index('date').sort_index()\n",
    "df_combined"
   ]
  },
  {
   "cell_type": "code",
   "execution_count": 33,
   "id": "26591914",
   "metadata": {},
   "outputs": [
    {
     "data": {
      "text/plain": [
       "(Timestamp('1980-01-01 00:00:00+0000', tz='UTC'),\n",
       " Timestamp('2044-01-04 22:48:58+0000', tz='UTC'))"
      ]
     },
     "execution_count": 33,
     "metadata": {},
     "output_type": "execute_result"
    }
   ],
   "source": [
    "# Looking for start and end of our data\n",
    "df_combined.index.min(), df_combined.index.max()"
   ]
  },
  {
   "cell_type": "code",
   "execution_count": 37,
   "id": "a3f8566b",
   "metadata": {},
   "outputs": [
    {
     "data": {
      "text/html": [
       "<div>\n",
       "<style scoped>\n",
       "    .dataframe tbody tr th:only-of-type {\n",
       "        vertical-align: middle;\n",
       "    }\n",
       "\n",
       "    .dataframe tbody tr th {\n",
       "        vertical-align: top;\n",
       "    }\n",
       "\n",
       "    .dataframe thead th {\n",
       "        text-align: right;\n",
       "    }\n",
       "</style>\n",
       "<table border=\"1\" class=\"dataframe\">\n",
       "  <thead>\n",
       "    <tr style=\"text-align: right;\">\n",
       "      <th></th>\n",
       "      <th>sentiment</th>\n",
       "      <th>year</th>\n",
       "      <th>month</th>\n",
       "      <th>day</th>\n",
       "    </tr>\n",
       "    <tr>\n",
       "      <th>date</th>\n",
       "      <th></th>\n",
       "      <th></th>\n",
       "      <th></th>\n",
       "      <th></th>\n",
       "    </tr>\n",
       "  </thead>\n",
       "  <tbody>\n",
       "    <tr>\n",
       "      <th>1980-01-01 00:00:00+00:00</th>\n",
       "      <td>0.9972</td>\n",
       "      <td>1980</td>\n",
       "      <td>1</td>\n",
       "      <td>1</td>\n",
       "    </tr>\n",
       "    <tr>\n",
       "      <th>1980-01-01 00:00:00+00:00</th>\n",
       "      <td>0.9584</td>\n",
       "      <td>1980</td>\n",
       "      <td>1</td>\n",
       "      <td>1</td>\n",
       "    </tr>\n",
       "    <tr>\n",
       "      <th>1980-01-01 00:00:00+00:00</th>\n",
       "      <td>0.9735</td>\n",
       "      <td>1980</td>\n",
       "      <td>1</td>\n",
       "      <td>1</td>\n",
       "    </tr>\n",
       "    <tr>\n",
       "      <th>1980-01-01 00:00:00+00:00</th>\n",
       "      <td>0.8662</td>\n",
       "      <td>1980</td>\n",
       "      <td>1</td>\n",
       "      <td>1</td>\n",
       "    </tr>\n",
       "    <tr>\n",
       "      <th>1980-01-01 00:00:00+00:00</th>\n",
       "      <td>0.8662</td>\n",
       "      <td>1980</td>\n",
       "      <td>1</td>\n",
       "      <td>1</td>\n",
       "    </tr>\n",
       "  </tbody>\n",
       "</table>\n",
       "</div>"
      ],
      "text/plain": [
       "                           sentiment  year  month  day\n",
       "date                                                  \n",
       "1980-01-01 00:00:00+00:00     0.9972  1980      1    1\n",
       "1980-01-01 00:00:00+00:00     0.9584  1980      1    1\n",
       "1980-01-01 00:00:00+00:00     0.9735  1980      1    1\n",
       "1980-01-01 00:00:00+00:00     0.8662  1980      1    1\n",
       "1980-01-01 00:00:00+00:00     0.8662  1980      1    1"
      ]
     },
     "execution_count": 37,
     "metadata": {},
     "output_type": "execute_result"
    }
   ],
   "source": [
    "df_combined['year'] = df_combined.index.year\n",
    "df_combined['month'] = df_combined.index.month\n",
    "df_combined['day'] = df_combined.index.day\n",
    "df_combined.head()"
   ]
  },
  {
   "cell_type": "code",
   "execution_count": 39,
   "id": "6899d25d",
   "metadata": {},
   "outputs": [
    {
     "data": {
      "text/plain": [
       "sentiment    47018\n",
       "year         47018\n",
       "month        47018\n",
       "day          47018\n",
       "dtype: int64"
      ]
     },
     "execution_count": 39,
     "metadata": {},
     "output_type": "execute_result"
    }
   ],
   "source": [
    "# Neutral Scores\n",
    "df_combined[df_combined.sentiment == 0].count()"
   ]
  },
  {
   "cell_type": "code",
   "execution_count": 40,
   "id": "be691fb0",
   "metadata": {},
   "outputs": [
    {
     "data": {
      "text/plain": [
       "sentiment    440266\n",
       "year         440266\n",
       "month        440266\n",
       "day          440266\n",
       "dtype: int64"
      ]
     },
     "execution_count": 40,
     "metadata": {},
     "output_type": "execute_result"
    }
   ],
   "source": [
    "# Positive Scores\n",
    "df_combined[df_combined.sentiment > 0].count()"
   ]
  },
  {
   "cell_type": "code",
   "execution_count": 41,
   "id": "e55d4a7e",
   "metadata": {},
   "outputs": [
    {
     "data": {
      "text/plain": [
       "sentiment    29824\n",
       "year         29824\n",
       "month        29824\n",
       "day          29824\n",
       "dtype: int64"
      ]
     },
     "execution_count": 41,
     "metadata": {},
     "output_type": "execute_result"
    }
   ],
   "source": [
    "# Negative Scores\n",
    "df_combined[df_combined.sentiment < 0].count()"
   ]
  },
  {
   "cell_type": "code",
   "execution_count": 52,
   "id": "bd8a28bf",
   "metadata": {},
   "outputs": [
    {
     "data": {
      "image/png": "[encoded data removed]",
      "text/plain": [
       "<Figure size 432x288 with 1 Axes>"
      ]
     },
     "metadata": {
      "needs_background": "light"
     },
     "output_type": "display_data"
    }
   ],
   "source": [
    "# Sentiment score in histogram\n",
    "df_combined.sentiment.hist(bins = 10)\n",
    "plt.show()"
   ]
  },
  {
   "cell_type": "markdown",
   "id": "23cfcae9",
   "metadata": {},
   "source": [
    "### Percentage Based"
   ]
  },
  {
   "cell_type": "code",
   "execution_count": 54,
   "id": "d7da0da5",
   "metadata": {},
   "outputs": [
    {
     "data": {
      "text/plain": [
       "[<matplotlib.lines.Line2D at 0x7fee095467f0>]"
      ]
     },
     "execution_count": 54,
     "metadata": {},
     "output_type": "execute_result"
    },
    {
     "data": {
      "image/png": "[encoded data removed]",
      "text/plain": [
       "<Figure size 432x288 with 1 Axes>"
      ]
     },
     "metadata": {
      "needs_background": "light"
     },
     "output_type": "display_data"
    }
   ],
   "source": [
    "train_size = .70\n",
    "n = df_combined.shape[0]\n",
    "test_start_index = round(train_size * n)\n",
    "\n",
    "train = df_combined[:test_start_index] # everything up (not including) to the test_start_index\n",
    "test = df_combined[test_start_index:] # everything from the test_start_index to the end\n",
    "\n",
    "plt.plot(train.index, train.sentiment)\n",
    "plt.plot(test.index, test.sentiment)"
   ]
  },
  {
   "cell_type": "markdown",
   "id": "8c41c342",
   "metadata": {},
   "source": [
    "### Human Based"
   ]
  },
  {
   "cell_type": "code",
   "execution_count": 60,
   "id": "dd9e511c",
   "metadata": {},
   "outputs": [
    {
     "data": {
      "text/plain": [
       "[<matplotlib.lines.Line2D at 0x7fee2cc70e50>]"
      ]
     },
     "execution_count": 60,
     "metadata": {},
     "output_type": "execute_result"
    },
    {
     "data": {
      "image/png": "[encoded data removed]",
      "text/plain": [
       "<Figure size 432x288 with 1 Axes>"
      ]
     },
     "metadata": {
      "needs_background": "light"
     },
     "output_type": "display_data"
    }
   ],
   "source": [
    "train = df_combined[:'2000'] # includes 2000\n",
    "test = df_combined['2001']\n",
    "\n",
    "plt.plot(train.index, train.sentiment)\n",
    "plt.plot(test.index, test.sentiment)"
   ]
  },
  {
   "cell_type": "code",
   "execution_count": 59,
   "id": "005d5f31",
   "metadata": {},
   "outputs": [
    {
     "data": {
      "text/plain": [
       "[<matplotlib.lines.Line2D at 0x7fee2c449f10>]"
      ]
     },
     "execution_count": 59,
     "metadata": {},
     "output_type": "execute_result"
    },
    {
     "data": {
      "image/png": "[encoded data removed]",
      "text/plain": [
       "<Figure size 432x288 with 1 Axes>"
      ]
     },
     "metadata": {
      "needs_background": "light"
     },
     "output_type": "display_data"
    }
   ],
   "source": [
    "plt.plot(test.index, test.sentiment)"
   ]
  },
  {
   "cell_type": "markdown",
   "id": "6b8c90a4",
   "metadata": {},
   "source": [
    "# Visualizations"
   ]
  },
  {
   "cell_type": "code",
   "execution_count": 61,
   "id": "140895a1",
   "metadata": {},
   "outputs": [
    {
     "data": {
      "text/plain": [
       "date\n",
       "1980-01-01 00:00:00+00:00    0.9972\n",
       "1980-01-01 00:00:00+00:00    0.9584\n",
       "1980-01-01 00:00:00+00:00    0.9735\n",
       "1980-01-01 00:00:00+00:00    0.8662\n",
       "1980-01-01 00:00:00+00:00    0.8662\n",
       "Name: sentiment, dtype: float64"
      ]
     },
     "execution_count": 61,
     "metadata": {},
     "output_type": "execute_result"
    }
   ],
   "source": [
    "y = train.sentiment\n",
    "y.head()"
   ]
  },
  {
   "cell_type": "code",
   "execution_count": 62,
   "id": "2c2e2566",
   "metadata": {},
   "outputs": [
    {
     "data": {
      "text/plain": [
       "<AxesSubplot:>"
      ]
     },
     "execution_count": 62,
     "metadata": {},
     "output_type": "execute_result"
    },
    {
     "data": {
      "image/png": "[encoded data removed]",
      "text/plain": [
       "<Figure size 432x288 with 1 Axes>"
      ]
     },
     "metadata": {
      "needs_background": "light"
     },
     "output_type": "display_data"
    }
   ],
   "source": [
    "y.hist()"
   ]
  },
  {
   "cell_type": "code",
   "execution_count": 63,
   "id": "c56877a5",
   "metadata": {},
   "outputs": [
    {
     "data": {
      "text/plain": [
       "<AxesSubplot:ylabel='Frequency'>"
      ]
     },
     "execution_count": 63,
     "metadata": {},
     "output_type": "execute_result"
    },
    {
     "data": {
      "image/png": "[encoded data removed]",
      "text/plain": [
       "<Figure size 432x288 with 1 Axes>"
      ]
     },
     "metadata": {
      "needs_background": "light"
     },
     "output_type": "display_data"
    }
   ],
   "source": [
    "y.plot.hist()"
   ]
  },
  {
   "cell_type": "code",
   "execution_count": 69,
   "id": "10465599",
   "metadata": {},
   "outputs": [
    {
     "data": {
      "text/plain": [
       "[Text(0.5, 1.0, 'Average Sentiment Score by Month'),\n",
       " Text(0.5, 0, 'Month'),\n",
       " Text(0, 0.5, 'Sentiment Score')]"
      ]
     },
     "execution_count": 69,
     "metadata": {},
     "output_type": "execute_result"
    },
    {
     "data": {
      "image/png": "[encoded data removed]",
      "text/plain": [
       "<Figure size 432x288 with 1 Axes>"
      ]
     },
     "metadata": {
      "needs_background": "light"
     },
     "output_type": "display_data"
    }
   ],
   "source": [
    "ax = y.groupby(y.index.month).mean().plot.bar(width=.9, ec='blue', color = 'green')\n",
    "plt.xticks(rotation=0)\n",
    "ax.set(title='Average Sentiment Score by Month', xlabel='Month', ylabel='Sentiment Score')"
   ]
  },
  {
   "cell_type": "code",
   "execution_count": 72,
   "id": "411e42d9",
   "metadata": {},
   "outputs": [
    {
     "data": {
      "text/plain": [
       "[Text(0.5, 1.0, 'Average Sentiment Score by Weekday'),\n",
       " Text(0.5, 0, 'Weekday'),\n",
       " Text(0, 0.5, 'Sentiment Score')]"
      ]
     },
     "execution_count": 72,
     "metadata": {},
     "output_type": "execute_result"
    },
    {
     "data": {
      "image/png": "[encoded data removed]",
      "text/plain": [
       "<Figure size 432x288 with 1 Axes>"
      ]
     },
     "metadata": {
      "needs_background": "light"
     },
     "output_type": "display_data"
    }
   ],
   "source": [
    "ax = y.groupby(y.index.day_name()).mean().plot.bar(width=.9, ec='black')\n",
    "plt.xticks(rotation=0)\n",
    "ax.set(title='Average Sentiment Score by Weekday', xlabel='Weekday', ylabel='Sentiment Score')"
   ]
  },
  {
   "cell_type": "code",
   "execution_count": 78,
   "id": "5b534632",
   "metadata": {},
   "outputs": [
    {
     "data": {
      "text/plain": [
       "<AxesSubplot:xlabel='date'>"
      ]
     },
     "execution_count": 78,
     "metadata": {},
     "output_type": "execute_result"
    },
    {
     "data": {
      "image/png": "[encoded data removed]",
      "text/plain": [
       "<Figure size 432x288 with 1 Axes>"
      ]
     },
     "metadata": {
      "needs_background": "light"
     },
     "output_type": "display_data"
    }
   ],
   "source": [
    "y.plot()"
   ]
  },
  {
   "cell_type": "code",
   "execution_count": 87,
   "id": "e3063a55",
   "metadata": {},
   "outputs": [
    {
     "data": {
      "text/plain": [
       "<AxesSubplot:title={'center':'6 hour average'}, xlabel='date'>"
      ]
     },
     "execution_count": 87,
     "metadata": {},
     "output_type": "execute_result"
    },
    {
     "data": {
      "image/png": "[encoded data removed]",
      "text/plain": [
       "<Figure size 432x288 with 1 Axes>"
      ]
     },
     "metadata": {
      "needs_background": "light"
     },
     "output_type": "display_data"
    }
   ],
   "source": [
    "# resample monthly\n",
    "y.resample('6H').mean().plot(title='6 hour average')"
   ]
  },
  {
   "cell_type": "code",
   "execution_count": 88,
   "id": "240ea2fd",
   "metadata": {},
   "outputs": [
    {
     "data": {
      "text/plain": [
       "<AxesSubplot:title={'center':'2 week average'}, xlabel='date'>"
      ]
     },
     "execution_count": 88,
     "metadata": {},
     "output_type": "execute_result"
    },
    {
     "data": {
      "image/png": "[encoded data removed]",
      "text/plain": [
       "<Figure size 432x288 with 1 Axes>"
      ]
     },
     "metadata": {
      "needs_background": "light"
     },
     "output_type": "display_data"
    }
   ],
   "source": [
    "# resample biweekly\n",
    "y.resample('2W').mean().plot(title='2 week average')"
   ]
  },
  {
   "cell_type": "code",
   "execution_count": 89,
   "id": "f6473215",
   "metadata": {},
   "outputs": [
    {
     "data": {
      "text/plain": [
       "<matplotlib.legend.Legend at 0x7fed877700d0>"
      ]
     },
     "execution_count": 89,
     "metadata": {},
     "output_type": "execute_result"
    },
    {
     "data": {
      "image/png": "[encoded data removed]",
      "text/plain": [
       "<Figure size 432x288 with 1 Axes>"
      ]
     },
     "metadata": {
      "needs_background": "light"
     },
     "output_type": "display_data"
    }
   ],
   "source": [
    "# Combining Visualization\n",
    "y.plot(alpha=.2, label='Hourly')\n",
    "y.resample('D').mean().plot(alpha=.5, label='Daily')\n",
    "y.resample('W').mean().plot(alpha=.8, label='Weekly')\n",
    "y.resample('M').mean().plot(label='Montly')\n",
    "y.resample('Y').mean().plot(label='Yearly')\n",
    "plt.legend()"
   ]
  },
  {
   "cell_type": "code",
   "execution_count": 90,
   "id": "3436d13f",
   "metadata": {},
   "outputs": [
    {
     "data": {
      "text/plain": [
       "<matplotlib.legend.Legend at 0x7fed6ca02280>"
      ]
     },
     "execution_count": 90,
     "metadata": {},
     "output_type": "execute_result"
    },
    {
     "data": {
      "image/png": "[encoded data removed]",
      "text/plain": [
       "<Figure size 432x288 with 1 Axes>"
      ]
     },
     "metadata": {
      "needs_background": "light"
     },
     "output_type": "display_data"
    }
   ],
   "source": [
    "# In addition to resampling, we can calculate moving averages with the .rolling method.\n",
    "y.plot(alpha=.2, label='Hourly')\n",
    "y.resample('D').mean().rolling(3).mean().plot(alpha=.5, label='3 day')\n",
    "y.resample('D').mean().rolling(7).mean().plot(alpha=.8, label='1 week')\n",
    "plt.legend()"
   ]
  },
  {
   "cell_type": "code",
   "execution_count": 91,
   "id": "683892ae",
   "metadata": {},
   "outputs": [
    {
     "data": {
      "text/plain": [
       "<AxesSubplot:title={'center':'Average week-to-week change in temperature'}, xlabel='date'>"
      ]
     },
     "execution_count": 91,
     "metadata": {},
     "output_type": "execute_result"
    },
    {
     "data": {
      "image/png": "[encoded data removed]",
      "text/plain": [
       "<Figure size 432x288 with 1 Axes>"
      ]
     },
     "metadata": {
      "needs_background": "light"
     },
     "output_type": "display_data"
    }
   ],
   "source": [
    "# Visualizing weekly change over time\n",
    "y.resample('W').mean().diff().plot(title='Average week-to-week change in temperature')\n"
   ]
  },
  {
   "cell_type": "code",
   "execution_count": 92,
   "id": "5949237c",
   "metadata": {},
   "outputs": [
    {
     "data": {
      "text/plain": [
       "<AxesSubplot:title={'center':'Average month-to-month change in temperature'}, xlabel='date'>"
      ]
     },
     "execution_count": 92,
     "metadata": {},
     "output_type": "execute_result"
    },
    {
     "data": {
      "image/png": "[encoded data removed]",
      "text/plain": [
       "<Figure size 432x288 with 1 Axes>"
      ]
     },
     "metadata": {
      "needs_background": "light"
     },
     "output_type": "display_data"
    }
   ],
   "source": [
    "y.resample('M').mean().diff().plot(title='Average month-to-month change in temperature')\n"
   ]
  },
  {
   "cell_type": "code",
   "execution_count": 93,
   "id": "d0e958d6",
   "metadata": {},
   "outputs": [
    {
     "data": {
      "text/plain": [
       "<AxesSubplot:title={'center':'Seasonal Plot'}, xlabel='date'>"
      ]
     },
     "execution_count": 93,
     "metadata": {},
     "output_type": "execute_result"
    },
    {
     "data": {
      "image/png": "[encoded data removed]",
      "text/plain": [
       "<Figure size 432x288 with 1 Axes>"
      ]
     },
     "metadata": {
      "needs_background": "light"
     },
     "output_type": "display_data"
    }
   ],
   "source": [
    "### Seasonal Plot\n",
    "# .unstack turns an index level into columns\n",
    "y.groupby([y.index.year, y.index.month]).mean().unstack(0).plot(title='Seasonal Plot')"
   ]
  },
  {
   "cell_type": "code",
   "execution_count": 94,
   "id": "4eb0211a",
   "metadata": {},
   "outputs": [
    {
     "data": {
      "image/png": "[encoded data removed]",
      "text/plain": [
       "<Figure size 432x288 with 12 Axes>"
      ]
     },
     "metadata": {
      "needs_background": "light"
     },
     "output_type": "display_data"
    }
   ],
   "source": [
    "# Seasonal Subquery Plot\n",
    "table = y.groupby([y.index.year, y.index.month]).mean().unstack()\n",
    "\n",
    "fig, axs = plt.subplots(1, 12, sharey=True, sharex=True)\n",
    "for ax, (month, subset) in zip(axs, table.iteritems()):\n",
    "    subset.plot(ax=ax, title=month)\n",
    "    ax.hlines(subset.mean(), *ax.get_xlim())\n",
    "    ax.set(xlabel='')\n",
    "\n",
    "fig.suptitle('Seasonal Subseries Plot') # super-title for the overall figure\n",
    "fig.subplots_adjust(wspace=0)\n"
   ]
  },
  {
   "cell_type": "code",
   "execution_count": 95,
   "id": "8b107104",
   "metadata": {},
   "outputs": [
    {
     "data": {
      "text/plain": [
       "Text(0.5, 1.0, 'Lag plot with lag=1')"
      ]
     },
     "execution_count": 95,
     "metadata": {},
     "output_type": "execute_result"
    },
    {
     "data": {
      "image/png": "[encoded data removed]",
      "text/plain": [
       "<Figure size 432x288 with 1 Axes>"
      ]
     },
     "metadata": {
      "needs_background": "light"
     },
     "output_type": "display_data"
    }
   ],
   "source": [
    "# Lag Plot\n",
    "plt.scatter(y, y.shift(-1))\n",
    "plt.xlabel('$y$')\n",
    "plt.ylabel('$y_{t + 1}$')\n",
    "plt.title('Lag plot with lag=1')\n"
   ]
  },
  {
   "cell_type": "code",
   "execution_count": 97,
   "id": "f8b586c0",
   "metadata": {},
   "outputs": [
    {
     "data": {
      "text/plain": [
       "[Text(0.5, 0, 't'), Text(0, 0.5, 't + 1')]"
      ]
     },
     "execution_count": 97,
     "metadata": {},
     "output_type": "execute_result"
    },
    {
     "data": {
      "image/png": "[encoded data removed]",
      "text/plain": [
       "<Figure size 432x288 with 1 Axes>"
      ]
     },
     "metadata": {
      "needs_background": "light"
     },
     "output_type": "display_data"
    }
   ],
   "source": [
    "train['y(t + 1)'] = train.sentiment.shift(-1)\n",
    "ax = train.plot.scatter(x='sentiment', y='y(t + 1)')\n",
    "ax.set(xlabel='t', ylabel='t + 1')\n"
   ]
  },
  {
   "cell_type": "code",
   "execution_count": 98,
   "id": "74e3c88e",
   "metadata": {},
   "outputs": [
    {
     "data": {
      "text/html": [
       "<div>\n",
       "<style scoped>\n",
       "    .dataframe tbody tr th:only-of-type {\n",
       "        vertical-align: middle;\n",
       "    }\n",
       "\n",
       "    .dataframe tbody tr th {\n",
       "        vertical-align: top;\n",
       "    }\n",
       "\n",
       "    .dataframe thead th {\n",
       "        text-align: right;\n",
       "    }\n",
       "</style>\n",
       "<table border=\"1\" class=\"dataframe\">\n",
       "  <thead>\n",
       "    <tr style=\"text-align: right;\">\n",
       "      <th></th>\n",
       "      <th>this_week</th>\n",
       "      <th>year</th>\n",
       "      <th>month</th>\n",
       "      <th>day</th>\n",
       "      <th>y(t + 1)</th>\n",
       "      <th>the_next_week</th>\n",
       "    </tr>\n",
       "    <tr>\n",
       "      <th>date</th>\n",
       "      <th></th>\n",
       "      <th></th>\n",
       "      <th></th>\n",
       "      <th></th>\n",
       "      <th></th>\n",
       "      <th></th>\n",
       "    </tr>\n",
       "  </thead>\n",
       "  <tbody>\n",
       "    <tr>\n",
       "      <th>1980-01-06 00:00:00+00:00</th>\n",
       "      <td>0.499981</td>\n",
       "      <td>1980.0</td>\n",
       "      <td>1.000000</td>\n",
       "      <td>1.000000</td>\n",
       "      <td>0.499914</td>\n",
       "      <td>NaN</td>\n",
       "    </tr>\n",
       "    <tr>\n",
       "      <th>1980-01-13 00:00:00+00:00</th>\n",
       "      <td>NaN</td>\n",
       "      <td>NaN</td>\n",
       "      <td>NaN</td>\n",
       "      <td>NaN</td>\n",
       "      <td>NaN</td>\n",
       "      <td>NaN</td>\n",
       "    </tr>\n",
       "    <tr>\n",
       "      <th>1980-01-20 00:00:00+00:00</th>\n",
       "      <td>NaN</td>\n",
       "      <td>NaN</td>\n",
       "      <td>NaN</td>\n",
       "      <td>NaN</td>\n",
       "      <td>NaN</td>\n",
       "      <td>NaN</td>\n",
       "    </tr>\n",
       "    <tr>\n",
       "      <th>1980-01-27 00:00:00+00:00</th>\n",
       "      <td>NaN</td>\n",
       "      <td>NaN</td>\n",
       "      <td>NaN</td>\n",
       "      <td>NaN</td>\n",
       "      <td>NaN</td>\n",
       "      <td>NaN</td>\n",
       "    </tr>\n",
       "    <tr>\n",
       "      <th>1980-02-03 00:00:00+00:00</th>\n",
       "      <td>NaN</td>\n",
       "      <td>NaN</td>\n",
       "      <td>NaN</td>\n",
       "      <td>NaN</td>\n",
       "      <td>NaN</td>\n",
       "      <td>NaN</td>\n",
       "    </tr>\n",
       "    <tr>\n",
       "      <th>...</th>\n",
       "      <td>...</td>\n",
       "      <td>...</td>\n",
       "      <td>...</td>\n",
       "      <td>...</td>\n",
       "      <td>...</td>\n",
       "      <td>...</td>\n",
       "    </tr>\n",
       "    <tr>\n",
       "      <th>2000-12-03 00:00:00+00:00</th>\n",
       "      <td>0.640117</td>\n",
       "      <td>2000.0</td>\n",
       "      <td>11.214993</td>\n",
       "      <td>22.673698</td>\n",
       "      <td>0.640128</td>\n",
       "      <td>0.634935</td>\n",
       "    </tr>\n",
       "    <tr>\n",
       "      <th>2000-12-10 00:00:00+00:00</th>\n",
       "      <td>0.634935</td>\n",
       "      <td>2000.0</td>\n",
       "      <td>12.000000</td>\n",
       "      <td>6.144721</td>\n",
       "      <td>0.634937</td>\n",
       "      <td>0.666839</td>\n",
       "    </tr>\n",
       "    <tr>\n",
       "      <th>2000-12-17 00:00:00+00:00</th>\n",
       "      <td>0.666839</td>\n",
       "      <td>2000.0</td>\n",
       "      <td>12.000000</td>\n",
       "      <td>12.621681</td>\n",
       "      <td>0.666780</td>\n",
       "      <td>0.658655</td>\n",
       "    </tr>\n",
       "    <tr>\n",
       "      <th>2000-12-24 00:00:00+00:00</th>\n",
       "      <td>0.658655</td>\n",
       "      <td>2000.0</td>\n",
       "      <td>12.000000</td>\n",
       "      <td>19.900560</td>\n",
       "      <td>0.658704</td>\n",
       "      <td>0.635684</td>\n",
       "    </tr>\n",
       "    <tr>\n",
       "      <th>2000-12-31 00:00:00+00:00</th>\n",
       "      <td>0.635684</td>\n",
       "      <td>2000.0</td>\n",
       "      <td>12.000000</td>\n",
       "      <td>27.638600</td>\n",
       "      <td>0.635719</td>\n",
       "      <td>NaN</td>\n",
       "    </tr>\n",
       "  </tbody>\n",
       "</table>\n",
       "<p>1096 rows × 6 columns</p>\n",
       "</div>"
      ],
      "text/plain": [
       "                           this_week    year      month        day  y(t + 1)  \\\n",
       "date                                                                           \n",
       "1980-01-06 00:00:00+00:00   0.499981  1980.0   1.000000   1.000000  0.499914   \n",
       "1980-01-13 00:00:00+00:00        NaN     NaN        NaN        NaN       NaN   \n",
       "1980-01-20 00:00:00+00:00        NaN     NaN        NaN        NaN       NaN   \n",
       "1980-01-27 00:00:00+00:00        NaN     NaN        NaN        NaN       NaN   \n",
       "1980-02-03 00:00:00+00:00        NaN     NaN        NaN        NaN       NaN   \n",
       "...                              ...     ...        ...        ...       ...   \n",
       "2000-12-03 00:00:00+00:00   0.640117  2000.0  11.214993  22.673698  0.640128   \n",
       "2000-12-10 00:00:00+00:00   0.634935  2000.0  12.000000   6.144721  0.634937   \n",
       "2000-12-17 00:00:00+00:00   0.666839  2000.0  12.000000  12.621681  0.666780   \n",
       "2000-12-24 00:00:00+00:00   0.658655  2000.0  12.000000  19.900560  0.658704   \n",
       "2000-12-31 00:00:00+00:00   0.635684  2000.0  12.000000  27.638600  0.635719   \n",
       "\n",
       "                           the_next_week  \n",
       "date                                      \n",
       "1980-01-06 00:00:00+00:00            NaN  \n",
       "1980-01-13 00:00:00+00:00            NaN  \n",
       "1980-01-20 00:00:00+00:00            NaN  \n",
       "1980-01-27 00:00:00+00:00            NaN  \n",
       "1980-02-03 00:00:00+00:00            NaN  \n",
       "...                                  ...  \n",
       "2000-12-03 00:00:00+00:00       0.634935  \n",
       "2000-12-10 00:00:00+00:00       0.666839  \n",
       "2000-12-17 00:00:00+00:00       0.658655  \n",
       "2000-12-24 00:00:00+00:00       0.635684  \n",
       "2000-12-31 00:00:00+00:00            NaN  \n",
       "\n",
       "[1096 rows x 6 columns]"
      ]
     },
     "execution_count": 98,
     "metadata": {},
     "output_type": "execute_result"
    },
    {
     "data": {
      "image/png": "[encoded data removed]",
      "text/plain": [
       "<Figure size 432x288 with 1 Axes>"
      ]
     },
     "metadata": {
      "needs_background": "light"
     },
     "output_type": "display_data"
    }
   ],
   "source": [
    "weekly = train.resample('W').mean()\n",
    "weekly['the_next_week'] = weekly.sentiment.shift(-1)\n",
    "weekly = weekly.rename(columns={'sentiment': 'this_week'})\n",
    "weekly.plot.scatter(x='this_week', y='the_next_week')\n",
    "weekly\n"
   ]
  },
  {
   "cell_type": "code",
   "execution_count": 100,
   "id": "a96a4666",
   "metadata": {},
   "outputs": [
    {
     "data": {
      "text/html": [
       "<div>\n",
       "<style scoped>\n",
       "    .dataframe tbody tr th:only-of-type {\n",
       "        vertical-align: middle;\n",
       "    }\n",
       "\n",
       "    .dataframe tbody tr th {\n",
       "        vertical-align: top;\n",
       "    }\n",
       "\n",
       "    .dataframe thead th {\n",
       "        text-align: right;\n",
       "    }\n",
       "</style>\n",
       "<table border=\"1\" class=\"dataframe\">\n",
       "  <thead>\n",
       "    <tr style=\"text-align: right;\">\n",
       "      <th></th>\n",
       "      <th>this_week</th>\n",
       "      <th>year</th>\n",
       "      <th>month</th>\n",
       "      <th>day</th>\n",
       "      <th>y(t + 1)</th>\n",
       "      <th>12_weeks_out</th>\n",
       "    </tr>\n",
       "    <tr>\n",
       "      <th>date</th>\n",
       "      <th></th>\n",
       "      <th></th>\n",
       "      <th></th>\n",
       "      <th></th>\n",
       "      <th></th>\n",
       "      <th></th>\n",
       "    </tr>\n",
       "  </thead>\n",
       "  <tbody>\n",
       "    <tr>\n",
       "      <th>1980-01-06 00:00:00+00:00</th>\n",
       "      <td>0.499981</td>\n",
       "      <td>1980.0</td>\n",
       "      <td>1.000000</td>\n",
       "      <td>1.000000</td>\n",
       "      <td>0.499914</td>\n",
       "      <td>NaN</td>\n",
       "    </tr>\n",
       "    <tr>\n",
       "      <th>1980-01-13 00:00:00+00:00</th>\n",
       "      <td>NaN</td>\n",
       "      <td>NaN</td>\n",
       "      <td>NaN</td>\n",
       "      <td>NaN</td>\n",
       "      <td>NaN</td>\n",
       "      <td>NaN</td>\n",
       "    </tr>\n",
       "    <tr>\n",
       "      <th>1980-01-20 00:00:00+00:00</th>\n",
       "      <td>NaN</td>\n",
       "      <td>NaN</td>\n",
       "      <td>NaN</td>\n",
       "      <td>NaN</td>\n",
       "      <td>NaN</td>\n",
       "      <td>NaN</td>\n",
       "    </tr>\n",
       "    <tr>\n",
       "      <th>1980-01-27 00:00:00+00:00</th>\n",
       "      <td>NaN</td>\n",
       "      <td>NaN</td>\n",
       "      <td>NaN</td>\n",
       "      <td>NaN</td>\n",
       "      <td>NaN</td>\n",
       "      <td>NaN</td>\n",
       "    </tr>\n",
       "    <tr>\n",
       "      <th>1980-02-03 00:00:00+00:00</th>\n",
       "      <td>NaN</td>\n",
       "      <td>NaN</td>\n",
       "      <td>NaN</td>\n",
       "      <td>NaN</td>\n",
       "      <td>NaN</td>\n",
       "      <td>NaN</td>\n",
       "    </tr>\n",
       "    <tr>\n",
       "      <th>...</th>\n",
       "      <td>...</td>\n",
       "      <td>...</td>\n",
       "      <td>...</td>\n",
       "      <td>...</td>\n",
       "      <td>...</td>\n",
       "      <td>...</td>\n",
       "    </tr>\n",
       "    <tr>\n",
       "      <th>2000-12-03 00:00:00+00:00</th>\n",
       "      <td>0.640117</td>\n",
       "      <td>2000.0</td>\n",
       "      <td>11.214993</td>\n",
       "      <td>22.673698</td>\n",
       "      <td>0.640128</td>\n",
       "      <td>NaN</td>\n",
       "    </tr>\n",
       "    <tr>\n",
       "      <th>2000-12-10 00:00:00+00:00</th>\n",
       "      <td>0.634935</td>\n",
       "      <td>2000.0</td>\n",
       "      <td>12.000000</td>\n",
       "      <td>6.144721</td>\n",
       "      <td>0.634937</td>\n",
       "      <td>NaN</td>\n",
       "    </tr>\n",
       "    <tr>\n",
       "      <th>2000-12-17 00:00:00+00:00</th>\n",
       "      <td>0.666839</td>\n",
       "      <td>2000.0</td>\n",
       "      <td>12.000000</td>\n",
       "      <td>12.621681</td>\n",
       "      <td>0.666780</td>\n",
       "      <td>NaN</td>\n",
       "    </tr>\n",
       "    <tr>\n",
       "      <th>2000-12-24 00:00:00+00:00</th>\n",
       "      <td>0.658655</td>\n",
       "      <td>2000.0</td>\n",
       "      <td>12.000000</td>\n",
       "      <td>19.900560</td>\n",
       "      <td>0.658704</td>\n",
       "      <td>NaN</td>\n",
       "    </tr>\n",
       "    <tr>\n",
       "      <th>2000-12-31 00:00:00+00:00</th>\n",
       "      <td>0.635684</td>\n",
       "      <td>2000.0</td>\n",
       "      <td>12.000000</td>\n",
       "      <td>27.638600</td>\n",
       "      <td>0.635719</td>\n",
       "      <td>NaN</td>\n",
       "    </tr>\n",
       "  </tbody>\n",
       "</table>\n",
       "<p>1096 rows × 6 columns</p>\n",
       "</div>"
      ],
      "text/plain": [
       "                           this_week    year      month        day  y(t + 1)  \\\n",
       "date                                                                           \n",
       "1980-01-06 00:00:00+00:00   0.499981  1980.0   1.000000   1.000000  0.499914   \n",
       "1980-01-13 00:00:00+00:00        NaN     NaN        NaN        NaN       NaN   \n",
       "1980-01-20 00:00:00+00:00        NaN     NaN        NaN        NaN       NaN   \n",
       "1980-01-27 00:00:00+00:00        NaN     NaN        NaN        NaN       NaN   \n",
       "1980-02-03 00:00:00+00:00        NaN     NaN        NaN        NaN       NaN   \n",
       "...                              ...     ...        ...        ...       ...   \n",
       "2000-12-03 00:00:00+00:00   0.640117  2000.0  11.214993  22.673698  0.640128   \n",
       "2000-12-10 00:00:00+00:00   0.634935  2000.0  12.000000   6.144721  0.634937   \n",
       "2000-12-17 00:00:00+00:00   0.666839  2000.0  12.000000  12.621681  0.666780   \n",
       "2000-12-24 00:00:00+00:00   0.658655  2000.0  12.000000  19.900560  0.658704   \n",
       "2000-12-31 00:00:00+00:00   0.635684  2000.0  12.000000  27.638600  0.635719   \n",
       "\n",
       "                           12_weeks_out  \n",
       "date                                     \n",
       "1980-01-06 00:00:00+00:00           NaN  \n",
       "1980-01-13 00:00:00+00:00           NaN  \n",
       "1980-01-20 00:00:00+00:00           NaN  \n",
       "1980-01-27 00:00:00+00:00           NaN  \n",
       "1980-02-03 00:00:00+00:00           NaN  \n",
       "...                                 ...  \n",
       "2000-12-03 00:00:00+00:00           NaN  \n",
       "2000-12-10 00:00:00+00:00           NaN  \n",
       "2000-12-17 00:00:00+00:00           NaN  \n",
       "2000-12-24 00:00:00+00:00           NaN  \n",
       "2000-12-31 00:00:00+00:00           NaN  \n",
       "\n",
       "[1096 rows x 6 columns]"
      ]
     },
     "execution_count": 100,
     "metadata": {},
     "output_type": "execute_result"
    },
    {
     "data": {
      "image/png": "[encoded data removed]",
      "text/plain": [
       "<Figure size 432x288 with 1 Axes>"
      ]
     },
     "metadata": {
      "needs_background": "light"
     },
     "output_type": "display_data"
    }
   ],
   "source": [
    "weekly = train.resample('W').mean()\n",
    "weekly['12_weeks_out'] = weekly.sentiment.shift(-12)\n",
    "weekly = weekly.rename(columns={'sentiment': 'this_week'})\n",
    "weekly.plot.scatter(x='this_week', y='12_weeks_out')\n",
    "weekly\n"
   ]
  },
  {
   "cell_type": "code",
   "execution_count": 102,
   "id": "b655f504",
   "metadata": {},
   "outputs": [
    {
     "data": {
      "text/plain": [
       "<AxesSubplot:xlabel='y(t)', ylabel='y(t + 26)'>"
      ]
     },
     "execution_count": 102,
     "metadata": {},
     "output_type": "execute_result"
    },
    {
     "data": {
      "image/png": "[encoded data removed]",
      "text/plain": [
       "<Figure size 432x288 with 1 Axes>"
      ]
     },
     "metadata": {
      "needs_background": "light"
     },
     "output_type": "display_data"
    }
   ],
   "source": [
    "pd.plotting.lag_plot(train.sentiment.resample('W').mean(), lag=26)\n"
   ]
  },
  {
   "cell_type": "code",
   "execution_count": 104,
   "id": "15b1a2e3",
   "metadata": {},
   "outputs": [
    {
     "data": {
      "text/plain": [
       "<AxesSubplot:xlabel='Lag', ylabel='Autocorrelation'>"
      ]
     },
     "execution_count": 104,
     "metadata": {},
     "output_type": "execute_result"
    },
    {
     "data": {
      "image/png": "[encoded data removed]",
      "text/plain": [
       "<Figure size 432x288 with 1 Axes>"
      ]
     },
     "metadata": {
      "needs_background": "light"
     },
     "output_type": "display_data"
    }
   ],
   "source": [
    "# Autocorrelation Plot\n",
    "pd.plotting.autocorrelation_plot(train.sentiment.resample('W').mean())\n"
   ]
  },
  {
   "cell_type": "code",
   "execution_count": 113,
   "id": "5c036eea",
   "metadata": {},
   "outputs": [
    {
     "data": {
      "text/html": [
       "<div>\n",
       "<style scoped>\n",
       "    .dataframe tbody tr th:only-of-type {\n",
       "        vertical-align: middle;\n",
       "    }\n",
       "\n",
       "    .dataframe tbody tr th {\n",
       "        vertical-align: top;\n",
       "    }\n",
       "\n",
       "    .dataframe thead th {\n",
       "        text-align: right;\n",
       "    }\n",
       "</style>\n",
       "<table border=\"1\" class=\"dataframe\">\n",
       "  <thead>\n",
       "    <tr style=\"text-align: right;\">\n",
       "      <th></th>\n",
       "      <th>sentiment</th>\n",
       "      <th>year</th>\n",
       "      <th>month</th>\n",
       "      <th>day</th>\n",
       "    </tr>\n",
       "    <tr>\n",
       "      <th>date</th>\n",
       "      <th></th>\n",
       "      <th></th>\n",
       "      <th></th>\n",
       "      <th></th>\n",
       "    </tr>\n",
       "  </thead>\n",
       "  <tbody>\n",
       "    <tr>\n",
       "      <th>2002-07-12 10:33:00+00:00</th>\n",
       "      <td>0.9477</td>\n",
       "      <td>2002</td>\n",
       "      <td>7</td>\n",
       "      <td>12</td>\n",
       "    </tr>\n",
       "    <tr>\n",
       "      <th>2002-07-12 10:33:00+00:00</th>\n",
       "      <td>0.9477</td>\n",
       "      <td>2002</td>\n",
       "      <td>7</td>\n",
       "      <td>12</td>\n",
       "    </tr>\n",
       "    <tr>\n",
       "      <th>2002-07-12 10:33:00+00:00</th>\n",
       "      <td>0.9477</td>\n",
       "      <td>2002</td>\n",
       "      <td>7</td>\n",
       "      <td>12</td>\n",
       "    </tr>\n",
       "    <tr>\n",
       "      <th>2002-07-12 11:07:00+00:00</th>\n",
       "      <td>0.9652</td>\n",
       "      <td>2002</td>\n",
       "      <td>7</td>\n",
       "      <td>12</td>\n",
       "    </tr>\n",
       "    <tr>\n",
       "      <th>2002-07-12 11:07:00+00:00</th>\n",
       "      <td>0.9652</td>\n",
       "      <td>2002</td>\n",
       "      <td>7</td>\n",
       "      <td>12</td>\n",
       "    </tr>\n",
       "    <tr>\n",
       "      <th>...</th>\n",
       "      <td>...</td>\n",
       "      <td>...</td>\n",
       "      <td>...</td>\n",
       "      <td>...</td>\n",
       "    </tr>\n",
       "    <tr>\n",
       "      <th>2024-05-26 10:49:57+00:00</th>\n",
       "      <td>0.9313</td>\n",
       "      <td>2024</td>\n",
       "      <td>5</td>\n",
       "      <td>26</td>\n",
       "    </tr>\n",
       "    <tr>\n",
       "      <th>2043-12-28 19:34:12+00:00</th>\n",
       "      <td>0.5719</td>\n",
       "      <td>2043</td>\n",
       "      <td>12</td>\n",
       "      <td>28</td>\n",
       "    </tr>\n",
       "    <tr>\n",
       "      <th>2044-01-02 23:46:00+00:00</th>\n",
       "      <td>0.3182</td>\n",
       "      <td>2044</td>\n",
       "      <td>1</td>\n",
       "      <td>2</td>\n",
       "    </tr>\n",
       "    <tr>\n",
       "      <th>2044-01-04 16:59:46+00:00</th>\n",
       "      <td>0.0000</td>\n",
       "      <td>2044</td>\n",
       "      <td>1</td>\n",
       "      <td>4</td>\n",
       "    </tr>\n",
       "    <tr>\n",
       "      <th>2044-01-04 22:48:58+00:00</th>\n",
       "      <td>0.4404</td>\n",
       "      <td>2044</td>\n",
       "      <td>1</td>\n",
       "      <td>4</td>\n",
       "    </tr>\n",
       "  </tbody>\n",
       "</table>\n",
       "<p>100 rows × 4 columns</p>\n",
       "</div>"
      ],
      "text/plain": [
       "                           sentiment  year  month  day\n",
       "date                                                  \n",
       "2002-07-12 10:33:00+00:00     0.9477  2002      7   12\n",
       "2002-07-12 10:33:00+00:00     0.9477  2002      7   12\n",
       "2002-07-12 10:33:00+00:00     0.9477  2002      7   12\n",
       "2002-07-12 11:07:00+00:00     0.9652  2002      7   12\n",
       "2002-07-12 11:07:00+00:00     0.9652  2002      7   12\n",
       "...                              ...   ...    ...  ...\n",
       "2024-05-26 10:49:57+00:00     0.9313  2024      5   26\n",
       "2043-12-28 19:34:12+00:00     0.5719  2043     12   28\n",
       "2044-01-02 23:46:00+00:00     0.3182  2044      1    2\n",
       "2044-01-04 16:59:46+00:00     0.0000  2044      1    4\n",
       "2044-01-04 22:48:58+00:00     0.4404  2044      1    4\n",
       "\n",
       "[100 rows x 4 columns]"
      ]
     },
     "execution_count": 113,
     "metadata": {},
     "output_type": "execute_result"
    }
   ],
   "source": [
    "df_combined.tail(100)"
   ]
  },
  {
   "cell_type": "code",
   "execution_count": 115,
   "id": "3c3c3eb9",
   "metadata": {},
   "outputs": [
    {
     "data": {
      "text/plain": [
       "date\n",
       "2004-02-03 23:39:00+00:00    2004\n",
       "2004-02-03 23:52:26+00:00    2004\n",
       "2004-02-03 23:52:39+00:00    2004\n",
       "2004-02-04 00:39:33+00:00    2004\n",
       "2004-02-04 00:43:10+00:00    2004\n",
       "                             ... \n",
       "2024-05-26 10:49:57+00:00    2024\n",
       "2043-12-28 19:34:12+00:00    2043\n",
       "2044-01-02 23:46:00+00:00    2044\n",
       "2044-01-04 16:59:46+00:00    2044\n",
       "2044-01-04 22:48:58+00:00    2044\n",
       "Name: year, Length: 81, dtype: int64"
      ]
     },
     "execution_count": 115,
     "metadata": {},
     "output_type": "execute_result"
    }
   ],
   "source": [
    "# years beyond 2002? why is 2044 and 2020 there?\n",
    "df_combined[df_combined.year > 2002].year"
   ]
  },
  {
   "cell_type": "code",
   "execution_count": 117,
   "id": "a99312eb",
   "metadata": {},
   "outputs": [
    {
     "data": {
      "text/plain": [
       "date\n",
       "2024-05-26 10:49:57+00:00    2024\n",
       "2043-12-28 19:34:12+00:00    2043\n",
       "2044-01-02 23:46:00+00:00    2044\n",
       "2044-01-04 16:59:46+00:00    2044\n",
       "2044-01-04 22:48:58+00:00    2044\n",
       "Name: year, dtype: int64"
      ]
     },
     "execution_count": 117,
     "metadata": {},
     "output_type": "execute_result"
    }
   ],
   "source": [
    "df_combined[df_combined.year > 2022].year"
   ]
  },
  {
   "cell_type": "code",
   "execution_count": 118,
   "id": "443f11a2",
   "metadata": {},
   "outputs": [],
   "source": [
    "#removing all the emails after 2022 which is not possible\n",
    "df_combined = df_combined[df_combined.year < 2022]"
   ]
  },
  {
   "cell_type": "code",
   "execution_count": 119,
   "id": "28a41568",
   "metadata": {},
   "outputs": [
    {
     "data": {
      "text/plain": [
       "(517103, 4)"
      ]
     },
     "execution_count": 119,
     "metadata": {},
     "output_type": "execute_result"
    }
   ],
   "source": [
    "df_combined.shape"
   ]
  },
  {
   "cell_type": "code",
   "execution_count": 121,
   "id": "67433257",
   "metadata": {
    "scrolled": true
   },
   "outputs": [
    {
     "data": {
      "text/plain": [
       "[<matplotlib.lines.Line2D at 0x7fee0baa02e0>]"
      ]
     },
     "execution_count": 121,
     "metadata": {},
     "output_type": "execute_result"
    },
    {
     "data": {
      "image/png": "[encoded data removed]",
      "text/plain": [
       "<Figure size 432x288 with 1 Axes>"
      ]
     },
     "metadata": {
      "needs_background": "light"
     },
     "output_type": "display_data"
    }
   ],
   "source": [
    "# Exploring the data\n",
    "plt.plot(df_combined.index.week, df_combined.sentiment)"
   ]
  },
  {
   "cell_type": "code",
   "execution_count": 126,
   "id": "c7ed4555",
   "metadata": {},
   "outputs": [],
   "source": [
    "# Human splitting\n",
    "train = df_combined[:'2000'] \n",
    "test = df_combined['2001']"
   ]
  },
  {
   "cell_type": "code",
   "execution_count": 127,
   "id": "8b87bc5d",
   "metadata": {},
   "outputs": [
    {
     "data": {
      "text/plain": [
       "<AxesSubplot:xlabel='date'>"
      ]
     },
     "execution_count": 127,
     "metadata": {},
     "output_type": "execute_result"
    },
    {
     "data": {
      "image/png": "[encoded data removed]",
      "text/plain": [
       "<Figure size 432x288 with 1 Axes>"
      ]
     },
     "metadata": {
      "needs_background": "light"
     },
     "output_type": "display_data"
    }
   ],
   "source": [
    "by_date = train.groupby(['date']).sentiment.sum().reset_index()\n",
    "#using train data\n",
    "by_date.plot(x = 'date', y = 'sentiment')"
   ]
  },
  {
   "cell_type": "code",
   "execution_count": 128,
   "id": "7ab50fd3",
   "metadata": {},
   "outputs": [
    {
     "data": {
      "image/png": "[encoded data removed]",
      "text/plain": [
       "<Figure size 1152x720 with 1 Axes>"
      ]
     },
     "metadata": {
      "needs_background": "light"
     },
     "output_type": "display_data"
    }
   ],
   "source": [
    "# Looking train and test set\n",
    "train_by_date = train.groupby(['date']).sentiment.sum().reset_index()\n",
    "#train_by_date.plot(x = 'date', y = 'sentiment')\n",
    "\n",
    "\n",
    "test_by_date = test.groupby(['date']).sentiment.sum().reset_index()\n",
    "#test_by_date.plot(x = 'date', y = 'sentiment')\n",
    "\n",
    "plt.figure(figsize = (16, 10))\n",
    "plt.plot(train_by_date.date, train_by_date.sentiment)\n",
    "plt.plot(test_by_date.date, test_by_date.sentiment)\n",
    "plt.show()"
   ]
  },
  {
   "cell_type": "code",
   "execution_count": null,
   "id": "394ef042",
   "metadata": {},
   "outputs": [],
   "source": [
    "# It looks like data of interest will be from year 1997 and up"
   ]
  },
  {
   "cell_type": "markdown",
   "id": "e005bc54",
   "metadata": {},
   "source": [
    "# Hypothesis"
   ]
  },
  {
   "cell_type": "code",
   "execution_count": null,
   "id": "f66c98fc",
   "metadata": {},
   "outputs": [],
   "source": []
  }
 ],
 "metadata": {
  "kernelspec": {
   "display_name": "Python 3 (ipykernel)",
   "language": "python",
   "name": "python3"
  },
  "language_info": {
   "codemirror_mode": {
    "name": "ipython",
    "version": 3
   },
   "file_extension": ".py",
   "mimetype": "text/x-python",
   "name": "python",
   "nbconvert_exporter": "python",
   "pygments_lexer": "ipython3",
   "version": "3.8.8"
  }
 },
 "nbformat": 4,
 "nbformat_minor": 5
}
