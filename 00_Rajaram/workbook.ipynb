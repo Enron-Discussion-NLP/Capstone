{
 "cells": [
  {
   "cell_type": "code",
   "execution_count": 1,
   "id": "15e0840b",
   "metadata": {},
   "outputs": [],
   "source": [
    "# import\n",
    "import re\n",
    "import pandas as pd\n",
    "import numpy as np\n",
    "\n",
    "import email\n",
    "from email.parser import Parser\n",
    "\n",
    "\n",
    "import unicodedata\n",
    "\n",
    "import nltk\n",
    "from nltk.tokenize.toktok import ToktokTokenizer\n",
    "from nltk.corpus import stopwords\n",
    "from sklearn.model_selection import train_test_split\n",
    "from sklearn.feature_extraction.text import TfidfVectorizer\n",
    "\n",
    "import prepare"
   ]
  },
  {
   "cell_type": "code",
   "execution_count": null,
   "id": "9a462997",
   "metadata": {},
   "outputs": [],
   "source": [
    "df = pd.read_csv('emails.csv')"
   ]
  },
  {
   "cell_type": "code",
   "execution_count": null,
   "id": "0ad5cc70",
   "metadata": {},
   "outputs": [],
   "source": [
    "df.head()"
   ]
  },
  {
   "cell_type": "code",
   "execution_count": null,
   "id": "6ae3929e",
   "metadata": {},
   "outputs": [],
   "source": [
    "df.message[0]"
   ]
  },
  {
   "cell_type": "code",
   "execution_count": null,
   "id": "a103a5f2",
   "metadata": {},
   "outputs": [],
   "source": [
    "import re\n",
    "re.findall(r'\\n\\n.*\\n', df.message[0])"
   ]
  },
  {
   "cell_type": "code",
   "execution_count": null,
   "id": "c716c872",
   "metadata": {},
   "outputs": [],
   "source": [
    "import email\n",
    "from email.parser import Parser"
   ]
  },
  {
   "cell_type": "code",
   "execution_count": null,
   "id": "082dbbd6",
   "metadata": {},
   "outputs": [],
   "source": [
    "message = df.message[0]"
   ]
  },
  {
   "cell_type": "code",
   "execution_count": null,
   "id": "f54a8187",
   "metadata": {},
   "outputs": [],
   "source": [
    "headers = Parser().parsestr(message)\n",
    "headers"
   ]
  },
  {
   "cell_type": "code",
   "execution_count": null,
   "id": "53ce2de8",
   "metadata": {},
   "outputs": [],
   "source": [
    "print(headers)"
   ]
  },
  {
   "cell_type": "code",
   "execution_count": null,
   "id": "874d5a1e",
   "metadata": {},
   "outputs": [],
   "source": [
    "type(headers)"
   ]
  },
  {
   "cell_type": "code",
   "execution_count": null,
   "id": "643c99b6",
   "metadata": {},
   "outputs": [],
   "source": [
    "print(headers['From'])"
   ]
  },
  {
   "cell_type": "code",
   "execution_count": null,
   "id": "47512078",
   "metadata": {},
   "outputs": [],
   "source": [
    "print(headers['Date'])"
   ]
  },
  {
   "cell_type": "code",
   "execution_count": null,
   "id": "7316d633",
   "metadata": {},
   "outputs": [],
   "source": [
    "print(headers['To'])"
   ]
  },
  {
   "cell_type": "code",
   "execution_count": null,
   "id": "6267a92a",
   "metadata": {},
   "outputs": [],
   "source": [
    "print(headers['Message-ID'])"
   ]
  },
  {
   "cell_type": "code",
   "execution_count": null,
   "id": "16411608",
   "metadata": {},
   "outputs": [],
   "source": [
    "headers.get_payload()"
   ]
  },
  {
   "cell_type": "code",
   "execution_count": null,
   "id": "3142893f",
   "metadata": {},
   "outputs": [],
   "source": [
    "bodies = []\n",
    "dates = [] \n",
    "for i in df.message:\n",
    "    headers = Parser().parsestr(i)\n",
    "    body = headers.get_payload()\n",
    "    date = headers['Date']\n",
    "    bodies.append(body)\n",
    "    dates.append(date)"
   ]
  },
  {
   "cell_type": "code",
   "execution_count": null,
   "id": "14819fbc",
   "metadata": {},
   "outputs": [],
   "source": [
    "# bodies"
   ]
  },
  {
   "cell_type": "code",
   "execution_count": null,
   "id": "3630c271",
   "metadata": {},
   "outputs": [],
   "source": [
    "len(bodies)"
   ]
  },
  {
   "cell_type": "code",
   "execution_count": null,
   "id": "cc64818f",
   "metadata": {},
   "outputs": [],
   "source": [
    "# dates"
   ]
  },
  {
   "cell_type": "code",
   "execution_count": null,
   "id": "2344083c",
   "metadata": {},
   "outputs": [],
   "source": [
    "len(dates)"
   ]
  },
  {
   "cell_type": "code",
   "execution_count": null,
   "id": "6a7ac87f",
   "metadata": {},
   "outputs": [],
   "source": [
    "bodies"
   ]
  },
  {
   "cell_type": "code",
   "execution_count": null,
   "id": "70fa7386",
   "metadata": {},
   "outputs": [],
   "source": [
    "body_df = pd.DataFrame(bodies, columns = ['content'])\n",
    "dates_df = pd.DataFrame(dates, columns = ['date'])"
   ]
  },
  {
   "cell_type": "code",
   "execution_count": null,
   "id": "9ca0efe7",
   "metadata": {
    "scrolled": true
   },
   "outputs": [],
   "source": [
    "body_df.head()"
   ]
  },
  {
   "cell_type": "code",
   "execution_count": null,
   "id": "b4fcd2c6",
   "metadata": {},
   "outputs": [],
   "source": [
    "dates_df.head()"
   ]
  },
  {
   "cell_type": "code",
   "execution_count": null,
   "id": "78346611",
   "metadata": {},
   "outputs": [],
   "source": [
    "df['content'] = body_df"
   ]
  },
  {
   "cell_type": "code",
   "execution_count": null,
   "id": "9b379e82",
   "metadata": {},
   "outputs": [],
   "source": [
    "df['date'] = dates_df"
   ]
  },
  {
   "cell_type": "code",
   "execution_count": null,
   "id": "a9e3afe7",
   "metadata": {},
   "outputs": [],
   "source": [
    "df.head()"
   ]
  },
  {
   "cell_type": "code",
   "execution_count": null,
   "id": "e5931b3b",
   "metadata": {},
   "outputs": [],
   "source": [
    "from_emails = []\n",
    "to_emails = []\n",
    "subjects = []\n",
    "for i in df.message:\n",
    "    headers = Parser().parsestr(i)\n",
    "    from_email = headers['From']\n",
    "    to_email = headers['To']\n",
    "    subject = headers['Subject']\n",
    "    from_emails.append(from_email)\n",
    "    to_emails.append(to_email)\n",
    "    subjects.append(subject)"
   ]
  },
  {
   "cell_type": "code",
   "execution_count": null,
   "id": "2eae0c55",
   "metadata": {},
   "outputs": [],
   "source": [
    "from_email_df = pd.DataFrame(from_emails, columns = ['from_email'])\n",
    "to_email_df = pd.DataFrame(to_emails, columns = ['to_email'])\n",
    "subjects_df = pd.DataFrame(subjects, columns = ['subject'])"
   ]
  },
  {
   "cell_type": "code",
   "execution_count": null,
   "id": "0e21498a",
   "metadata": {},
   "outputs": [],
   "source": [
    "from_email_df.head()"
   ]
  },
  {
   "cell_type": "code",
   "execution_count": null,
   "id": "65e124c7",
   "metadata": {},
   "outputs": [],
   "source": [
    "to_email_df.head()"
   ]
  },
  {
   "cell_type": "code",
   "execution_count": null,
   "id": "23a2e3ab",
   "metadata": {},
   "outputs": [],
   "source": [
    "subjects_df.head()"
   ]
  },
  {
   "cell_type": "code",
   "execution_count": null,
   "id": "8f60803b",
   "metadata": {},
   "outputs": [],
   "source": [
    "df['from_email'] = from_email_df\n",
    "df['to_email'] = to_email_df\n",
    "df['subject'] = subjects_df\n"
   ]
  },
  {
   "cell_type": "code",
   "execution_count": null,
   "id": "d68259d9",
   "metadata": {},
   "outputs": [],
   "source": [
    "df.head()"
   ]
  },
  {
   "cell_type": "code",
   "execution_count": null,
   "id": "14d58974",
   "metadata": {},
   "outputs": [],
   "source": [
    "df.message[2]"
   ]
  },
  {
   "cell_type": "code",
   "execution_count": null,
   "id": "ea888d09",
   "metadata": {},
   "outputs": [],
   "source": [
    "df.file[0]"
   ]
  },
  {
   "cell_type": "code",
   "execution_count": null,
   "id": "8a8b344d",
   "metadata": {},
   "outputs": [],
   "source": [
    "df.file[1]"
   ]
  },
  {
   "cell_type": "code",
   "execution_count": null,
   "id": "b77d22fc",
   "metadata": {},
   "outputs": [],
   "source": [
    "df.file[1000]"
   ]
  },
  {
   "cell_type": "code",
   "execution_count": null,
   "id": "bca3e661",
   "metadata": {},
   "outputs": [],
   "source": [
    "df.file[50000]"
   ]
  },
  {
   "cell_type": "code",
   "execution_count": null,
   "id": "199d309a",
   "metadata": {},
   "outputs": [],
   "source": [
    "df.file[100000]"
   ]
  },
  {
   "cell_type": "code",
   "execution_count": null,
   "id": "c087ac36",
   "metadata": {},
   "outputs": [],
   "source": [
    "# Defining Acquire "
   ]
  },
  {
   "cell_type": "code",
   "execution_count": null,
   "id": "d39388b5",
   "metadata": {},
   "outputs": [],
   "source": [
    "df.head()"
   ]
  },
  {
   "cell_type": "code",
   "execution_count": 4,
   "id": "44b1dc66",
   "metadata": {},
   "outputs": [],
   "source": [
    "def acquire_email():\n",
    "    'This functions will get us contents of email and from email, to email and subject'\n",
    "    df = pd.read_csv('emails.csv')\n",
    "    # headers = Parser().parsestr(message)\n",
    "    \n",
    "    bodies = []\n",
    "    dates = []\n",
    "    from_emails = []\n",
    "    to_emails = []\n",
    "    subjects = []\n",
    "    for i in df.message:\n",
    "        headers = Parser().parsestr(i)\n",
    "        body = headers.get_payload()\n",
    "        date = headers['Date']\n",
    "        from_email = headers['From']\n",
    "        to_email = headers['To']\n",
    "        subject = headers['Subject']\n",
    "        bodies.append(body)\n",
    "        dates.append(date)\n",
    "        from_emails.append(from_email)\n",
    "        to_emails.append(to_email)\n",
    "        subjects.append(subject)\n",
    "        \n",
    "        \n",
    "    \n",
    "    body_df = pd.DataFrame(bodies, columns = ['content'])\n",
    "    dates_df = pd.DataFrame(dates, columns = ['date'])\n",
    "    from_email_df = pd.DataFrame(from_emails, columns = ['from_email'])\n",
    "    to_email_df = pd.DataFrame(to_emails, columns = ['to_email'])\n",
    "    subjects_df = pd.DataFrame(subjects, columns = ['subject'])\n",
    "    \n",
    "    df['content'] = body_df\n",
    "    df['date'] = dates_df\n",
    "    df['from_email'] = from_email_df\n",
    "    df['to_email'] = to_email_df\n",
    "    df['subject'] = subjects_df\n",
    "    \n",
    "    return df\n",
    "    \n",
    "    \n",
    "    \n",
    "\n",
    "    "
   ]
  },
  {
   "cell_type": "code",
   "execution_count": 5,
   "id": "7deb947b",
   "metadata": {},
   "outputs": [
    {
     "data": {
      "text/html": [
       "<div>\n",
       "<style scoped>\n",
       "    .dataframe tbody tr th:only-of-type {\n",
       "        vertical-align: middle;\n",
       "    }\n",
       "\n",
       "    .dataframe tbody tr th {\n",
       "        vertical-align: top;\n",
       "    }\n",
       "\n",
       "    .dataframe thead th {\n",
       "        text-align: right;\n",
       "    }\n",
       "</style>\n",
       "<table border=\"1\" class=\"dataframe\">\n",
       "  <thead>\n",
       "    <tr style=\"text-align: right;\">\n",
       "      <th></th>\n",
       "      <th>file</th>\n",
       "      <th>message</th>\n",
       "      <th>content</th>\n",
       "      <th>date</th>\n",
       "      <th>from_email</th>\n",
       "      <th>to_email</th>\n",
       "      <th>subject</th>\n",
       "    </tr>\n",
       "  </thead>\n",
       "  <tbody>\n",
       "    <tr>\n",
       "      <th>0</th>\n",
       "      <td>allen-p/_sent_mail/1.</td>\n",
       "      <td>Message-ID: &lt;18782981.1075855378110.JavaMail.e...</td>\n",
       "      <td>Here is our forecast\\n\\n</td>\n",
       "      <td>Mon, 14 May 2001 16:39:00 -0700 (PDT)</td>\n",
       "      <td>phillip.allen@enron.com</td>\n",
       "      <td>tim.belden@enron.com</td>\n",
       "      <td></td>\n",
       "    </tr>\n",
       "    <tr>\n",
       "      <th>1</th>\n",
       "      <td>allen-p/_sent_mail/10.</td>\n",
       "      <td>Message-ID: &lt;15464986.1075855378456.JavaMail.e...</td>\n",
       "      <td>Traveling to have a business meeting takes the...</td>\n",
       "      <td>Fri, 4 May 2001 13:51:00 -0700 (PDT)</td>\n",
       "      <td>phillip.allen@enron.com</td>\n",
       "      <td>john.lavorato@enron.com</td>\n",
       "      <td>Re:</td>\n",
       "    </tr>\n",
       "    <tr>\n",
       "      <th>2</th>\n",
       "      <td>allen-p/_sent_mail/100.</td>\n",
       "      <td>Message-ID: &lt;24216240.1075855687451.JavaMail.e...</td>\n",
       "      <td>test successful.  way to go!!!</td>\n",
       "      <td>Wed, 18 Oct 2000 03:00:00 -0700 (PDT)</td>\n",
       "      <td>phillip.allen@enron.com</td>\n",
       "      <td>leah.arsdall@enron.com</td>\n",
       "      <td>Re: test</td>\n",
       "    </tr>\n",
       "    <tr>\n",
       "      <th>3</th>\n",
       "      <td>allen-p/_sent_mail/1000.</td>\n",
       "      <td>Message-ID: &lt;13505866.1075863688222.JavaMail.e...</td>\n",
       "      <td>Randy,\\n\\n Can you send me a schedule of the s...</td>\n",
       "      <td>Mon, 23 Oct 2000 06:13:00 -0700 (PDT)</td>\n",
       "      <td>phillip.allen@enron.com</td>\n",
       "      <td>randall.gay@enron.com</td>\n",
       "      <td></td>\n",
       "    </tr>\n",
       "    <tr>\n",
       "      <th>4</th>\n",
       "      <td>allen-p/_sent_mail/1001.</td>\n",
       "      <td>Message-ID: &lt;30922949.1075863688243.JavaMail.e...</td>\n",
       "      <td>Let's shoot for Tuesday at 11:45.</td>\n",
       "      <td>Thu, 31 Aug 2000 05:07:00 -0700 (PDT)</td>\n",
       "      <td>phillip.allen@enron.com</td>\n",
       "      <td>greg.piper@enron.com</td>\n",
       "      <td>Re: Hello</td>\n",
       "    </tr>\n",
       "    <tr>\n",
       "      <th>...</th>\n",
       "      <td>...</td>\n",
       "      <td>...</td>\n",
       "      <td>...</td>\n",
       "      <td>...</td>\n",
       "      <td>...</td>\n",
       "      <td>...</td>\n",
       "      <td>...</td>\n",
       "    </tr>\n",
       "    <tr>\n",
       "      <th>517396</th>\n",
       "      <td>zufferli-j/sent_items/95.</td>\n",
       "      <td>Message-ID: &lt;26807948.1075842029936.JavaMail.e...</td>\n",
       "      <td>This is a trade with OIL-SPEC-HEDGE-NG (John L...</td>\n",
       "      <td>Wed, 28 Nov 2001 13:30:11 -0800 (PST)</td>\n",
       "      <td>john.zufferli@enron.com</td>\n",
       "      <td>kori.loibl@enron.com</td>\n",
       "      <td>Trade with John Lavorato</td>\n",
       "    </tr>\n",
       "    <tr>\n",
       "      <th>517397</th>\n",
       "      <td>zufferli-j/sent_items/96.</td>\n",
       "      <td>Message-ID: &lt;25835861.1075842029959.JavaMail.e...</td>\n",
       "      <td>Some of my position is with the Alberta Term b...</td>\n",
       "      <td>Wed, 28 Nov 2001 12:47:48 -0800 (PST)</td>\n",
       "      <td>john.zufferli@enron.com</td>\n",
       "      <td>john.lavorato@enron.com</td>\n",
       "      <td>Gas Hedges</td>\n",
       "    </tr>\n",
       "    <tr>\n",
       "      <th>517398</th>\n",
       "      <td>zufferli-j/sent_items/97.</td>\n",
       "      <td>Message-ID: &lt;28979867.1075842029988.JavaMail.e...</td>\n",
       "      <td>2\\n\\n -----Original Message-----\\nFrom: \\tDouc...</td>\n",
       "      <td>Wed, 28 Nov 2001 07:20:00 -0800 (PST)</td>\n",
       "      <td>john.zufferli@enron.com</td>\n",
       "      <td>dawn.doucet@enron.com</td>\n",
       "      <td>RE: CONFIDENTIAL</td>\n",
       "    </tr>\n",
       "    <tr>\n",
       "      <th>517399</th>\n",
       "      <td>zufferli-j/sent_items/98.</td>\n",
       "      <td>Message-ID: &lt;22052556.1075842030013.JavaMail.e...</td>\n",
       "      <td>Analyst\\t\\t\\t\\t\\tRank\\n\\nStephane Brodeur\\t\\t\\...</td>\n",
       "      <td>Tue, 27 Nov 2001 11:52:45 -0800 (PST)</td>\n",
       "      <td>john.zufferli@enron.com</td>\n",
       "      <td>jeanie.slone@enron.com</td>\n",
       "      <td>Calgary Analyst/Associate</td>\n",
       "    </tr>\n",
       "    <tr>\n",
       "      <th>517400</th>\n",
       "      <td>zufferli-j/sent_items/99.</td>\n",
       "      <td>Message-ID: &lt;28618979.1075842030037.JavaMail.e...</td>\n",
       "      <td>i think the YMCA has a class that is for peopl...</td>\n",
       "      <td>Mon, 26 Nov 2001 10:48:43 -0800 (PST)</td>\n",
       "      <td>john.zufferli@enron.com</td>\n",
       "      <td>livia_zufferli@monitor.com</td>\n",
       "      <td>RE: ali's essays</td>\n",
       "    </tr>\n",
       "  </tbody>\n",
       "</table>\n",
       "<p>517401 rows × 7 columns</p>\n",
       "</div>"
      ],
      "text/plain": [
       "                             file  \\\n",
       "0           allen-p/_sent_mail/1.   \n",
       "1          allen-p/_sent_mail/10.   \n",
       "2         allen-p/_sent_mail/100.   \n",
       "3        allen-p/_sent_mail/1000.   \n",
       "4        allen-p/_sent_mail/1001.   \n",
       "...                           ...   \n",
       "517396  zufferli-j/sent_items/95.   \n",
       "517397  zufferli-j/sent_items/96.   \n",
       "517398  zufferli-j/sent_items/97.   \n",
       "517399  zufferli-j/sent_items/98.   \n",
       "517400  zufferli-j/sent_items/99.   \n",
       "\n",
       "                                                  message  \\\n",
       "0       Message-ID: <18782981.1075855378110.JavaMail.e...   \n",
       "1       Message-ID: <15464986.1075855378456.JavaMail.e...   \n",
       "2       Message-ID: <24216240.1075855687451.JavaMail.e...   \n",
       "3       Message-ID: <13505866.1075863688222.JavaMail.e...   \n",
       "4       Message-ID: <30922949.1075863688243.JavaMail.e...   \n",
       "...                                                   ...   \n",
       "517396  Message-ID: <26807948.1075842029936.JavaMail.e...   \n",
       "517397  Message-ID: <25835861.1075842029959.JavaMail.e...   \n",
       "517398  Message-ID: <28979867.1075842029988.JavaMail.e...   \n",
       "517399  Message-ID: <22052556.1075842030013.JavaMail.e...   \n",
       "517400  Message-ID: <28618979.1075842030037.JavaMail.e...   \n",
       "\n",
       "                                                  content  \\\n",
       "0                               Here is our forecast\\n\\n    \n",
       "1       Traveling to have a business meeting takes the...   \n",
       "2                          test successful.  way to go!!!   \n",
       "3       Randy,\\n\\n Can you send me a schedule of the s...   \n",
       "4                     Let's shoot for Tuesday at 11:45.     \n",
       "...                                                   ...   \n",
       "517396  This is a trade with OIL-SPEC-HEDGE-NG (John L...   \n",
       "517397  Some of my position is with the Alberta Term b...   \n",
       "517398  2\\n\\n -----Original Message-----\\nFrom: \\tDouc...   \n",
       "517399  Analyst\\t\\t\\t\\t\\tRank\\n\\nStephane Brodeur\\t\\t\\...   \n",
       "517400  i think the YMCA has a class that is for peopl...   \n",
       "\n",
       "                                         date               from_email  \\\n",
       "0       Mon, 14 May 2001 16:39:00 -0700 (PDT)  phillip.allen@enron.com   \n",
       "1        Fri, 4 May 2001 13:51:00 -0700 (PDT)  phillip.allen@enron.com   \n",
       "2       Wed, 18 Oct 2000 03:00:00 -0700 (PDT)  phillip.allen@enron.com   \n",
       "3       Mon, 23 Oct 2000 06:13:00 -0700 (PDT)  phillip.allen@enron.com   \n",
       "4       Thu, 31 Aug 2000 05:07:00 -0700 (PDT)  phillip.allen@enron.com   \n",
       "...                                       ...                      ...   \n",
       "517396  Wed, 28 Nov 2001 13:30:11 -0800 (PST)  john.zufferli@enron.com   \n",
       "517397  Wed, 28 Nov 2001 12:47:48 -0800 (PST)  john.zufferli@enron.com   \n",
       "517398  Wed, 28 Nov 2001 07:20:00 -0800 (PST)  john.zufferli@enron.com   \n",
       "517399  Tue, 27 Nov 2001 11:52:45 -0800 (PST)  john.zufferli@enron.com   \n",
       "517400  Mon, 26 Nov 2001 10:48:43 -0800 (PST)  john.zufferli@enron.com   \n",
       "\n",
       "                          to_email                    subject  \n",
       "0             tim.belden@enron.com                             \n",
       "1          john.lavorato@enron.com                        Re:  \n",
       "2           leah.arsdall@enron.com                   Re: test  \n",
       "3            randall.gay@enron.com                             \n",
       "4             greg.piper@enron.com                  Re: Hello  \n",
       "...                            ...                        ...  \n",
       "517396        kori.loibl@enron.com   Trade with John Lavorato  \n",
       "517397     john.lavorato@enron.com                 Gas Hedges  \n",
       "517398       dawn.doucet@enron.com           RE: CONFIDENTIAL  \n",
       "517399      jeanie.slone@enron.com  Calgary Analyst/Associate  \n",
       "517400  livia_zufferli@monitor.com           RE: ali's essays  \n",
       "\n",
       "[517401 rows x 7 columns]"
      ]
     },
     "execution_count": 5,
     "metadata": {},
     "output_type": "execute_result"
    }
   ],
   "source": [
    "df= acquire_email()\n",
    "df"
   ]
  },
  {
   "cell_type": "code",
   "execution_count": 6,
   "id": "5b0688ab",
   "metadata": {},
   "outputs": [],
   "source": [
    "df_needed = df.drop(columns = ['file', 'message', 'from_email', 'to_email', 'subject'])"
   ]
  },
  {
   "cell_type": "code",
   "execution_count": 7,
   "id": "5376a3ba",
   "metadata": {},
   "outputs": [
    {
     "data": {
      "text/html": [
       "<div>\n",
       "<style scoped>\n",
       "    .dataframe tbody tr th:only-of-type {\n",
       "        vertical-align: middle;\n",
       "    }\n",
       "\n",
       "    .dataframe tbody tr th {\n",
       "        vertical-align: top;\n",
       "    }\n",
       "\n",
       "    .dataframe thead th {\n",
       "        text-align: right;\n",
       "    }\n",
       "</style>\n",
       "<table border=\"1\" class=\"dataframe\">\n",
       "  <thead>\n",
       "    <tr style=\"text-align: right;\">\n",
       "      <th></th>\n",
       "      <th>content</th>\n",
       "      <th>date</th>\n",
       "    </tr>\n",
       "  </thead>\n",
       "  <tbody>\n",
       "    <tr>\n",
       "      <th>0</th>\n",
       "      <td>Here is our forecast\\n\\n</td>\n",
       "      <td>Mon, 14 May 2001 16:39:00 -0700 (PDT)</td>\n",
       "    </tr>\n",
       "    <tr>\n",
       "      <th>1</th>\n",
       "      <td>Traveling to have a business meeting takes the...</td>\n",
       "      <td>Fri, 4 May 2001 13:51:00 -0700 (PDT)</td>\n",
       "    </tr>\n",
       "    <tr>\n",
       "      <th>2</th>\n",
       "      <td>test successful.  way to go!!!</td>\n",
       "      <td>Wed, 18 Oct 2000 03:00:00 -0700 (PDT)</td>\n",
       "    </tr>\n",
       "    <tr>\n",
       "      <th>3</th>\n",
       "      <td>Randy,\\n\\n Can you send me a schedule of the s...</td>\n",
       "      <td>Mon, 23 Oct 2000 06:13:00 -0700 (PDT)</td>\n",
       "    </tr>\n",
       "    <tr>\n",
       "      <th>4</th>\n",
       "      <td>Let's shoot for Tuesday at 11:45.</td>\n",
       "      <td>Thu, 31 Aug 2000 05:07:00 -0700 (PDT)</td>\n",
       "    </tr>\n",
       "  </tbody>\n",
       "</table>\n",
       "</div>"
      ],
      "text/plain": [
       "                                             content  \\\n",
       "0                          Here is our forecast\\n\\n    \n",
       "1  Traveling to have a business meeting takes the...   \n",
       "2                     test successful.  way to go!!!   \n",
       "3  Randy,\\n\\n Can you send me a schedule of the s...   \n",
       "4                Let's shoot for Tuesday at 11:45.     \n",
       "\n",
       "                                    date  \n",
       "0  Mon, 14 May 2001 16:39:00 -0700 (PDT)  \n",
       "1   Fri, 4 May 2001 13:51:00 -0700 (PDT)  \n",
       "2  Wed, 18 Oct 2000 03:00:00 -0700 (PDT)  \n",
       "3  Mon, 23 Oct 2000 06:13:00 -0700 (PDT)  \n",
       "4  Thu, 31 Aug 2000 05:07:00 -0700 (PDT)  "
      ]
     },
     "execution_count": 7,
     "metadata": {},
     "output_type": "execute_result"
    }
   ],
   "source": [
    "df_needed.head()"
   ]
  },
  {
   "cell_type": "code",
   "execution_count": null,
   "id": "fb0498ae",
   "metadata": {},
   "outputs": [],
   "source": []
  }
 ],
 "metadata": {
  "kernelspec": {
   "display_name": "Python 3 (ipykernel)",
   "language": "python",
   "name": "python3"
  },
  "language_info": {
   "codemirror_mode": {
    "name": "ipython",
    "version": 3
   },
   "file_extension": ".py",
   "mimetype": "text/x-python",
   "name": "python",
   "nbconvert_exporter": "python",
   "pygments_lexer": "ipython3",
   "version": "3.8.8"
  }
 },
 "nbformat": 4,
 "nbformat_minor": 5
}
