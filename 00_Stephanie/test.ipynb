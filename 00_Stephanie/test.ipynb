{
 "cells": [
  {
   "cell_type": "code",
   "execution_count": 1,
   "id": "939a01c0",
   "metadata": {},
   "outputs": [],
   "source": [
    "# Here We'll test wrangle modules / explore modules / anything else needed"
   ]
  },
  {
   "cell_type": "code",
   "execution_count": 2,
   "id": "43a6fe16",
   "metadata": {},
   "outputs": [],
   "source": [
    "import wrangle\n",
    "import pandas as pd\n",
    "\n",
    "import matplotlib.pyplot as plt\n",
    "\n",
    "import warnings\n",
    "warnings.filterwarnings('ignore')\n",
    "\n",
    "import seaborn as sns"
   ]
  },
  {
   "cell_type": "markdown",
   "id": "7e508adc",
   "metadata": {},
   "source": [
    "# raw, unparsed data"
   ]
  },
  {
   "cell_type": "code",
   "execution_count": 3,
   "id": "28f04af1",
   "metadata": {},
   "outputs": [],
   "source": [
    "# reading in raw, unparsed data\n",
    "raw_df = pd.read_csv('00-raw_data.csv')"
   ]
  },
  {
   "cell_type": "code",
   "execution_count": 4,
   "id": "c0dc3b93",
   "metadata": {},
   "outputs": [
    {
     "data": {
      "text/plain": [
       "(517401, 3)"
      ]
     },
     "execution_count": 4,
     "metadata": {},
     "output_type": "execute_result"
    }
   ],
   "source": [
    "# size\n",
    "raw_df.shape"
   ]
  },
  {
   "cell_type": "code",
   "execution_count": 5,
   "id": "b6bdd59b",
   "metadata": {},
   "outputs": [
    {
     "data": {
      "text/html": [
       "<div>\n",
       "<style scoped>\n",
       "    .dataframe tbody tr th:only-of-type {\n",
       "        vertical-align: middle;\n",
       "    }\n",
       "\n",
       "    .dataframe tbody tr th {\n",
       "        vertical-align: top;\n",
       "    }\n",
       "\n",
       "    .dataframe thead th {\n",
       "        text-align: right;\n",
       "    }\n",
       "</style>\n",
       "<table border=\"1\" class=\"dataframe\">\n",
       "  <thead>\n",
       "    <tr style=\"text-align: right;\">\n",
       "      <th></th>\n",
       "      <th>Unnamed: 0</th>\n",
       "      <th>file</th>\n",
       "      <th>message</th>\n",
       "    </tr>\n",
       "  </thead>\n",
       "  <tbody>\n",
       "    <tr>\n",
       "      <th>0</th>\n",
       "      <td>0</td>\n",
       "      <td>allen-p/_sent_mail/1.</td>\n",
       "      <td>Message-ID: &lt;18782981.1075855378110.JavaMail.e...</td>\n",
       "    </tr>\n",
       "    <tr>\n",
       "      <th>1</th>\n",
       "      <td>1</td>\n",
       "      <td>allen-p/_sent_mail/10.</td>\n",
       "      <td>Message-ID: &lt;15464986.1075855378456.JavaMail.e...</td>\n",
       "    </tr>\n",
       "    <tr>\n",
       "      <th>2</th>\n",
       "      <td>2</td>\n",
       "      <td>allen-p/_sent_mail/100.</td>\n",
       "      <td>Message-ID: &lt;24216240.1075855687451.JavaMail.e...</td>\n",
       "    </tr>\n",
       "    <tr>\n",
       "      <th>3</th>\n",
       "      <td>3</td>\n",
       "      <td>allen-p/_sent_mail/1000.</td>\n",
       "      <td>Message-ID: &lt;13505866.1075863688222.JavaMail.e...</td>\n",
       "    </tr>\n",
       "    <tr>\n",
       "      <th>4</th>\n",
       "      <td>4</td>\n",
       "      <td>allen-p/_sent_mail/1001.</td>\n",
       "      <td>Message-ID: &lt;30922949.1075863688243.JavaMail.e...</td>\n",
       "    </tr>\n",
       "  </tbody>\n",
       "</table>\n",
       "</div>"
      ],
      "text/plain": [
       "   Unnamed: 0                      file  \\\n",
       "0           0     allen-p/_sent_mail/1.   \n",
       "1           1    allen-p/_sent_mail/10.   \n",
       "2           2   allen-p/_sent_mail/100.   \n",
       "3           3  allen-p/_sent_mail/1000.   \n",
       "4           4  allen-p/_sent_mail/1001.   \n",
       "\n",
       "                                             message  \n",
       "0  Message-ID: <18782981.1075855378110.JavaMail.e...  \n",
       "1  Message-ID: <15464986.1075855378456.JavaMail.e...  \n",
       "2  Message-ID: <24216240.1075855687451.JavaMail.e...  \n",
       "3  Message-ID: <13505866.1075863688222.JavaMail.e...  \n",
       "4  Message-ID: <30922949.1075863688243.JavaMail.e...  "
      ]
     },
     "execution_count": 5,
     "metadata": {},
     "output_type": "execute_result"
    }
   ],
   "source": [
    "# preview\n",
    "raw_df.head(5)"
   ]
  },
  {
   "cell_type": "code",
   "execution_count": 6,
   "id": "13e341ab",
   "metadata": {},
   "outputs": [],
   "source": [
    "raw_df.drop(columns = ['Unnamed: 0'], inplace = True)"
   ]
  },
  {
   "cell_type": "code",
   "execution_count": 8,
   "id": "94520243",
   "metadata": {},
   "outputs": [
    {
     "data": {
      "text/html": [
       "<div>\n",
       "<style scoped>\n",
       "    .dataframe tbody tr th:only-of-type {\n",
       "        vertical-align: middle;\n",
       "    }\n",
       "\n",
       "    .dataframe tbody tr th {\n",
       "        vertical-align: top;\n",
       "    }\n",
       "\n",
       "    .dataframe thead th {\n",
       "        text-align: right;\n",
       "    }\n",
       "</style>\n",
       "<table border=\"1\" class=\"dataframe\">\n",
       "  <thead>\n",
       "    <tr style=\"text-align: right;\">\n",
       "      <th></th>\n",
       "      <th>file</th>\n",
       "      <th>message</th>\n",
       "    </tr>\n",
       "  </thead>\n",
       "  <tbody>\n",
       "    <tr>\n",
       "      <th>0</th>\n",
       "      <td>allen-p/_sent_mail/1.</td>\n",
       "      <td>Message-ID: &lt;18782981.1075855378110.JavaMail.e...</td>\n",
       "    </tr>\n",
       "  </tbody>\n",
       "</table>\n",
       "</div>"
      ],
      "text/plain": [
       "                    file                                            message\n",
       "0  allen-p/_sent_mail/1.  Message-ID: <18782981.1075855378110.JavaMail.e..."
      ]
     },
     "execution_count": 8,
     "metadata": {},
     "output_type": "execute_result"
    }
   ],
   "source": [
    "raw_df.head(1)"
   ]
  },
  {
   "cell_type": "code",
   "execution_count": 9,
   "id": "4c8e5f33",
   "metadata": {},
   "outputs": [],
   "source": [
    "raw_df.to_csv('00-raw_data.csv', index = False)"
   ]
  },
  {
   "cell_type": "code",
   "execution_count": 11,
   "id": "a9548abd",
   "metadata": {},
   "outputs": [
    {
     "data": {
      "text/html": [
       "<div>\n",
       "<style scoped>\n",
       "    .dataframe tbody tr th:only-of-type {\n",
       "        vertical-align: middle;\n",
       "    }\n",
       "\n",
       "    .dataframe tbody tr th {\n",
       "        vertical-align: top;\n",
       "    }\n",
       "\n",
       "    .dataframe thead th {\n",
       "        text-align: right;\n",
       "    }\n",
       "</style>\n",
       "<table border=\"1\" class=\"dataframe\">\n",
       "  <thead>\n",
       "    <tr style=\"text-align: right;\">\n",
       "      <th></th>\n",
       "      <th>file</th>\n",
       "      <th>message</th>\n",
       "    </tr>\n",
       "  </thead>\n",
       "  <tbody>\n",
       "    <tr>\n",
       "      <th>0</th>\n",
       "      <td>allen-p/_sent_mail/1.</td>\n",
       "      <td>Message-ID: &lt;18782981.1075855378110.JavaMail.e...</td>\n",
       "    </tr>\n",
       "    <tr>\n",
       "      <th>1</th>\n",
       "      <td>allen-p/_sent_mail/10.</td>\n",
       "      <td>Message-ID: &lt;15464986.1075855378456.JavaMail.e...</td>\n",
       "    </tr>\n",
       "    <tr>\n",
       "      <th>2</th>\n",
       "      <td>allen-p/_sent_mail/100.</td>\n",
       "      <td>Message-ID: &lt;24216240.1075855687451.JavaMail.e...</td>\n",
       "    </tr>\n",
       "    <tr>\n",
       "      <th>3</th>\n",
       "      <td>allen-p/_sent_mail/1000.</td>\n",
       "      <td>Message-ID: &lt;13505866.1075863688222.JavaMail.e...</td>\n",
       "    </tr>\n",
       "    <tr>\n",
       "      <th>4</th>\n",
       "      <td>allen-p/_sent_mail/1001.</td>\n",
       "      <td>Message-ID: &lt;30922949.1075863688243.JavaMail.e...</td>\n",
       "    </tr>\n",
       "  </tbody>\n",
       "</table>\n",
       "</div>"
      ],
      "text/plain": [
       "                       file                                            message\n",
       "0     allen-p/_sent_mail/1.  Message-ID: <18782981.1075855378110.JavaMail.e...\n",
       "1    allen-p/_sent_mail/10.  Message-ID: <15464986.1075855378456.JavaMail.e...\n",
       "2   allen-p/_sent_mail/100.  Message-ID: <24216240.1075855687451.JavaMail.e...\n",
       "3  allen-p/_sent_mail/1000.  Message-ID: <13505866.1075863688222.JavaMail.e...\n",
       "4  allen-p/_sent_mail/1001.  Message-ID: <30922949.1075863688243.JavaMail.e..."
      ]
     },
     "execution_count": 11,
     "metadata": {},
     "output_type": "execute_result"
    }
   ],
   "source": [
    "test_raw = pd.read_csv('00-raw_data.csv')\n",
    "\n",
    "test_raw.head()"
   ]
  },
  {
   "cell_type": "markdown",
   "id": "b54411fd",
   "metadata": {},
   "source": [
    "# raw, parsed data"
   ]
  },
  {
   "cell_type": "markdown",
   "id": "ca1da5d4",
   "metadata": {},
   "source": [
    "># `wrangle.py` error \n",
    "`wrangle.acquire_emails()` function is calling csv file `email.csv` ---> (standard, semantic naming) `00-raw_data.csv`"
   ]
  },
  {
   "cell_type": "code",
   "execution_count": 12,
   "id": "5d3391c4",
   "metadata": {
    "scrolled": true
   },
   "outputs": [],
   "source": [
    "# calling function from wrangle file to acquire raw, parsed data\n",
    "df = wrangle.acquire_emails()"
   ]
  },
  {
   "cell_type": "code",
   "execution_count": 13,
   "id": "a71409b2",
   "metadata": {},
   "outputs": [
    {
     "data": {
      "text/plain": [
       "(517401, 5)"
      ]
     },
     "execution_count": 13,
     "metadata": {},
     "output_type": "execute_result"
    }
   ],
   "source": [
    "# size\n",
    "df.shape"
   ]
  },
  {
   "cell_type": "code",
   "execution_count": 14,
   "id": "749e25c1",
   "metadata": {},
   "outputs": [
    {
     "data": {
      "text/html": [
       "<div>\n",
       "<style scoped>\n",
       "    .dataframe tbody tr th:only-of-type {\n",
       "        vertical-align: middle;\n",
       "    }\n",
       "\n",
       "    .dataframe tbody tr th {\n",
       "        vertical-align: top;\n",
       "    }\n",
       "\n",
       "    .dataframe thead th {\n",
       "        text-align: right;\n",
       "    }\n",
       "</style>\n",
       "<table border=\"1\" class=\"dataframe\">\n",
       "  <thead>\n",
       "    <tr style=\"text-align: right;\">\n",
       "      <th></th>\n",
       "      <th>file</th>\n",
       "      <th>subject</th>\n",
       "      <th>sender</th>\n",
       "      <th>date</th>\n",
       "      <th>content</th>\n",
       "    </tr>\n",
       "  </thead>\n",
       "  <tbody>\n",
       "    <tr>\n",
       "      <th>0</th>\n",
       "      <td>allen-p/_sent_mail/1.</td>\n",
       "      <td></td>\n",
       "      <td>phillip.allen@enron.com</td>\n",
       "      <td>Mon, 14 May 2001 16:39:00 -0700 (PDT)</td>\n",
       "      <td>Here is our forecast\\n\\n</td>\n",
       "    </tr>\n",
       "    <tr>\n",
       "      <th>1</th>\n",
       "      <td>allen-p/_sent_mail/10.</td>\n",
       "      <td>Re:</td>\n",
       "      <td>phillip.allen@enron.com</td>\n",
       "      <td>Fri, 4 May 2001 13:51:00 -0700 (PDT)</td>\n",
       "      <td>Traveling to have a business meeting takes the...</td>\n",
       "    </tr>\n",
       "    <tr>\n",
       "      <th>2</th>\n",
       "      <td>allen-p/_sent_mail/100.</td>\n",
       "      <td>Re: test</td>\n",
       "      <td>phillip.allen@enron.com</td>\n",
       "      <td>Wed, 18 Oct 2000 03:00:00 -0700 (PDT)</td>\n",
       "      <td>test successful.  way to go!!!</td>\n",
       "    </tr>\n",
       "    <tr>\n",
       "      <th>3</th>\n",
       "      <td>allen-p/_sent_mail/1000.</td>\n",
       "      <td></td>\n",
       "      <td>phillip.allen@enron.com</td>\n",
       "      <td>Mon, 23 Oct 2000 06:13:00 -0700 (PDT)</td>\n",
       "      <td>Randy,\\n\\n Can you send me a schedule of the s...</td>\n",
       "    </tr>\n",
       "    <tr>\n",
       "      <th>4</th>\n",
       "      <td>allen-p/_sent_mail/1001.</td>\n",
       "      <td>Re: Hello</td>\n",
       "      <td>phillip.allen@enron.com</td>\n",
       "      <td>Thu, 31 Aug 2000 05:07:00 -0700 (PDT)</td>\n",
       "      <td>Let's shoot for Tuesday at 11:45.</td>\n",
       "    </tr>\n",
       "  </tbody>\n",
       "</table>\n",
       "</div>"
      ],
      "text/plain": [
       "                       file    subject                   sender  \\\n",
       "0     allen-p/_sent_mail/1.             phillip.allen@enron.com   \n",
       "1    allen-p/_sent_mail/10.        Re:  phillip.allen@enron.com   \n",
       "2   allen-p/_sent_mail/100.   Re: test  phillip.allen@enron.com   \n",
       "3  allen-p/_sent_mail/1000.             phillip.allen@enron.com   \n",
       "4  allen-p/_sent_mail/1001.  Re: Hello  phillip.allen@enron.com   \n",
       "\n",
       "                                    date  \\\n",
       "0  Mon, 14 May 2001 16:39:00 -0700 (PDT)   \n",
       "1   Fri, 4 May 2001 13:51:00 -0700 (PDT)   \n",
       "2  Wed, 18 Oct 2000 03:00:00 -0700 (PDT)   \n",
       "3  Mon, 23 Oct 2000 06:13:00 -0700 (PDT)   \n",
       "4  Thu, 31 Aug 2000 05:07:00 -0700 (PDT)   \n",
       "\n",
       "                                             content  \n",
       "0                          Here is our forecast\\n\\n   \n",
       "1  Traveling to have a business meeting takes the...  \n",
       "2                     test successful.  way to go!!!  \n",
       "3  Randy,\\n\\n Can you send me a schedule of the s...  \n",
       "4                Let's shoot for Tuesday at 11:45.    "
      ]
     },
     "execution_count": 14,
     "metadata": {},
     "output_type": "execute_result"
    }
   ],
   "source": [
    "# preview df\n",
    "df.head(5)"
   ]
  },
  {
   "cell_type": "markdown",
   "id": "d15c09e5",
   "metadata": {},
   "source": [
    "# main df and ts df functions"
   ]
  },
  {
   "cell_type": "code",
   "execution_count": null,
   "id": "e1b8a976",
   "metadata": {
    "scrolled": true
   },
   "outputs": [],
   "source": [
    "# calling function from wrangle file to clean and prepare main df and ts df\n",
    "main_df, ts_df = wrangle.create_dataframes_wrangle()"
   ]
  },
  {
   "cell_type": "code",
   "execution_count": 17,
   "id": "f8f1d64f",
   "metadata": {},
   "outputs": [
    {
     "data": {
      "text/plain": [
       "((517401, 14), (516182, 5))"
      ]
     },
     "execution_count": 17,
     "metadata": {},
     "output_type": "execute_result"
    }
   ],
   "source": [
    "# shapes\n",
    "main_df.shape, ts_df.shape"
   ]
  },
  {
   "cell_type": "code",
   "execution_count": 18,
   "id": "e2f8c7a6",
   "metadata": {},
   "outputs": [
    {
     "data": {
      "text/html": [
       "<div>\n",
       "<style scoped>\n",
       "    .dataframe tbody tr th:only-of-type {\n",
       "        vertical-align: middle;\n",
       "    }\n",
       "\n",
       "    .dataframe tbody tr th {\n",
       "        vertical-align: top;\n",
       "    }\n",
       "\n",
       "    .dataframe thead th {\n",
       "        text-align: right;\n",
       "    }\n",
       "</style>\n",
       "<table border=\"1\" class=\"dataframe\">\n",
       "  <thead>\n",
       "    <tr style=\"text-align: right;\">\n",
       "      <th></th>\n",
       "      <th>file</th>\n",
       "      <th>subject</th>\n",
       "      <th>sender</th>\n",
       "      <th>date</th>\n",
       "      <th>content</th>\n",
       "      <th>clean</th>\n",
       "      <th>tokenize</th>\n",
       "      <th>stop_words</th>\n",
       "      <th>lemmatize</th>\n",
       "      <th>intensity</th>\n",
       "      <th>polarity</th>\n",
       "      <th>subjectivity</th>\n",
       "      <th>is_poi</th>\n",
       "      <th>is_internal</th>\n",
       "    </tr>\n",
       "  </thead>\n",
       "  <tbody>\n",
       "    <tr>\n",
       "      <th>0</th>\n",
       "      <td>allen-p/_sent_mail/1.</td>\n",
       "      <td></td>\n",
       "      <td>phillip.allen@enron.com</td>\n",
       "      <td>2001-05-14 23:39:00+00:00</td>\n",
       "      <td>Here is our forecast\\n\\n</td>\n",
       "      <td>here is our forecast</td>\n",
       "      <td>here is our forecast</td>\n",
       "      <td>forecast</td>\n",
       "      <td>forecast</td>\n",
       "      <td>0.0000</td>\n",
       "      <td>0.00</td>\n",
       "      <td>0.000000</td>\n",
       "      <td>False</td>\n",
       "      <td>True</td>\n",
       "    </tr>\n",
       "    <tr>\n",
       "      <th>1</th>\n",
       "      <td>allen-p/_sent_mail/10.</td>\n",
       "      <td>Re:</td>\n",
       "      <td>phillip.allen@enron.com</td>\n",
       "      <td>2001-05-04 20:51:00+00:00</td>\n",
       "      <td>Traveling to have a business meeting takes the...</td>\n",
       "      <td>traveling to have a business meeting takes the...</td>\n",
       "      <td>traveling to have a business meeting takes the...</td>\n",
       "      <td>traveling business meeting takes fun trip espe...</td>\n",
       "      <td>traveling business meeting take fun trip espec...</td>\n",
       "      <td>0.9313</td>\n",
       "      <td>0.15</td>\n",
       "      <td>0.613333</td>\n",
       "      <td>False</td>\n",
       "      <td>True</td>\n",
       "    </tr>\n",
       "    <tr>\n",
       "      <th>2</th>\n",
       "      <td>allen-p/_sent_mail/100.</td>\n",
       "      <td>Re: test</td>\n",
       "      <td>phillip.allen@enron.com</td>\n",
       "      <td>2000-10-18 10:00:00+00:00</td>\n",
       "      <td>test successful.  way to go!!!</td>\n",
       "      <td>test successful  way to go</td>\n",
       "      <td>test successful way to go</td>\n",
       "      <td>test successful way go</td>\n",
       "      <td>test successful way go</td>\n",
       "      <td>0.5859</td>\n",
       "      <td>0.75</td>\n",
       "      <td>0.950000</td>\n",
       "      <td>False</td>\n",
       "      <td>True</td>\n",
       "    </tr>\n",
       "    <tr>\n",
       "      <th>3</th>\n",
       "      <td>allen-p/_sent_mail/1000.</td>\n",
       "      <td></td>\n",
       "      <td>phillip.allen@enron.com</td>\n",
       "      <td>2000-10-23 13:13:00+00:00</td>\n",
       "      <td>Randy,\\n\\n Can you send me a schedule of the s...</td>\n",
       "      <td>randy   can you send me a schedule of the sala...</td>\n",
       "      <td>randy can you send me a schedule of the salary...</td>\n",
       "      <td>randy send schedule salary level everyone sche...</td>\n",
       "      <td>randy send schedule salary level everyone sche...</td>\n",
       "      <td>0.0000</td>\n",
       "      <td>0.00</td>\n",
       "      <td>0.000000</td>\n",
       "      <td>False</td>\n",
       "      <td>True</td>\n",
       "    </tr>\n",
       "    <tr>\n",
       "      <th>4</th>\n",
       "      <td>allen-p/_sent_mail/1001.</td>\n",
       "      <td>Re: Hello</td>\n",
       "      <td>phillip.allen@enron.com</td>\n",
       "      <td>2000-08-31 12:07:00+00:00</td>\n",
       "      <td>Let's shoot for Tuesday at 11:45.</td>\n",
       "      <td>let's shoot for tuesday at 1145</td>\n",
       "      <td>let ' s shoot for tuesday at 1145</td>\n",
       "      <td>let ' shoot tuesday 1145</td>\n",
       "      <td>let ' shoot tuesday 1145</td>\n",
       "      <td>-0.3400</td>\n",
       "      <td>0.00</td>\n",
       "      <td>0.000000</td>\n",
       "      <td>False</td>\n",
       "      <td>True</td>\n",
       "    </tr>\n",
       "  </tbody>\n",
       "</table>\n",
       "</div>"
      ],
      "text/plain": [
       "                       file    subject                   sender  \\\n",
       "0     allen-p/_sent_mail/1.             phillip.allen@enron.com   \n",
       "1    allen-p/_sent_mail/10.        Re:  phillip.allen@enron.com   \n",
       "2   allen-p/_sent_mail/100.   Re: test  phillip.allen@enron.com   \n",
       "3  allen-p/_sent_mail/1000.             phillip.allen@enron.com   \n",
       "4  allen-p/_sent_mail/1001.  Re: Hello  phillip.allen@enron.com   \n",
       "\n",
       "                       date  \\\n",
       "0 2001-05-14 23:39:00+00:00   \n",
       "1 2001-05-04 20:51:00+00:00   \n",
       "2 2000-10-18 10:00:00+00:00   \n",
       "3 2000-10-23 13:13:00+00:00   \n",
       "4 2000-08-31 12:07:00+00:00   \n",
       "\n",
       "                                             content  \\\n",
       "0                          Here is our forecast\\n\\n    \n",
       "1  Traveling to have a business meeting takes the...   \n",
       "2                     test successful.  way to go!!!   \n",
       "3  Randy,\\n\\n Can you send me a schedule of the s...   \n",
       "4                Let's shoot for Tuesday at 11:45.     \n",
       "\n",
       "                                               clean  \\\n",
       "0                               here is our forecast   \n",
       "1  traveling to have a business meeting takes the...   \n",
       "2                         test successful  way to go   \n",
       "3  randy   can you send me a schedule of the sala...   \n",
       "4                    let's shoot for tuesday at 1145   \n",
       "\n",
       "                                            tokenize  \\\n",
       "0                               here is our forecast   \n",
       "1  traveling to have a business meeting takes the...   \n",
       "2                          test successful way to go   \n",
       "3  randy can you send me a schedule of the salary...   \n",
       "4                  let ' s shoot for tuesday at 1145   \n",
       "\n",
       "                                          stop_words  \\\n",
       "0                                           forecast   \n",
       "1  traveling business meeting takes fun trip espe...   \n",
       "2                             test successful way go   \n",
       "3  randy send schedule salary level everyone sche...   \n",
       "4                           let ' shoot tuesday 1145   \n",
       "\n",
       "                                           lemmatize  intensity  polarity  \\\n",
       "0                                           forecast     0.0000      0.00   \n",
       "1  traveling business meeting take fun trip espec...     0.9313      0.15   \n",
       "2                             test successful way go     0.5859      0.75   \n",
       "3  randy send schedule salary level everyone sche...     0.0000      0.00   \n",
       "4                           let ' shoot tuesday 1145    -0.3400      0.00   \n",
       "\n",
       "   subjectivity  is_poi  is_internal  \n",
       "0      0.000000   False         True  \n",
       "1      0.613333   False         True  \n",
       "2      0.950000   False         True  \n",
       "3      0.000000   False         True  \n",
       "4      0.000000   False         True  "
      ]
     },
     "execution_count": 18,
     "metadata": {},
     "output_type": "execute_result"
    }
   ],
   "source": [
    "main_df.head()"
   ]
  },
  {
   "cell_type": "code",
   "execution_count": 19,
   "id": "872ca386",
   "metadata": {},
   "outputs": [
    {
     "data": {
      "text/html": [
       "<div>\n",
       "<style scoped>\n",
       "    .dataframe tbody tr th:only-of-type {\n",
       "        vertical-align: middle;\n",
       "    }\n",
       "\n",
       "    .dataframe tbody tr th {\n",
       "        vertical-align: top;\n",
       "    }\n",
       "\n",
       "    .dataframe thead th {\n",
       "        text-align: right;\n",
       "    }\n",
       "</style>\n",
       "<table border=\"1\" class=\"dataframe\">\n",
       "  <thead>\n",
       "    <tr style=\"text-align: right;\">\n",
       "      <th></th>\n",
       "      <th>intensity</th>\n",
       "      <th>polarity</th>\n",
       "      <th>subjectivity</th>\n",
       "      <th>year</th>\n",
       "      <th>month</th>\n",
       "    </tr>\n",
       "    <tr>\n",
       "      <th>date</th>\n",
       "      <th></th>\n",
       "      <th></th>\n",
       "      <th></th>\n",
       "      <th></th>\n",
       "      <th></th>\n",
       "    </tr>\n",
       "  </thead>\n",
       "  <tbody>\n",
       "    <tr>\n",
       "      <th>1999-01-04 10:21:00+00:00</th>\n",
       "      <td>0.2023</td>\n",
       "      <td>0.000000</td>\n",
       "      <td>0.000000</td>\n",
       "      <td>1999</td>\n",
       "      <td>1</td>\n",
       "    </tr>\n",
       "    <tr>\n",
       "      <th>1999-01-04 10:21:00+00:00</th>\n",
       "      <td>0.2023</td>\n",
       "      <td>0.000000</td>\n",
       "      <td>0.000000</td>\n",
       "      <td>1999</td>\n",
       "      <td>1</td>\n",
       "    </tr>\n",
       "    <tr>\n",
       "      <th>1999-01-04 12:11:00+00:00</th>\n",
       "      <td>0.3182</td>\n",
       "      <td>0.016667</td>\n",
       "      <td>0.266667</td>\n",
       "      <td>1999</td>\n",
       "      <td>1</td>\n",
       "    </tr>\n",
       "    <tr>\n",
       "      <th>1999-01-04 12:11:00+00:00</th>\n",
       "      <td>0.3182</td>\n",
       "      <td>0.016667</td>\n",
       "      <td>0.266667</td>\n",
       "      <td>1999</td>\n",
       "      <td>1</td>\n",
       "    </tr>\n",
       "    <tr>\n",
       "      <th>1999-01-05 06:36:00+00:00</th>\n",
       "      <td>0.9895</td>\n",
       "      <td>0.076871</td>\n",
       "      <td>0.329783</td>\n",
       "      <td>1999</td>\n",
       "      <td>1</td>\n",
       "    </tr>\n",
       "  </tbody>\n",
       "</table>\n",
       "</div>"
      ],
      "text/plain": [
       "                           intensity  polarity  subjectivity  year  month\n",
       "date                                                                     \n",
       "1999-01-04 10:21:00+00:00     0.2023  0.000000      0.000000  1999      1\n",
       "1999-01-04 10:21:00+00:00     0.2023  0.000000      0.000000  1999      1\n",
       "1999-01-04 12:11:00+00:00     0.3182  0.016667      0.266667  1999      1\n",
       "1999-01-04 12:11:00+00:00     0.3182  0.016667      0.266667  1999      1\n",
       "1999-01-05 06:36:00+00:00     0.9895  0.076871      0.329783  1999      1"
      ]
     },
     "execution_count": 19,
     "metadata": {},
     "output_type": "execute_result"
    }
   ],
   "source": [
    "ts_df.head()"
   ]
  },
  {
   "cell_type": "code",
   "execution_count": null,
   "id": "28103dcd",
   "metadata": {},
   "outputs": [],
   "source": []
  },
  {
   "cell_type": "code",
   "execution_count": null,
   "id": "5a9e6c21",
   "metadata": {},
   "outputs": [],
   "source": []
  },
  {
   "cell_type": "code",
   "execution_count": null,
   "id": "5102d28b",
   "metadata": {},
   "outputs": [],
   "source": []
  },
  {
   "cell_type": "code",
   "execution_count": null,
   "id": "1d2cebbc",
   "metadata": {},
   "outputs": [],
   "source": []
  },
  {
   "cell_type": "code",
   "execution_count": null,
   "id": "ee7260c7",
   "metadata": {},
   "outputs": [],
   "source": [
    "df, time_series_df = wrangle.create_dataframes_wrangle()"
   ]
  },
  {
   "cell_type": "code",
   "execution_count": null,
   "id": "f6368370",
   "metadata": {},
   "outputs": [],
   "source": [
    "df.head()"
   ]
  },
  {
   "cell_type": "code",
   "execution_count": null,
   "id": "22026da8",
   "metadata": {},
   "outputs": [],
   "source": [
    "time_series_df.head()"
   ]
  },
  {
   "cell_type": "code",
   "execution_count": null,
   "id": "2f99f8f6",
   "metadata": {},
   "outputs": [],
   "source": [
    "#df.to_csv('01-clean_data.csv')"
   ]
  },
  {
   "cell_type": "code",
   "execution_count": null,
   "id": "f9667527",
   "metadata": {},
   "outputs": [],
   "source": [
    "#time_series_df.to_csv('02-ts_data.csv')"
   ]
  },
  {
   "cell_type": "code",
   "execution_count": null,
   "id": "d79b6041",
   "metadata": {},
   "outputs": [],
   "source": [
    "df = pd.read_csv('01-clean_data.csv')\n",
    "df.head()"
   ]
  },
  {
   "cell_type": "code",
   "execution_count": null,
   "id": "f47b1ed0",
   "metadata": {},
   "outputs": [],
   "source": [
    "df = df.drop(columns = ['Unnamed: 0'])\n",
    "df.head()"
   ]
  },
  {
   "cell_type": "code",
   "execution_count": null,
   "id": "1e766b41",
   "metadata": {},
   "outputs": [],
   "source": [
    "df.date = pd.to_datetime(df.date, utc=True)"
   ]
  },
  {
   "cell_type": "code",
   "execution_count": null,
   "id": "140bedc4",
   "metadata": {},
   "outputs": [],
   "source": [
    "isPoi_df = df[df.is_poi == True]\n",
    "isPoi_df.head()"
   ]
  },
  {
   "cell_type": "code",
   "execution_count": null,
   "id": "afd9bfb0",
   "metadata": {},
   "outputs": [],
   "source": [
    "isPoi_df.info()"
   ]
  },
  {
   "cell_type": "code",
   "execution_count": null,
   "id": "f5ce781b",
   "metadata": {},
   "outputs": [],
   "source": [
    "df_2000, df_2001 = wrangle.create_topic_dataframes(df)"
   ]
  },
  {
   "cell_type": "code",
   "execution_count": null,
   "id": "f8c99efd",
   "metadata": {},
   "outputs": [],
   "source": [
    "df.head()"
   ]
  },
  {
   "cell_type": "code",
   "execution_count": null,
   "id": "5551c704",
   "metadata": {},
   "outputs": [],
   "source": [
    "def create_time_series_df_allyears(df):\n",
    "    df = df.drop(columns = ['file', 'sender', 'subject', 'content', 'clean', 'tokenize', 'stop_words', 'lemmatize', 'is_internal', 'is_poi'])\n",
    "\n",
    "    df.date = pd.to_datetime(df.date, utc=True)\n",
    "\n",
    "    df = df.set_index('date').sort_index()\n",
    "\n",
    "    df['year'] = df.index.year\n",
    "    df['month'] = df.index.month\n",
    "    \n",
    "    return df"
   ]
  },
  {
   "cell_type": "code",
   "execution_count": null,
   "id": "c406d029",
   "metadata": {},
   "outputs": [],
   "source": [
    "df = create_time_series_df_allyears(df)\n",
    "df.head()"
   ]
  },
  {
   "cell_type": "code",
   "execution_count": null,
   "id": "ec9b98dc",
   "metadata": {},
   "outputs": [],
   "source": [
    "df.index.year.value_counts()"
   ]
  },
  {
   "cell_type": "code",
   "execution_count": null,
   "id": "61527d16",
   "metadata": {},
   "outputs": [],
   "source": [
    "#df.to_csv('03-ts_all_years_data.csv')"
   ]
  },
  {
   "cell_type": "code",
   "execution_count": null,
   "id": "b1cc34fc",
   "metadata": {},
   "outputs": [],
   "source": [
    "df.head()"
   ]
  },
  {
   "cell_type": "code",
   "execution_count": null,
   "id": "41555117",
   "metadata": {},
   "outputs": [],
   "source": [
    "df.info()"
   ]
  },
  {
   "cell_type": "code",
   "execution_count": null,
   "id": "fe2231d8",
   "metadata": {},
   "outputs": [],
   "source": [
    "#using train data\n",
    "by_date = df.groupby(['date']).intensity.sum().reset_index()\n",
    "by_date.head()"
   ]
  },
  {
   "cell_type": "code",
   "execution_count": null,
   "id": "d4a64d0e",
   "metadata": {},
   "outputs": [],
   "source": [
    "coolguy = df.groupby(['date']).polarity.sum().reset_index()\n",
    "doglover = df.groupby(['date']).subjectivity.sum().reset_index()"
   ]
  },
  {
   "cell_type": "code",
   "execution_count": null,
   "id": "f025a5d6",
   "metadata": {},
   "outputs": [],
   "source": [
    "#using train data\n",
    "#plt.figure(figsize=(16,10))\n",
    "by_date.plot(x = 'date', y = 'intensity', figsize=(16,10))"
   ]
  },
  {
   "cell_type": "code",
   "execution_count": null,
   "id": "9c61b8a8",
   "metadata": {},
   "outputs": [],
   "source": [
    "coolguy.plot(x = 'date', y = 'polarity', figsize=(16,10))"
   ]
  },
  {
   "cell_type": "code",
   "execution_count": null,
   "id": "8ee75b84",
   "metadata": {},
   "outputs": [],
   "source": [
    "doglover.plot(x = 'date', y = 'subjectivity', figsize=(16,10))"
   ]
  },
  {
   "cell_type": "code",
   "execution_count": null,
   "id": "542d34ea",
   "metadata": {},
   "outputs": [],
   "source": []
  }
 ],
 "metadata": {
  "kernelspec": {
   "display_name": "Python 3",
   "language": "python",
   "name": "python3"
  }
 },
 "nbformat": 4,
 "nbformat_minor": 5
}
