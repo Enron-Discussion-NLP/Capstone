{
 "cells": [
  {
   "cell_type": "code",
   "execution_count": 1,
   "id": "0150dff7",
   "metadata": {},
   "outputs": [],
   "source": [
    "import pandas as pd\n",
    "import numpy as np\n",
    "\n",
    "# USING IMPORT EMAILS TO PARSE THORUGH MESSAGES\n",
    "import email\n",
    "from email.parser import Parser\n",
    "\n",
    "import unicodedata\n",
    "import re\n",
    "import json\n",
    "import os\n",
    "\n",
    "import nltk\n",
    "from nltk.tokenize.toktok import ToktokTokenizer\n",
    "from nltk.corpus import stopwords\n",
    "\n",
    "import pandas as pd\n",
    "from time import strftime\n",
    "#from sklearn.model_selection import train_test_split\n",
    "import warnings\n",
    "warnings.filterwarnings('ignore')\n",
    "\n",
    "from nltk.stem import WordNetLemmatizer\n",
    "from nltk.corpus import stopwords\n",
    "\n",
    "# Intensity Score (sentiment score)\n",
    "from nltk.sentiment.vader import SentimentIntensityAnalyzer\n",
    "\n",
    "# Polarity / Subjectivity scores\n",
    "from textblob import TextBlob\n",
    "\n",
    "import matplotlib.pyplot as plt\n",
    "import seaborn as sns"
   ]
  },
  {
   "cell_type": "code",
   "execution_count": 2,
   "id": "f0d91324",
   "metadata": {},
   "outputs": [
    {
     "data": {
      "text/html": [
       "<div>\n",
       "<style scoped>\n",
       "    .dataframe tbody tr th:only-of-type {\n",
       "        vertical-align: middle;\n",
       "    }\n",
       "\n",
       "    .dataframe tbody tr th {\n",
       "        vertical-align: top;\n",
       "    }\n",
       "\n",
       "    .dataframe thead th {\n",
       "        text-align: right;\n",
       "    }\n",
       "</style>\n",
       "<table border=\"1\" class=\"dataframe\">\n",
       "  <thead>\n",
       "    <tr style=\"text-align: right;\">\n",
       "      <th></th>\n",
       "      <th>file</th>\n",
       "      <th>subject</th>\n",
       "      <th>sender</th>\n",
       "      <th>date</th>\n",
       "      <th>content</th>\n",
       "      <th>clean</th>\n",
       "      <th>tokenize</th>\n",
       "      <th>stop_words</th>\n",
       "      <th>lemmatize</th>\n",
       "      <th>intensity</th>\n",
       "      <th>polarity</th>\n",
       "      <th>subjectivity</th>\n",
       "      <th>is_poi</th>\n",
       "      <th>is_internal</th>\n",
       "    </tr>\n",
       "  </thead>\n",
       "  <tbody>\n",
       "    <tr>\n",
       "      <th>0</th>\n",
       "      <td>allen-p/_sent_mail/1.</td>\n",
       "      <td>NaN</td>\n",
       "      <td>phillip.allen@enron.com</td>\n",
       "      <td>Mon, 14 May 2001 16:39:00 -0700 (PDT)</td>\n",
       "      <td>Here is our forecast\\n\\n</td>\n",
       "      <td>here is our forecast</td>\n",
       "      <td>here is our forecast</td>\n",
       "      <td>forecast</td>\n",
       "      <td>forecast</td>\n",
       "      <td>0.0000</td>\n",
       "      <td>0.00</td>\n",
       "      <td>0.000000</td>\n",
       "      <td>False</td>\n",
       "      <td>True</td>\n",
       "    </tr>\n",
       "    <tr>\n",
       "      <th>1</th>\n",
       "      <td>allen-p/_sent_mail/10.</td>\n",
       "      <td>Re:</td>\n",
       "      <td>phillip.allen@enron.com</td>\n",
       "      <td>Fri, 4 May 2001 13:51:00 -0700 (PDT)</td>\n",
       "      <td>Traveling to have a business meeting takes the...</td>\n",
       "      <td>traveling to have a business meeting takes the...</td>\n",
       "      <td>traveling to have a business meeting takes the...</td>\n",
       "      <td>traveling business meeting takes fun trip espe...</td>\n",
       "      <td>traveling business meeting take fun trip espec...</td>\n",
       "      <td>0.9313</td>\n",
       "      <td>0.15</td>\n",
       "      <td>0.613333</td>\n",
       "      <td>False</td>\n",
       "      <td>True</td>\n",
       "    </tr>\n",
       "    <tr>\n",
       "      <th>2</th>\n",
       "      <td>allen-p/_sent_mail/100.</td>\n",
       "      <td>Re: test</td>\n",
       "      <td>phillip.allen@enron.com</td>\n",
       "      <td>Wed, 18 Oct 2000 03:00:00 -0700 (PDT)</td>\n",
       "      <td>test successful.  way to go!!!</td>\n",
       "      <td>test successful  way to go</td>\n",
       "      <td>test successful way to go</td>\n",
       "      <td>test successful way go</td>\n",
       "      <td>test successful way go</td>\n",
       "      <td>0.5859</td>\n",
       "      <td>0.75</td>\n",
       "      <td>0.950000</td>\n",
       "      <td>False</td>\n",
       "      <td>True</td>\n",
       "    </tr>\n",
       "    <tr>\n",
       "      <th>3</th>\n",
       "      <td>allen-p/_sent_mail/1000.</td>\n",
       "      <td>NaN</td>\n",
       "      <td>phillip.allen@enron.com</td>\n",
       "      <td>Mon, 23 Oct 2000 06:13:00 -0700 (PDT)</td>\n",
       "      <td>Randy,\\n\\n Can you send me a schedule of the s...</td>\n",
       "      <td>randy   can you send me a schedule of the sala...</td>\n",
       "      <td>randy can you send me a schedule of the salary...</td>\n",
       "      <td>randy send schedule salary level everyone sche...</td>\n",
       "      <td>randy send schedule salary level everyone sche...</td>\n",
       "      <td>0.0000</td>\n",
       "      <td>0.00</td>\n",
       "      <td>0.000000</td>\n",
       "      <td>False</td>\n",
       "      <td>True</td>\n",
       "    </tr>\n",
       "    <tr>\n",
       "      <th>4</th>\n",
       "      <td>allen-p/_sent_mail/1001.</td>\n",
       "      <td>Re: Hello</td>\n",
       "      <td>phillip.allen@enron.com</td>\n",
       "      <td>Thu, 31 Aug 2000 05:07:00 -0700 (PDT)</td>\n",
       "      <td>Let's shoot for Tuesday at 11:45.</td>\n",
       "      <td>let's shoot for tuesday at 1145</td>\n",
       "      <td>let ' s shoot for tuesday at 1145</td>\n",
       "      <td>let ' shoot tuesday 1145</td>\n",
       "      <td>let ' shoot tuesday 1145</td>\n",
       "      <td>-0.3400</td>\n",
       "      <td>0.00</td>\n",
       "      <td>0.000000</td>\n",
       "      <td>False</td>\n",
       "      <td>True</td>\n",
       "    </tr>\n",
       "  </tbody>\n",
       "</table>\n",
       "</div>"
      ],
      "text/plain": [
       "                       file    subject                   sender  \\\n",
       "0     allen-p/_sent_mail/1.        NaN  phillip.allen@enron.com   \n",
       "1    allen-p/_sent_mail/10.        Re:  phillip.allen@enron.com   \n",
       "2   allen-p/_sent_mail/100.   Re: test  phillip.allen@enron.com   \n",
       "3  allen-p/_sent_mail/1000.        NaN  phillip.allen@enron.com   \n",
       "4  allen-p/_sent_mail/1001.  Re: Hello  phillip.allen@enron.com   \n",
       "\n",
       "                                    date  \\\n",
       "0  Mon, 14 May 2001 16:39:00 -0700 (PDT)   \n",
       "1   Fri, 4 May 2001 13:51:00 -0700 (PDT)   \n",
       "2  Wed, 18 Oct 2000 03:00:00 -0700 (PDT)   \n",
       "3  Mon, 23 Oct 2000 06:13:00 -0700 (PDT)   \n",
       "4  Thu, 31 Aug 2000 05:07:00 -0700 (PDT)   \n",
       "\n",
       "                                             content  \\\n",
       "0                          Here is our forecast\\n\\n    \n",
       "1  Traveling to have a business meeting takes the...   \n",
       "2                     test successful.  way to go!!!   \n",
       "3  Randy,\\n\\n Can you send me a schedule of the s...   \n",
       "4                Let's shoot for Tuesday at 11:45.     \n",
       "\n",
       "                                               clean  \\\n",
       "0                               here is our forecast   \n",
       "1  traveling to have a business meeting takes the...   \n",
       "2                         test successful  way to go   \n",
       "3  randy   can you send me a schedule of the sala...   \n",
       "4                    let's shoot for tuesday at 1145   \n",
       "\n",
       "                                            tokenize  \\\n",
       "0                               here is our forecast   \n",
       "1  traveling to have a business meeting takes the...   \n",
       "2                          test successful way to go   \n",
       "3  randy can you send me a schedule of the salary...   \n",
       "4                  let ' s shoot for tuesday at 1145   \n",
       "\n",
       "                                          stop_words  \\\n",
       "0                                           forecast   \n",
       "1  traveling business meeting takes fun trip espe...   \n",
       "2                             test successful way go   \n",
       "3  randy send schedule salary level everyone sche...   \n",
       "4                           let ' shoot tuesday 1145   \n",
       "\n",
       "                                           lemmatize  intensity  polarity  \\\n",
       "0                                           forecast     0.0000      0.00   \n",
       "1  traveling business meeting take fun trip espec...     0.9313      0.15   \n",
       "2                             test successful way go     0.5859      0.75   \n",
       "3  randy send schedule salary level everyone sche...     0.0000      0.00   \n",
       "4                           let ' shoot tuesday 1145    -0.3400      0.00   \n",
       "\n",
       "   subjectivity  is_poi  is_internal  \n",
       "0      0.000000   False         True  \n",
       "1      0.613333   False         True  \n",
       "2      0.950000   False         True  \n",
       "3      0.000000   False         True  \n",
       "4      0.000000   False         True  "
      ]
     },
     "execution_count": 2,
     "metadata": {},
     "output_type": "execute_result"
    }
   ],
   "source": [
    "df = pd.read_csv('01-clean_data.csv', index_col=False)\n",
    "\n",
    "df.head()"
   ]
  },
  {
   "cell_type": "code",
   "execution_count": 3,
   "id": "fad9e96d",
   "metadata": {},
   "outputs": [
    {
     "data": {
      "text/html": [
       "<div>\n",
       "<style scoped>\n",
       "    .dataframe tbody tr th:only-of-type {\n",
       "        vertical-align: middle;\n",
       "    }\n",
       "\n",
       "    .dataframe tbody tr th {\n",
       "        vertical-align: top;\n",
       "    }\n",
       "\n",
       "    .dataframe thead th {\n",
       "        text-align: right;\n",
       "    }\n",
       "</style>\n",
       "<table border=\"1\" class=\"dataframe\">\n",
       "  <thead>\n",
       "    <tr style=\"text-align: right;\">\n",
       "      <th></th>\n",
       "      <th>content</th>\n",
       "      <th>date</th>\n",
       "      <th>sender</th>\n",
       "      <th>subject</th>\n",
       "    </tr>\n",
       "  </thead>\n",
       "  <tbody>\n",
       "    <tr>\n",
       "      <th>0</th>\n",
       "      <td>Here is our forecast\\n\\n</td>\n",
       "      <td>Mon, 14 May 2001 16:39:00 -0700 (PDT)</td>\n",
       "      <td>phillip.allen@enron.com</td>\n",
       "      <td>NaN</td>\n",
       "    </tr>\n",
       "    <tr>\n",
       "      <th>1</th>\n",
       "      <td>Traveling to have a business meeting takes the...</td>\n",
       "      <td>Fri, 4 May 2001 13:51:00 -0700 (PDT)</td>\n",
       "      <td>phillip.allen@enron.com</td>\n",
       "      <td>Re:</td>\n",
       "    </tr>\n",
       "    <tr>\n",
       "      <th>2</th>\n",
       "      <td>test successful.  way to go!!!</td>\n",
       "      <td>Wed, 18 Oct 2000 03:00:00 -0700 (PDT)</td>\n",
       "      <td>phillip.allen@enron.com</td>\n",
       "      <td>Re: test</td>\n",
       "    </tr>\n",
       "    <tr>\n",
       "      <th>3</th>\n",
       "      <td>Randy,\\n\\n Can you send me a schedule of the s...</td>\n",
       "      <td>Mon, 23 Oct 2000 06:13:00 -0700 (PDT)</td>\n",
       "      <td>phillip.allen@enron.com</td>\n",
       "      <td>NaN</td>\n",
       "    </tr>\n",
       "    <tr>\n",
       "      <th>4</th>\n",
       "      <td>Let's shoot for Tuesday at 11:45.</td>\n",
       "      <td>Thu, 31 Aug 2000 05:07:00 -0700 (PDT)</td>\n",
       "      <td>phillip.allen@enron.com</td>\n",
       "      <td>Re: Hello</td>\n",
       "    </tr>\n",
       "  </tbody>\n",
       "</table>\n",
       "</div>"
      ],
      "text/plain": [
       "                                             content  \\\n",
       "0                          Here is our forecast\\n\\n    \n",
       "1  Traveling to have a business meeting takes the...   \n",
       "2                     test successful.  way to go!!!   \n",
       "3  Randy,\\n\\n Can you send me a schedule of the s...   \n",
       "4                Let's shoot for Tuesday at 11:45.     \n",
       "\n",
       "                                    date                   sender    subject  \n",
       "0  Mon, 14 May 2001 16:39:00 -0700 (PDT)  phillip.allen@enron.com        NaN  \n",
       "1   Fri, 4 May 2001 13:51:00 -0700 (PDT)  phillip.allen@enron.com        Re:  \n",
       "2  Wed, 18 Oct 2000 03:00:00 -0700 (PDT)  phillip.allen@enron.com   Re: test  \n",
       "3  Mon, 23 Oct 2000 06:13:00 -0700 (PDT)  phillip.allen@enron.com        NaN  \n",
       "4  Thu, 31 Aug 2000 05:07:00 -0700 (PDT)  phillip.allen@enron.com  Re: Hello  "
      ]
     },
     "execution_count": 3,
     "metadata": {},
     "output_type": "execute_result"
    }
   ],
   "source": [
    "df[['content', 'date', 'sender', 'subject']].head()"
   ]
  },
  {
   "cell_type": "code",
   "execution_count": 4,
   "id": "03aa3fe2",
   "metadata": {},
   "outputs": [],
   "source": [
    "# df.to_csv('01-clean_data.csv', index = False)"
   ]
  },
  {
   "cell_type": "code",
   "execution_count": 5,
   "id": "d2420ff1",
   "metadata": {},
   "outputs": [
    {
     "data": {
      "text/plain": [
       "(517401, 14)"
      ]
     },
     "execution_count": 5,
     "metadata": {},
     "output_type": "execute_result"
    }
   ],
   "source": [
    "df.shape"
   ]
  },
  {
   "cell_type": "code",
   "execution_count": 6,
   "id": "57f20917",
   "metadata": {},
   "outputs": [],
   "source": [
    "df.fillna('', inplace = True)"
   ]
  },
  {
   "cell_type": "code",
   "execution_count": 7,
   "id": "c321d9f9",
   "metadata": {},
   "outputs": [
    {
     "data": {
      "text/plain": [
       "file            0\n",
       "subject         0\n",
       "sender          0\n",
       "date            0\n",
       "content         0\n",
       "clean           0\n",
       "tokenize        0\n",
       "stop_words      0\n",
       "lemmatize       0\n",
       "intensity       0\n",
       "polarity        0\n",
       "subjectivity    0\n",
       "is_poi          0\n",
       "is_internal     0\n",
       "dtype: int64"
      ]
     },
     "execution_count": 7,
     "metadata": {},
     "output_type": "execute_result"
    }
   ],
   "source": [
    "df.isna().sum()"
   ]
  },
  {
   "cell_type": "code",
   "execution_count": 8,
   "id": "19cff5cc",
   "metadata": {},
   "outputs": [
    {
     "data": {
      "text/plain": [
       "'    '"
      ]
     },
     "execution_count": 8,
     "metadata": {},
     "output_type": "execute_result"
    }
   ],
   "source": [
    "df.clean[151719]"
   ]
  },
  {
   "cell_type": "code",
   "execution_count": 9,
   "id": "63287b9c",
   "metadata": {},
   "outputs": [
    {
     "data": {
      "text/plain": [
       "(517401, 6)"
      ]
     },
     "execution_count": 9,
     "metadata": {},
     "output_type": "execute_result"
    }
   ],
   "source": [
    "ts = pd.read_csv('02-ts_data.csv')\n",
    "\n",
    "ts.shape"
   ]
  },
  {
   "cell_type": "code",
   "execution_count": 10,
   "id": "9fa849c8",
   "metadata": {
    "scrolled": true
   },
   "outputs": [
    {
     "data": {
      "text/html": [
       "<div>\n",
       "<style scoped>\n",
       "    .dataframe tbody tr th:only-of-type {\n",
       "        vertical-align: middle;\n",
       "    }\n",
       "\n",
       "    .dataframe tbody tr th {\n",
       "        vertical-align: top;\n",
       "    }\n",
       "\n",
       "    .dataframe thead th {\n",
       "        text-align: right;\n",
       "    }\n",
       "</style>\n",
       "<table border=\"1\" class=\"dataframe\">\n",
       "  <thead>\n",
       "    <tr style=\"text-align: right;\">\n",
       "      <th></th>\n",
       "      <th>date</th>\n",
       "      <th>intensity</th>\n",
       "      <th>polarity</th>\n",
       "      <th>subjectivity</th>\n",
       "      <th>year</th>\n",
       "      <th>month</th>\n",
       "    </tr>\n",
       "  </thead>\n",
       "  <tbody>\n",
       "    <tr>\n",
       "      <th>0</th>\n",
       "      <td>1980-01-01 00:00:00+00:00</td>\n",
       "      <td>0.6124</td>\n",
       "      <td>-0.104861</td>\n",
       "      <td>0.431250</td>\n",
       "      <td>1980</td>\n",
       "      <td>1</td>\n",
       "    </tr>\n",
       "    <tr>\n",
       "      <th>1</th>\n",
       "      <td>1980-01-01 00:00:00+00:00</td>\n",
       "      <td>0.0000</td>\n",
       "      <td>0.000000</td>\n",
       "      <td>0.000000</td>\n",
       "      <td>1980</td>\n",
       "      <td>1</td>\n",
       "    </tr>\n",
       "    <tr>\n",
       "      <th>2</th>\n",
       "      <td>1980-01-01 00:00:00+00:00</td>\n",
       "      <td>0.9943</td>\n",
       "      <td>0.278879</td>\n",
       "      <td>0.575575</td>\n",
       "      <td>1980</td>\n",
       "      <td>1</td>\n",
       "    </tr>\n",
       "    <tr>\n",
       "      <th>3</th>\n",
       "      <td>1980-01-01 00:00:00+00:00</td>\n",
       "      <td>0.6908</td>\n",
       "      <td>0.008333</td>\n",
       "      <td>0.633333</td>\n",
       "      <td>1980</td>\n",
       "      <td>1</td>\n",
       "    </tr>\n",
       "    <tr>\n",
       "      <th>4</th>\n",
       "      <td>1980-01-01 00:00:00+00:00</td>\n",
       "      <td>0.7184</td>\n",
       "      <td>0.043810</td>\n",
       "      <td>0.373810</td>\n",
       "      <td>1980</td>\n",
       "      <td>1</td>\n",
       "    </tr>\n",
       "  </tbody>\n",
       "</table>\n",
       "</div>"
      ],
      "text/plain": [
       "                        date  intensity  polarity  subjectivity  year  month\n",
       "0  1980-01-01 00:00:00+00:00     0.6124 -0.104861      0.431250  1980      1\n",
       "1  1980-01-01 00:00:00+00:00     0.0000  0.000000      0.000000  1980      1\n",
       "2  1980-01-01 00:00:00+00:00     0.9943  0.278879      0.575575  1980      1\n",
       "3  1980-01-01 00:00:00+00:00     0.6908  0.008333      0.633333  1980      1\n",
       "4  1980-01-01 00:00:00+00:00     0.7184  0.043810      0.373810  1980      1"
      ]
     },
     "execution_count": 10,
     "metadata": {},
     "output_type": "execute_result"
    }
   ],
   "source": [
    "ts.head()"
   ]
  },
  {
   "cell_type": "code",
   "execution_count": null,
   "id": "dbab4ce5",
   "metadata": {},
   "outputs": [],
   "source": []
  },
  {
   "cell_type": "code",
   "execution_count": 11,
   "id": "789bf147",
   "metadata": {},
   "outputs": [],
   "source": [
    "ts.date = pd.to_datetime(ts.date)"
   ]
  },
  {
   "cell_type": "code",
   "execution_count": 12,
   "id": "f964a6a9",
   "metadata": {},
   "outputs": [],
   "source": [
    "ts.set_index('date', inplace = True)"
   ]
  },
  {
   "cell_type": "code",
   "execution_count": 13,
   "id": "d7ca01f3",
   "metadata": {},
   "outputs": [
    {
     "data": {
      "text/plain": [
       "intensity       0\n",
       "polarity        0\n",
       "subjectivity    0\n",
       "year            0\n",
       "month           0\n",
       "dtype: int64"
      ]
     },
     "execution_count": 13,
     "metadata": {},
     "output_type": "execute_result"
    }
   ],
   "source": [
    "ts.isna().sum()"
   ]
  },
  {
   "cell_type": "code",
   "execution_count": 14,
   "id": "28e68da5",
   "metadata": {},
   "outputs": [
    {
     "data": {
      "text/plain": [
       "<AxesSubplot:xlabel='date'>"
      ]
     },
     "execution_count": 14,
     "metadata": {},
     "output_type": "execute_result"
    },
    {
     "data": {
      "image/png": "[encoded data removed]",
      "text/plain": [
       "<Figure size 432x288 with 1 Axes>"
      ]
     },
     "metadata": {
      "needs_background": "light"
     },
     "output_type": "display_data"
    }
   ],
   "source": [
    "ts.drop(columns = ['month', 'year']).plot()"
   ]
  },
  {
   "cell_type": "code",
   "execution_count": 15,
   "id": "ab8b68b3",
   "metadata": {},
   "outputs": [
    {
     "data": {
      "text/plain": [
       "datetime64[ns, UTC]"
      ]
     },
     "execution_count": 15,
     "metadata": {},
     "output_type": "execute_result"
    }
   ],
   "source": [
    "ts.index.dtype"
   ]
  },
  {
   "cell_type": "code",
   "execution_count": 16,
   "id": "3c43d960",
   "metadata": {},
   "outputs": [
    {
     "data": {
      "text/plain": [
       "Timestamp('1980-01-01 00:00:00+0000', tz='UTC')"
      ]
     },
     "execution_count": 16,
     "metadata": {},
     "output_type": "execute_result"
    }
   ],
   "source": [
    "ts.index[0]"
   ]
  },
  {
   "cell_type": "code",
   "execution_count": null,
   "id": "62eaf29d",
   "metadata": {},
   "outputs": [],
   "source": []
  },
  {
   "cell_type": "code",
   "execution_count": 17,
   "id": "3c88a927",
   "metadata": {},
   "outputs": [
    {
     "data": {
      "text/plain": [
       "<Figure size 720x720 with 0 Axes>"
      ]
     },
     "metadata": {},
     "output_type": "display_data"
    },
    {
     "data": {
      "image/png": "[encoded data removed]",
      "text/plain": [
       "<Figure size 432x288 with 1 Axes>"
      ]
     },
     "metadata": {
      "needs_background": "light"
     },
     "output_type": "display_data"
    }
   ],
   "source": [
    "plt.figure(figsize = (10, 10))\n",
    "ts.groupby('year')[['intensity', 'polarity', 'subjectivity']].mean().sort_index().plot.barh()\n",
    "plt.show()"
   ]
  },
  {
   "cell_type": "code",
   "execution_count": 18,
   "id": "0f9963ae",
   "metadata": {},
   "outputs": [
    {
     "data": {
      "image/png": "[encoded data removed]",
      "text/plain": [
       "<Figure size 432x288 with 1 Axes>"
      ]
     },
     "metadata": {
      "needs_background": "light"
     },
     "output_type": "display_data"
    }
   ],
   "source": [
    "pd.DataFrame(ts.year.value_counts()).sort_index(ascending = False).plot.barh()\n",
    "plt.title('Most of Our Data 1999 - 2002')\n",
    "plt.show()"
   ]
  },
  {
   "cell_type": "code",
   "execution_count": 19,
   "id": "cc5c748b",
   "metadata": {},
   "outputs": [
    {
     "data": {
      "text/html": [
       "<div>\n",
       "<style scoped>\n",
       "    .dataframe tbody tr th:only-of-type {\n",
       "        vertical-align: middle;\n",
       "    }\n",
       "\n",
       "    .dataframe tbody tr th {\n",
       "        vertical-align: top;\n",
       "    }\n",
       "\n",
       "    .dataframe thead th {\n",
       "        text-align: right;\n",
       "    }\n",
       "</style>\n",
       "<table border=\"1\" class=\"dataframe\">\n",
       "  <thead>\n",
       "    <tr style=\"text-align: right;\">\n",
       "      <th></th>\n",
       "      <th>year</th>\n",
       "    </tr>\n",
       "  </thead>\n",
       "  <tbody>\n",
       "    <tr>\n",
       "      <th>1980</th>\n",
       "      <td>0.1009</td>\n",
       "    </tr>\n",
       "    <tr>\n",
       "      <th>1986</th>\n",
       "      <td>0.0004</td>\n",
       "    </tr>\n",
       "    <tr>\n",
       "      <th>1997</th>\n",
       "      <td>0.0845</td>\n",
       "    </tr>\n",
       "    <tr>\n",
       "      <th>1998</th>\n",
       "      <td>0.0342</td>\n",
       "    </tr>\n",
       "    <tr>\n",
       "      <th>1999</th>\n",
       "      <td>2.1538</td>\n",
       "    </tr>\n",
       "    <tr>\n",
       "      <th>2000</th>\n",
       "      <td>37.9010</td>\n",
       "    </tr>\n",
       "    <tr>\n",
       "      <th>2001</th>\n",
       "      <td>52.7568</td>\n",
       "    </tr>\n",
       "    <tr>\n",
       "      <th>2002</th>\n",
       "      <td>6.9528</td>\n",
       "    </tr>\n",
       "    <tr>\n",
       "      <th>2004</th>\n",
       "      <td>0.0135</td>\n",
       "    </tr>\n",
       "    <tr>\n",
       "      <th>2005</th>\n",
       "      <td>0.0002</td>\n",
       "    </tr>\n",
       "    <tr>\n",
       "      <th>2007</th>\n",
       "      <td>0.0002</td>\n",
       "    </tr>\n",
       "    <tr>\n",
       "      <th>2012</th>\n",
       "      <td>0.0004</td>\n",
       "    </tr>\n",
       "    <tr>\n",
       "      <th>2020</th>\n",
       "      <td>0.0004</td>\n",
       "    </tr>\n",
       "    <tr>\n",
       "      <th>2024</th>\n",
       "      <td>0.0002</td>\n",
       "    </tr>\n",
       "    <tr>\n",
       "      <th>2043</th>\n",
       "      <td>0.0002</td>\n",
       "    </tr>\n",
       "    <tr>\n",
       "      <th>2044</th>\n",
       "      <td>0.0006</td>\n",
       "    </tr>\n",
       "  </tbody>\n",
       "</table>\n",
       "</div>"
      ],
      "text/plain": [
       "         year\n",
       "1980   0.1009\n",
       "1986   0.0004\n",
       "1997   0.0845\n",
       "1998   0.0342\n",
       "1999   2.1538\n",
       "2000  37.9010\n",
       "2001  52.7568\n",
       "2002   6.9528\n",
       "2004   0.0135\n",
       "2005   0.0002\n",
       "2007   0.0002\n",
       "2012   0.0004\n",
       "2020   0.0004\n",
       "2024   0.0002\n",
       "2043   0.0002\n",
       "2044   0.0006"
      ]
     },
     "execution_count": 19,
     "metadata": {},
     "output_type": "execute_result"
    }
   ],
   "source": [
    "pd.DataFrame(round(ts.year.value_counts(normalize = True)*100, 4)).sort_index()"
   ]
  },
  {
   "cell_type": "code",
   "execution_count": 20,
   "id": "f42217e3",
   "metadata": {},
   "outputs": [
    {
     "data": {
      "text/plain": [
       "<AxesSubplot:>"
      ]
     },
     "execution_count": 20,
     "metadata": {},
     "output_type": "execute_result"
    },
    {
     "data": {
      "image/png": "[encoded data removed]",
      "text/plain": [
       "<Figure size 432x288 with 1 Axes>"
      ]
     },
     "metadata": {
      "needs_background": "light"
     },
     "output_type": "display_data"
    }
   ],
   "source": [
    "ts.intensity.hist()"
   ]
  },
  {
   "cell_type": "code",
   "execution_count": 21,
   "id": "d89ff8e6",
   "metadata": {},
   "outputs": [
    {
     "data": {
      "text/html": [
       "<div>\n",
       "<style scoped>\n",
       "    .dataframe tbody tr th:only-of-type {\n",
       "        vertical-align: middle;\n",
       "    }\n",
       "\n",
       "    .dataframe tbody tr th {\n",
       "        vertical-align: top;\n",
       "    }\n",
       "\n",
       "    .dataframe thead th {\n",
       "        text-align: right;\n",
       "    }\n",
       "</style>\n",
       "<table border=\"1\" class=\"dataframe\">\n",
       "  <thead>\n",
       "    <tr style=\"text-align: right;\">\n",
       "      <th></th>\n",
       "      <th>intensity</th>\n",
       "      <th>polarity</th>\n",
       "      <th>subjectivity</th>\n",
       "      <th>year</th>\n",
       "      <th>month</th>\n",
       "    </tr>\n",
       "    <tr>\n",
       "      <th>date</th>\n",
       "      <th></th>\n",
       "      <th></th>\n",
       "      <th></th>\n",
       "      <th></th>\n",
       "      <th></th>\n",
       "    </tr>\n",
       "  </thead>\n",
       "  <tbody>\n",
       "    <tr>\n",
       "      <th>1980-01-01 00:00:00+00:00</th>\n",
       "      <td>0.6124</td>\n",
       "      <td>-0.104861</td>\n",
       "      <td>0.431250</td>\n",
       "      <td>1980</td>\n",
       "      <td>1</td>\n",
       "    </tr>\n",
       "    <tr>\n",
       "      <th>1980-01-01 00:00:00+00:00</th>\n",
       "      <td>0.0000</td>\n",
       "      <td>0.000000</td>\n",
       "      <td>0.000000</td>\n",
       "      <td>1980</td>\n",
       "      <td>1</td>\n",
       "    </tr>\n",
       "    <tr>\n",
       "      <th>1980-01-01 00:00:00+00:00</th>\n",
       "      <td>0.9943</td>\n",
       "      <td>0.278879</td>\n",
       "      <td>0.575575</td>\n",
       "      <td>1980</td>\n",
       "      <td>1</td>\n",
       "    </tr>\n",
       "    <tr>\n",
       "      <th>1980-01-01 00:00:00+00:00</th>\n",
       "      <td>0.6908</td>\n",
       "      <td>0.008333</td>\n",
       "      <td>0.633333</td>\n",
       "      <td>1980</td>\n",
       "      <td>1</td>\n",
       "    </tr>\n",
       "    <tr>\n",
       "      <th>1980-01-01 00:00:00+00:00</th>\n",
       "      <td>0.7184</td>\n",
       "      <td>0.043810</td>\n",
       "      <td>0.373810</td>\n",
       "      <td>1980</td>\n",
       "      <td>1</td>\n",
       "    </tr>\n",
       "  </tbody>\n",
       "</table>\n",
       "</div>"
      ],
      "text/plain": [
       "                           intensity  polarity  subjectivity  year  month\n",
       "date                                                                     \n",
       "1980-01-01 00:00:00+00:00     0.6124 -0.104861      0.431250  1980      1\n",
       "1980-01-01 00:00:00+00:00     0.0000  0.000000      0.000000  1980      1\n",
       "1980-01-01 00:00:00+00:00     0.9943  0.278879      0.575575  1980      1\n",
       "1980-01-01 00:00:00+00:00     0.6908  0.008333      0.633333  1980      1\n",
       "1980-01-01 00:00:00+00:00     0.7184  0.043810      0.373810  1980      1"
      ]
     },
     "execution_count": 21,
     "metadata": {},
     "output_type": "execute_result"
    }
   ],
   "source": [
    "ts.head()"
   ]
  },
  {
   "cell_type": "code",
   "execution_count": 22,
   "id": "ee4751bd",
   "metadata": {},
   "outputs": [
    {
     "data": {
      "text/html": [
       "<div>\n",
       "<style scoped>\n",
       "    .dataframe tbody tr th:only-of-type {\n",
       "        vertical-align: middle;\n",
       "    }\n",
       "\n",
       "    .dataframe tbody tr th {\n",
       "        vertical-align: top;\n",
       "    }\n",
       "\n",
       "    .dataframe thead th {\n",
       "        text-align: right;\n",
       "    }\n",
       "</style>\n",
       "<table border=\"1\" class=\"dataframe\">\n",
       "  <thead>\n",
       "    <tr style=\"text-align: right;\">\n",
       "      <th></th>\n",
       "      <th>file</th>\n",
       "      <th>subject</th>\n",
       "      <th>sender</th>\n",
       "      <th>date</th>\n",
       "      <th>content</th>\n",
       "      <th>clean</th>\n",
       "      <th>tokenize</th>\n",
       "      <th>stop_words</th>\n",
       "      <th>lemmatize</th>\n",
       "      <th>intensity</th>\n",
       "      <th>polarity</th>\n",
       "      <th>subjectivity</th>\n",
       "      <th>is_poi</th>\n",
       "      <th>is_internal</th>\n",
       "    </tr>\n",
       "  </thead>\n",
       "  <tbody>\n",
       "    <tr>\n",
       "      <th>0</th>\n",
       "      <td>allen-p/_sent_mail/1.</td>\n",
       "      <td></td>\n",
       "      <td>phillip.allen@enron.com</td>\n",
       "      <td>Mon, 14 May 2001 16:39:00 -0700 (PDT)</td>\n",
       "      <td>Here is our forecast\\n\\n</td>\n",
       "      <td>here is our forecast</td>\n",
       "      <td>here is our forecast</td>\n",
       "      <td>forecast</td>\n",
       "      <td>forecast</td>\n",
       "      <td>0.0000</td>\n",
       "      <td>0.00</td>\n",
       "      <td>0.000000</td>\n",
       "      <td>False</td>\n",
       "      <td>True</td>\n",
       "    </tr>\n",
       "    <tr>\n",
       "      <th>1</th>\n",
       "      <td>allen-p/_sent_mail/10.</td>\n",
       "      <td>Re:</td>\n",
       "      <td>phillip.allen@enron.com</td>\n",
       "      <td>Fri, 4 May 2001 13:51:00 -0700 (PDT)</td>\n",
       "      <td>Traveling to have a business meeting takes the...</td>\n",
       "      <td>traveling to have a business meeting takes the...</td>\n",
       "      <td>traveling to have a business meeting takes the...</td>\n",
       "      <td>traveling business meeting takes fun trip espe...</td>\n",
       "      <td>traveling business meeting take fun trip espec...</td>\n",
       "      <td>0.9313</td>\n",
       "      <td>0.15</td>\n",
       "      <td>0.613333</td>\n",
       "      <td>False</td>\n",
       "      <td>True</td>\n",
       "    </tr>\n",
       "    <tr>\n",
       "      <th>2</th>\n",
       "      <td>allen-p/_sent_mail/100.</td>\n",
       "      <td>Re: test</td>\n",
       "      <td>phillip.allen@enron.com</td>\n",
       "      <td>Wed, 18 Oct 2000 03:00:00 -0700 (PDT)</td>\n",
       "      <td>test successful.  way to go!!!</td>\n",
       "      <td>test successful  way to go</td>\n",
       "      <td>test successful way to go</td>\n",
       "      <td>test successful way go</td>\n",
       "      <td>test successful way go</td>\n",
       "      <td>0.5859</td>\n",
       "      <td>0.75</td>\n",
       "      <td>0.950000</td>\n",
       "      <td>False</td>\n",
       "      <td>True</td>\n",
       "    </tr>\n",
       "    <tr>\n",
       "      <th>3</th>\n",
       "      <td>allen-p/_sent_mail/1000.</td>\n",
       "      <td></td>\n",
       "      <td>phillip.allen@enron.com</td>\n",
       "      <td>Mon, 23 Oct 2000 06:13:00 -0700 (PDT)</td>\n",
       "      <td>Randy,\\n\\n Can you send me a schedule of the s...</td>\n",
       "      <td>randy   can you send me a schedule of the sala...</td>\n",
       "      <td>randy can you send me a schedule of the salary...</td>\n",
       "      <td>randy send schedule salary level everyone sche...</td>\n",
       "      <td>randy send schedule salary level everyone sche...</td>\n",
       "      <td>0.0000</td>\n",
       "      <td>0.00</td>\n",
       "      <td>0.000000</td>\n",
       "      <td>False</td>\n",
       "      <td>True</td>\n",
       "    </tr>\n",
       "    <tr>\n",
       "      <th>4</th>\n",
       "      <td>allen-p/_sent_mail/1001.</td>\n",
       "      <td>Re: Hello</td>\n",
       "      <td>phillip.allen@enron.com</td>\n",
       "      <td>Thu, 31 Aug 2000 05:07:00 -0700 (PDT)</td>\n",
       "      <td>Let's shoot for Tuesday at 11:45.</td>\n",
       "      <td>let's shoot for tuesday at 1145</td>\n",
       "      <td>let ' s shoot for tuesday at 1145</td>\n",
       "      <td>let ' shoot tuesday 1145</td>\n",
       "      <td>let ' shoot tuesday 1145</td>\n",
       "      <td>-0.3400</td>\n",
       "      <td>0.00</td>\n",
       "      <td>0.000000</td>\n",
       "      <td>False</td>\n",
       "      <td>True</td>\n",
       "    </tr>\n",
       "  </tbody>\n",
       "</table>\n",
       "</div>"
      ],
      "text/plain": [
       "                       file    subject                   sender  \\\n",
       "0     allen-p/_sent_mail/1.             phillip.allen@enron.com   \n",
       "1    allen-p/_sent_mail/10.        Re:  phillip.allen@enron.com   \n",
       "2   allen-p/_sent_mail/100.   Re: test  phillip.allen@enron.com   \n",
       "3  allen-p/_sent_mail/1000.             phillip.allen@enron.com   \n",
       "4  allen-p/_sent_mail/1001.  Re: Hello  phillip.allen@enron.com   \n",
       "\n",
       "                                    date  \\\n",
       "0  Mon, 14 May 2001 16:39:00 -0700 (PDT)   \n",
       "1   Fri, 4 May 2001 13:51:00 -0700 (PDT)   \n",
       "2  Wed, 18 Oct 2000 03:00:00 -0700 (PDT)   \n",
       "3  Mon, 23 Oct 2000 06:13:00 -0700 (PDT)   \n",
       "4  Thu, 31 Aug 2000 05:07:00 -0700 (PDT)   \n",
       "\n",
       "                                             content  \\\n",
       "0                          Here is our forecast\\n\\n    \n",
       "1  Traveling to have a business meeting takes the...   \n",
       "2                     test successful.  way to go!!!   \n",
       "3  Randy,\\n\\n Can you send me a schedule of the s...   \n",
       "4                Let's shoot for Tuesday at 11:45.     \n",
       "\n",
       "                                               clean  \\\n",
       "0                               here is our forecast   \n",
       "1  traveling to have a business meeting takes the...   \n",
       "2                         test successful  way to go   \n",
       "3  randy   can you send me a schedule of the sala...   \n",
       "4                    let's shoot for tuesday at 1145   \n",
       "\n",
       "                                            tokenize  \\\n",
       "0                               here is our forecast   \n",
       "1  traveling to have a business meeting takes the...   \n",
       "2                          test successful way to go   \n",
       "3  randy can you send me a schedule of the salary...   \n",
       "4                  let ' s shoot for tuesday at 1145   \n",
       "\n",
       "                                          stop_words  \\\n",
       "0                                           forecast   \n",
       "1  traveling business meeting takes fun trip espe...   \n",
       "2                             test successful way go   \n",
       "3  randy send schedule salary level everyone sche...   \n",
       "4                           let ' shoot tuesday 1145   \n",
       "\n",
       "                                           lemmatize  intensity  polarity  \\\n",
       "0                                           forecast     0.0000      0.00   \n",
       "1  traveling business meeting take fun trip espec...     0.9313      0.15   \n",
       "2                             test successful way go     0.5859      0.75   \n",
       "3  randy send schedule salary level everyone sche...     0.0000      0.00   \n",
       "4                           let ' shoot tuesday 1145    -0.3400      0.00   \n",
       "\n",
       "   subjectivity  is_poi  is_internal  \n",
       "0      0.000000   False         True  \n",
       "1      0.613333   False         True  \n",
       "2      0.950000   False         True  \n",
       "3      0.000000   False         True  \n",
       "4      0.000000   False         True  "
      ]
     },
     "execution_count": 22,
     "metadata": {},
     "output_type": "execute_result"
    }
   ],
   "source": [
    "df.head()"
   ]
  },
  {
   "cell_type": "code",
   "execution_count": 23,
   "id": "45c657af",
   "metadata": {},
   "outputs": [
    {
     "data": {
      "text/html": [
       "<div>\n",
       "<style scoped>\n",
       "    .dataframe tbody tr th:only-of-type {\n",
       "        vertical-align: middle;\n",
       "    }\n",
       "\n",
       "    .dataframe tbody tr th {\n",
       "        vertical-align: top;\n",
       "    }\n",
       "\n",
       "    .dataframe thead th {\n",
       "        text-align: right;\n",
       "    }\n",
       "</style>\n",
       "<table border=\"1\" class=\"dataframe\">\n",
       "  <thead>\n",
       "    <tr style=\"text-align: right;\">\n",
       "      <th></th>\n",
       "      <th>file</th>\n",
       "      <th>subject</th>\n",
       "      <th>sender</th>\n",
       "      <th>date</th>\n",
       "      <th>content</th>\n",
       "      <th>clean</th>\n",
       "      <th>tokenize</th>\n",
       "      <th>stop_words</th>\n",
       "      <th>lemmatize</th>\n",
       "      <th>intensity</th>\n",
       "      <th>polarity</th>\n",
       "      <th>subjectivity</th>\n",
       "      <th>is_poi</th>\n",
       "      <th>is_internal</th>\n",
       "      <th>year</th>\n",
       "    </tr>\n",
       "  </thead>\n",
       "  <tbody>\n",
       "    <tr>\n",
       "      <th>0</th>\n",
       "      <td>allen-p/_sent_mail/1.</td>\n",
       "      <td></td>\n",
       "      <td>phillip.allen@enron.com</td>\n",
       "      <td>Mon, 14 May 2001 16:39:00 -0700 (PDT)</td>\n",
       "      <td>Here is our forecast\\n\\n</td>\n",
       "      <td>here is our forecast</td>\n",
       "      <td>here is our forecast</td>\n",
       "      <td>forecast</td>\n",
       "      <td>forecast</td>\n",
       "      <td>0.0000</td>\n",
       "      <td>0.00</td>\n",
       "      <td>0.000000</td>\n",
       "      <td>False</td>\n",
       "      <td>True</td>\n",
       "      <td>1980</td>\n",
       "    </tr>\n",
       "    <tr>\n",
       "      <th>1</th>\n",
       "      <td>allen-p/_sent_mail/10.</td>\n",
       "      <td>Re:</td>\n",
       "      <td>phillip.allen@enron.com</td>\n",
       "      <td>Fri, 4 May 2001 13:51:00 -0700 (PDT)</td>\n",
       "      <td>Traveling to have a business meeting takes the...</td>\n",
       "      <td>traveling to have a business meeting takes the...</td>\n",
       "      <td>traveling to have a business meeting takes the...</td>\n",
       "      <td>traveling business meeting takes fun trip espe...</td>\n",
       "      <td>traveling business meeting take fun trip espec...</td>\n",
       "      <td>0.9313</td>\n",
       "      <td>0.15</td>\n",
       "      <td>0.613333</td>\n",
       "      <td>False</td>\n",
       "      <td>True</td>\n",
       "      <td>1980</td>\n",
       "    </tr>\n",
       "    <tr>\n",
       "      <th>2</th>\n",
       "      <td>allen-p/_sent_mail/100.</td>\n",
       "      <td>Re: test</td>\n",
       "      <td>phillip.allen@enron.com</td>\n",
       "      <td>Wed, 18 Oct 2000 03:00:00 -0700 (PDT)</td>\n",
       "      <td>test successful.  way to go!!!</td>\n",
       "      <td>test successful  way to go</td>\n",
       "      <td>test successful way to go</td>\n",
       "      <td>test successful way go</td>\n",
       "      <td>test successful way go</td>\n",
       "      <td>0.5859</td>\n",
       "      <td>0.75</td>\n",
       "      <td>0.950000</td>\n",
       "      <td>False</td>\n",
       "      <td>True</td>\n",
       "      <td>1980</td>\n",
       "    </tr>\n",
       "    <tr>\n",
       "      <th>3</th>\n",
       "      <td>allen-p/_sent_mail/1000.</td>\n",
       "      <td></td>\n",
       "      <td>phillip.allen@enron.com</td>\n",
       "      <td>Mon, 23 Oct 2000 06:13:00 -0700 (PDT)</td>\n",
       "      <td>Randy,\\n\\n Can you send me a schedule of the s...</td>\n",
       "      <td>randy   can you send me a schedule of the sala...</td>\n",
       "      <td>randy can you send me a schedule of the salary...</td>\n",
       "      <td>randy send schedule salary level everyone sche...</td>\n",
       "      <td>randy send schedule salary level everyone sche...</td>\n",
       "      <td>0.0000</td>\n",
       "      <td>0.00</td>\n",
       "      <td>0.000000</td>\n",
       "      <td>False</td>\n",
       "      <td>True</td>\n",
       "      <td>1980</td>\n",
       "    </tr>\n",
       "    <tr>\n",
       "      <th>4</th>\n",
       "      <td>allen-p/_sent_mail/1001.</td>\n",
       "      <td>Re: Hello</td>\n",
       "      <td>phillip.allen@enron.com</td>\n",
       "      <td>Thu, 31 Aug 2000 05:07:00 -0700 (PDT)</td>\n",
       "      <td>Let's shoot for Tuesday at 11:45.</td>\n",
       "      <td>let's shoot for tuesday at 1145</td>\n",
       "      <td>let ' s shoot for tuesday at 1145</td>\n",
       "      <td>let ' shoot tuesday 1145</td>\n",
       "      <td>let ' shoot tuesday 1145</td>\n",
       "      <td>-0.3400</td>\n",
       "      <td>0.00</td>\n",
       "      <td>0.000000</td>\n",
       "      <td>False</td>\n",
       "      <td>True</td>\n",
       "      <td>1980</td>\n",
       "    </tr>\n",
       "  </tbody>\n",
       "</table>\n",
       "</div>"
      ],
      "text/plain": [
       "                       file    subject                   sender  \\\n",
       "0     allen-p/_sent_mail/1.             phillip.allen@enron.com   \n",
       "1    allen-p/_sent_mail/10.        Re:  phillip.allen@enron.com   \n",
       "2   allen-p/_sent_mail/100.   Re: test  phillip.allen@enron.com   \n",
       "3  allen-p/_sent_mail/1000.             phillip.allen@enron.com   \n",
       "4  allen-p/_sent_mail/1001.  Re: Hello  phillip.allen@enron.com   \n",
       "\n",
       "                                    date  \\\n",
       "0  Mon, 14 May 2001 16:39:00 -0700 (PDT)   \n",
       "1   Fri, 4 May 2001 13:51:00 -0700 (PDT)   \n",
       "2  Wed, 18 Oct 2000 03:00:00 -0700 (PDT)   \n",
       "3  Mon, 23 Oct 2000 06:13:00 -0700 (PDT)   \n",
       "4  Thu, 31 Aug 2000 05:07:00 -0700 (PDT)   \n",
       "\n",
       "                                             content  \\\n",
       "0                          Here is our forecast\\n\\n    \n",
       "1  Traveling to have a business meeting takes the...   \n",
       "2                     test successful.  way to go!!!   \n",
       "3  Randy,\\n\\n Can you send me a schedule of the s...   \n",
       "4                Let's shoot for Tuesday at 11:45.     \n",
       "\n",
       "                                               clean  \\\n",
       "0                               here is our forecast   \n",
       "1  traveling to have a business meeting takes the...   \n",
       "2                         test successful  way to go   \n",
       "3  randy   can you send me a schedule of the sala...   \n",
       "4                    let's shoot for tuesday at 1145   \n",
       "\n",
       "                                            tokenize  \\\n",
       "0                               here is our forecast   \n",
       "1  traveling to have a business meeting takes the...   \n",
       "2                          test successful way to go   \n",
       "3  randy can you send me a schedule of the salary...   \n",
       "4                  let ' s shoot for tuesday at 1145   \n",
       "\n",
       "                                          stop_words  \\\n",
       "0                                           forecast   \n",
       "1  traveling business meeting takes fun trip espe...   \n",
       "2                             test successful way go   \n",
       "3  randy send schedule salary level everyone sche...   \n",
       "4                           let ' shoot tuesday 1145   \n",
       "\n",
       "                                           lemmatize  intensity  polarity  \\\n",
       "0                                           forecast     0.0000      0.00   \n",
       "1  traveling business meeting take fun trip espec...     0.9313      0.15   \n",
       "2                             test successful way go     0.5859      0.75   \n",
       "3  randy send schedule salary level everyone sche...     0.0000      0.00   \n",
       "4                           let ' shoot tuesday 1145    -0.3400      0.00   \n",
       "\n",
       "   subjectivity  is_poi  is_internal  year  \n",
       "0      0.000000   False         True  1980  \n",
       "1      0.613333   False         True  1980  \n",
       "2      0.950000   False         True  1980  \n",
       "3      0.000000   False         True  1980  \n",
       "4      0.000000   False         True  1980  "
      ]
     },
     "execution_count": 23,
     "metadata": {},
     "output_type": "execute_result"
    }
   ],
   "source": [
    "df['year'] = ts.year.reset_index()['year']\n",
    "\n",
    "df.head()"
   ]
  },
  {
   "cell_type": "code",
   "execution_count": null,
   "id": "8f3f5b70",
   "metadata": {},
   "outputs": [],
   "source": []
  },
  {
   "cell_type": "code",
   "execution_count": 24,
   "id": "813262e4",
   "metadata": {},
   "outputs": [
    {
     "data": {
      "text/plain": [
       "0.6436271374798389"
      ]
     },
     "execution_count": 24,
     "metadata": {},
     "output_type": "execute_result"
    }
   ],
   "source": [
    "df[df.is_poi == True].intensity.mean()"
   ]
  },
  {
   "cell_type": "code",
   "execution_count": 25,
   "id": "3b688779",
   "metadata": {},
   "outputs": [],
   "source": [
    "def avg_score(df, filter_, measure):\n",
    "    '''\n",
    "    \n",
    "    '''\n",
    "    \n",
    "    avg_score = df[filter_][measure].mean()\n",
    "    \n",
    "    return avg_score"
   ]
  },
  {
   "cell_type": "code",
   "execution_count": 26,
   "id": "e7ce3e29",
   "metadata": {},
   "outputs": [
    {
     "data": {
      "text/plain": [
       "0.6436271374798389"
      ]
     },
     "execution_count": 26,
     "metadata": {},
     "output_type": "execute_result"
    }
   ],
   "source": [
    "avg_score(df, df.is_poi == True, 'intensity')"
   ]
  },
  {
   "cell_type": "code",
   "execution_count": 27,
   "id": "ecce1cf6",
   "metadata": {},
   "outputs": [
    {
     "data": {
      "text/plain": [
       "0.6207405031438705"
      ]
     },
     "execution_count": 27,
     "metadata": {},
     "output_type": "execute_result"
    }
   ],
   "source": [
    "avg_score(df, df.is_poi == False, 'intensity')"
   ]
  },
  {
   "cell_type": "code",
   "execution_count": 28,
   "id": "918c486b",
   "metadata": {},
   "outputs": [
    {
     "data": {
      "text/plain": [
       "0.6957893805309738"
      ]
     },
     "execution_count": 28,
     "metadata": {},
     "output_type": "execute_result"
    }
   ],
   "source": [
    "avg_score(df, (df.is_poi == True) & (df.year == 2001), 'intensity')"
   ]
  },
  {
   "cell_type": "code",
   "execution_count": 29,
   "id": "c12d5086",
   "metadata": {},
   "outputs": [
    {
     "data": {
      "text/plain": [
       "0.6290278269500146"
      ]
     },
     "execution_count": 29,
     "metadata": {},
     "output_type": "execute_result"
    }
   ],
   "source": [
    "avg_score(df, (df.is_poi == False) & (df.year == 2001), 'intensity')"
   ]
  },
  {
   "cell_type": "code",
   "execution_count": 30,
   "id": "04f53bab",
   "metadata": {},
   "outputs": [
    {
     "data": {
      "text/plain": [
       "0.6352135014505709"
      ]
     },
     "execution_count": 30,
     "metadata": {},
     "output_type": "execute_result"
    }
   ],
   "source": [
    "avg_score(df, (df.is_poi == True) & (df.year == 2000), 'intensity')"
   ]
  },
  {
   "cell_type": "code",
   "execution_count": 31,
   "id": "3cb7f8ff",
   "metadata": {},
   "outputs": [
    {
     "data": {
      "text/html": [
       "<div>\n",
       "<style scoped>\n",
       "    .dataframe tbody tr th:only-of-type {\n",
       "        vertical-align: middle;\n",
       "    }\n",
       "\n",
       "    .dataframe tbody tr th {\n",
       "        vertical-align: top;\n",
       "    }\n",
       "\n",
       "    .dataframe thead th {\n",
       "        text-align: right;\n",
       "    }\n",
       "</style>\n",
       "<table border=\"1\" class=\"dataframe\">\n",
       "  <thead>\n",
       "    <tr style=\"text-align: right;\">\n",
       "      <th></th>\n",
       "      <th>intensity</th>\n",
       "      <th>polarity</th>\n",
       "      <th>subjectivity</th>\n",
       "      <th>is_poi</th>\n",
       "      <th>is_internal</th>\n",
       "    </tr>\n",
       "    <tr>\n",
       "      <th>year</th>\n",
       "      <th></th>\n",
       "      <th></th>\n",
       "      <th></th>\n",
       "      <th></th>\n",
       "      <th></th>\n",
       "    </tr>\n",
       "  </thead>\n",
       "  <tbody>\n",
       "    <tr>\n",
       "      <th>1980</th>\n",
       "      <td>0.432761</td>\n",
       "      <td>0.071073</td>\n",
       "      <td>0.313493</td>\n",
       "      <td>0.000000</td>\n",
       "      <td>1.000000</td>\n",
       "    </tr>\n",
       "    <tr>\n",
       "      <th>1986</th>\n",
       "      <td>0.769950</td>\n",
       "      <td>0.008604</td>\n",
       "      <td>0.554221</td>\n",
       "      <td>0.000000</td>\n",
       "      <td>1.000000</td>\n",
       "    </tr>\n",
       "    <tr>\n",
       "      <th>1997</th>\n",
       "      <td>0.466810</td>\n",
       "      <td>0.094747</td>\n",
       "      <td>0.321183</td>\n",
       "      <td>0.000000</td>\n",
       "      <td>0.938215</td>\n",
       "    </tr>\n",
       "    <tr>\n",
       "      <th>1998</th>\n",
       "      <td>0.445516</td>\n",
       "      <td>0.049697</td>\n",
       "      <td>0.320582</td>\n",
       "      <td>0.005650</td>\n",
       "      <td>0.988701</td>\n",
       "    </tr>\n",
       "    <tr>\n",
       "      <th>1999</th>\n",
       "      <td>0.549134</td>\n",
       "      <td>0.075272</td>\n",
       "      <td>0.361843</td>\n",
       "      <td>0.002423</td>\n",
       "      <td>0.856156</td>\n",
       "    </tr>\n",
       "    <tr>\n",
       "      <th>2000</th>\n",
       "      <td>0.620058</td>\n",
       "      <td>0.097021</td>\n",
       "      <td>0.361762</td>\n",
       "      <td>0.022851</td>\n",
       "      <td>0.815574</td>\n",
       "    </tr>\n",
       "    <tr>\n",
       "      <th>2001</th>\n",
       "      <td>0.629249</td>\n",
       "      <td>0.098973</td>\n",
       "      <td>0.371411</td>\n",
       "      <td>0.003312</td>\n",
       "      <td>0.833982</td>\n",
       "    </tr>\n",
       "    <tr>\n",
       "      <th>2002</th>\n",
       "      <td>0.591121</td>\n",
       "      <td>0.096951</td>\n",
       "      <td>0.373393</td>\n",
       "      <td>0.004614</td>\n",
       "      <td>0.819286</td>\n",
       "    </tr>\n",
       "    <tr>\n",
       "      <th>2004</th>\n",
       "      <td>0.624813</td>\n",
       "      <td>0.083468</td>\n",
       "      <td>0.414091</td>\n",
       "      <td>0.000000</td>\n",
       "      <td>1.000000</td>\n",
       "    </tr>\n",
       "  </tbody>\n",
       "</table>\n",
       "</div>"
      ],
      "text/plain": [
       "      intensity  polarity  subjectivity    is_poi  is_internal\n",
       "year                                                          \n",
       "1980   0.432761  0.071073      0.313493  0.000000     1.000000\n",
       "1986   0.769950  0.008604      0.554221  0.000000     1.000000\n",
       "1997   0.466810  0.094747      0.321183  0.000000     0.938215\n",
       "1998   0.445516  0.049697      0.320582  0.005650     0.988701\n",
       "1999   0.549134  0.075272      0.361843  0.002423     0.856156\n",
       "2000   0.620058  0.097021      0.361762  0.022851     0.815574\n",
       "2001   0.629249  0.098973      0.371411  0.003312     0.833982\n",
       "2002   0.591121  0.096951      0.373393  0.004614     0.819286\n",
       "2004   0.624813  0.083468      0.414091  0.000000     1.000000"
      ]
     },
     "execution_count": 31,
     "metadata": {},
     "output_type": "execute_result"
    }
   ],
   "source": [
    "avgs = df.groupby('year').mean()\n",
    "# avgs = avgs[(avgs.index < 2003) & (avgs.index > 1998)]\n",
    "avgs = avgs[avgs.index < 2005]\n",
    "avgs"
   ]
  },
  {
   "cell_type": "code",
   "execution_count": 32,
   "id": "f5dcb289",
   "metadata": {},
   "outputs": [
    {
     "data": {
      "text/plain": [
       "Index(['intensity', 'polarity', 'subjectivity'], dtype='object')"
      ]
     },
     "execution_count": 32,
     "metadata": {},
     "output_type": "execute_result"
    }
   ],
   "source": [
    "cols = avgs.columns[0:3]\n",
    "cols"
   ]
  },
  {
   "cell_type": "code",
   "execution_count": 33,
   "id": "01701a01",
   "metadata": {},
   "outputs": [
    {
     "data": {
      "text/plain": [
       "['intensity', 'polarity', 'subjectivity']"
      ]
     },
     "execution_count": 33,
     "metadata": {},
     "output_type": "execute_result"
    }
   ],
   "source": [
    "labs = cols.values.tolist()\n",
    "labs"
   ]
  },
  {
   "cell_type": "code",
   "execution_count": 34,
   "id": "01a89de8",
   "metadata": {},
   "outputs": [
    {
     "data": {
      "text/plain": [
       "[1980, 1986, 1997, 1998, 1999, 2000, 2001, 2002, 2004]"
      ]
     },
     "execution_count": 34,
     "metadata": {},
     "output_type": "execute_result"
    }
   ],
   "source": [
    "x = avgs.index.values.tolist()\n",
    "x"
   ]
  },
  {
   "cell_type": "code",
   "execution_count": 35,
   "id": "c1f1d6e8",
   "metadata": {},
   "outputs": [
    {
     "data": {
      "text/plain": [
       "[0.4327609195402304,\n",
       " 0.76995,\n",
       " 0.4668102974828374,\n",
       " 0.445515819209039,\n",
       " 0.5491337311557882,\n",
       " 0.6200577072921764,\n",
       " 0.6292489273311561,\n",
       " 0.5911214794017995,\n",
       " 0.6248128571428573]"
      ]
     },
     "execution_count": 35,
     "metadata": {},
     "output_type": "execute_result"
    }
   ],
   "source": [
    "y_intensity = avgs[cols[0]].values.tolist()\n",
    "y_intensity"
   ]
  },
  {
   "cell_type": "code",
   "execution_count": 36,
   "id": "720ea1b8",
   "metadata": {},
   "outputs": [
    {
     "data": {
      "text/plain": [
       "[0.07107277255949893,\n",
       " 0.0086038961038961,\n",
       " 0.09474675453516088,\n",
       " 0.04969733833614939,\n",
       " 0.07527206192534155,\n",
       " 0.09702054485354027,\n",
       " 0.09897333197256485,\n",
       " 0.09695062139534871,\n",
       " 0.0834682408387137]"
      ]
     },
     "execution_count": 36,
     "metadata": {},
     "output_type": "execute_result"
    }
   ],
   "source": [
    "y_polarity = avgs[cols[1]].values.tolist()\n",
    "y_polarity"
   ]
  },
  {
   "cell_type": "code",
   "execution_count": 37,
   "id": "8132c527",
   "metadata": {},
   "outputs": [
    {
     "data": {
      "text/plain": [
       "[0.31349268372320555,\n",
       " 0.5542207792207792,\n",
       " 0.3211830243113354,\n",
       " 0.3205815876883929,\n",
       " 0.36184275873087013,\n",
       " 0.3617617791463612,\n",
       " 0.3714107587485667,\n",
       " 0.37339310437933315,\n",
       " 0.41409092360616234]"
      ]
     },
     "execution_count": 37,
     "metadata": {},
     "output_type": "execute_result"
    }
   ],
   "source": [
    "y_subjectivity = avgs[cols[2]].values.tolist()\n",
    "y_subjectivity"
   ]
  },
  {
   "cell_type": "code",
   "execution_count": 38,
   "id": "def53022",
   "metadata": {},
   "outputs": [
    {
     "data": {
      "text/plain": [
       "([<matplotlib.axis.XTick at 0x7f9d907ee7c0>,\n",
       "  <matplotlib.axis.XTick at 0x7f9d907ee790>,\n",
       "  <matplotlib.axis.XTick at 0x7f9d907fa310>,\n",
       "  <matplotlib.axis.XTick at 0x7f9d908c7670>,\n",
       "  <matplotlib.axis.XTick at 0x7f9d908c79d0>,\n",
       "  <matplotlib.axis.XTick at 0x7f9d908c7ee0>,\n",
       "  <matplotlib.axis.XTick at 0x7f9d908d1430>,\n",
       "  <matplotlib.axis.XTick at 0x7f9d908d1940>,\n",
       "  <matplotlib.axis.XTick at 0x7f9d908d1e50>],\n",
       " [Text(0, 0, ''),\n",
       "  Text(0, 0, ''),\n",
       "  Text(0, 0, ''),\n",
       "  Text(0, 0, ''),\n",
       "  Text(0, 0, ''),\n",
       "  Text(0, 0, ''),\n",
       "  Text(0, 0, ''),\n",
       "  Text(0, 0, ''),\n",
       "  Text(0, 0, '')])"
      ]
     },
     "execution_count": 38,
     "metadata": {},
     "output_type": "execute_result"
    },
    {
     "data": {
      "image/png": "[encoded data removed]",
      "text/plain": [
       "<Figure size 1280x720 with 1 Axes>"
      ]
     },
     "metadata": {
      "needs_background": "light"
     },
     "output_type": "display_data"
    }
   ],
   "source": [
    "fig, ax = plt.subplots(1,1,figsize=(16, 9), dpi= 80)\n",
    "\n",
    "y = np.vstack([y_intensity, y_polarity, y_subjectivity])\n",
    "ax = plt.gca()\n",
    "ax.stackplot(x, y, labels=labs, alpha=0.8)\n",
    "ax.legend(fontsize=10, ncol=4)\n",
    "plt.xticks(x, fontsize=10, horizontalalignment='center')\n"
   ]
  },
  {
   "cell_type": "code",
   "execution_count": 39,
   "id": "da023b99",
   "metadata": {},
   "outputs": [
    {
     "ename": "AttributeError",
     "evalue": "'Int64Index' object has no attribute 'reset'",
     "output_type": "error",
     "traceback": [
      "\u001b[0;31m---------------------------------------------------------------------------\u001b[0m",
      "\u001b[0;31mAttributeError\u001b[0m                            Traceback (most recent call last)",
      "\u001b[0;32m<ipython-input-39-9a6ccf132036>\u001b[0m in \u001b[0;36m<module>\u001b[0;34m\u001b[0m\n\u001b[0;32m----> 1\u001b[0;31m \u001b[0mavgs\u001b[0m\u001b[0;34m.\u001b[0m\u001b[0mindex\u001b[0m\u001b[0;34m.\u001b[0m\u001b[0mreset\u001b[0m\u001b[0;34m\u001b[0m\u001b[0;34m\u001b[0m\u001b[0m\n\u001b[0m",
      "\u001b[0;31mAttributeError\u001b[0m: 'Int64Index' object has no attribute 'reset'"
     ]
    }
   ],
   "source": [
    "avgs.index.reset"
   ]
  },
  {
   "cell_type": "code",
   "execution_count": null,
   "id": "851bca15",
   "metadata": {},
   "outputs": [],
   "source": [
    "sns.relplot(x=\"year\", y=\"intensity\", data=avgs.reset_index(), kind = 'line')"
   ]
  },
  {
   "cell_type": "code",
   "execution_count": null,
   "id": "b5ed1255",
   "metadata": {},
   "outputs": [],
   "source": [
    "df.head(2)"
   ]
  },
  {
   "cell_type": "code",
   "execution_count": null,
   "id": "4122a2d0",
   "metadata": {},
   "outputs": [],
   "source": [
    "sns.relplot(data = df[df.year < 2005], x = 'year', y = 'intensity', kind = 'line')"
   ]
  },
  {
   "cell_type": "code",
   "execution_count": null,
   "id": "b3b89642",
   "metadata": {},
   "outputs": [],
   "source": [
    "sns.relplot(data = df[df.year < 2005], x = 'year', y = 'intensity', kind = 'line', hue = 'is_poi')"
   ]
  },
  {
   "cell_type": "code",
   "execution_count": null,
   "id": "7d45ca88",
   "metadata": {
    "scrolled": true
   },
   "outputs": [],
   "source": [
    "df[df.is_poi == True].year.value_counts().sort_index()"
   ]
  },
  {
   "cell_type": "code",
   "execution_count": null,
   "id": "763a1923",
   "metadata": {},
   "outputs": [],
   "source": [
    "df[df.is_poi == True].year.value_counts().sort_index().plot.bar()"
   ]
  },
  {
   "cell_type": "code",
   "execution_count": null,
   "id": "2d67bc1c",
   "metadata": {},
   "outputs": [],
   "source": [
    "df[df.is_poi == True].year.value_counts().sort_index().plot.barh()"
   ]
  },
  {
   "cell_type": "code",
   "execution_count": null,
   "id": "fd9d6586",
   "metadata": {},
   "outputs": [],
   "source": [
    "df[(df.year >= 1998) & (df.year <= 2002)].year.value_counts().sort_index().plot.bar()"
   ]
  },
  {
   "cell_type": "code",
   "execution_count": null,
   "id": "514d8f6e",
   "metadata": {},
   "outputs": [],
   "source": [
    "years = list(df[(df.year >= 1998) & (df.year <= 2002)].year.unique())\n",
    "years"
   ]
  },
  {
   "cell_type": "code",
   "execution_count": null,
   "id": "aae86c9c",
   "metadata": {},
   "outputs": [],
   "source": [
    "df['year_'] = df.year.astype(str)"
   ]
  },
  {
   "cell_type": "code",
   "execution_count": null,
   "id": "9e262dac",
   "metadata": {},
   "outputs": [],
   "source": [
    "g = sns.relplot(data = df[(df.year >= 1998) & (df.year <= 2002)], x = 'year_', y = 'intensity', \\\n",
    "            kind = 'line', hue = 'is_poi', ci = None)"
   ]
  },
  {
   "cell_type": "code",
   "execution_count": null,
   "id": "7e9c119c",
   "metadata": {},
   "outputs": [],
   "source": [
    "g = sns.relplot(data = df[(df.year >= 1998) & (df.year <= 2002)], x = 'year_', y = 'polarity', \\\n",
    "            kind = 'line', hue = 'is_poi', ci = None)"
   ]
  },
  {
   "cell_type": "code",
   "execution_count": null,
   "id": "e50d563c",
   "metadata": {},
   "outputs": [],
   "source": []
  },
  {
   "cell_type": "code",
   "execution_count": null,
   "id": "013e8ca0",
   "metadata": {},
   "outputs": [],
   "source": [
    "sns.set_style(\"whitegrid\")\n",
    "# sns.set(font_scale = 1.2)\n",
    "\n",
    "sns.relplot(data = df[(df.year >= 1998) & (df.year <= 2002)], x = 'year_', y = 'intensity', \\\n",
    "            kind = 'line', hue = 'is_poi', ci = None, palette = ['#999999ff', '#912a15ff'])\n",
    "plt.legend(loc='lower right', title = 'POI', labels = ['Not Person of Interest', 'Person of Interest'])\n",
    "plt.ylim((-1, 1))\n",
    "plt.show()"
   ]
  },
  {
   "cell_type": "code",
   "execution_count": null,
   "id": "2caf8fdd",
   "metadata": {},
   "outputs": [],
   "source": [
    "sns.relplot(data = df[(df.year >= 1998) & (df.year <= 2002)], x = 'year_', y = 'polarity', \\\n",
    "            kind = 'line', hue = 'is_poi', ci = None, palette = ['#999999ff', '#912a15ff'])\n",
    "plt.legend(loc='lower right', title = 'POI', labels = ['Not Person of Interest', 'Person of Interest'])\n",
    "plt.ylim((-1, 1))\n",
    "plt.show()"
   ]
  },
  {
   "cell_type": "code",
   "execution_count": null,
   "id": "e4e0896f",
   "metadata": {},
   "outputs": [],
   "source": [
    "sns.relplot(data = df[(df.year >= 1998) & (df.year <= 2002)], x = 'year_', y = 'subjectivity', \\\n",
    "            kind = 'line', hue = 'is_poi', ci = None, palette = ['#999999ff', '#912a15ff'])\n",
    "plt.legend(loc='lower right', title = 'POI', labels = ['Not Person of Interest', 'Person of Interest'])\n",
    "plt.ylim((0, 1))\n",
    "plt.show()"
   ]
  },
  {
   "cell_type": "code",
   "execution_count": null,
   "id": "5ff8219a",
   "metadata": {},
   "outputs": [],
   "source": [
    "from scipy import stats\n",
    "\n",
    "\n",
    "def correlation_exploration(df, x_string, y_string):\n",
    "    '''\n",
    "    This nifty function takes in a df, a string for x variable,\n",
    "    and a string for y variable and displays their correlation.\n",
    "    '''\n",
    "    r, p = stats.pearsonr(df[x_string], df[y_string])\n",
    "    \n",
    "    df.plot.scatter(x_string, y_string, color = '#999999ff')\n",
    "    sns.regplot(data = df, x= x_string, y= y_string)\n",
    "    plt.title(f\"{x_string.upper()}'s Relationship with {y_string.upper()}\\n\\n\")\n",
    "    \n",
    "    print(f'The Correlation Coefficient is: {round(r, 2)}. There is {round(p,3)}% chance that we see these results by chance.')\n",
    "#     print(f'r = {round(r, 2)}')\n",
    "\n",
    "    plt.show()"
   ]
  },
  {
   "cell_type": "code",
   "execution_count": null,
   "id": "fe985c78",
   "metadata": {},
   "outputs": [],
   "source": [
    "correlation_exploration(df, 'year', 'intensity')"
   ]
  },
  {
   "cell_type": "code",
   "execution_count": null,
   "id": "153c9538",
   "metadata": {},
   "outputs": [],
   "source": [
    "correlation_exploration(df, 'year', 'polarity')"
   ]
  },
  {
   "cell_type": "code",
   "execution_count": null,
   "id": "7f42a3d0",
   "metadata": {
    "scrolled": false
   },
   "outputs": [],
   "source": [
    "correlation_exploration(df, 'year', 'subjectivity')"
   ]
  },
  {
   "cell_type": "code",
   "execution_count": null,
   "id": "018b2320",
   "metadata": {},
   "outputs": [],
   "source": []
  },
  {
   "cell_type": "code",
   "execution_count": null,
   "id": "36cc65cc",
   "metadata": {},
   "outputs": [],
   "source": [
    "corr_table =  df[['year', 'intensity', 'polarity', 'subjectivity', 'is_poi']].corr()\n",
    "plt.figure(figsize=(10,8))\n",
    "sns.heatmap(corr_table, cmap='Greys', annot=True, linewidth=0.5, mask= np.triu(corr_table), vmin = -1, vmax = 1)\n",
    "plt.title('Very Little Correlation Between Sentiment Scores and Year or POI')\n",
    "plt.show()"
   ]
  },
  {
   "cell_type": "code",
   "execution_count": null,
   "id": "ff802576",
   "metadata": {},
   "outputs": [],
   "source": [
    "df.year.value_counts().sort_index()"
   ]
  },
  {
   "cell_type": "code",
   "execution_count": null,
   "id": "d4d409d1",
   "metadata": {},
   "outputs": [],
   "source": [
    "df[df.year == 1986]"
   ]
  },
  {
   "cell_type": "code",
   "execution_count": null,
   "id": "41f2cee5",
   "metadata": {},
   "outputs": [],
   "source": [
    "df.content[522]"
   ]
  },
  {
   "cell_type": "code",
   "execution_count": null,
   "id": "801d076a",
   "metadata": {},
   "outputs": [],
   "source": [
    "df.groupby('sender').mean().sort_values(by = 'intensity')"
   ]
  },
  {
   "cell_type": "code",
   "execution_count": null,
   "id": "60fcf31e",
   "metadata": {},
   "outputs": [],
   "source": [
    "df[df.sender == 'ihrke@mindspring.com']"
   ]
  },
  {
   "cell_type": "code",
   "execution_count": null,
   "id": "5609f36a",
   "metadata": {
    "scrolled": true
   },
   "outputs": [],
   "source": [
    "print(df.content[371691])"
   ]
  },
  {
   "cell_type": "code",
   "execution_count": null,
   "id": "1881d9e4",
   "metadata": {},
   "outputs": [],
   "source": [
    "poi = ['andrew.fastow@enron.com',\n",
    "    'richard.causey@enron.com',\n",
    "    'rick.buy@enron.com',\n",
    "    'ben.glisan@enron.com',\n",
    "    'mary.joyce@enron.com',\n",
    "    'jeff.skilling@enron.com',\n",
    "    'jeffreyskilling@yahoo.com',\n",
    "    'ronniechan@hanglung.com',\n",
    "    'jhduncan@aol.com',\n",
    "    'wgramm@aol.com',\n",
    "    'wgramm@gmu.edu',\n",
    "    'kenneth.lay@enron.com',\n",
    "    'ken.lay-@enron.com',\n",
    "    'ken.lay@enron.com',\n",
    "    'ken.lay-.chairman.of.the.board@enron.com',\n",
    "    'kevin_a_howard.enronxgate.enron@enron.net',\n",
    "    'michael.krautz@enron.com',\n",
    "    'rex.shelby@enron.com',\n",
    "    'rex_shelby@enron.net',\n",
    "    'james.brown@enron.com',\n",
    "    'christopher.calger@enron.com',\n",
    "    'tim.despain@enron.com',\n",
    "    'kevin.hannon@enron.com',\n",
    "    'mark.koenig@enron.com',\n",
    "    'john.forney@enron.com',\n",
    "    'ken.rice@enron.com',\n",
    "    'ken_rice@enron.net',\n",
    "    'paula.rieker@enron.com',\n",
    "    'david.delainey@enron.com',\n",
    "    'dave.delainey@enron.com',\n",
    "    'jeff.richter@enron.com',\n",
    "    'tim.belden@enron.com',\n",
    "    'raymond.bowen@enron.com',\n",
    "    'wes.colwell@enron.com',\n",
    "    'dan.boyle@enron.com']"
   ]
  },
  {
   "cell_type": "code",
   "execution_count": null,
   "id": "a9482139",
   "metadata": {},
   "outputs": [],
   "source": [
    "pd.DataFrame(poi)"
   ]
  },
  {
   "cell_type": "code",
   "execution_count": null,
   "id": "2cd1bd71",
   "metadata": {},
   "outputs": [],
   "source": [
    "import wrangle\n",
    "# createn dataframes for poi==true for 2000 and 2001\n",
    "df_2000, df_2001 = wrangle.create_topic_dataframes(df)"
   ]
  },
  {
   "cell_type": "code",
   "execution_count": null,
   "id": "3e50d157",
   "metadata": {},
   "outputs": [],
   "source": [
    "# pd.to_datetime(df.date.head())"
   ]
  },
  {
   "cell_type": "code",
   "execution_count": 41,
   "id": "30049af6",
   "metadata": {},
   "outputs": [
    {
     "data": {
      "image/png": "[encoded data removed]",
      "text/plain": [
       "<Figure size 432x288 with 1 Axes>"
      ]
     },
     "metadata": {
      "needs_background": "light"
     },
     "output_type": "display_data"
    }
   ],
   "source": [
    "sns.boxenplot(data = df, x = 'is_poi', y = 'intensity', palette = ['grey', '#912a15'])\n",
    "plt.title('')\n",
    "plt.show()"
   ]
  },
  {
   "cell_type": "code",
   "execution_count": 42,
   "id": "1cca2ffc",
   "metadata": {},
   "outputs": [
    {
     "data": {
      "image/png": "[encoded data removed]",
      "text/plain": [
       "<Figure size 432x288 with 1 Axes>"
      ]
     },
     "metadata": {
      "needs_background": "light"
     },
     "output_type": "display_data"
    }
   ],
   "source": [
    "sns.boxenplot(data = df, x = 'is_poi', y = 'polarity', palette = ['grey', '#912a15'])\n",
    "plt.title('')\n",
    "plt.show()"
   ]
  },
  {
   "cell_type": "code",
   "execution_count": 43,
   "id": "4395e16d",
   "metadata": {},
   "outputs": [
    {
     "data": {
      "image/png": "[encoded data removed]",
      "text/plain": [
       "<Figure size 432x288 with 1 Axes>"
      ]
     },
     "metadata": {
      "needs_background": "light"
     },
     "output_type": "display_data"
    }
   ],
   "source": [
    "sns.boxenplot(data = df, x = 'is_poi', y = 'subjectivity', palette = ['grey', '#912a15'])\n",
    "plt.title('')\n",
    "plt.show()"
   ]
  },
  {
   "cell_type": "code",
   "execution_count": null,
   "id": "f11b906b",
   "metadata": {},
   "outputs": [],
   "source": []
  }
 ],
 "metadata": {
  "kernelspec": {
   "display_name": "Python 3",
   "language": "python",
   "name": "python3"
  },
  "language_info": {
   "codemirror_mode": {
    "name": "ipython",
    "version": 3
   },
   "file_extension": ".py",
   "mimetype": "text/x-python",
   "name": "python",
   "nbconvert_exporter": "python",
   "pygments_lexer": "ipython3",
   "version": "3.8.8"
  }
 },
 "nbformat": 4,
 "nbformat_minor": 5
}
