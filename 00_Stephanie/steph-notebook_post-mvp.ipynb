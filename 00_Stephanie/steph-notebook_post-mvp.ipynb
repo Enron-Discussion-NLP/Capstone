{
 "cells": [
  {
   "cell_type": "code",
   "execution_count": 16,
   "id": "0150dff7",
   "metadata": {},
   "outputs": [],
   "source": [
    "import pandas as pd\n",
    "import numpy as np\n",
    "\n",
    "# USING IMPORT EMAILS TO PARSE THORUGH MESSAGES\n",
    "import email\n",
    "from email.parser import Parser\n",
    "\n",
    "import unicodedata\n",
    "import re\n",
    "import json\n",
    "import os\n",
    "\n",
    "import nltk\n",
    "from nltk.tokenize.toktok import ToktokTokenizer\n",
    "from nltk.corpus import stopwords\n",
    "\n",
    "import pandas as pd\n",
    "from time import strftime\n",
    "#from sklearn.model_selection import train_test_split\n",
    "import warnings\n",
    "warnings.filterwarnings('ignore')\n",
    "\n",
    "from nltk.stem import WordNetLemmatizer\n",
    "from nltk.corpus import stopwords\n",
    "\n",
    "# Intensity Score (sentiment score)\n",
    "from nltk.sentiment.vader import SentimentIntensityAnalyzer\n",
    "\n",
    "# Polarity / Subjectivity scores\n",
    "from textblob import TextBlob\n",
    "\n",
    "import matplotlib.pyplot as plt\n",
    "import seaborn as sns"
   ]
  },
  {
   "cell_type": "code",
   "execution_count": 2,
   "id": "f0d91324",
   "metadata": {},
   "outputs": [
    {
     "data": {
      "text/html": [
       "<div>\n",
       "<style scoped>\n",
       "    .dataframe tbody tr th:only-of-type {\n",
       "        vertical-align: middle;\n",
       "    }\n",
       "\n",
       "    .dataframe tbody tr th {\n",
       "        vertical-align: top;\n",
       "    }\n",
       "\n",
       "    .dataframe thead th {\n",
       "        text-align: right;\n",
       "    }\n",
       "</style>\n",
       "<table border=\"1\" class=\"dataframe\">\n",
       "  <thead>\n",
       "    <tr style=\"text-align: right;\">\n",
       "      <th></th>\n",
       "      <th>file</th>\n",
       "      <th>subject</th>\n",
       "      <th>sender</th>\n",
       "      <th>date</th>\n",
       "      <th>content</th>\n",
       "      <th>clean</th>\n",
       "      <th>tokenize</th>\n",
       "      <th>stop_words</th>\n",
       "      <th>lemmatize</th>\n",
       "      <th>intensity</th>\n",
       "      <th>polarity</th>\n",
       "      <th>subjectivity</th>\n",
       "      <th>is_poi</th>\n",
       "      <th>is_internal</th>\n",
       "    </tr>\n",
       "  </thead>\n",
       "  <tbody>\n",
       "    <tr>\n",
       "      <th>0</th>\n",
       "      <td>allen-p/_sent_mail/1.</td>\n",
       "      <td>NaN</td>\n",
       "      <td>phillip.allen@enron.com</td>\n",
       "      <td>Mon, 14 May 2001 16:39:00 -0700 (PDT)</td>\n",
       "      <td>Here is our forecast\\n\\n</td>\n",
       "      <td>here is our forecast</td>\n",
       "      <td>here is our forecast</td>\n",
       "      <td>forecast</td>\n",
       "      <td>forecast</td>\n",
       "      <td>0.0000</td>\n",
       "      <td>0.00</td>\n",
       "      <td>0.000000</td>\n",
       "      <td>False</td>\n",
       "      <td>True</td>\n",
       "    </tr>\n",
       "    <tr>\n",
       "      <th>1</th>\n",
       "      <td>allen-p/_sent_mail/10.</td>\n",
       "      <td>Re:</td>\n",
       "      <td>phillip.allen@enron.com</td>\n",
       "      <td>Fri, 4 May 2001 13:51:00 -0700 (PDT)</td>\n",
       "      <td>Traveling to have a business meeting takes the...</td>\n",
       "      <td>traveling to have a business meeting takes the...</td>\n",
       "      <td>traveling to have a business meeting takes the...</td>\n",
       "      <td>traveling business meeting takes fun trip espe...</td>\n",
       "      <td>traveling business meeting take fun trip espec...</td>\n",
       "      <td>0.9313</td>\n",
       "      <td>0.15</td>\n",
       "      <td>0.613333</td>\n",
       "      <td>False</td>\n",
       "      <td>True</td>\n",
       "    </tr>\n",
       "    <tr>\n",
       "      <th>2</th>\n",
       "      <td>allen-p/_sent_mail/100.</td>\n",
       "      <td>Re: test</td>\n",
       "      <td>phillip.allen@enron.com</td>\n",
       "      <td>Wed, 18 Oct 2000 03:00:00 -0700 (PDT)</td>\n",
       "      <td>test successful.  way to go!!!</td>\n",
       "      <td>test successful  way to go</td>\n",
       "      <td>test successful way to go</td>\n",
       "      <td>test successful way go</td>\n",
       "      <td>test successful way go</td>\n",
       "      <td>0.5859</td>\n",
       "      <td>0.75</td>\n",
       "      <td>0.950000</td>\n",
       "      <td>False</td>\n",
       "      <td>True</td>\n",
       "    </tr>\n",
       "    <tr>\n",
       "      <th>3</th>\n",
       "      <td>allen-p/_sent_mail/1000.</td>\n",
       "      <td>NaN</td>\n",
       "      <td>phillip.allen@enron.com</td>\n",
       "      <td>Mon, 23 Oct 2000 06:13:00 -0700 (PDT)</td>\n",
       "      <td>Randy,\\n\\n Can you send me a schedule of the s...</td>\n",
       "      <td>randy   can you send me a schedule of the sala...</td>\n",
       "      <td>randy can you send me a schedule of the salary...</td>\n",
       "      <td>randy send schedule salary level everyone sche...</td>\n",
       "      <td>randy send schedule salary level everyone sche...</td>\n",
       "      <td>0.0000</td>\n",
       "      <td>0.00</td>\n",
       "      <td>0.000000</td>\n",
       "      <td>False</td>\n",
       "      <td>True</td>\n",
       "    </tr>\n",
       "    <tr>\n",
       "      <th>4</th>\n",
       "      <td>allen-p/_sent_mail/1001.</td>\n",
       "      <td>Re: Hello</td>\n",
       "      <td>phillip.allen@enron.com</td>\n",
       "      <td>Thu, 31 Aug 2000 05:07:00 -0700 (PDT)</td>\n",
       "      <td>Let's shoot for Tuesday at 11:45.</td>\n",
       "      <td>let's shoot for tuesday at 1145</td>\n",
       "      <td>let ' s shoot for tuesday at 1145</td>\n",
       "      <td>let ' shoot tuesday 1145</td>\n",
       "      <td>let ' shoot tuesday 1145</td>\n",
       "      <td>-0.3400</td>\n",
       "      <td>0.00</td>\n",
       "      <td>0.000000</td>\n",
       "      <td>False</td>\n",
       "      <td>True</td>\n",
       "    </tr>\n",
       "  </tbody>\n",
       "</table>\n",
       "</div>"
      ],
      "text/plain": [
       "                       file    subject                   sender  \\\n",
       "0     allen-p/_sent_mail/1.        NaN  phillip.allen@enron.com   \n",
       "1    allen-p/_sent_mail/10.        Re:  phillip.allen@enron.com   \n",
       "2   allen-p/_sent_mail/100.   Re: test  phillip.allen@enron.com   \n",
       "3  allen-p/_sent_mail/1000.        NaN  phillip.allen@enron.com   \n",
       "4  allen-p/_sent_mail/1001.  Re: Hello  phillip.allen@enron.com   \n",
       "\n",
       "                                    date  \\\n",
       "0  Mon, 14 May 2001 16:39:00 -0700 (PDT)   \n",
       "1   Fri, 4 May 2001 13:51:00 -0700 (PDT)   \n",
       "2  Wed, 18 Oct 2000 03:00:00 -0700 (PDT)   \n",
       "3  Mon, 23 Oct 2000 06:13:00 -0700 (PDT)   \n",
       "4  Thu, 31 Aug 2000 05:07:00 -0700 (PDT)   \n",
       "\n",
       "                                             content  \\\n",
       "0                          Here is our forecast\\n\\n    \n",
       "1  Traveling to have a business meeting takes the...   \n",
       "2                     test successful.  way to go!!!   \n",
       "3  Randy,\\n\\n Can you send me a schedule of the s...   \n",
       "4                Let's shoot for Tuesday at 11:45.     \n",
       "\n",
       "                                               clean  \\\n",
       "0                               here is our forecast   \n",
       "1  traveling to have a business meeting takes the...   \n",
       "2                         test successful  way to go   \n",
       "3  randy   can you send me a schedule of the sala...   \n",
       "4                    let's shoot for tuesday at 1145   \n",
       "\n",
       "                                            tokenize  \\\n",
       "0                               here is our forecast   \n",
       "1  traveling to have a business meeting takes the...   \n",
       "2                          test successful way to go   \n",
       "3  randy can you send me a schedule of the salary...   \n",
       "4                  let ' s shoot for tuesday at 1145   \n",
       "\n",
       "                                          stop_words  \\\n",
       "0                                           forecast   \n",
       "1  traveling business meeting takes fun trip espe...   \n",
       "2                             test successful way go   \n",
       "3  randy send schedule salary level everyone sche...   \n",
       "4                           let ' shoot tuesday 1145   \n",
       "\n",
       "                                           lemmatize  intensity  polarity  \\\n",
       "0                                           forecast     0.0000      0.00   \n",
       "1  traveling business meeting take fun trip espec...     0.9313      0.15   \n",
       "2                             test successful way go     0.5859      0.75   \n",
       "3  randy send schedule salary level everyone sche...     0.0000      0.00   \n",
       "4                           let ' shoot tuesday 1145    -0.3400      0.00   \n",
       "\n",
       "   subjectivity  is_poi  is_internal  \n",
       "0      0.000000   False         True  \n",
       "1      0.613333   False         True  \n",
       "2      0.950000   False         True  \n",
       "3      0.000000   False         True  \n",
       "4      0.000000   False         True  "
      ]
     },
     "execution_count": 2,
     "metadata": {},
     "output_type": "execute_result"
    }
   ],
   "source": [
    "df = pd.read_csv('01-clean_data.csv', index_col=False)\n",
    "\n",
    "df.head()"
   ]
  },
  {
   "cell_type": "code",
   "execution_count": 3,
   "id": "fad9e96d",
   "metadata": {},
   "outputs": [
    {
     "data": {
      "text/html": [
       "<div>\n",
       "<style scoped>\n",
       "    .dataframe tbody tr th:only-of-type {\n",
       "        vertical-align: middle;\n",
       "    }\n",
       "\n",
       "    .dataframe tbody tr th {\n",
       "        vertical-align: top;\n",
       "    }\n",
       "\n",
       "    .dataframe thead th {\n",
       "        text-align: right;\n",
       "    }\n",
       "</style>\n",
       "<table border=\"1\" class=\"dataframe\">\n",
       "  <thead>\n",
       "    <tr style=\"text-align: right;\">\n",
       "      <th></th>\n",
       "      <th>content</th>\n",
       "      <th>date</th>\n",
       "      <th>sender</th>\n",
       "      <th>subject</th>\n",
       "    </tr>\n",
       "  </thead>\n",
       "  <tbody>\n",
       "    <tr>\n",
       "      <th>0</th>\n",
       "      <td>Here is our forecast\\n\\n</td>\n",
       "      <td>Mon, 14 May 2001 16:39:00 -0700 (PDT)</td>\n",
       "      <td>phillip.allen@enron.com</td>\n",
       "      <td>NaN</td>\n",
       "    </tr>\n",
       "    <tr>\n",
       "      <th>1</th>\n",
       "      <td>Traveling to have a business meeting takes the...</td>\n",
       "      <td>Fri, 4 May 2001 13:51:00 -0700 (PDT)</td>\n",
       "      <td>phillip.allen@enron.com</td>\n",
       "      <td>Re:</td>\n",
       "    </tr>\n",
       "    <tr>\n",
       "      <th>2</th>\n",
       "      <td>test successful.  way to go!!!</td>\n",
       "      <td>Wed, 18 Oct 2000 03:00:00 -0700 (PDT)</td>\n",
       "      <td>phillip.allen@enron.com</td>\n",
       "      <td>Re: test</td>\n",
       "    </tr>\n",
       "    <tr>\n",
       "      <th>3</th>\n",
       "      <td>Randy,\\n\\n Can you send me a schedule of the s...</td>\n",
       "      <td>Mon, 23 Oct 2000 06:13:00 -0700 (PDT)</td>\n",
       "      <td>phillip.allen@enron.com</td>\n",
       "      <td>NaN</td>\n",
       "    </tr>\n",
       "    <tr>\n",
       "      <th>4</th>\n",
       "      <td>Let's shoot for Tuesday at 11:45.</td>\n",
       "      <td>Thu, 31 Aug 2000 05:07:00 -0700 (PDT)</td>\n",
       "      <td>phillip.allen@enron.com</td>\n",
       "      <td>Re: Hello</td>\n",
       "    </tr>\n",
       "  </tbody>\n",
       "</table>\n",
       "</div>"
      ],
      "text/plain": [
       "                                             content  \\\n",
       "0                          Here is our forecast\\n\\n    \n",
       "1  Traveling to have a business meeting takes the...   \n",
       "2                     test successful.  way to go!!!   \n",
       "3  Randy,\\n\\n Can you send me a schedule of the s...   \n",
       "4                Let's shoot for Tuesday at 11:45.     \n",
       "\n",
       "                                    date                   sender    subject  \n",
       "0  Mon, 14 May 2001 16:39:00 -0700 (PDT)  phillip.allen@enron.com        NaN  \n",
       "1   Fri, 4 May 2001 13:51:00 -0700 (PDT)  phillip.allen@enron.com        Re:  \n",
       "2  Wed, 18 Oct 2000 03:00:00 -0700 (PDT)  phillip.allen@enron.com   Re: test  \n",
       "3  Mon, 23 Oct 2000 06:13:00 -0700 (PDT)  phillip.allen@enron.com        NaN  \n",
       "4  Thu, 31 Aug 2000 05:07:00 -0700 (PDT)  phillip.allen@enron.com  Re: Hello  "
      ]
     },
     "execution_count": 3,
     "metadata": {},
     "output_type": "execute_result"
    }
   ],
   "source": [
    "df[['content', 'date', 'sender', 'subject']].head()"
   ]
  },
  {
   "cell_type": "code",
   "execution_count": 4,
   "id": "03aa3fe2",
   "metadata": {},
   "outputs": [],
   "source": [
    "# df.to_csv('01-clean_data.csv', index = False)"
   ]
  },
  {
   "cell_type": "code",
   "execution_count": 5,
   "id": "d2420ff1",
   "metadata": {},
   "outputs": [
    {
     "data": {
      "text/plain": [
       "(517401, 14)"
      ]
     },
     "execution_count": 5,
     "metadata": {},
     "output_type": "execute_result"
    }
   ],
   "source": [
    "df.shape"
   ]
  },
  {
   "cell_type": "code",
   "execution_count": 6,
   "id": "57f20917",
   "metadata": {},
   "outputs": [],
   "source": [
    "df.fillna('', inplace = True)"
   ]
  },
  {
   "cell_type": "code",
   "execution_count": 7,
   "id": "ac49ce91",
   "metadata": {},
   "outputs": [
    {
     "data": {
      "text/plain": [
       "file            0\n",
       "subject         0\n",
       "sender          0\n",
       "date            0\n",
       "content         0\n",
       "clean           0\n",
       "tokenize        0\n",
       "stop_words      0\n",
       "lemmatize       0\n",
       "intensity       0\n",
       "polarity        0\n",
       "subjectivity    0\n",
       "is_poi          0\n",
       "is_internal     0\n",
       "dtype: int64"
      ]
     },
     "execution_count": 7,
     "metadata": {},
     "output_type": "execute_result"
    }
   ],
   "source": [
    "df.isna().sum()"
   ]
  },
  {
   "cell_type": "code",
   "execution_count": 16,
   "id": "19cff5cc",
   "metadata": {},
   "outputs": [
    {
     "data": {
      "text/plain": [
       "'    '"
      ]
     },
     "execution_count": 16,
     "metadata": {},
     "output_type": "execute_result"
    }
   ],
   "source": [
    "df.clean[151719]"
   ]
  },
  {
   "cell_type": "code",
   "execution_count": 8,
   "id": "63287b9c",
   "metadata": {},
   "outputs": [
    {
     "data": {
      "text/plain": [
       "(517401, 6)"
      ]
     },
     "execution_count": 8,
     "metadata": {},
     "output_type": "execute_result"
    }
   ],
   "source": [
    "ts = pd.read_csv('02-ts_data.csv')\n",
    "\n",
    "ts.shape"
   ]
  },
  {
   "cell_type": "code",
   "execution_count": 9,
   "id": "9fa849c8",
   "metadata": {
    "scrolled": true
   },
   "outputs": [
    {
     "data": {
      "text/html": [
       "<div>\n",
       "<style scoped>\n",
       "    .dataframe tbody tr th:only-of-type {\n",
       "        vertical-align: middle;\n",
       "    }\n",
       "\n",
       "    .dataframe tbody tr th {\n",
       "        vertical-align: top;\n",
       "    }\n",
       "\n",
       "    .dataframe thead th {\n",
       "        text-align: right;\n",
       "    }\n",
       "</style>\n",
       "<table border=\"1\" class=\"dataframe\">\n",
       "  <thead>\n",
       "    <tr style=\"text-align: right;\">\n",
       "      <th></th>\n",
       "      <th>date</th>\n",
       "      <th>intensity</th>\n",
       "      <th>polarity</th>\n",
       "      <th>subjectivity</th>\n",
       "      <th>year</th>\n",
       "      <th>month</th>\n",
       "    </tr>\n",
       "  </thead>\n",
       "  <tbody>\n",
       "    <tr>\n",
       "      <th>0</th>\n",
       "      <td>1980-01-01 00:00:00+00:00</td>\n",
       "      <td>0.6124</td>\n",
       "      <td>-0.104861</td>\n",
       "      <td>0.431250</td>\n",
       "      <td>1980</td>\n",
       "      <td>1</td>\n",
       "    </tr>\n",
       "    <tr>\n",
       "      <th>1</th>\n",
       "      <td>1980-01-01 00:00:00+00:00</td>\n",
       "      <td>0.0000</td>\n",
       "      <td>0.000000</td>\n",
       "      <td>0.000000</td>\n",
       "      <td>1980</td>\n",
       "      <td>1</td>\n",
       "    </tr>\n",
       "    <tr>\n",
       "      <th>2</th>\n",
       "      <td>1980-01-01 00:00:00+00:00</td>\n",
       "      <td>0.9943</td>\n",
       "      <td>0.278879</td>\n",
       "      <td>0.575575</td>\n",
       "      <td>1980</td>\n",
       "      <td>1</td>\n",
       "    </tr>\n",
       "    <tr>\n",
       "      <th>3</th>\n",
       "      <td>1980-01-01 00:00:00+00:00</td>\n",
       "      <td>0.6908</td>\n",
       "      <td>0.008333</td>\n",
       "      <td>0.633333</td>\n",
       "      <td>1980</td>\n",
       "      <td>1</td>\n",
       "    </tr>\n",
       "    <tr>\n",
       "      <th>4</th>\n",
       "      <td>1980-01-01 00:00:00+00:00</td>\n",
       "      <td>0.7184</td>\n",
       "      <td>0.043810</td>\n",
       "      <td>0.373810</td>\n",
       "      <td>1980</td>\n",
       "      <td>1</td>\n",
       "    </tr>\n",
       "  </tbody>\n",
       "</table>\n",
       "</div>"
      ],
      "text/plain": [
       "                        date  intensity  polarity  subjectivity  year  month\n",
       "0  1980-01-01 00:00:00+00:00     0.6124 -0.104861      0.431250  1980      1\n",
       "1  1980-01-01 00:00:00+00:00     0.0000  0.000000      0.000000  1980      1\n",
       "2  1980-01-01 00:00:00+00:00     0.9943  0.278879      0.575575  1980      1\n",
       "3  1980-01-01 00:00:00+00:00     0.6908  0.008333      0.633333  1980      1\n",
       "4  1980-01-01 00:00:00+00:00     0.7184  0.043810      0.373810  1980      1"
      ]
     },
     "execution_count": 9,
     "metadata": {},
     "output_type": "execute_result"
    }
   ],
   "source": [
    "ts.head()"
   ]
  },
  {
   "cell_type": "code",
   "execution_count": null,
   "id": "9b7e88d0",
   "metadata": {},
   "outputs": [],
   "source": []
  },
  {
   "cell_type": "code",
   "execution_count": 10,
   "id": "789bf147",
   "metadata": {},
   "outputs": [],
   "source": [
    "ts.date = pd.to_datetime(ts.date)"
   ]
  },
  {
   "cell_type": "code",
   "execution_count": 11,
   "id": "f964a6a9",
   "metadata": {},
   "outputs": [],
   "source": [
    "ts.set_index('date', inplace = True)"
   ]
  },
  {
   "cell_type": "code",
   "execution_count": 12,
   "id": "d7ca01f3",
   "metadata": {},
   "outputs": [
    {
     "data": {
      "text/plain": [
       "intensity       0\n",
       "polarity        0\n",
       "subjectivity    0\n",
       "year            0\n",
       "month           0\n",
       "dtype: int64"
      ]
     },
     "execution_count": 12,
     "metadata": {},
     "output_type": "execute_result"
    }
   ],
   "source": [
    "ts.isna().sum()"
   ]
  },
  {
   "cell_type": "code",
   "execution_count": 16,
   "id": "28e68da5",
   "metadata": {},
   "outputs": [
    {
     "data": {
      "text/plain": [
       "<AxesSubplot:xlabel='date'>"
      ]
     },
     "execution_count": 16,
     "metadata": {},
     "output_type": "execute_result"
    },
    {
     "data": {
      "image/png": "[encoded data removed]",
      "text/plain": [
       "<Figure size 432x288 with 1 Axes>"
      ]
     },
     "metadata": {
      "needs_background": "light"
     },
     "output_type": "display_data"
    }
   ],
   "source": [
    "ts.drop(columns = ['month', 'year']).plot()"
   ]
  },
  {
   "cell_type": "code",
   "execution_count": 13,
   "id": "ab8b68b3",
   "metadata": {},
   "outputs": [
    {
     "data": {
      "text/plain": [
       "datetime64[ns, UTC]"
      ]
     },
     "execution_count": 13,
     "metadata": {},
     "output_type": "execute_result"
    }
   ],
   "source": [
    "ts.index.dtype"
   ]
  },
  {
   "cell_type": "code",
   "execution_count": 14,
   "id": "3c43d960",
   "metadata": {},
   "outputs": [
    {
     "data": {
      "text/plain": [
       "Timestamp('1980-01-01 00:00:00+0000', tz='UTC')"
      ]
     },
     "execution_count": 14,
     "metadata": {},
     "output_type": "execute_result"
    }
   ],
   "source": [
    "ts.index[0]"
   ]
  },
  {
   "cell_type": "code",
   "execution_count": 43,
   "id": "62eaf29d",
   "metadata": {},
   "outputs": [
    {
     "data": {
      "text/plain": [
       "<AxesSubplot:xlabel='date'>"
      ]
     },
     "execution_count": 43,
     "metadata": {},
     "output_type": "execute_result"
    },
    {
     "data": {
      "text/plain": [
       "<Figure size 720x720 with 0 Axes>"
      ]
     },
     "metadata": {},
     "output_type": "display_data"
    },
    {
     "data": {
      "image/png": "[encoded data removed]",
      "text/plain": [
       "<Figure size 432x288 with 1 Axes>"
      ]
     },
     "metadata": {
      "needs_background": "light"
     },
     "output_type": "display_data"
    }
   ],
   "source": []
  },
  {
   "cell_type": "code",
   "execution_count": 19,
   "id": "3c88a927",
   "metadata": {},
   "outputs": [
    {
     "data": {
      "text/plain": [
       "<Figure size 720x720 with 0 Axes>"
      ]
     },
     "metadata": {},
     "output_type": "display_data"
    },
    {
     "data": {
      "image/png": "[encoded data removed]",
      "text/plain": [
       "<Figure size 432x288 with 1 Axes>"
      ]
     },
     "metadata": {
      "needs_background": "light"
     },
     "output_type": "display_data"
    }
   ],
   "source": [
    "plt.figure(figsize = (10, 10))\n",
    "ts.groupby('year')[['intensity', 'polarity', 'subjectivity']].mean().sort_index().plot.barh()\n",
    "plt.show()"
   ]
  },
  {
   "cell_type": "code",
   "execution_count": 40,
   "id": "0f9963ae",
   "metadata": {},
   "outputs": [
    {
     "data": {
      "image/png": "[encoded data removed]",
      "text/plain": [
       "<Figure size 432x288 with 1 Axes>"
      ]
     },
     "metadata": {
      "needs_background": "light"
     },
     "output_type": "display_data"
    }
   ],
   "source": [
    "pd.DataFrame(ts.year.value_counts()).sort_index(ascending = False).plot.barh()\n",
    "plt.title('Most of Our Data 1999 - 2002')\n",
    "plt.show()"
   ]
  },
  {
   "cell_type": "code",
   "execution_count": 41,
   "id": "cc5c748b",
   "metadata": {},
   "outputs": [
    {
     "data": {
      "text/html": [
       "<div>\n",
       "<style scoped>\n",
       "    .dataframe tbody tr th:only-of-type {\n",
       "        vertical-align: middle;\n",
       "    }\n",
       "\n",
       "    .dataframe tbody tr th {\n",
       "        vertical-align: top;\n",
       "    }\n",
       "\n",
       "    .dataframe thead th {\n",
       "        text-align: right;\n",
       "    }\n",
       "</style>\n",
       "<table border=\"1\" class=\"dataframe\">\n",
       "  <thead>\n",
       "    <tr style=\"text-align: right;\">\n",
       "      <th></th>\n",
       "      <th>year</th>\n",
       "    </tr>\n",
       "  </thead>\n",
       "  <tbody>\n",
       "    <tr>\n",
       "      <th>1980</th>\n",
       "      <td>0.1009</td>\n",
       "    </tr>\n",
       "    <tr>\n",
       "      <th>1986</th>\n",
       "      <td>0.0004</td>\n",
       "    </tr>\n",
       "    <tr>\n",
       "      <th>1997</th>\n",
       "      <td>0.0845</td>\n",
       "    </tr>\n",
       "    <tr>\n",
       "      <th>1998</th>\n",
       "      <td>0.0342</td>\n",
       "    </tr>\n",
       "    <tr>\n",
       "      <th>1999</th>\n",
       "      <td>2.1538</td>\n",
       "    </tr>\n",
       "    <tr>\n",
       "      <th>2000</th>\n",
       "      <td>37.9010</td>\n",
       "    </tr>\n",
       "    <tr>\n",
       "      <th>2001</th>\n",
       "      <td>52.7568</td>\n",
       "    </tr>\n",
       "    <tr>\n",
       "      <th>2002</th>\n",
       "      <td>6.9528</td>\n",
       "    </tr>\n",
       "    <tr>\n",
       "      <th>2004</th>\n",
       "      <td>0.0135</td>\n",
       "    </tr>\n",
       "    <tr>\n",
       "      <th>2005</th>\n",
       "      <td>0.0002</td>\n",
       "    </tr>\n",
       "    <tr>\n",
       "      <th>2007</th>\n",
       "      <td>0.0002</td>\n",
       "    </tr>\n",
       "    <tr>\n",
       "      <th>2012</th>\n",
       "      <td>0.0004</td>\n",
       "    </tr>\n",
       "    <tr>\n",
       "      <th>2020</th>\n",
       "      <td>0.0004</td>\n",
       "    </tr>\n",
       "    <tr>\n",
       "      <th>2024</th>\n",
       "      <td>0.0002</td>\n",
       "    </tr>\n",
       "    <tr>\n",
       "      <th>2043</th>\n",
       "      <td>0.0002</td>\n",
       "    </tr>\n",
       "    <tr>\n",
       "      <th>2044</th>\n",
       "      <td>0.0006</td>\n",
       "    </tr>\n",
       "  </tbody>\n",
       "</table>\n",
       "</div>"
      ],
      "text/plain": [
       "         year\n",
       "1980   0.1009\n",
       "1986   0.0004\n",
       "1997   0.0845\n",
       "1998   0.0342\n",
       "1999   2.1538\n",
       "2000  37.9010\n",
       "2001  52.7568\n",
       "2002   6.9528\n",
       "2004   0.0135\n",
       "2005   0.0002\n",
       "2007   0.0002\n",
       "2012   0.0004\n",
       "2020   0.0004\n",
       "2024   0.0002\n",
       "2043   0.0002\n",
       "2044   0.0006"
      ]
     },
     "execution_count": 41,
     "metadata": {},
     "output_type": "execute_result"
    }
   ],
   "source": [
    "pd.DataFrame(round(ts.year.value_counts(normalize = True)*100, 4)).sort_index()"
   ]
  },
  {
   "cell_type": "code",
   "execution_count": 42,
   "id": "f42217e3",
   "metadata": {},
   "outputs": [
    {
     "data": {
      "text/plain": [
       "<AxesSubplot:>"
      ]
     },
     "execution_count": 42,
     "metadata": {},
     "output_type": "execute_result"
    },
    {
     "data": {
      "image/png": "[encoded data removed]",
      "text/plain": [
       "<Figure size 432x288 with 1 Axes>"
      ]
     },
     "metadata": {
      "needs_background": "light"
     },
     "output_type": "display_data"
    }
   ],
   "source": [
    "ts.intensity.hist()"
   ]
  },
  {
   "cell_type": "code",
   "execution_count": 43,
   "id": "d89ff8e6",
   "metadata": {},
   "outputs": [
    {
     "data": {
      "text/html": [
       "<div>\n",
       "<style scoped>\n",
       "    .dataframe tbody tr th:only-of-type {\n",
       "        vertical-align: middle;\n",
       "    }\n",
       "\n",
       "    .dataframe tbody tr th {\n",
       "        vertical-align: top;\n",
       "    }\n",
       "\n",
       "    .dataframe thead th {\n",
       "        text-align: right;\n",
       "    }\n",
       "</style>\n",
       "<table border=\"1\" class=\"dataframe\">\n",
       "  <thead>\n",
       "    <tr style=\"text-align: right;\">\n",
       "      <th></th>\n",
       "      <th>intensity</th>\n",
       "      <th>polarity</th>\n",
       "      <th>subjectivity</th>\n",
       "      <th>year</th>\n",
       "      <th>month</th>\n",
       "    </tr>\n",
       "    <tr>\n",
       "      <th>date</th>\n",
       "      <th></th>\n",
       "      <th></th>\n",
       "      <th></th>\n",
       "      <th></th>\n",
       "      <th></th>\n",
       "    </tr>\n",
       "  </thead>\n",
       "  <tbody>\n",
       "    <tr>\n",
       "      <th>1980-01-01 00:00:00+00:00</th>\n",
       "      <td>0.6124</td>\n",
       "      <td>-0.104861</td>\n",
       "      <td>0.431250</td>\n",
       "      <td>1980</td>\n",
       "      <td>1</td>\n",
       "    </tr>\n",
       "    <tr>\n",
       "      <th>1980-01-01 00:00:00+00:00</th>\n",
       "      <td>0.0000</td>\n",
       "      <td>0.000000</td>\n",
       "      <td>0.000000</td>\n",
       "      <td>1980</td>\n",
       "      <td>1</td>\n",
       "    </tr>\n",
       "    <tr>\n",
       "      <th>1980-01-01 00:00:00+00:00</th>\n",
       "      <td>0.9943</td>\n",
       "      <td>0.278879</td>\n",
       "      <td>0.575575</td>\n",
       "      <td>1980</td>\n",
       "      <td>1</td>\n",
       "    </tr>\n",
       "    <tr>\n",
       "      <th>1980-01-01 00:00:00+00:00</th>\n",
       "      <td>0.6908</td>\n",
       "      <td>0.008333</td>\n",
       "      <td>0.633333</td>\n",
       "      <td>1980</td>\n",
       "      <td>1</td>\n",
       "    </tr>\n",
       "    <tr>\n",
       "      <th>1980-01-01 00:00:00+00:00</th>\n",
       "      <td>0.7184</td>\n",
       "      <td>0.043810</td>\n",
       "      <td>0.373810</td>\n",
       "      <td>1980</td>\n",
       "      <td>1</td>\n",
       "    </tr>\n",
       "  </tbody>\n",
       "</table>\n",
       "</div>"
      ],
      "text/plain": [
       "                           intensity  polarity  subjectivity  year  month\n",
       "date                                                                     \n",
       "1980-01-01 00:00:00+00:00     0.6124 -0.104861      0.431250  1980      1\n",
       "1980-01-01 00:00:00+00:00     0.0000  0.000000      0.000000  1980      1\n",
       "1980-01-01 00:00:00+00:00     0.9943  0.278879      0.575575  1980      1\n",
       "1980-01-01 00:00:00+00:00     0.6908  0.008333      0.633333  1980      1\n",
       "1980-01-01 00:00:00+00:00     0.7184  0.043810      0.373810  1980      1"
      ]
     },
     "execution_count": 43,
     "metadata": {},
     "output_type": "execute_result"
    }
   ],
   "source": [
    "ts.head()"
   ]
  },
  {
   "cell_type": "code",
   "execution_count": 44,
   "id": "ee4751bd",
   "metadata": {},
   "outputs": [
    {
     "data": {
      "text/html": [
       "<div>\n",
       "<style scoped>\n",
       "    .dataframe tbody tr th:only-of-type {\n",
       "        vertical-align: middle;\n",
       "    }\n",
       "\n",
       "    .dataframe tbody tr th {\n",
       "        vertical-align: top;\n",
       "    }\n",
       "\n",
       "    .dataframe thead th {\n",
       "        text-align: right;\n",
       "    }\n",
       "</style>\n",
       "<table border=\"1\" class=\"dataframe\">\n",
       "  <thead>\n",
       "    <tr style=\"text-align: right;\">\n",
       "      <th></th>\n",
       "      <th>file</th>\n",
       "      <th>subject</th>\n",
       "      <th>sender</th>\n",
       "      <th>date</th>\n",
       "      <th>content</th>\n",
       "      <th>clean</th>\n",
       "      <th>tokenize</th>\n",
       "      <th>stop_words</th>\n",
       "      <th>lemmatize</th>\n",
       "      <th>intensity</th>\n",
       "      <th>polarity</th>\n",
       "      <th>subjectivity</th>\n",
       "      <th>is_poi</th>\n",
       "      <th>is_internal</th>\n",
       "    </tr>\n",
       "  </thead>\n",
       "  <tbody>\n",
       "    <tr>\n",
       "      <th>0</th>\n",
       "      <td>allen-p/_sent_mail/1.</td>\n",
       "      <td></td>\n",
       "      <td>phillip.allen@enron.com</td>\n",
       "      <td>Mon, 14 May 2001 16:39:00 -0700 (PDT)</td>\n",
       "      <td>Here is our forecast\\n\\n</td>\n",
       "      <td>here is our forecast</td>\n",
       "      <td>here is our forecast</td>\n",
       "      <td>forecast</td>\n",
       "      <td>forecast</td>\n",
       "      <td>0.0000</td>\n",
       "      <td>0.00</td>\n",
       "      <td>0.000000</td>\n",
       "      <td>False</td>\n",
       "      <td>True</td>\n",
       "    </tr>\n",
       "    <tr>\n",
       "      <th>1</th>\n",
       "      <td>allen-p/_sent_mail/10.</td>\n",
       "      <td>Re:</td>\n",
       "      <td>phillip.allen@enron.com</td>\n",
       "      <td>Fri, 4 May 2001 13:51:00 -0700 (PDT)</td>\n",
       "      <td>Traveling to have a business meeting takes the...</td>\n",
       "      <td>traveling to have a business meeting takes the...</td>\n",
       "      <td>traveling to have a business meeting takes the...</td>\n",
       "      <td>traveling business meeting takes fun trip espe...</td>\n",
       "      <td>traveling business meeting take fun trip espec...</td>\n",
       "      <td>0.9313</td>\n",
       "      <td>0.15</td>\n",
       "      <td>0.613333</td>\n",
       "      <td>False</td>\n",
       "      <td>True</td>\n",
       "    </tr>\n",
       "    <tr>\n",
       "      <th>2</th>\n",
       "      <td>allen-p/_sent_mail/100.</td>\n",
       "      <td>Re: test</td>\n",
       "      <td>phillip.allen@enron.com</td>\n",
       "      <td>Wed, 18 Oct 2000 03:00:00 -0700 (PDT)</td>\n",
       "      <td>test successful.  way to go!!!</td>\n",
       "      <td>test successful  way to go</td>\n",
       "      <td>test successful way to go</td>\n",
       "      <td>test successful way go</td>\n",
       "      <td>test successful way go</td>\n",
       "      <td>0.5859</td>\n",
       "      <td>0.75</td>\n",
       "      <td>0.950000</td>\n",
       "      <td>False</td>\n",
       "      <td>True</td>\n",
       "    </tr>\n",
       "    <tr>\n",
       "      <th>3</th>\n",
       "      <td>allen-p/_sent_mail/1000.</td>\n",
       "      <td></td>\n",
       "      <td>phillip.allen@enron.com</td>\n",
       "      <td>Mon, 23 Oct 2000 06:13:00 -0700 (PDT)</td>\n",
       "      <td>Randy,\\n\\n Can you send me a schedule of the s...</td>\n",
       "      <td>randy   can you send me a schedule of the sala...</td>\n",
       "      <td>randy can you send me a schedule of the salary...</td>\n",
       "      <td>randy send schedule salary level everyone sche...</td>\n",
       "      <td>randy send schedule salary level everyone sche...</td>\n",
       "      <td>0.0000</td>\n",
       "      <td>0.00</td>\n",
       "      <td>0.000000</td>\n",
       "      <td>False</td>\n",
       "      <td>True</td>\n",
       "    </tr>\n",
       "    <tr>\n",
       "      <th>4</th>\n",
       "      <td>allen-p/_sent_mail/1001.</td>\n",
       "      <td>Re: Hello</td>\n",
       "      <td>phillip.allen@enron.com</td>\n",
       "      <td>Thu, 31 Aug 2000 05:07:00 -0700 (PDT)</td>\n",
       "      <td>Let's shoot for Tuesday at 11:45.</td>\n",
       "      <td>let's shoot for tuesday at 1145</td>\n",
       "      <td>let ' s shoot for tuesday at 1145</td>\n",
       "      <td>let ' shoot tuesday 1145</td>\n",
       "      <td>let ' shoot tuesday 1145</td>\n",
       "      <td>-0.3400</td>\n",
       "      <td>0.00</td>\n",
       "      <td>0.000000</td>\n",
       "      <td>False</td>\n",
       "      <td>True</td>\n",
       "    </tr>\n",
       "  </tbody>\n",
       "</table>\n",
       "</div>"
      ],
      "text/plain": [
       "                       file    subject                   sender  \\\n",
       "0     allen-p/_sent_mail/1.             phillip.allen@enron.com   \n",
       "1    allen-p/_sent_mail/10.        Re:  phillip.allen@enron.com   \n",
       "2   allen-p/_sent_mail/100.   Re: test  phillip.allen@enron.com   \n",
       "3  allen-p/_sent_mail/1000.             phillip.allen@enron.com   \n",
       "4  allen-p/_sent_mail/1001.  Re: Hello  phillip.allen@enron.com   \n",
       "\n",
       "                                    date  \\\n",
       "0  Mon, 14 May 2001 16:39:00 -0700 (PDT)   \n",
       "1   Fri, 4 May 2001 13:51:00 -0700 (PDT)   \n",
       "2  Wed, 18 Oct 2000 03:00:00 -0700 (PDT)   \n",
       "3  Mon, 23 Oct 2000 06:13:00 -0700 (PDT)   \n",
       "4  Thu, 31 Aug 2000 05:07:00 -0700 (PDT)   \n",
       "\n",
       "                                             content  \\\n",
       "0                          Here is our forecast\\n\\n    \n",
       "1  Traveling to have a business meeting takes the...   \n",
       "2                     test successful.  way to go!!!   \n",
       "3  Randy,\\n\\n Can you send me a schedule of the s...   \n",
       "4                Let's shoot for Tuesday at 11:45.     \n",
       "\n",
       "                                               clean  \\\n",
       "0                               here is our forecast   \n",
       "1  traveling to have a business meeting takes the...   \n",
       "2                         test successful  way to go   \n",
       "3  randy   can you send me a schedule of the sala...   \n",
       "4                    let's shoot for tuesday at 1145   \n",
       "\n",
       "                                            tokenize  \\\n",
       "0                               here is our forecast   \n",
       "1  traveling to have a business meeting takes the...   \n",
       "2                          test successful way to go   \n",
       "3  randy can you send me a schedule of the salary...   \n",
       "4                  let ' s shoot for tuesday at 1145   \n",
       "\n",
       "                                          stop_words  \\\n",
       "0                                           forecast   \n",
       "1  traveling business meeting takes fun trip espe...   \n",
       "2                             test successful way go   \n",
       "3  randy send schedule salary level everyone sche...   \n",
       "4                           let ' shoot tuesday 1145   \n",
       "\n",
       "                                           lemmatize  intensity  polarity  \\\n",
       "0                                           forecast     0.0000      0.00   \n",
       "1  traveling business meeting take fun trip espec...     0.9313      0.15   \n",
       "2                             test successful way go     0.5859      0.75   \n",
       "3  randy send schedule salary level everyone sche...     0.0000      0.00   \n",
       "4                           let ' shoot tuesday 1145    -0.3400      0.00   \n",
       "\n",
       "   subjectivity  is_poi  is_internal  \n",
       "0      0.000000   False         True  \n",
       "1      0.613333   False         True  \n",
       "2      0.950000   False         True  \n",
       "3      0.000000   False         True  \n",
       "4      0.000000   False         True  "
      ]
     },
     "execution_count": 44,
     "metadata": {},
     "output_type": "execute_result"
    }
   ],
   "source": [
    "df.head()"
   ]
  },
  {
   "cell_type": "code",
   "execution_count": 48,
   "id": "abb30456",
   "metadata": {},
   "outputs": [
    {
     "data": {
      "text/html": [
       "<div>\n",
       "<style scoped>\n",
       "    .dataframe tbody tr th:only-of-type {\n",
       "        vertical-align: middle;\n",
       "    }\n",
       "\n",
       "    .dataframe tbody tr th {\n",
       "        vertical-align: top;\n",
       "    }\n",
       "\n",
       "    .dataframe thead th {\n",
       "        text-align: right;\n",
       "    }\n",
       "</style>\n",
       "<table border=\"1\" class=\"dataframe\">\n",
       "  <thead>\n",
       "    <tr style=\"text-align: right;\">\n",
       "      <th></th>\n",
       "      <th>file</th>\n",
       "      <th>subject</th>\n",
       "      <th>sender</th>\n",
       "      <th>date</th>\n",
       "      <th>content</th>\n",
       "      <th>clean</th>\n",
       "      <th>tokenize</th>\n",
       "      <th>stop_words</th>\n",
       "      <th>lemmatize</th>\n",
       "      <th>intensity</th>\n",
       "      <th>polarity</th>\n",
       "      <th>subjectivity</th>\n",
       "      <th>is_poi</th>\n",
       "      <th>is_internal</th>\n",
       "      <th>year</th>\n",
       "    </tr>\n",
       "  </thead>\n",
       "  <tbody>\n",
       "    <tr>\n",
       "      <th>0</th>\n",
       "      <td>allen-p/_sent_mail/1.</td>\n",
       "      <td></td>\n",
       "      <td>phillip.allen@enron.com</td>\n",
       "      <td>Mon, 14 May 2001 16:39:00 -0700 (PDT)</td>\n",
       "      <td>Here is our forecast\\n\\n</td>\n",
       "      <td>here is our forecast</td>\n",
       "      <td>here is our forecast</td>\n",
       "      <td>forecast</td>\n",
       "      <td>forecast</td>\n",
       "      <td>0.0000</td>\n",
       "      <td>0.00</td>\n",
       "      <td>0.000000</td>\n",
       "      <td>False</td>\n",
       "      <td>True</td>\n",
       "      <td>1980</td>\n",
       "    </tr>\n",
       "    <tr>\n",
       "      <th>1</th>\n",
       "      <td>allen-p/_sent_mail/10.</td>\n",
       "      <td>Re:</td>\n",
       "      <td>phillip.allen@enron.com</td>\n",
       "      <td>Fri, 4 May 2001 13:51:00 -0700 (PDT)</td>\n",
       "      <td>Traveling to have a business meeting takes the...</td>\n",
       "      <td>traveling to have a business meeting takes the...</td>\n",
       "      <td>traveling to have a business meeting takes the...</td>\n",
       "      <td>traveling business meeting takes fun trip espe...</td>\n",
       "      <td>traveling business meeting take fun trip espec...</td>\n",
       "      <td>0.9313</td>\n",
       "      <td>0.15</td>\n",
       "      <td>0.613333</td>\n",
       "      <td>False</td>\n",
       "      <td>True</td>\n",
       "      <td>1980</td>\n",
       "    </tr>\n",
       "    <tr>\n",
       "      <th>2</th>\n",
       "      <td>allen-p/_sent_mail/100.</td>\n",
       "      <td>Re: test</td>\n",
       "      <td>phillip.allen@enron.com</td>\n",
       "      <td>Wed, 18 Oct 2000 03:00:00 -0700 (PDT)</td>\n",
       "      <td>test successful.  way to go!!!</td>\n",
       "      <td>test successful  way to go</td>\n",
       "      <td>test successful way to go</td>\n",
       "      <td>test successful way go</td>\n",
       "      <td>test successful way go</td>\n",
       "      <td>0.5859</td>\n",
       "      <td>0.75</td>\n",
       "      <td>0.950000</td>\n",
       "      <td>False</td>\n",
       "      <td>True</td>\n",
       "      <td>1980</td>\n",
       "    </tr>\n",
       "    <tr>\n",
       "      <th>3</th>\n",
       "      <td>allen-p/_sent_mail/1000.</td>\n",
       "      <td></td>\n",
       "      <td>phillip.allen@enron.com</td>\n",
       "      <td>Mon, 23 Oct 2000 06:13:00 -0700 (PDT)</td>\n",
       "      <td>Randy,\\n\\n Can you send me a schedule of the s...</td>\n",
       "      <td>randy   can you send me a schedule of the sala...</td>\n",
       "      <td>randy can you send me a schedule of the salary...</td>\n",
       "      <td>randy send schedule salary level everyone sche...</td>\n",
       "      <td>randy send schedule salary level everyone sche...</td>\n",
       "      <td>0.0000</td>\n",
       "      <td>0.00</td>\n",
       "      <td>0.000000</td>\n",
       "      <td>False</td>\n",
       "      <td>True</td>\n",
       "      <td>1980</td>\n",
       "    </tr>\n",
       "    <tr>\n",
       "      <th>4</th>\n",
       "      <td>allen-p/_sent_mail/1001.</td>\n",
       "      <td>Re: Hello</td>\n",
       "      <td>phillip.allen@enron.com</td>\n",
       "      <td>Thu, 31 Aug 2000 05:07:00 -0700 (PDT)</td>\n",
       "      <td>Let's shoot for Tuesday at 11:45.</td>\n",
       "      <td>let's shoot for tuesday at 1145</td>\n",
       "      <td>let ' s shoot for tuesday at 1145</td>\n",
       "      <td>let ' shoot tuesday 1145</td>\n",
       "      <td>let ' shoot tuesday 1145</td>\n",
       "      <td>-0.3400</td>\n",
       "      <td>0.00</td>\n",
       "      <td>0.000000</td>\n",
       "      <td>False</td>\n",
       "      <td>True</td>\n",
       "      <td>1980</td>\n",
       "    </tr>\n",
       "  </tbody>\n",
       "</table>\n",
       "</div>"
      ],
      "text/plain": [
       "                       file    subject                   sender  \\\n",
       "0     allen-p/_sent_mail/1.             phillip.allen@enron.com   \n",
       "1    allen-p/_sent_mail/10.        Re:  phillip.allen@enron.com   \n",
       "2   allen-p/_sent_mail/100.   Re: test  phillip.allen@enron.com   \n",
       "3  allen-p/_sent_mail/1000.             phillip.allen@enron.com   \n",
       "4  allen-p/_sent_mail/1001.  Re: Hello  phillip.allen@enron.com   \n",
       "\n",
       "                                    date  \\\n",
       "0  Mon, 14 May 2001 16:39:00 -0700 (PDT)   \n",
       "1   Fri, 4 May 2001 13:51:00 -0700 (PDT)   \n",
       "2  Wed, 18 Oct 2000 03:00:00 -0700 (PDT)   \n",
       "3  Mon, 23 Oct 2000 06:13:00 -0700 (PDT)   \n",
       "4  Thu, 31 Aug 2000 05:07:00 -0700 (PDT)   \n",
       "\n",
       "                                             content  \\\n",
       "0                          Here is our forecast\\n\\n    \n",
       "1  Traveling to have a business meeting takes the...   \n",
       "2                     test successful.  way to go!!!   \n",
       "3  Randy,\\n\\n Can you send me a schedule of the s...   \n",
       "4                Let's shoot for Tuesday at 11:45.     \n",
       "\n",
       "                                               clean  \\\n",
       "0                               here is our forecast   \n",
       "1  traveling to have a business meeting takes the...   \n",
       "2                         test successful  way to go   \n",
       "3  randy   can you send me a schedule of the sala...   \n",
       "4                    let's shoot for tuesday at 1145   \n",
       "\n",
       "                                            tokenize  \\\n",
       "0                               here is our forecast   \n",
       "1  traveling to have a business meeting takes the...   \n",
       "2                          test successful way to go   \n",
       "3  randy can you send me a schedule of the salary...   \n",
       "4                  let ' s shoot for tuesday at 1145   \n",
       "\n",
       "                                          stop_words  \\\n",
       "0                                           forecast   \n",
       "1  traveling business meeting takes fun trip espe...   \n",
       "2                             test successful way go   \n",
       "3  randy send schedule salary level everyone sche...   \n",
       "4                           let ' shoot tuesday 1145   \n",
       "\n",
       "                                           lemmatize  intensity  polarity  \\\n",
       "0                                           forecast     0.0000      0.00   \n",
       "1  traveling business meeting take fun trip espec...     0.9313      0.15   \n",
       "2                             test successful way go     0.5859      0.75   \n",
       "3  randy send schedule salary level everyone sche...     0.0000      0.00   \n",
       "4                           let ' shoot tuesday 1145    -0.3400      0.00   \n",
       "\n",
       "   subjectivity  is_poi  is_internal  year  \n",
       "0      0.000000   False         True  1980  \n",
       "1      0.613333   False         True  1980  \n",
       "2      0.950000   False         True  1980  \n",
       "3      0.000000   False         True  1980  \n",
       "4      0.000000   False         True  1980  "
      ]
     },
     "execution_count": 48,
     "metadata": {},
     "output_type": "execute_result"
    }
   ],
   "source": [
    "df['year'] = ts.year.reset_index()['year']\n",
    "\n",
    "df.head()"
   ]
  },
  {
   "cell_type": "code",
   "execution_count": null,
   "id": "e8fcbe1e",
   "metadata": {},
   "outputs": [],
   "source": []
  },
  {
   "cell_type": "code",
   "execution_count": 26,
   "id": "16c8bee0",
   "metadata": {},
   "outputs": [
    {
     "data": {
      "text/plain": [
       "0.6436271374798389"
      ]
     },
     "execution_count": 26,
     "metadata": {},
     "output_type": "execute_result"
    }
   ],
   "source": [
    "df[df.is_poi == True].intensity.mean()"
   ]
  },
  {
   "cell_type": "code",
   "execution_count": 36,
   "id": "5b4e0220",
   "metadata": {},
   "outputs": [],
   "source": [
    "def avg_score(df, filter_, measure):\n",
    "    '''\n",
    "    \n",
    "    '''\n",
    "    \n",
    "    avg_score = df[filter_][measure].mean()\n",
    "    \n",
    "    return avg_score"
   ]
  },
  {
   "cell_type": "code",
   "execution_count": 37,
   "id": "e7ce3e29",
   "metadata": {},
   "outputs": [
    {
     "data": {
      "text/plain": [
       "0.6436271374798389"
      ]
     },
     "execution_count": 37,
     "metadata": {},
     "output_type": "execute_result"
    }
   ],
   "source": [
    "avg_score(df, df.is_poi == True, 'intensity')"
   ]
  },
  {
   "cell_type": "code",
   "execution_count": 38,
   "id": "0173ab6a",
   "metadata": {},
   "outputs": [
    {
     "data": {
      "text/plain": [
       "0.6207405031438705"
      ]
     },
     "execution_count": 38,
     "metadata": {},
     "output_type": "execute_result"
    }
   ],
   "source": [
    "avg_score(df, df.is_poi == False, 'intensity')"
   ]
  },
  {
   "cell_type": "code",
   "execution_count": 49,
   "id": "b447db06",
   "metadata": {},
   "outputs": [
    {
     "data": {
      "text/plain": [
       "0.6957893805309738"
      ]
     },
     "execution_count": 49,
     "metadata": {},
     "output_type": "execute_result"
    }
   ],
   "source": [
    "avg_score(df, (df.is_poi == True) & (df.year == 2001), 'intensity')"
   ]
  },
  {
   "cell_type": "code",
   "execution_count": 50,
   "id": "7778e5a8",
   "metadata": {},
   "outputs": [
    {
     "data": {
      "text/plain": [
       "0.6290278269500146"
      ]
     },
     "execution_count": 50,
     "metadata": {},
     "output_type": "execute_result"
    }
   ],
   "source": [
    "avg_score(df, (df.is_poi == False) & (df.year == 2001), 'intensity')"
   ]
  },
  {
   "cell_type": "code",
   "execution_count": 51,
   "id": "18b7d045",
   "metadata": {},
   "outputs": [
    {
     "data": {
      "text/plain": [
       "0.6352135014505709"
      ]
     },
     "execution_count": 51,
     "metadata": {},
     "output_type": "execute_result"
    }
   ],
   "source": [
    "avg_score(df, (df.is_poi == True) & (df.year == 2000), 'intensity')"
   ]
  },
  {
   "cell_type": "code",
   "execution_count": 108,
   "id": "b4e0e8fd",
   "metadata": {},
   "outputs": [
    {
     "data": {
      "text/html": [
       "<div>\n",
       "<style scoped>\n",
       "    .dataframe tbody tr th:only-of-type {\n",
       "        vertical-align: middle;\n",
       "    }\n",
       "\n",
       "    .dataframe tbody tr th {\n",
       "        vertical-align: top;\n",
       "    }\n",
       "\n",
       "    .dataframe thead th {\n",
       "        text-align: right;\n",
       "    }\n",
       "</style>\n",
       "<table border=\"1\" class=\"dataframe\">\n",
       "  <thead>\n",
       "    <tr style=\"text-align: right;\">\n",
       "      <th></th>\n",
       "      <th>intensity</th>\n",
       "      <th>polarity</th>\n",
       "      <th>subjectivity</th>\n",
       "      <th>is_poi</th>\n",
       "      <th>is_internal</th>\n",
       "    </tr>\n",
       "    <tr>\n",
       "      <th>year</th>\n",
       "      <th></th>\n",
       "      <th></th>\n",
       "      <th></th>\n",
       "      <th></th>\n",
       "      <th></th>\n",
       "    </tr>\n",
       "  </thead>\n",
       "  <tbody>\n",
       "    <tr>\n",
       "      <th>1980</th>\n",
       "      <td>0.432761</td>\n",
       "      <td>0.071073</td>\n",
       "      <td>0.313493</td>\n",
       "      <td>0.000000</td>\n",
       "      <td>1.000000</td>\n",
       "    </tr>\n",
       "    <tr>\n",
       "      <th>1986</th>\n",
       "      <td>0.769950</td>\n",
       "      <td>0.008604</td>\n",
       "      <td>0.554221</td>\n",
       "      <td>0.000000</td>\n",
       "      <td>1.000000</td>\n",
       "    </tr>\n",
       "    <tr>\n",
       "      <th>1997</th>\n",
       "      <td>0.466810</td>\n",
       "      <td>0.094747</td>\n",
       "      <td>0.321183</td>\n",
       "      <td>0.000000</td>\n",
       "      <td>0.938215</td>\n",
       "    </tr>\n",
       "    <tr>\n",
       "      <th>1998</th>\n",
       "      <td>0.445516</td>\n",
       "      <td>0.049697</td>\n",
       "      <td>0.320582</td>\n",
       "      <td>0.005650</td>\n",
       "      <td>0.988701</td>\n",
       "    </tr>\n",
       "    <tr>\n",
       "      <th>1999</th>\n",
       "      <td>0.549134</td>\n",
       "      <td>0.075272</td>\n",
       "      <td>0.361843</td>\n",
       "      <td>0.002423</td>\n",
       "      <td>0.856156</td>\n",
       "    </tr>\n",
       "    <tr>\n",
       "      <th>2000</th>\n",
       "      <td>0.620058</td>\n",
       "      <td>0.097021</td>\n",
       "      <td>0.361762</td>\n",
       "      <td>0.022851</td>\n",
       "      <td>0.815574</td>\n",
       "    </tr>\n",
       "    <tr>\n",
       "      <th>2001</th>\n",
       "      <td>0.629249</td>\n",
       "      <td>0.098973</td>\n",
       "      <td>0.371411</td>\n",
       "      <td>0.003312</td>\n",
       "      <td>0.833982</td>\n",
       "    </tr>\n",
       "    <tr>\n",
       "      <th>2002</th>\n",
       "      <td>0.591121</td>\n",
       "      <td>0.096951</td>\n",
       "      <td>0.373393</td>\n",
       "      <td>0.004614</td>\n",
       "      <td>0.819286</td>\n",
       "    </tr>\n",
       "    <tr>\n",
       "      <th>2004</th>\n",
       "      <td>0.624813</td>\n",
       "      <td>0.083468</td>\n",
       "      <td>0.414091</td>\n",
       "      <td>0.000000</td>\n",
       "      <td>1.000000</td>\n",
       "    </tr>\n",
       "  </tbody>\n",
       "</table>\n",
       "</div>"
      ],
      "text/plain": [
       "      intensity  polarity  subjectivity    is_poi  is_internal\n",
       "year                                                          \n",
       "1980   0.432761  0.071073      0.313493  0.000000     1.000000\n",
       "1986   0.769950  0.008604      0.554221  0.000000     1.000000\n",
       "1997   0.466810  0.094747      0.321183  0.000000     0.938215\n",
       "1998   0.445516  0.049697      0.320582  0.005650     0.988701\n",
       "1999   0.549134  0.075272      0.361843  0.002423     0.856156\n",
       "2000   0.620058  0.097021      0.361762  0.022851     0.815574\n",
       "2001   0.629249  0.098973      0.371411  0.003312     0.833982\n",
       "2002   0.591121  0.096951      0.373393  0.004614     0.819286\n",
       "2004   0.624813  0.083468      0.414091  0.000000     1.000000"
      ]
     },
     "execution_count": 108,
     "metadata": {},
     "output_type": "execute_result"
    }
   ],
   "source": [
    "avgs = df.groupby('year').mean()\n",
    "# avgs = avgs[(avgs.index < 2003) & (avgs.index > 1998)]\n",
    "avgs = avgs[avgs.index < 2005]\n",
    "avgs"
   ]
  },
  {
   "cell_type": "code",
   "execution_count": 109,
   "id": "d3003a45",
   "metadata": {},
   "outputs": [
    {
     "data": {
      "text/plain": [
       "Index(['intensity', 'polarity', 'subjectivity'], dtype='object')"
      ]
     },
     "execution_count": 109,
     "metadata": {},
     "output_type": "execute_result"
    }
   ],
   "source": [
    "cols = avgs.columns[0:3]\n",
    "cols"
   ]
  },
  {
   "cell_type": "code",
   "execution_count": 110,
   "id": "40b5929d",
   "metadata": {},
   "outputs": [
    {
     "data": {
      "text/plain": [
       "['intensity', 'polarity', 'subjectivity']"
      ]
     },
     "execution_count": 110,
     "metadata": {},
     "output_type": "execute_result"
    }
   ],
   "source": [
    "labs = cols.values.tolist()\n",
    "labs"
   ]
  },
  {
   "cell_type": "code",
   "execution_count": 111,
   "id": "2b1672ce",
   "metadata": {},
   "outputs": [
    {
     "data": {
      "text/plain": [
       "[1980, 1986, 1997, 1998, 1999, 2000, 2001, 2002, 2004]"
      ]
     },
     "execution_count": 111,
     "metadata": {},
     "output_type": "execute_result"
    }
   ],
   "source": [
    "x = avgs.index.values.tolist()\n",
    "x"
   ]
  },
  {
   "cell_type": "code",
   "execution_count": 112,
   "id": "75bb1865",
   "metadata": {},
   "outputs": [
    {
     "data": {
      "text/plain": [
       "[0.4327609195402304,\n",
       " 0.76995,\n",
       " 0.4668102974828374,\n",
       " 0.445515819209039,\n",
       " 0.5491337311557882,\n",
       " 0.6200577072921764,\n",
       " 0.6292489273311561,\n",
       " 0.5911214794017995,\n",
       " 0.6248128571428573]"
      ]
     },
     "execution_count": 112,
     "metadata": {},
     "output_type": "execute_result"
    }
   ],
   "source": [
    "y_intensity = avgs[cols[0]].values.tolist()\n",
    "y_intensity"
   ]
  },
  {
   "cell_type": "code",
   "execution_count": 113,
   "id": "3e45211c",
   "metadata": {},
   "outputs": [
    {
     "data": {
      "text/plain": [
       "[0.07107277255949893,\n",
       " 0.0086038961038961,\n",
       " 0.09474675453516088,\n",
       " 0.04969733833614939,\n",
       " 0.07527206192534155,\n",
       " 0.09702054485354027,\n",
       " 0.09897333197256485,\n",
       " 0.09695062139534871,\n",
       " 0.0834682408387137]"
      ]
     },
     "execution_count": 113,
     "metadata": {},
     "output_type": "execute_result"
    }
   ],
   "source": [
    "y_polarity = avgs[cols[1]].values.tolist()\n",
    "y_polarity"
   ]
  },
  {
   "cell_type": "code",
   "execution_count": 114,
   "id": "c242b908",
   "metadata": {},
   "outputs": [
    {
     "data": {
      "text/plain": [
       "[0.31349268372320555,\n",
       " 0.5542207792207792,\n",
       " 0.3211830243113354,\n",
       " 0.3205815876883929,\n",
       " 0.36184275873087013,\n",
       " 0.3617617791463612,\n",
       " 0.3714107587485667,\n",
       " 0.37339310437933315,\n",
       " 0.41409092360616234]"
      ]
     },
     "execution_count": 114,
     "metadata": {},
     "output_type": "execute_result"
    }
   ],
   "source": [
    "y_subjectivity = avgs[cols[2]].values.tolist()\n",
    "y_subjectivity"
   ]
  },
  {
   "cell_type": "code",
   "execution_count": 121,
   "id": "88c7d36b",
   "metadata": {},
   "outputs": [
    {
     "data": {
      "text/plain": [
       "([<matplotlib.axis.XTick at 0x7ffba85e1070>,\n",
       "  <matplotlib.axis.XTick at 0x7ffba70b0d90>,\n",
       "  <matplotlib.axis.XTick at 0x7ffba70b0310>,\n",
       "  <matplotlib.axis.XTick at 0x7ffba71595e0>,\n",
       "  <matplotlib.axis.XTick at 0x7ffba7159af0>,\n",
       "  <matplotlib.axis.XTick at 0x7ffba7161040>,\n",
       "  <matplotlib.axis.XTick at 0x7ffba7161550>,\n",
       "  <matplotlib.axis.XTick at 0x7ffba71597f0>,\n",
       "  <matplotlib.axis.XTick at 0x7ffba7161250>],\n",
       " [Text(0, 0, ''),\n",
       "  Text(0, 0, ''),\n",
       "  Text(0, 0, ''),\n",
       "  Text(0, 0, ''),\n",
       "  Text(0, 0, ''),\n",
       "  Text(0, 0, ''),\n",
       "  Text(0, 0, ''),\n",
       "  Text(0, 0, ''),\n",
       "  Text(0, 0, '')])"
      ]
     },
     "execution_count": 121,
     "metadata": {},
     "output_type": "execute_result"
    },
    {
     "data": {
      "image/png": "[encoded data removed]",
      "text/plain": [
       "<Figure size 1280x720 with 1 Axes>"
      ]
     },
     "metadata": {
      "needs_background": "light"
     },
     "output_type": "display_data"
    }
   ],
   "source": [
    "fig, ax = plt.subplots(1,1,figsize=(16, 9), dpi= 80)\n",
    "\n",
    "y = np.vstack([y_intensity, y_polarity, y_subjectivity])\n",
    "ax = plt.gca()\n",
    "ax.stackplot(x, y, labels=labs, alpha=0.8)\n",
    "ax.legend(fontsize=10, ncol=4)\n",
    "plt.xticks(x, fontsize=10, horizontalalignment='center')\n"
   ]
  },
  {
   "cell_type": "code",
   "execution_count": 124,
   "id": "da24c9ba",
   "metadata": {},
   "outputs": [
    {
     "data": {
      "text/plain": [
       "Int64Index([1980, 1986, 1997, 1998, 1999, 2000, 2001, 2002, 2004], dtype='int64', name='year')"
      ]
     },
     "execution_count": 124,
     "metadata": {},
     "output_type": "execute_result"
    }
   ],
   "source": [
    "avgs.index.reset"
   ]
  },
  {
   "cell_type": "code",
   "execution_count": 131,
   "id": "ed9f53ff",
   "metadata": {},
   "outputs": [
    {
     "data": {
      "text/plain": [
       "<seaborn.axisgrid.FacetGrid at 0x7ffba6d0b670>"
      ]
     },
     "execution_count": 131,
     "metadata": {},
     "output_type": "execute_result"
    },
    {
     "data": {
      "image/png": "[encoded data removed]",
      "text/plain": [
       "<Figure size 360x360 with 1 Axes>"
      ]
     },
     "metadata": {
      "needs_background": "light"
     },
     "output_type": "display_data"
    }
   ],
   "source": [
    "sns.relplot(x=\"year\", y=\"intensity\", data=avgs.reset_index(), kind = 'line')"
   ]
  },
  {
   "cell_type": "code",
   "execution_count": 132,
   "id": "f5ac37e3",
   "metadata": {},
   "outputs": [
    {
     "data": {
      "text/html": [
       "<div>\n",
       "<style scoped>\n",
       "    .dataframe tbody tr th:only-of-type {\n",
       "        vertical-align: middle;\n",
       "    }\n",
       "\n",
       "    .dataframe tbody tr th {\n",
       "        vertical-align: top;\n",
       "    }\n",
       "\n",
       "    .dataframe thead th {\n",
       "        text-align: right;\n",
       "    }\n",
       "</style>\n",
       "<table border=\"1\" class=\"dataframe\">\n",
       "  <thead>\n",
       "    <tr style=\"text-align: right;\">\n",
       "      <th></th>\n",
       "      <th>file</th>\n",
       "      <th>subject</th>\n",
       "      <th>sender</th>\n",
       "      <th>date</th>\n",
       "      <th>content</th>\n",
       "      <th>clean</th>\n",
       "      <th>tokenize</th>\n",
       "      <th>stop_words</th>\n",
       "      <th>lemmatize</th>\n",
       "      <th>intensity</th>\n",
       "      <th>polarity</th>\n",
       "      <th>subjectivity</th>\n",
       "      <th>is_poi</th>\n",
       "      <th>is_internal</th>\n",
       "      <th>year</th>\n",
       "    </tr>\n",
       "  </thead>\n",
       "  <tbody>\n",
       "    <tr>\n",
       "      <th>0</th>\n",
       "      <td>allen-p/_sent_mail/1.</td>\n",
       "      <td></td>\n",
       "      <td>phillip.allen@enron.com</td>\n",
       "      <td>Mon, 14 May 2001 16:39:00 -0700 (PDT)</td>\n",
       "      <td>Here is our forecast\\n\\n</td>\n",
       "      <td>here is our forecast</td>\n",
       "      <td>here is our forecast</td>\n",
       "      <td>forecast</td>\n",
       "      <td>forecast</td>\n",
       "      <td>0.0000</td>\n",
       "      <td>0.00</td>\n",
       "      <td>0.000000</td>\n",
       "      <td>False</td>\n",
       "      <td>True</td>\n",
       "      <td>1980</td>\n",
       "    </tr>\n",
       "    <tr>\n",
       "      <th>1</th>\n",
       "      <td>allen-p/_sent_mail/10.</td>\n",
       "      <td>Re:</td>\n",
       "      <td>phillip.allen@enron.com</td>\n",
       "      <td>Fri, 4 May 2001 13:51:00 -0700 (PDT)</td>\n",
       "      <td>Traveling to have a business meeting takes the...</td>\n",
       "      <td>traveling to have a business meeting takes the...</td>\n",
       "      <td>traveling to have a business meeting takes the...</td>\n",
       "      <td>traveling business meeting takes fun trip espe...</td>\n",
       "      <td>traveling business meeting take fun trip espec...</td>\n",
       "      <td>0.9313</td>\n",
       "      <td>0.15</td>\n",
       "      <td>0.613333</td>\n",
       "      <td>False</td>\n",
       "      <td>True</td>\n",
       "      <td>1980</td>\n",
       "    </tr>\n",
       "  </tbody>\n",
       "</table>\n",
       "</div>"
      ],
      "text/plain": [
       "                     file subject                   sender  \\\n",
       "0   allen-p/_sent_mail/1.          phillip.allen@enron.com   \n",
       "1  allen-p/_sent_mail/10.     Re:  phillip.allen@enron.com   \n",
       "\n",
       "                                    date  \\\n",
       "0  Mon, 14 May 2001 16:39:00 -0700 (PDT)   \n",
       "1   Fri, 4 May 2001 13:51:00 -0700 (PDT)   \n",
       "\n",
       "                                             content  \\\n",
       "0                          Here is our forecast\\n\\n    \n",
       "1  Traveling to have a business meeting takes the...   \n",
       "\n",
       "                                               clean  \\\n",
       "0                               here is our forecast   \n",
       "1  traveling to have a business meeting takes the...   \n",
       "\n",
       "                                            tokenize  \\\n",
       "0                               here is our forecast   \n",
       "1  traveling to have a business meeting takes the...   \n",
       "\n",
       "                                          stop_words  \\\n",
       "0                                           forecast   \n",
       "1  traveling business meeting takes fun trip espe...   \n",
       "\n",
       "                                           lemmatize  intensity  polarity  \\\n",
       "0                                           forecast     0.0000      0.00   \n",
       "1  traveling business meeting take fun trip espec...     0.9313      0.15   \n",
       "\n",
       "   subjectivity  is_poi  is_internal  year  \n",
       "0      0.000000   False         True  1980  \n",
       "1      0.613333   False         True  1980  "
      ]
     },
     "execution_count": 132,
     "metadata": {},
     "output_type": "execute_result"
    }
   ],
   "source": [
    "df.head(2)"
   ]
  },
  {
   "cell_type": "code",
   "execution_count": 135,
   "id": "438ea929",
   "metadata": {},
   "outputs": [
    {
     "data": {
      "text/plain": [
       "<seaborn.axisgrid.FacetGrid at 0x7ffb391e0c10>"
      ]
     },
     "execution_count": 135,
     "metadata": {},
     "output_type": "execute_result"
    },
    {
     "data": {
      "image/png": "[encoded data removed]",
      "text/plain": [
       "<Figure size 360x360 with 1 Axes>"
      ]
     },
     "metadata": {
      "needs_background": "light"
     },
     "output_type": "display_data"
    }
   ],
   "source": [
    "sns.relplot(data = df[df.year < 2005], x = 'year', y = 'intensity', kind = 'line')"
   ]
  },
  {
   "cell_type": "code",
   "execution_count": 136,
   "id": "5710a2f4",
   "metadata": {},
   "outputs": [
    {
     "data": {
      "text/plain": [
       "<seaborn.axisgrid.FacetGrid at 0x7ffba6c541f0>"
      ]
     },
     "execution_count": 136,
     "metadata": {},
     "output_type": "execute_result"
    },
    {
     "data": {
      "image/png": "[encoded data removed]",
      "text/plain": [
       "<Figure size 421.25x360 with 1 Axes>"
      ]
     },
     "metadata": {
      "needs_background": "light"
     },
     "output_type": "display_data"
    }
   ],
   "source": [
    "sns.relplot(data = df[df.year < 2005], x = 'year', y = 'intensity', kind = 'line', hue = 'is_poi')"
   ]
  },
  {
   "cell_type": "code",
   "execution_count": 144,
   "id": "03489900",
   "metadata": {
    "scrolled": true
   },
   "outputs": [
    {
     "data": {
      "text/plain": [
       "1998       1\n",
       "1999      27\n",
       "2000    4481\n",
       "2001     904\n",
       "2002     166\n",
       "Name: year, dtype: int64"
      ]
     },
     "execution_count": 144,
     "metadata": {},
     "output_type": "execute_result"
    }
   ],
   "source": [
    "df[df.is_poi == True].year.value_counts().sort_index()"
   ]
  },
  {
   "cell_type": "code",
   "execution_count": 140,
   "id": "c78a6cb6",
   "metadata": {},
   "outputs": [
    {
     "data": {
      "text/plain": [
       "<AxesSubplot:>"
      ]
     },
     "execution_count": 140,
     "metadata": {},
     "output_type": "execute_result"
    },
    {
     "data": {
      "image/png": "[encoded data removed]",
      "text/plain": [
       "<Figure size 432x288 with 1 Axes>"
      ]
     },
     "metadata": {
      "needs_background": "light"
     },
     "output_type": "display_data"
    }
   ],
   "source": [
    "df[df.is_poi == True].year.value_counts().sort_index().plot.bar()"
   ]
  },
  {
   "cell_type": "code",
   "execution_count": 145,
   "id": "8362357e",
   "metadata": {},
   "outputs": [
    {
     "data": {
      "text/plain": [
       "<AxesSubplot:>"
      ]
     },
     "execution_count": 145,
     "metadata": {},
     "output_type": "execute_result"
    },
    {
     "data": {
      "image/png": "[encoded data removed]",
      "text/plain": [
       "<Figure size 432x288 with 1 Axes>"
      ]
     },
     "metadata": {
      "needs_background": "light"
     },
     "output_type": "display_data"
    }
   ],
   "source": [
    "df[df.is_poi == True].year.value_counts().sort_index().plot.barh()"
   ]
  },
  {
   "cell_type": "code",
   "execution_count": 146,
   "id": "4660bd5b",
   "metadata": {},
   "outputs": [
    {
     "data": {
      "text/plain": [
       "<AxesSubplot:>"
      ]
     },
     "execution_count": 146,
     "metadata": {},
     "output_type": "execute_result"
    },
    {
     "data": {
      "image/png": "[encoded data removed]",
      "text/plain": [
       "<Figure size 432x288 with 1 Axes>"
      ]
     },
     "metadata": {
      "needs_background": "light"
     },
     "output_type": "display_data"
    }
   ],
   "source": [
    "df[(df.year >= 1998) & (df.year <= 2002)].year.value_counts().sort_index().plot.bar()"
   ]
  },
  {
   "cell_type": "code",
   "execution_count": 157,
   "id": "d2df9bdd",
   "metadata": {},
   "outputs": [
    {
     "data": {
      "text/plain": [
       "[1998, 1999, 2000, 2001, 2002]"
      ]
     },
     "execution_count": 157,
     "metadata": {},
     "output_type": "execute_result"
    }
   ],
   "source": [
    "years = list(df[(df.year >= 1998) & (df.year <= 2002)].year.unique())\n",
    "years"
   ]
  },
  {
   "cell_type": "code",
   "execution_count": 180,
   "id": "366c499e",
   "metadata": {},
   "outputs": [],
   "source": [
    "df['year_'] = df.year.astype(str)"
   ]
  },
  {
   "cell_type": "code",
   "execution_count": 182,
   "id": "b2bf23dc",
   "metadata": {},
   "outputs": [
    {
     "data": {
      "image/png": "[encoded data removed]",
      "text/plain": [
       "<Figure size 421.25x360 with 1 Axes>"
      ]
     },
     "metadata": {
      "needs_background": "light"
     },
     "output_type": "display_data"
    }
   ],
   "source": [
    "g = sns.relplot(data = df[(df.year >= 1998) & (df.year <= 2002)], x = 'year_', y = 'intensity', \\\n",
    "            kind = 'line', hue = 'is_poi', ci = None)"
   ]
  },
  {
   "cell_type": "code",
   "execution_count": 181,
   "id": "14866c84",
   "metadata": {},
   "outputs": [
    {
     "data": {
      "image/png": "[encoded data removed]",
      "text/plain": [
       "<Figure size 421.25x360 with 1 Axes>"
      ]
     },
     "metadata": {
      "needs_background": "light"
     },
     "output_type": "display_data"
    }
   ],
   "source": [
    "g = sns.relplot(data = df[(df.year >= 1998) & (df.year <= 2002)], x = 'year_', y = 'polarity', \\\n",
    "            kind = 'line', hue = 'is_poi', ci = None)"
   ]
  },
  {
   "cell_type": "code",
   "execution_count": null,
   "id": "58bf223a",
   "metadata": {},
   "outputs": [],
   "source": []
  },
  {
   "cell_type": "code",
   "execution_count": 213,
   "id": "b0db0b73",
   "metadata": {},
   "outputs": [
    {
     "data": {
      "image/png": "[encoded data removed]",
      "text/plain": [
       "<Figure size 439.895x360 with 1 Axes>"
      ]
     },
     "metadata": {},
     "output_type": "display_data"
    }
   ],
   "source": [
    "sns.set_style(\"whitegrid\")\n",
    "# sns.set(font_scale = 1.2)\n",
    "\n",
    "sns.relplot(data = df[(df.year >= 1998) & (df.year <= 2002)], x = 'year_', y = 'intensity', \\\n",
    "            kind = 'line', hue = 'is_poi', ci = None, palette = ['#999999ff', '#912a15ff'])\n",
    "plt.legend(loc='lower right', title = 'POI', labels = ['Not Person of Interest', 'Person of Interest'])\n",
    "plt.ylim((-1, 1))\n",
    "plt.show()"
   ]
  },
  {
   "cell_type": "code",
   "execution_count": 211,
   "id": "280430d0",
   "metadata": {},
   "outputs": [
    {
     "data": {
      "image/png": "[encoded data removed]",
      "text/plain": [
       "<Figure size 439.895x360 with 1 Axes>"
      ]
     },
     "metadata": {},
     "output_type": "display_data"
    }
   ],
   "source": [
    "sns.relplot(data = df[(df.year >= 1998) & (df.year <= 2002)], x = 'year_', y = 'polarity', \\\n",
    "            kind = 'line', hue = 'is_poi', ci = None, palette = ['#999999ff', '#912a15ff'])\n",
    "plt.legend(loc='lower right', title = 'POI', labels = ['Not Person of Interest', 'Person of Interest'])\n",
    "plt.ylim((-1, 1))\n",
    "plt.show()"
   ]
  },
  {
   "cell_type": "code",
   "execution_count": 210,
   "id": "fa94393b",
   "metadata": {},
   "outputs": [
    {
     "data": {
      "image/png": "[encoded data removed]",
      "text/plain": [
       "<Figure size 439.895x360 with 1 Axes>"
      ]
     },
     "metadata": {},
     "output_type": "display_data"
    }
   ],
   "source": [
    "sns.relplot(data = df[(df.year >= 1998) & (df.year <= 2002)], x = 'year_', y = 'subjectivity', \\\n",
    "            kind = 'line', hue = 'is_poi', ci = None, palette = ['#999999ff', '#912a15ff'])\n",
    "plt.legend(loc='lower right', title = 'POI', labels = ['Not Person of Interest', 'Person of Interest'])\n",
    "plt.ylim((0, 1))\n",
    "plt.show()"
   ]
  },
  {
   "cell_type": "code",
   "execution_count": 250,
   "id": "f5e319aa",
   "metadata": {},
   "outputs": [],
   "source": [
    "from scipy import stats\n",
    "\n",
    "\n",
    "def correlation_exploration(df, x_string, y_string):\n",
    "    '''\n",
    "    This nifty function takes in a df, a string for x variable,\n",
    "    and a string for y variable and displays their correlation.\n",
    "    '''\n",
    "    r, p = stats.pearsonr(df[x_string], df[y_string])\n",
    "    \n",
    "    df.plot.scatter(x_string, y_string, color = '#999999ff')\n",
    "    sns.regplot(data = df, x= x_string, y= y_string)\n",
    "    plt.title(f\"{x_string.upper()}'s Relationship with {y_string.upper()}\\n\\n\")\n",
    "    \n",
    "    print(f'The Correlation Coefficient is: {round(r, 2)}. There is {round(p,3)}% chance that we see these results by chance.')\n",
    "#     print(f'r = {round(r, 2)}')\n",
    "\n",
    "    plt.show()"
   ]
  },
  {
   "cell_type": "code",
   "execution_count": 251,
   "id": "02524421",
   "metadata": {},
   "outputs": [
    {
     "name": "stdout",
     "output_type": "stream",
     "text": [
      "The Correlation Coefficient is: 0.01. There is 0.0% chance that we see these results by chance.\n"
     ]
    },
    {
     "data": {
      "image/png": "[encoded data removed]",
      "text/plain": [
       "<Figure size 432x288 with 1 Axes>"
      ]
     },
     "metadata": {},
     "output_type": "display_data"
    }
   ],
   "source": [
    "correlation_exploration(df, 'year', 'intensity')"
   ]
  },
  {
   "cell_type": "code",
   "execution_count": 252,
   "id": "00f382d3",
   "metadata": {},
   "outputs": [
    {
     "name": "stdout",
     "output_type": "stream",
     "text": [
      "The Correlation Coefficient is: 0.01. There is 0.0% chance that we see these results by chance.\n"
     ]
    },
    {
     "data": {
      "image/png": "[encoded data removed]",
      "text/plain": [
       "<Figure size 432x288 with 1 Axes>"
      ]
     },
     "metadata": {},
     "output_type": "display_data"
    }
   ],
   "source": [
    "correlation_exploration(df, 'year', 'polarity')"
   ]
  },
  {
   "cell_type": "code",
   "execution_count": 253,
   "id": "6fdb2b08",
   "metadata": {
    "scrolled": false
   },
   "outputs": [
    {
     "name": "stdout",
     "output_type": "stream",
     "text": [
      "The Correlation Coefficient is: 0.02. There is 0.0% chance that we see these results by chance.\n"
     ]
    },
    {
     "data": {
      "image/png": "[encoded data removed]",
      "text/plain": [
       "<Figure size 432x288 with 1 Axes>"
      ]
     },
     "metadata": {},
     "output_type": "display_data"
    }
   ],
   "source": [
    "correlation_exploration(df, 'year', 'subjectivity')"
   ]
  },
  {
   "cell_type": "code",
   "execution_count": 262,
   "id": "2bc002dc",
   "metadata": {},
   "outputs": [
    {
     "data": {
      "image/png": "[encoded data removed]",
      "text/plain": [
       "<Figure size 720x576 with 2 Axes>"
      ]
     },
     "metadata": {},
     "output_type": "display_data"
    }
   ],
   "source": [
    "corr_table =  df[['year', 'intensity', 'polarity', 'subjectivity', 'is_poi']].corr()\n",
    "plt.figure(figsize=(10,8))\n",
    "sns.heatmap(corr_table, cmap='Greys', annot=True, linewidth=0.5, mask= np.triu(corr_table), vmin = -1, vmax = 1)\n",
    "plt.title('Very Little Correlation Between Sentiment Scores and Year or POI')\n",
    "plt.show()"
   ]
  },
  {
   "cell_type": "code",
   "execution_count": 264,
   "id": "d47a0356",
   "metadata": {},
   "outputs": [
    {
     "data": {
      "text/plain": [
       "1980       522\n",
       "1986         2\n",
       "1997       437\n",
       "1998       177\n",
       "1999     11144\n",
       "2000    196100\n",
       "2001    272964\n",
       "2002     35974\n",
       "2004        70\n",
       "2005         1\n",
       "2007         1\n",
       "2012         2\n",
       "2020         2\n",
       "2024         1\n",
       "2043         1\n",
       "2044         3\n",
       "Name: year, dtype: int64"
      ]
     },
     "execution_count": 264,
     "metadata": {},
     "output_type": "execute_result"
    }
   ],
   "source": [
    "df.year.value_counts().sort_index()"
   ]
  },
  {
   "cell_type": "code",
   "execution_count": 268,
   "id": "178d1687",
   "metadata": {},
   "outputs": [
    {
     "data": {
      "text/html": [
       "<div>\n",
       "<style scoped>\n",
       "    .dataframe tbody tr th:only-of-type {\n",
       "        vertical-align: middle;\n",
       "    }\n",
       "\n",
       "    .dataframe tbody tr th {\n",
       "        vertical-align: top;\n",
       "    }\n",
       "\n",
       "    .dataframe thead th {\n",
       "        text-align: right;\n",
       "    }\n",
       "</style>\n",
       "<table border=\"1\" class=\"dataframe\">\n",
       "  <thead>\n",
       "    <tr style=\"text-align: right;\">\n",
       "      <th></th>\n",
       "      <th>file</th>\n",
       "      <th>subject</th>\n",
       "      <th>sender</th>\n",
       "      <th>date</th>\n",
       "      <th>content</th>\n",
       "      <th>clean</th>\n",
       "      <th>tokenize</th>\n",
       "      <th>stop_words</th>\n",
       "      <th>lemmatize</th>\n",
       "      <th>intensity</th>\n",
       "      <th>polarity</th>\n",
       "      <th>subjectivity</th>\n",
       "      <th>is_poi</th>\n",
       "      <th>is_internal</th>\n",
       "      <th>year</th>\n",
       "      <th>year_</th>\n",
       "    </tr>\n",
       "  </thead>\n",
       "  <tbody>\n",
       "    <tr>\n",
       "      <th>522</th>\n",
       "      <td>allen-p/_sent_mail/574.</td>\n",
       "      <td>Re: SM134</td>\n",
       "      <td>phillip.allen@enron.com</td>\n",
       "      <td>Tue, 9 Jan 2001 09:51:00 -0800 (PST)</td>\n",
       "      <td>George,\\n\\nHere is a spreadsheet that illustra...</td>\n",
       "      <td>george  here is a spreadsheet that illustrates...</td>\n",
       "      <td>george here is a spreadsheet that illustrates ...</td>\n",
       "      <td>george spreadsheet illustrates payout investme...</td>\n",
       "      <td>george spreadsheet illustrates payout investme...</td>\n",
       "      <td>0.9825</td>\n",
       "      <td>0.106818</td>\n",
       "      <td>0.616667</td>\n",
       "      <td>False</td>\n",
       "      <td>True</td>\n",
       "      <td>1986</td>\n",
       "      <td>1986</td>\n",
       "    </tr>\n",
       "    <tr>\n",
       "      <th>523</th>\n",
       "      <td>allen-p/_sent_mail/575.</td>\n",
       "      <td></td>\n",
       "      <td>phillip.allen@enron.com</td>\n",
       "      <td>Tue, 9 Jan 2001 03:06:00 -0800 (PST)</td>\n",
       "      <td>Lucy,\\n\\nHere is a schedule of the most recent...</td>\n",
       "      <td>lucy  here is a schedule of the most recent ut...</td>\n",
       "      <td>lucy here is a schedule of the most recent uti...</td>\n",
       "      <td>lucy schedule recent utility bills overages al...</td>\n",
       "      <td>lucy schedule recent utility bill overage alot...</td>\n",
       "      <td>0.5574</td>\n",
       "      <td>-0.089610</td>\n",
       "      <td>0.491775</td>\n",
       "      <td>False</td>\n",
       "      <td>True</td>\n",
       "      <td>1986</td>\n",
       "      <td>1986</td>\n",
       "    </tr>\n",
       "  </tbody>\n",
       "</table>\n",
       "</div>"
      ],
      "text/plain": [
       "                        file    subject                   sender  \\\n",
       "522  allen-p/_sent_mail/574.  Re: SM134  phillip.allen@enron.com   \n",
       "523  allen-p/_sent_mail/575.             phillip.allen@enron.com   \n",
       "\n",
       "                                     date  \\\n",
       "522  Tue, 9 Jan 2001 09:51:00 -0800 (PST)   \n",
       "523  Tue, 9 Jan 2001 03:06:00 -0800 (PST)   \n",
       "\n",
       "                                               content  \\\n",
       "522  George,\\n\\nHere is a spreadsheet that illustra...   \n",
       "523  Lucy,\\n\\nHere is a schedule of the most recent...   \n",
       "\n",
       "                                                 clean  \\\n",
       "522  george  here is a spreadsheet that illustrates...   \n",
       "523  lucy  here is a schedule of the most recent ut...   \n",
       "\n",
       "                                              tokenize  \\\n",
       "522  george here is a spreadsheet that illustrates ...   \n",
       "523  lucy here is a schedule of the most recent uti...   \n",
       "\n",
       "                                            stop_words  \\\n",
       "522  george spreadsheet illustrates payout investme...   \n",
       "523  lucy schedule recent utility bills overages al...   \n",
       "\n",
       "                                             lemmatize  intensity  polarity  \\\n",
       "522  george spreadsheet illustrates payout investme...     0.9825  0.106818   \n",
       "523  lucy schedule recent utility bill overage alot...     0.5574 -0.089610   \n",
       "\n",
       "     subjectivity  is_poi  is_internal  year year_  \n",
       "522      0.616667   False         True  1986  1986  \n",
       "523      0.491775   False         True  1986  1986  "
      ]
     },
     "execution_count": 268,
     "metadata": {},
     "output_type": "execute_result"
    }
   ],
   "source": [
    "df[df.year == 1986]"
   ]
  },
  {
   "cell_type": "code",
   "execution_count": 267,
   "id": "c90c5cee",
   "metadata": {},
   "outputs": [
    {
     "data": {
      "text/plain": [
       "\"George,\\n\\nHere is a spreadsheet that illustrates the payout of investment and builders \\nprofit.  Check my math, but it looks like all the builders profit would be \\nrecouped in the first year of operation.  At permanent financing $1.1 would \\nbe paid, leaving only .3 to pay out in the 1st year.\\n\\n\\n\\nSince almost 80% of builders profit is repaid at the same time as the \\ninvestment, I feel the 65/35 is a fair split.  However, as I mentioned \\nearlier, I think we should negotiate to layer on additional equity to you as \\npart of the construction contract.  \\n\\nJust to begin the brainstorming on what a construction agreement might look \\nlike here are a few ideas:\\n\\n 1.  Fixed construction profit of $1.4 million.  Builder doesn't benefit from \\nhigher cost, rather suffers as an equity holder.\\n\\n 2.  +5% equity for meeting time and costs in original plan ($51/sq ft, phase \\n1 complete in November)\\n      +5% equity for under budget and ahead of schedule\\n      -5% equity for over budget and behind schedule\\n\\nThis way if things go according to plan the final split would be 60/40, but \\ncould be as favorable as 55/45.  I realize that what is budget and schedule \\nmust be discussed and agreed upon.\\n\\nFeel free to call me at home (713)463-8626\\n\\n\\nPhillip\\n \\n \""
      ]
     },
     "execution_count": 267,
     "metadata": {},
     "output_type": "execute_result"
    }
   ],
   "source": [
    "df.content[522]"
   ]
  },
  {
   "cell_type": "code",
   "execution_count": 272,
   "id": "687eac17",
   "metadata": {},
   "outputs": [
    {
     "data": {
      "text/html": [
       "<div>\n",
       "<style scoped>\n",
       "    .dataframe tbody tr th:only-of-type {\n",
       "        vertical-align: middle;\n",
       "    }\n",
       "\n",
       "    .dataframe tbody tr th {\n",
       "        vertical-align: top;\n",
       "    }\n",
       "\n",
       "    .dataframe thead th {\n",
       "        text-align: right;\n",
       "    }\n",
       "</style>\n",
       "<table border=\"1\" class=\"dataframe\">\n",
       "  <thead>\n",
       "    <tr style=\"text-align: right;\">\n",
       "      <th></th>\n",
       "      <th>intensity</th>\n",
       "      <th>polarity</th>\n",
       "      <th>subjectivity</th>\n",
       "      <th>is_poi</th>\n",
       "      <th>is_internal</th>\n",
       "      <th>year</th>\n",
       "    </tr>\n",
       "    <tr>\n",
       "      <th>sender</th>\n",
       "      <th></th>\n",
       "      <th></th>\n",
       "      <th></th>\n",
       "      <th></th>\n",
       "      <th></th>\n",
       "      <th></th>\n",
       "    </tr>\n",
       "  </thead>\n",
       "  <tbody>\n",
       "    <tr>\n",
       "      <th>ihrke@mindspring.com</th>\n",
       "      <td>-0.9993</td>\n",
       "      <td>-0.012592</td>\n",
       "      <td>0.410386</td>\n",
       "      <td>False</td>\n",
       "      <td>False</td>\n",
       "      <td>2001.0</td>\n",
       "    </tr>\n",
       "    <tr>\n",
       "      <th>japhet@u.washington.edu</th>\n",
       "      <td>-0.9980</td>\n",
       "      <td>-0.320885</td>\n",
       "      <td>0.672907</td>\n",
       "      <td>False</td>\n",
       "      <td>False</td>\n",
       "      <td>2001.0</td>\n",
       "    </tr>\n",
       "    <tr>\n",
       "      <th>cabel@ect.enron.com</th>\n",
       "      <td>-0.9979</td>\n",
       "      <td>0.050486</td>\n",
       "      <td>0.442127</td>\n",
       "      <td>False</td>\n",
       "      <td>False</td>\n",
       "      <td>2001.0</td>\n",
       "    </tr>\n",
       "    <tr>\n",
       "      <th>vanguard@thevanguard.org</th>\n",
       "      <td>-0.9969</td>\n",
       "      <td>0.011897</td>\n",
       "      <td>0.383230</td>\n",
       "      <td>False</td>\n",
       "      <td>False</td>\n",
       "      <td>2001.0</td>\n",
       "    </tr>\n",
       "    <tr>\n",
       "      <th>mkopinski@prodigy.net</th>\n",
       "      <td>-0.9959</td>\n",
       "      <td>-0.025715</td>\n",
       "      <td>0.413935</td>\n",
       "      <td>False</td>\n",
       "      <td>False</td>\n",
       "      <td>2001.0</td>\n",
       "    </tr>\n",
       "    <tr>\n",
       "      <th>...</th>\n",
       "      <td>...</td>\n",
       "      <td>...</td>\n",
       "      <td>...</td>\n",
       "      <td>...</td>\n",
       "      <td>...</td>\n",
       "      <td>...</td>\n",
       "    </tr>\n",
       "    <tr>\n",
       "      <th>6.979.74-k8cqscl4n6aqwdrr.1@mail3.travelocity.com</th>\n",
       "      <td>0.9999</td>\n",
       "      <td>0.310330</td>\n",
       "      <td>0.451792</td>\n",
       "      <td>False</td>\n",
       "      <td>False</td>\n",
       "      <td>2000.0</td>\n",
       "    </tr>\n",
       "    <tr>\n",
       "      <th>6.977.56--6aconfo9suf.1@mail3.travelocity.com</th>\n",
       "      <td>0.9999</td>\n",
       "      <td>0.295641</td>\n",
       "      <td>0.446299</td>\n",
       "      <td>False</td>\n",
       "      <td>False</td>\n",
       "      <td>2000.0</td>\n",
       "    </tr>\n",
       "    <tr>\n",
       "      <th>info@tbls.org</th>\n",
       "      <td>0.9999</td>\n",
       "      <td>0.089062</td>\n",
       "      <td>0.395313</td>\n",
       "      <td>False</td>\n",
       "      <td>False</td>\n",
       "      <td>2001.0</td>\n",
       "    </tr>\n",
       "    <tr>\n",
       "      <th>6.1266.d3-4eyh_sft6b-bxrrr.1@mail3.travelocity.com</th>\n",
       "      <td>0.9999</td>\n",
       "      <td>0.326497</td>\n",
       "      <td>0.557009</td>\n",
       "      <td>False</td>\n",
       "      <td>False</td>\n",
       "      <td>2000.0</td>\n",
       "    </tr>\n",
       "    <tr>\n",
       "      <th>trhtml-owner@maui.tr.com</th>\n",
       "      <td>1.0000</td>\n",
       "      <td>0.063627</td>\n",
       "      <td>0.342621</td>\n",
       "      <td>False</td>\n",
       "      <td>False</td>\n",
       "      <td>2000.0</td>\n",
       "    </tr>\n",
       "  </tbody>\n",
       "</table>\n",
       "<p>20328 rows × 6 columns</p>\n",
       "</div>"
      ],
      "text/plain": [
       "                                                    intensity  polarity  \\\n",
       "sender                                                                    \n",
       "ihrke@mindspring.com                                  -0.9993 -0.012592   \n",
       "japhet@u.washington.edu                               -0.9980 -0.320885   \n",
       "cabel@ect.enron.com                                   -0.9979  0.050486   \n",
       "vanguard@thevanguard.org                              -0.9969  0.011897   \n",
       "mkopinski@prodigy.net                                 -0.9959 -0.025715   \n",
       "...                                                       ...       ...   \n",
       "6.979.74-k8cqscl4n6aqwdrr.1@mail3.travelocity.com      0.9999  0.310330   \n",
       "6.977.56--6aconfo9suf.1@mail3.travelocity.com          0.9999  0.295641   \n",
       "info@tbls.org                                          0.9999  0.089062   \n",
       "6.1266.d3-4eyh_sft6b-bxrrr.1@mail3.travelocity.com     0.9999  0.326497   \n",
       "trhtml-owner@maui.tr.com                               1.0000  0.063627   \n",
       "\n",
       "                                                    subjectivity  is_poi  \\\n",
       "sender                                                                     \n",
       "ihrke@mindspring.com                                    0.410386   False   \n",
       "japhet@u.washington.edu                                 0.672907   False   \n",
       "cabel@ect.enron.com                                     0.442127   False   \n",
       "vanguard@thevanguard.org                                0.383230   False   \n",
       "mkopinski@prodigy.net                                   0.413935   False   \n",
       "...                                                          ...     ...   \n",
       "6.979.74-k8cqscl4n6aqwdrr.1@mail3.travelocity.com       0.451792   False   \n",
       "6.977.56--6aconfo9suf.1@mail3.travelocity.com           0.446299   False   \n",
       "info@tbls.org                                           0.395313   False   \n",
       "6.1266.d3-4eyh_sft6b-bxrrr.1@mail3.travelocity.com      0.557009   False   \n",
       "trhtml-owner@maui.tr.com                                0.342621   False   \n",
       "\n",
       "                                                    is_internal    year  \n",
       "sender                                                                   \n",
       "ihrke@mindspring.com                                      False  2001.0  \n",
       "japhet@u.washington.edu                                   False  2001.0  \n",
       "cabel@ect.enron.com                                       False  2001.0  \n",
       "vanguard@thevanguard.org                                  False  2001.0  \n",
       "mkopinski@prodigy.net                                     False  2001.0  \n",
       "...                                                         ...     ...  \n",
       "6.979.74-k8cqscl4n6aqwdrr.1@mail3.travelocity.com         False  2000.0  \n",
       "6.977.56--6aconfo9suf.1@mail3.travelocity.com             False  2000.0  \n",
       "info@tbls.org                                             False  2001.0  \n",
       "6.1266.d3-4eyh_sft6b-bxrrr.1@mail3.travelocity.com        False  2000.0  \n",
       "trhtml-owner@maui.tr.com                                  False  2000.0  \n",
       "\n",
       "[20328 rows x 6 columns]"
      ]
     },
     "execution_count": 272,
     "metadata": {},
     "output_type": "execute_result"
    }
   ],
   "source": [
    "df.groupby('sender').mean().sort_values(by = 'intensity')"
   ]
  },
  {
   "cell_type": "code",
   "execution_count": 289,
   "id": "d83fee41",
   "metadata": {},
   "outputs": [
    {
     "data": {
      "text/html": [
       "<div>\n",
       "<style scoped>\n",
       "    .dataframe tbody tr th:only-of-type {\n",
       "        vertical-align: middle;\n",
       "    }\n",
       "\n",
       "    .dataframe tbody tr th {\n",
       "        vertical-align: top;\n",
       "    }\n",
       "\n",
       "    .dataframe thead th {\n",
       "        text-align: right;\n",
       "    }\n",
       "</style>\n",
       "<table border=\"1\" class=\"dataframe\">\n",
       "  <thead>\n",
       "    <tr style=\"text-align: right;\">\n",
       "      <th></th>\n",
       "      <th>file</th>\n",
       "      <th>subject</th>\n",
       "      <th>sender</th>\n",
       "      <th>date</th>\n",
       "      <th>content</th>\n",
       "      <th>clean</th>\n",
       "      <th>tokenize</th>\n",
       "      <th>stop_words</th>\n",
       "      <th>lemmatize</th>\n",
       "      <th>intensity</th>\n",
       "      <th>polarity</th>\n",
       "      <th>subjectivity</th>\n",
       "      <th>is_poi</th>\n",
       "      <th>is_internal</th>\n",
       "      <th>year</th>\n",
       "      <th>year_</th>\n",
       "    </tr>\n",
       "  </thead>\n",
       "  <tbody>\n",
       "    <tr>\n",
       "      <th>371691</th>\n",
       "      <td>ring-r/personalfolder/57.</td>\n",
       "      <td>Fw: Worth a read (if you have time)</td>\n",
       "      <td>ihrke@mindspring.com</td>\n",
       "      <td>Sat, 15 Sep 2001 21:38:45 -0700 (PDT)</td>\n",
       "      <td>The articles below provide excellent commentar...</td>\n",
       "      <td>the articles below provide excellent commentar...</td>\n",
       "      <td>the articles below provide excellent commentar...</td>\n",
       "      <td>articles provide excellent commentary whether ...</td>\n",
       "      <td>article provide excellent commentary whether l...</td>\n",
       "      <td>-0.9993</td>\n",
       "      <td>-0.012592</td>\n",
       "      <td>0.410386</td>\n",
       "      <td>False</td>\n",
       "      <td>False</td>\n",
       "      <td>2001</td>\n",
       "      <td>2001</td>\n",
       "    </tr>\n",
       "  </tbody>\n",
       "</table>\n",
       "</div>"
      ],
      "text/plain": [
       "                             file                              subject  \\\n",
       "371691  ring-r/personalfolder/57.  Fw: Worth a read (if you have time)   \n",
       "\n",
       "                      sender                                   date  \\\n",
       "371691  ihrke@mindspring.com  Sat, 15 Sep 2001 21:38:45 -0700 (PDT)   \n",
       "\n",
       "                                                  content  \\\n",
       "371691  The articles below provide excellent commentar...   \n",
       "\n",
       "                                                    clean  \\\n",
       "371691  the articles below provide excellent commentar...   \n",
       "\n",
       "                                                 tokenize  \\\n",
       "371691  the articles below provide excellent commentar...   \n",
       "\n",
       "                                               stop_words  \\\n",
       "371691  articles provide excellent commentary whether ...   \n",
       "\n",
       "                                                lemmatize  intensity  \\\n",
       "371691  article provide excellent commentary whether l...    -0.9993   \n",
       "\n",
       "        polarity  subjectivity  is_poi  is_internal  year year_  \n",
       "371691 -0.012592      0.410386   False        False  2001  2001  "
      ]
     },
     "execution_count": 289,
     "metadata": {},
     "output_type": "execute_result"
    }
   ],
   "source": [
    "df[df.sender == 'ihrke@mindspring.com']"
   ]
  },
  {
   "cell_type": "code",
   "execution_count": 288,
   "id": "99121aa4",
   "metadata": {
    "scrolled": true
   },
   "outputs": [
    {
     "name": "stdout",
     "output_type": "stream",
     "text": [
      "The articles below provide excellent commentary on what we are up against. =\n",
      " Whether we like it or not history is littered with fallen empires and nati=\n",
      "ons who have persecuted the Jews.  Israel, unlike us, at least until now, u=\n",
      "nderstands that it is in a war; a war for it's very survival; a war against=\n",
      " those who openly state that they do not consider Israel to have the right =\n",
      "to even exist.  But we know from the Bible that Israel will always exist an=\n",
      "d those who help the Jews, God will bless and those who hate the Jews, God =\n",
      "will punish.  And even though we don't always agree with what Israel does, =\n",
      "they are our friends, they know how to fight, and they are our allies in th=\n",
      "is War.\n",
      "=20\n",
      "Israel knows they are in a fight for their very existence.  The same enemy =\n",
      "of the Jews hates America.  They hate America and the West for the very rea=\n",
      "sons outlined in the article below.  They are and have been openly at war w=\n",
      "ith us for years.  Every American better understand that now! And if we don=\n",
      "'t have the best intelligence service and the best armed forces in the worl=\n",
      "d we are going to continue to pay dearly.  Several years before World War T=\n",
      "wo, MacArthur, while Chief of Staff of the Army, stated that there was noth=\n",
      "ing more expensive than a cheap army.  We can expand that today to include =\n",
      "all aspects of national security to include an intelligence apparatus neces=\n",
      "sary to penetrate enemy organizations.  The additional challenge we face is=\n",
      " in curbing the never ending desire for bigger and stronger government at t=\n",
      "he expense of freedom.  Can we as a people vote in statesmen rather than po=\n",
      "liticians to fill the ranks of government?\n",
      "=20\n",
      "But above and beyond all of this is the fact that the Christian (those who =\n",
      "believe in Jesus Christ - \"faith alone in Christ alone\" - for salvation) mu=\n",
      "st understand that Jesus Christ does control history and no matter what hap=\n",
      "pens on the historical scene He will take care of us both in life and in de=\n",
      "ath.    With that said, we need to make sure that as many of these terroris=\n",
      "ts as possible meet \"allah\" very soon.\n",
      "=20\n",
      "=20\n",
      "----- Original Message -----=20\n",
      "From: Drexsmit@aol.com <mailto:Drexsmit@aol.com>=20\n",
      "To: rgsu49a@email.msn.com <mailto:rgsu49a@email.msn.com> ; JCfirenze@aol.co=\n",
      "m <mailto:JCfirenze@aol.com> ; IBWriter@aol.com <mailto:IBWriter@aol.com> ;=\n",
      " Vegski@aol.com <mailto:Vegski@aol.com> ; eeasum@els.wylelabs.com <mailto:e=\n",
      "easum@els.wylelabs.com> ; Timothy_Escobar@ml.com <mailto:Timothy_Escobar@ml=\n",
      ".com> ; REvans6873@aol.com <mailto:REvans6873@aol.com> ; Wfedders@mtsac.edu=\n",
      " <mailto:Wfedders@mtsac.edu> ; Sohifriend@webtv.net <mailto:Sohifriend@webt=\n",
      "v.net> ; ihrke@mindspring.com <mailto:ihrke@mindspring.com> ; jkeeter@hmp.w=\n",
      "ylelabs.com <mailto:jkeeter@hmp.wylelabs.com> ; vannkenn@yahoo.com <mailto:=\n",
      "vannkenn@yahoo.com> ; kendallstudio@yahoo.com <mailto:kendallstudio@yahoo.c=\n",
      "om> ; rlkenda@pacbell.net <mailto:rlkenda@pacbell.net> ; guy@streamtech.com=\n",
      " <mailto:guy@streamtech.com> ; llsells@att.net <mailto:llsells@att.net> ; C=\n",
      "lcrsvp@aol.com <mailto:Clcrsvp@aol.com> ; michelle.r.moore@bankamerica.com =\n",
      "<mailto:michelle.r.moore@bankamerica.com> ; dansam@attglobal.net <mailto:da=\n",
      "nsam@attglobal.net> ; prasmuss@mtsac.edu <mailto:prasmuss@mtsac.edu> ; ebs@=\n",
      "gte.net <mailto:ebs@gte.net> ; gshindo@prodigy.net <mailto:gshindo@prodigy.=\n",
      "net> ; TONYSPLANS@aol.com <mailto:TONYSPLANS@aol.com> ; Andre.Smith@usoncol=\n",
      "ogy.com <mailto:Andre.Smith@usoncology.com> ; ADSGTS@aol.com <mailto:ADSGTS=\n",
      "@aol.com> ; Jaqsmit@aol.com <mailto:Jaqsmit@aol.com> ; cspry@earthlink.com =\n",
      "<mailto:cspry@earthlink.com> ; kimkaw@yahoo.com <mailto:kimkaw@yahoo.com> ;=\n",
      " Dancuer@earthlink.net <mailto:Dancuer@earthlink.net> ; Superangell3@onebox=\n",
      ".com <mailto:Superangell3@onebox.com> ; bwheelock@hotmail.com <mailto:bwhee=\n",
      "lock@hotmail.com> ; revimar@earthlink.net <mailto:revimar@earthlink.net> ; =\n",
      "dick.wright@aepi.army.mil <mailto:dick.wright@aepi.army.mil>=20\n",
      "Sent: Saturday, September 15, 2001 10:10 AM\n",
      "Subject: Worth a read (if you have time)\n",
      "\n",
      "An interesting debate by folks that know far more that I about middle east =\n",
      "stuff.  M/ Petit and Charlie are both former analysts with one of our secur=\n",
      "ity organizations and offer interesting insights.  If you are in the mood, =\n",
      "worth a read (start on the bottom article)...DLS=20\n",
      " =20\n",
      "\n",
      "\n",
      "Comments by M/ Petit:=20\n",
      "In response to several articles and comments I have received:=20\n",
      "\n",
      "Regarding the original article, I disagree with one of the points.   Jews w=\n",
      "ere originally treated decently for a while within Islam.  As was women, un=\n",
      "til the Arabs encountered the tradition of purdah in India. Mohammed incorp=\n",
      "orated the Jewish prophets and have Jesus as one of  his prophets.=20\n",
      "\n",
      "As to comments that our relationship with Israel is the basis of this confl=\n",
      "ict, I disagree.   There is a perceived cultural divide on the part of the =\n",
      "fanatical Muslims.  The West is more representative of the devil's evil way=\n",
      "s.  We are to them to the pagans that Christian missionaries sought to conv=\n",
      "ert.  However, conversion to Islam is usually done under the sword.  And it=\n",
      " goes deeper.  We have defeated the Islamic forces when we have engaged the=\n",
      "m.  And the Israelis have also done so.  The defeats have been so thorough =\n",
      "as to be humiliating.    =20\n",
      "\n",
      "Israel must perceive itself as being independent.  Politically their leader=\n",
      " never could accept direct orders from another state.  But, note, one of th=\n",
      "e first countries to offer sympathy and support was Israel.  =20\n",
      "Note one thing.  Arabs started the slave trade.  Swahili is the language of=\n",
      " the Arab slave traders with their African business partners.  African Musl=\n",
      "ims were buried in a separate section in a Muslim cemetery.  Farrakan and h=\n",
      "is followers wake up.=20\n",
      "\n",
      "Pakistan has declared it would support the US with permitting overhead flig=\n",
      "hts.  The Afghanis are flooding out of their country.  The Afghan leaders a=\n",
      "re announcing that they are safe, don't worry.  The bottom line is that eve=\n",
      "n the Afghanis under the Taliban know who will win.=20\n",
      "We have won the first skirmish in the War Against Terrorists.=20\n",
      "\n",
      "M/Petit=20\n",
      "\n",
      "-ubject: Re: Article on the Cause of the Attack=20\n",
      "\n",
      "Interesting historical presentation - good food for thought - I also refer =\n",
      "you to page A-28 of the 15 September 2001 Washington Post.=20\n",
      "\n",
      "Bush requests Shaon get on with talks with Arafat - Sharon says shove it up=\n",
      " your nose - is this a positive thinking member of the western world?  We s=\n",
      "end $4B a year to Israel to protect them as a nation and assist in keeping =\n",
      "them in the \"modern\" world - It never hurts to talk to your adversaries -  =\n",
      "even if you talk while fighting.  The current disaster poses an opportunity=\n",
      " for both friends and allies to understand U.S. power.=20\n",
      "\n",
      "Thoughts?=20\n",
      "\n",
      "  <http://www.nationalreview.com/images/page_2001_derbyshire-print.gif>\n",
      "\n",
      "Hesperophobia=20\n",
      "On blaming the Jews.=20\n",
      "Mr. Derbyshire is also an NR contributing editor=20\n",
      "September 13, 2001 5:00 p.m.=20\n",
      "\n",
      " =20\n",
      "Back in 1982 there were some horrible massacres at two Palestinian refugee =\n",
      "camps in Lebanon. Christian Lebanese Arabs actually did the killing; but th=\n",
      "e Israeli army was in the neighborhood, and was responsible, at some theore=\n",
      "tical level, for keeping the peace in the zone that included the camps. Bec=\n",
      "ause of this, the Israelis took much of the brunt of the world's outrage at=\n",
      " the killings. Commenting on these events, the Israeli Prime Minister, Mena=\n",
      "chem Begin, remarked in disgust: \"Goyim kill goyim, and they blame the Jews=\n",
      "!\"=20\n",
      "I've been getting the same feeling from some of my e-mail. The fundamental =\n",
      "reason America is under attack by Arab terrorists, several dozen people wan=\n",
      "t me to know, is that the U.S. supports Israel. And the only reason we do t=\n",
      "hat, several of them have said, or hinted, is because of the political powe=\n",
      "r of the Jewish lobby here in the U.S.A. A few of my correspondents have ex=\n",
      "pressed themselves more ... bluntly than that. Put it this way: While I hav=\n",
      "e not yet encountered the word \"bloodsuckers\" (perhaps my readership isn't =\n",
      "\"diverse\" enough), some of this stuff comes pretty close - though I should =\n",
      "say in fairness, most is argued on cold national-interest grounds. At any r=\n",
      "ate, a lot of people feel that the mass killing of Americans by Arab terror=\n",
      "ists is all the fault of Israel and those American politicians who, for low=\n",
      " and disreputable motives, or from sheer blindness to America's true ideals=\n",
      " and interests, support her. Goyim kill goyim, and they blame the Jews.=20\n",
      "Setting aside the statistical certainty that some of the dead Americans are=\n",
      " Jewish (as, in high statistical probability, some were of Arab origins), a=\n",
      "nd at the risk of yet more ill-tempered or abusive e-mails, I am going to d=\n",
      "eclare that I don't think these recent outrages can be blamed on the Jews, =\n",
      "nor even on pro-Israel American politicians. The root phenomenon is not Ame=\n",
      "rican involvement in Middle Eastern affairs: The root phenomenon is hespero=\n",
      "phobia.=20\n",
      "This word was coined by the political scientist Robert Conquest. Its roots =\n",
      "are the Greek words hesperos, which means \"the west\" and phobos, which mean=\n",
      "s \"fear,\" but which when used as an English suffix can also carry the meani=\n",
      "ng \"hate.\" Hesperophobia is fear or hatred of the West. [While I'm in the c=\n",
      "lassical stuff, by the way, I committed a breach of good manners in my last=\n",
      " posting by inserting a Latin tag without translation. I am sorry. Oderint =\n",
      "dum metuant means \"Let them hate us, so long as they fear us.\" Seneca rebuk=\n",
      "ed Cicero for saying it, though it seems to have been current among educate=\n",
      "d late-republican Romans.]=20\n",
      "Here is the news: A lot of people out there hate us. The name \"Durban\" mean=\n",
      " anything? In China, in India, in Pakistan, in Indonesia and Malaysia, in A=\n",
      "frica, and in the Arab countries, European civilization - the West - is wid=\n",
      "ely hated. Matter of fact, quite a lot of Europeans and Americans hate it, =\n",
      "too, as you will know if you spend much time on college campuses.=20\n",
      "I can't see any strong reason for believing that if the state of Israel wer=\n",
      "e to disappear from the face of the earth tomorrow, hesperophobia would dis=\n",
      "appear with it. Not even just Arab hesperophobia would decline. A common wo=\n",
      "rd for Europeans in the Arabic language is feringji, from \"Frank,\" i.e. cru=\n",
      "sader. Arabs don't hate us because we support Israel. They hate us because =\n",
      "we humiliated them, showed up the gross inferiority of their culture. To th=\n",
      "em, and similarly humiliated peoples, we are the other, detested and feared=\n",
      " in a way we can barely understand. Things got really bad in the 19th centu=\n",
      "ry. When European society achieved industrial lift-off, Europeans were sudd=\n",
      "enly buzzing all over the world like a swarm of bees. They encountered thes=\n",
      "e other cultures, that had been vegetating in a quiet conviction of their o=\n",
      "wn superiority for centuries (or in the case of the Chinese, millennia). Wh=\n",
      "en these encounters occurred, the encountered culture collapsed in a cloud =\n",
      "of dust. Some of them, like the Turks, managed to reconstitute themselves a=\n",
      "s more or less modern nations; others, like the Arabs and the Chinese, are =\n",
      "still struggling with the trauma of that encounter. Neither the Arabs nor t=\n",
      "he Chinese, for example, have yet been able to attain rational, constitutio=\n",
      "nal government. For a devastating look at the paleolithic condition of poli=\n",
      "tics and society in the Arab world, I strongly recommend my colleague David=\n",
      " Pryce-Jones's book, The Closed Circle <http://www.amazon.com/exec/obidos/A=\n",
      "SIN/0060981032/qid=3D1000382845/sr=3D1-12/ref=3Dsc_b_12/103-0202540-1179008=\n",
      "/nationalreviewon>.=20\n",
      "\n",
      "The 1991 Gulf War showed how little has changed since those first encounter=\n",
      "s. Here were the armies of the West: swift, deadly, efficient, equipped and=\n",
      " organized, under the command of elected civilians at the head of a robust =\n",
      "and elaborate constitutional structure. And here were the Arabs: a shamblin=\n",
      "g, ill-nourished, shoeless rabble, led by a mad gangster-despot. (That was =\n",
      "their Arabs. There were also, of course, our Arabs - the Kuwaitis and Saudi=\n",
      "s, cowering in their plush-lined air-conditioned bunkers being waited on by=\n",
      " their Filipino servants while we did their fighting for them.) Final body =\n",
      "counts: the West, 134 dead, the Arabs, 20,000 or more. The superiority of o=\n",
      "ne culture over another has not been so starkly demonstrated since a handfu=\n",
      "l of British wooden ships, at the end of ten-thousand-mile lines of communi=\n",
      "cations, brought the Celestial Empire to its knees 150 years earlier. The C=\n",
      "hinese are still mad about that: They are still making angry, bitter movies=\n",
      " about the Opium Wars. A hundred and 50 years from now, the Arabs will not =\n",
      "have forgotten the Gulf War.=20\n",
      "If you haven't spent some time in its company, the depth, and bitterness of=\n",
      " hesperophobia in these cultures is hard to imagine. As Thomas Friedman poi=\n",
      "nts out in today's New York Times, Palestinian suicide bombers do not targe=\n",
      "t yeshivas, synagogues, or religious settlements. They go for shopping mall=\n",
      "s or Sbarro's outlets. Sure, they hate the Jews, but they hate the West as =\n",
      "much, or more.=20\n",
      "Israel is not a cause of any of this, except to the degree that Israeli cul=\n",
      "ture is essentially Western. If the present state of Israel were inhabited =\n",
      "by Christian Lithuanians or Frenchmen, the hatred would be nearly as intens=\n",
      "e. Nearly, not completely: Hatred of the Jews has been built into Arab-Mosl=\n",
      "em culture since the time of Mohammed. There is a tale you will hear from A=\n",
      "rab apologists that the Jews were contented and well treated in the old Ara=\n",
      "b-Moslem empires. This is nonsense: More often than not, they were treated =\n",
      "like swine. For a true account, read Joan Peters's From Time Immemorial <ht=\n",
      "tp://www.amazon.com/exec/obidos/ASIN/0963624202/qid=3D1000384153/sr=3D1-1/r=\n",
      "ef=3Dsc_b_1/103-0202540-1179008/nationalreviewon>, or Gil Carl Alroy Behind=\n",
      " the Middle East Crisis</a>. From the Arab point of view, Israel, or any We=\n",
      "stern state on \"Arab land,\" is an outrage, an illegitimate creation, a crus=\n",
      "ader state. The fact that the Jews had a wealthy and powerful nation on tha=\n",
      "t land three thousand years ago counts for nothing. Israel is, from the poi=\n",
      "nt of view of most Arabs, an alien graft that must not be allowed to \"take.=\n",
      "\" It is a reminder of what can barely be thought of without acute psychic p=\n",
      "ain: the squalid, hopeless, irredeemable inferiority of one's own culture b=\n",
      "y comparison with another.=20\n",
      "So, so, so, is this any of America's business? What are we doing, meddling =\n",
      "in the Middle East? Where is our interest? Well, U.S. politicians must spea=\n",
      "k for themselves, but if I had any position of authority in any Western nat=\n",
      "ion, I would be urging full support for Israel, and I am not Jewish. (Follo=\n",
      "wing my Passover column <http://www.nationalreview.com/derbyshire/derbyshir=\n",
      "e041001.shtml>, in fact, a lot of NRO readers, along with at least one ex-e=\n",
      "ditor of The New Republic, believe I am an anti-Semite.) It's a matter of c=\n",
      "ultural solidarity. We of the West must hang together, or else we shall han=\n",
      "g separately. American isolationists simply do not understand how much we a=\n",
      "re hated in other places.=20\n",
      "What, after all, does the Buchananite program offer us, if carried through?=\n",
      " We have no troops in Israel to be withdrawn. If we withdraw our aid, the I=\n",
      "sraelis will be less able to defend themselves against the Arabs. Should we=\n",
      " just let the free market take over, U.S. arms manufacturers selling weapon=\n",
      "s to them cash on the nail? Apparently not: Several of my correspondents ha=\n",
      "ve explained to me that what so enrages the Arabs is the sight of their peo=\n",
      "ple being killed \"by American weapons.\" Oh. No weapons, then (and presumabl=\n",
      "y we should try to repatriate the ones they already have - lots of luck wit=\n",
      "h that, guys). But if we don't arm the Israelis, who will? While other hesp=\n",
      "erophobic countries - China, for example - are gleefully arming the Arabs a=\n",
      "nd other Israel-haters like Iran, and pocketing the profits?=20\n",
      "And the end of it all will be ... what? Inevitably, without our support, it=\n",
      " will be the destruction of Israel. They are so few, and the Arabs so many.=\n",
      " The Arabs will overwhelm that tiny state, and there will be such an orgy o=\n",
      "f massacre as has not been seen since the Rape of Nanking. And we shall be =\n",
      "doing ... what? Watching it on our TVs, with a six-pack and a bucket of Nac=\n",
      "ho chips in hand? That's the Buchananite vision? If so, it is a vision of c=\n",
      "owards and fools, and I want no part of it.=20\n",
      "Israel's culture is ours. She is part of the West. If she goes down, we hav=\n",
      "e suffered a defeat, and the howling, jeering forces of barbarism have won =\n",
      "a victory. You don't have to be Zionist, nor even Jewish, to support Israel=\n",
      ". You don't have to be in the pocket of the Israeli congressional lobbies, =\n",
      "or a suck-up to \"powerful pro-Zionist interests.\" You don't have to pretend=\n",
      " not to notice the occasional follies and cruelties of Israeli policy. You =\n",
      "don't have to forget about the U.S.S. Liberty or Jonathan Pollard. You just=\n",
      " have to think straight. You just have to understand that the war between c=\n",
      "ivilization and barbarism is being fought today just as it was fought at Ch=\n",
      "alons and Tours, at the gates of Kiev and Vienna, by the hoplites at Marath=\n",
      "on and the legions on the Rhine. It is, as you have heard a thousand times,=\n",
      " this past few days, a war; and the thing about war is, you have to take si=\n",
      "des, and close your eyes to your allies' imperfections for the duration. Th=\n",
      "ere isn't any choice. What happened this week was not, or not only, an act =\n",
      "of anti-Americanism, anti-Israelism, or anti-Semitism. It was in part all t=\n",
      "hose things: but more than anything else, it was an act of hesperophobia.=\n",
      "=20\n",
      "###=20\n",
      "\n"
     ]
    }
   ],
   "source": [
    "print(df.content[371691])"
   ]
  },
  {
   "cell_type": "code",
   "execution_count": null,
   "id": "051cba30",
   "metadata": {},
   "outputs": [],
   "source": []
  },
  {
   "cell_type": "code",
   "execution_count": null,
   "id": "6a1eb011",
   "metadata": {},
   "outputs": [],
   "source": []
  }
 ],
 "metadata": {
  "kernelspec": {
   "display_name": "Python 3",
   "language": "python",
   "name": "python3"
  },
  "language_info": {
   "codemirror_mode": {
    "name": "ipython",
    "version": 3
   },
   "file_extension": ".py",
   "mimetype": "text/x-python",
   "name": "python",
   "nbconvert_exporter": "python",
   "pygments_lexer": "ipython3",
   "version": "3.8.8"
  }
 },
 "nbformat": 4,
 "nbformat_minor": 5
}
